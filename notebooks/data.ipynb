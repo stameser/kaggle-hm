{
 "cells": [
  {
   "cell_type": "code",
   "execution_count": 1,
   "metadata": {
    "collapsed": true
   },
   "outputs": [],
   "source": [
    "import matplotlib.pyplot as plt\n",
    "import pandas as pd\n",
    "import numpy as np"
   ]
  },
  {
   "cell_type": "markdown",
   "source": [
    "# Articles\n",
    "\n",
    "names / descriptions are not unique"
   ],
   "metadata": {
    "collapsed": false,
    "pycharm": {
     "name": "#%% md\n"
    }
   }
  },
  {
   "cell_type": "code",
   "execution_count": 2,
   "outputs": [
    {
     "data": {
      "text/plain": "article_id                      category\nproduct_code                       int64\nprod_name                         object\nproduct_type_no                    int64\nproduct_type_name                 object\nproduct_group_name                object\ngraphical_appearance_no            int64\ngraphical_appearance_name         object\ncolour_group_code                  int64\ncolour_group_name                 object\nperceived_colour_value_id          int64\nperceived_colour_value_name       object\nperceived_colour_master_id         int64\nperceived_colour_master_name      object\ndepartment_no                      int64\ndepartment_name                   object\nindex_code                        object\nindex_name                        object\nindex_group_no                     int64\nindex_group_name                  object\nsection_no                         int64\nsection_name                      object\ngarment_group_no                   int64\ngarment_group_name                object\ndetail_desc                       object\ndtype: object"
     },
     "execution_count": 2,
     "metadata": {},
     "output_type": "execute_result"
    }
   ],
   "source": [
    "d = pd.read_csv('../data/raw/articles.csv.zip', dtype={'article_id': 'category'})\n",
    "d.dtypes"
   ],
   "metadata": {
    "collapsed": false,
    "pycharm": {
     "name": "#%%\n"
    }
   }
  },
  {
   "cell_type": "code",
   "execution_count": 4,
   "outputs": [
    {
     "data": {
      "text/plain": "127.95318698883057"
     },
     "execution_count": 4,
     "metadata": {},
     "output_type": "execute_result"
    }
   ],
   "source": [
    "d.memory_usage(deep=True).sum() / 1024 / 1024"
   ],
   "metadata": {
    "collapsed": false,
    "pycharm": {
     "name": "#%%\n"
    }
   }
  },
  {
   "cell_type": "code",
   "execution_count": 5,
   "outputs": [
    {
     "data": {
      "text/plain": "article_id                      105542\nproduct_code                    105542\nprod_name                       105542\nproduct_type_no                 105542\nproduct_type_name               105542\nproduct_group_name              105542\ngraphical_appearance_no         105542\ngraphical_appearance_name       105542\ncolour_group_code               105542\ncolour_group_name               105542\nperceived_colour_value_id       105542\nperceived_colour_value_name     105542\nperceived_colour_master_id      105542\nperceived_colour_master_name    105542\ndepartment_no                   105542\ndepartment_name                 105542\nindex_code                      105542\nindex_name                      105542\nindex_group_no                  105542\nindex_group_name                105542\nsection_no                      105542\nsection_name                    105542\ngarment_group_no                105542\ngarment_group_name              105542\ndetail_desc                     105126\ndtype: int64"
     },
     "execution_count": 5,
     "metadata": {},
     "output_type": "execute_result"
    }
   ],
   "source": [
    "d.count()"
   ],
   "metadata": {
    "collapsed": false,
    "pycharm": {
     "name": "#%%\n"
    }
   }
  },
  {
   "cell_type": "code",
   "execution_count": 6,
   "outputs": [
    {
     "data": {
      "text/plain": "prod_name                       0.434661\nproduct_type_name               0.001241\nproduct_group_name              0.000180\ngraphical_appearance_name       0.000284\ncolour_group_name               0.000474\nperceived_colour_value_name     0.000076\nperceived_colour_master_name    0.000189\ndepartment_name                 0.002369\nindex_code                      0.000095\nindex_name                      0.000095\nindex_group_name                0.000047\nsection_name                    0.000531\ngarment_group_name              0.000199\ndetail_desc                     0.411249\ndtype: float64"
     },
     "execution_count": 6,
     "metadata": {},
     "output_type": "execute_result"
    }
   ],
   "source": [
    "d.select_dtypes('object').nunique() / d.shape[0]"
   ],
   "metadata": {
    "collapsed": false,
    "pycharm": {
     "name": "#%%\n"
    }
   }
  },
  {
   "cell_type": "code",
   "execution_count": 7,
   "outputs": [],
   "source": [
    "cat_features = ['product_type_name', 'product_group_name', 'graphical_appearance_name', 'colour_group_name', 'perceived_colour_value_name', 'perceived_colour_master_name', 'department_name', 'index_code', 'index_name', 'index_group_name', 'section_name', 'garment_group_name', 'product_type_no',\n",
    " 'graphical_appearance_no', 'colour_group_code', 'perceived_colour_value_id', 'perceived_colour_master_id', 'department_no', 'index_group_no', 'section_no', 'garment_group_no']"
   ],
   "metadata": {
    "collapsed": false,
    "pycharm": {
     "name": "#%%\n"
    }
   }
  },
  {
   "cell_type": "code",
   "execution_count": 8,
   "outputs": [],
   "source": [
    "d[cat_features] = d[cat_features].astype('category')"
   ],
   "metadata": {
    "collapsed": false,
    "pycharm": {
     "name": "#%%\n"
    }
   }
  },
  {
   "cell_type": "code",
   "execution_count": 9,
   "outputs": [
    {
     "data": {
      "text/plain": "42.76302433013916"
     },
     "execution_count": 9,
     "metadata": {},
     "output_type": "execute_result"
    }
   ],
   "source": [
    "d.memory_usage(deep=True).sum() / 1024 / 1024"
   ],
   "metadata": {
    "collapsed": false,
    "pycharm": {
     "name": "#%%\n"
    }
   }
  },
  {
   "cell_type": "code",
   "execution_count": 10,
   "outputs": [
    {
     "data": {
      "text/plain": "Index                            0.000122\narticle_id                      11.177629\nproduct_code                     0.805222\nprod_name                        7.307353\nproduct_type_no                  0.206287\nproduct_type_name                0.213585\nproduct_group_name               0.102417\ngraphical_appearance_no          0.101904\ngraphical_appearance_name        0.103566\ncolour_group_code                0.103041\ncolour_group_name                0.105820\nperceived_colour_value_id        0.101000\nperceived_colour_value_name      0.101431\nperceived_colour_master_id       0.101336\nperceived_colour_master_name     0.102400\ndepartment_no                    0.211498\ndepartment_name                  0.226390\nindex_code                       0.101492\nindex_name                       0.101628\nindex_group_no                   0.100855\nindex_group_name                 0.101130\nsection_no                       0.103094\nsection_name                     0.106538\ngarment_group_no                 0.101343\ngarment_group_name               0.102548\ndetail_desc                     20.873397\ndtype: float64"
     },
     "execution_count": 10,
     "metadata": {},
     "output_type": "execute_result"
    }
   ],
   "source": [
    "d.memory_usage(deep=True) / 1024 / 1024"
   ],
   "metadata": {
    "collapsed": false,
    "pycharm": {
     "name": "#%%\n"
    }
   }
  },
  {
   "cell_type": "code",
   "execution_count": 11,
   "outputs": [
    {
     "data": {
      "text/plain": "       article_id  product_code                   prod_name product_type_no  \\\n1467   0351332007        351332        Marshall Lace up Top             252   \n2644   0420049002        420049                  OL TAGE PQ              87   \n2645   0420049003        420049                  OL TAGE PQ              87   \n2742   0426199002        426199  Ellen Shortie Daisy Low 3p             286   \n2743   0426199010        426199  Ellen Shortie Daisy Low 3p             286   \n...           ...           ...                         ...             ...   \n67838  0752458001        752458           Poissy boho dress             265   \n72720  0768842001        768842                 Andrews set             270   \n72721  0768842004        768842                 Andrews set             270   \n93144  0856985001        856985                   Pogo rope              67   \n95624  0867200001        867200              Necklace Simon              77   \n\n      product_type_name  product_group_name graphical_appearance_no  \\\n1467            Sweater  Garment Upper body                 1010018   \n2644              Boots               Shoes                 1010016   \n2645              Boots               Shoes                 1010016   \n2742   Underwear bottom           Underwear                 1010016   \n2743   Underwear bottom           Underwear                 1010017   \n...                 ...                 ...                     ...   \n67838             Dress   Garment Full body                 1010007   \n72720       Garment Set   Garment Full body                 1010017   \n72721       Garment Set   Garment Full body                 1010004   \n93144              Belt         Accessories                 1010016   \n95624          Necklace         Accessories                 1010011   \n\n      graphical_appearance_name colour_group_code colour_group_name  ...  \\\n1467                  Treatment                 7              Grey  ...   \n2644                      Solid                13             Beige  ...   \n2645                      Solid                23       Dark Yellow  ...   \n2742                      Solid                 9             Black  ...   \n2743                     Stripe                 8         Dark Grey  ...   \n...                         ...               ...               ...  ...   \n67838                Embroidery                10             White  ...   \n72720                    Stripe                10             White  ...   \n72721                     Check                73         Dark Blue  ...   \n93144                     Solid                12       Light Beige  ...   \n95624                  Metallic                 3            Silver  ...   \n\n         department_name index_code          index_name index_group_no  \\\n1467     Jersey Fancy DS          D             Divided              2   \n2644     Premium Quality          C  Ladies Accessories              1   \n2645     Premium Quality          C  Ladies Accessories              1   \n2742     Casual Lingerie          B    Lingeries/Tights              1   \n2743     Casual Lingerie          B    Lingeries/Tights              1   \n...                  ...        ...                 ...            ...   \n67838              Dress          A          Ladieswear              1   \n72720     Baby Boy Woven          G    Baby Sizes 50-98              4   \n72721     Baby Boy Woven          G    Baby Sizes 50-98              4   \n93144              Belts          C  Ladies Accessories              1   \n95624  Small Accessories          F            Menswear              3   \n\n      index_group_name section_no            section_name garment_group_no  \\\n1467           Divided         58        Divided Selected             1005   \n2644        Ladieswear         64            Womens Shoes             1020   \n2645        Ladieswear         64            Womens Shoes             1020   \n2742        Ladieswear         61         Womens Lingerie             1017   \n2743        Ladieswear         61         Womens Lingerie             1017   \n...                ...        ...                     ...              ...   \n67838       Ladieswear          6           Womens Casual             1013   \n72720    Baby/Children         41                Baby Boy             1006   \n72721    Baby/Children         41                Baby Boy             1006   \n93144       Ladieswear         65  Womens Big accessories             1019   \n95624         Menswear         25         Men Accessories             1019   \n\n                  garment_group_name detail_desc  \n1467                    Jersey Fancy         NaN  \n2644                           Shoes         NaN  \n2645                           Shoes         NaN  \n2742               Under-, Nightwear         NaN  \n2743               Under-, Nightwear         NaN  \n...                              ...         ...  \n67838                 Dresses Ladies         NaN  \n72720  Woven/Jersey/Knitted mix Baby         NaN  \n72721  Woven/Jersey/Knitted mix Baby         NaN  \n93144                    Accessories         NaN  \n95624                    Accessories         NaN  \n\n[416 rows x 25 columns]",
      "text/html": "<div>\n<style scoped>\n    .dataframe tbody tr th:only-of-type {\n        vertical-align: middle;\n    }\n\n    .dataframe tbody tr th {\n        vertical-align: top;\n    }\n\n    .dataframe thead th {\n        text-align: right;\n    }\n</style>\n<table border=\"1\" class=\"dataframe\">\n  <thead>\n    <tr style=\"text-align: right;\">\n      <th></th>\n      <th>article_id</th>\n      <th>product_code</th>\n      <th>prod_name</th>\n      <th>product_type_no</th>\n      <th>product_type_name</th>\n      <th>product_group_name</th>\n      <th>graphical_appearance_no</th>\n      <th>graphical_appearance_name</th>\n      <th>colour_group_code</th>\n      <th>colour_group_name</th>\n      <th>...</th>\n      <th>department_name</th>\n      <th>index_code</th>\n      <th>index_name</th>\n      <th>index_group_no</th>\n      <th>index_group_name</th>\n      <th>section_no</th>\n      <th>section_name</th>\n      <th>garment_group_no</th>\n      <th>garment_group_name</th>\n      <th>detail_desc</th>\n    </tr>\n  </thead>\n  <tbody>\n    <tr>\n      <th>1467</th>\n      <td>0351332007</td>\n      <td>351332</td>\n      <td>Marshall Lace up Top</td>\n      <td>252</td>\n      <td>Sweater</td>\n      <td>Garment Upper body</td>\n      <td>1010018</td>\n      <td>Treatment</td>\n      <td>7</td>\n      <td>Grey</td>\n      <td>...</td>\n      <td>Jersey Fancy DS</td>\n      <td>D</td>\n      <td>Divided</td>\n      <td>2</td>\n      <td>Divided</td>\n      <td>58</td>\n      <td>Divided Selected</td>\n      <td>1005</td>\n      <td>Jersey Fancy</td>\n      <td>NaN</td>\n    </tr>\n    <tr>\n      <th>2644</th>\n      <td>0420049002</td>\n      <td>420049</td>\n      <td>OL TAGE PQ</td>\n      <td>87</td>\n      <td>Boots</td>\n      <td>Shoes</td>\n      <td>1010016</td>\n      <td>Solid</td>\n      <td>13</td>\n      <td>Beige</td>\n      <td>...</td>\n      <td>Premium Quality</td>\n      <td>C</td>\n      <td>Ladies Accessories</td>\n      <td>1</td>\n      <td>Ladieswear</td>\n      <td>64</td>\n      <td>Womens Shoes</td>\n      <td>1020</td>\n      <td>Shoes</td>\n      <td>NaN</td>\n    </tr>\n    <tr>\n      <th>2645</th>\n      <td>0420049003</td>\n      <td>420049</td>\n      <td>OL TAGE PQ</td>\n      <td>87</td>\n      <td>Boots</td>\n      <td>Shoes</td>\n      <td>1010016</td>\n      <td>Solid</td>\n      <td>23</td>\n      <td>Dark Yellow</td>\n      <td>...</td>\n      <td>Premium Quality</td>\n      <td>C</td>\n      <td>Ladies Accessories</td>\n      <td>1</td>\n      <td>Ladieswear</td>\n      <td>64</td>\n      <td>Womens Shoes</td>\n      <td>1020</td>\n      <td>Shoes</td>\n      <td>NaN</td>\n    </tr>\n    <tr>\n      <th>2742</th>\n      <td>0426199002</td>\n      <td>426199</td>\n      <td>Ellen Shortie Daisy Low 3p</td>\n      <td>286</td>\n      <td>Underwear bottom</td>\n      <td>Underwear</td>\n      <td>1010016</td>\n      <td>Solid</td>\n      <td>9</td>\n      <td>Black</td>\n      <td>...</td>\n      <td>Casual Lingerie</td>\n      <td>B</td>\n      <td>Lingeries/Tights</td>\n      <td>1</td>\n      <td>Ladieswear</td>\n      <td>61</td>\n      <td>Womens Lingerie</td>\n      <td>1017</td>\n      <td>Under-, Nightwear</td>\n      <td>NaN</td>\n    </tr>\n    <tr>\n      <th>2743</th>\n      <td>0426199010</td>\n      <td>426199</td>\n      <td>Ellen Shortie Daisy Low 3p</td>\n      <td>286</td>\n      <td>Underwear bottom</td>\n      <td>Underwear</td>\n      <td>1010017</td>\n      <td>Stripe</td>\n      <td>8</td>\n      <td>Dark Grey</td>\n      <td>...</td>\n      <td>Casual Lingerie</td>\n      <td>B</td>\n      <td>Lingeries/Tights</td>\n      <td>1</td>\n      <td>Ladieswear</td>\n      <td>61</td>\n      <td>Womens Lingerie</td>\n      <td>1017</td>\n      <td>Under-, Nightwear</td>\n      <td>NaN</td>\n    </tr>\n    <tr>\n      <th>...</th>\n      <td>...</td>\n      <td>...</td>\n      <td>...</td>\n      <td>...</td>\n      <td>...</td>\n      <td>...</td>\n      <td>...</td>\n      <td>...</td>\n      <td>...</td>\n      <td>...</td>\n      <td>...</td>\n      <td>...</td>\n      <td>...</td>\n      <td>...</td>\n      <td>...</td>\n      <td>...</td>\n      <td>...</td>\n      <td>...</td>\n      <td>...</td>\n      <td>...</td>\n      <td>...</td>\n    </tr>\n    <tr>\n      <th>67838</th>\n      <td>0752458001</td>\n      <td>752458</td>\n      <td>Poissy boho dress</td>\n      <td>265</td>\n      <td>Dress</td>\n      <td>Garment Full body</td>\n      <td>1010007</td>\n      <td>Embroidery</td>\n      <td>10</td>\n      <td>White</td>\n      <td>...</td>\n      <td>Dress</td>\n      <td>A</td>\n      <td>Ladieswear</td>\n      <td>1</td>\n      <td>Ladieswear</td>\n      <td>6</td>\n      <td>Womens Casual</td>\n      <td>1013</td>\n      <td>Dresses Ladies</td>\n      <td>NaN</td>\n    </tr>\n    <tr>\n      <th>72720</th>\n      <td>0768842001</td>\n      <td>768842</td>\n      <td>Andrews set</td>\n      <td>270</td>\n      <td>Garment Set</td>\n      <td>Garment Full body</td>\n      <td>1010017</td>\n      <td>Stripe</td>\n      <td>10</td>\n      <td>White</td>\n      <td>...</td>\n      <td>Baby Boy Woven</td>\n      <td>G</td>\n      <td>Baby Sizes 50-98</td>\n      <td>4</td>\n      <td>Baby/Children</td>\n      <td>41</td>\n      <td>Baby Boy</td>\n      <td>1006</td>\n      <td>Woven/Jersey/Knitted mix Baby</td>\n      <td>NaN</td>\n    </tr>\n    <tr>\n      <th>72721</th>\n      <td>0768842004</td>\n      <td>768842</td>\n      <td>Andrews set</td>\n      <td>270</td>\n      <td>Garment Set</td>\n      <td>Garment Full body</td>\n      <td>1010004</td>\n      <td>Check</td>\n      <td>73</td>\n      <td>Dark Blue</td>\n      <td>...</td>\n      <td>Baby Boy Woven</td>\n      <td>G</td>\n      <td>Baby Sizes 50-98</td>\n      <td>4</td>\n      <td>Baby/Children</td>\n      <td>41</td>\n      <td>Baby Boy</td>\n      <td>1006</td>\n      <td>Woven/Jersey/Knitted mix Baby</td>\n      <td>NaN</td>\n    </tr>\n    <tr>\n      <th>93144</th>\n      <td>0856985001</td>\n      <td>856985</td>\n      <td>Pogo rope</td>\n      <td>67</td>\n      <td>Belt</td>\n      <td>Accessories</td>\n      <td>1010016</td>\n      <td>Solid</td>\n      <td>12</td>\n      <td>Light Beige</td>\n      <td>...</td>\n      <td>Belts</td>\n      <td>C</td>\n      <td>Ladies Accessories</td>\n      <td>1</td>\n      <td>Ladieswear</td>\n      <td>65</td>\n      <td>Womens Big accessories</td>\n      <td>1019</td>\n      <td>Accessories</td>\n      <td>NaN</td>\n    </tr>\n    <tr>\n      <th>95624</th>\n      <td>0867200001</td>\n      <td>867200</td>\n      <td>Necklace Simon</td>\n      <td>77</td>\n      <td>Necklace</td>\n      <td>Accessories</td>\n      <td>1010011</td>\n      <td>Metallic</td>\n      <td>3</td>\n      <td>Silver</td>\n      <td>...</td>\n      <td>Small Accessories</td>\n      <td>F</td>\n      <td>Menswear</td>\n      <td>3</td>\n      <td>Menswear</td>\n      <td>25</td>\n      <td>Men Accessories</td>\n      <td>1019</td>\n      <td>Accessories</td>\n      <td>NaN</td>\n    </tr>\n  </tbody>\n</table>\n<p>416 rows × 25 columns</p>\n</div>"
     },
     "execution_count": 11,
     "metadata": {},
     "output_type": "execute_result"
    }
   ],
   "source": [
    "d[d['detail_desc'].isna()]"
   ],
   "metadata": {
    "collapsed": false,
    "pycharm": {
     "name": "#%%\n"
    }
   }
  },
  {
   "cell_type": "code",
   "execution_count": 12,
   "outputs": [],
   "source": [
    "d.to_parquet('../data/clean/articles.parquet')"
   ],
   "metadata": {
    "collapsed": false,
    "pycharm": {
     "name": "#%%\n"
    }
   }
  },
  {
   "cell_type": "markdown",
   "source": [
    "# Customers"
   ],
   "metadata": {
    "collapsed": false,
    "pycharm": {
     "name": "#%% md\n"
    }
   }
  },
  {
   "cell_type": "code",
   "execution_count": 45,
   "outputs": [],
   "source": [
    "d = pd.read_csv('../data/raw/customers.csv.zip')"
   ],
   "metadata": {
    "collapsed": false,
    "pycharm": {
     "name": "#%%\n"
    }
   }
  },
  {
   "cell_type": "code",
   "execution_count": 46,
   "outputs": [
    {
     "data": {
      "text/plain": "                                         customer_id   FN  Active  \\\n0  00000dbacae5abe5e23885899a1fa44253a17956c6d1c3...  NaN     NaN   \n1  0000423b00ade91418cceaf3b26c6af3dd342b51fd051e...  NaN     NaN   \n2  000058a12d5b43e67d225668fa1f8d618c13dc232df0ca...  NaN     NaN   \n3  00005ca1c9ed5f5146b52ac8639a40ca9d57aeff4d1bd2...  NaN     NaN   \n4  00006413d8573cd20ed7128e53b7b13819fe5cfc2d801f...  1.0     1.0   \n\n  club_member_status fashion_news_frequency   age  \\\n0             ACTIVE                   NONE  49.0   \n1             ACTIVE                   NONE  25.0   \n2             ACTIVE                   NONE  24.0   \n3             ACTIVE                   NONE  54.0   \n4             ACTIVE              Regularly  52.0   \n\n                                         postal_code  \n0  52043ee2162cf5aa7ee79974281641c6f11a68d276429a...  \n1  2973abc54daa8a5f8ccfe9362140c63247c5eee03f1d93...  \n2  64f17e6a330a85798e4998f62d0930d14db8db1c054af6...  \n3  5d36574f52495e81f019b680c843c443bd343d5ca5b1c2...  \n4  25fa5ddee9aac01b35208d01736e57942317d756b32ddd...  ",
      "text/html": "<div>\n<style scoped>\n    .dataframe tbody tr th:only-of-type {\n        vertical-align: middle;\n    }\n\n    .dataframe tbody tr th {\n        vertical-align: top;\n    }\n\n    .dataframe thead th {\n        text-align: right;\n    }\n</style>\n<table border=\"1\" class=\"dataframe\">\n  <thead>\n    <tr style=\"text-align: right;\">\n      <th></th>\n      <th>customer_id</th>\n      <th>FN</th>\n      <th>Active</th>\n      <th>club_member_status</th>\n      <th>fashion_news_frequency</th>\n      <th>age</th>\n      <th>postal_code</th>\n    </tr>\n  </thead>\n  <tbody>\n    <tr>\n      <th>0</th>\n      <td>00000dbacae5abe5e23885899a1fa44253a17956c6d1c3...</td>\n      <td>NaN</td>\n      <td>NaN</td>\n      <td>ACTIVE</td>\n      <td>NONE</td>\n      <td>49.0</td>\n      <td>52043ee2162cf5aa7ee79974281641c6f11a68d276429a...</td>\n    </tr>\n    <tr>\n      <th>1</th>\n      <td>0000423b00ade91418cceaf3b26c6af3dd342b51fd051e...</td>\n      <td>NaN</td>\n      <td>NaN</td>\n      <td>ACTIVE</td>\n      <td>NONE</td>\n      <td>25.0</td>\n      <td>2973abc54daa8a5f8ccfe9362140c63247c5eee03f1d93...</td>\n    </tr>\n    <tr>\n      <th>2</th>\n      <td>000058a12d5b43e67d225668fa1f8d618c13dc232df0ca...</td>\n      <td>NaN</td>\n      <td>NaN</td>\n      <td>ACTIVE</td>\n      <td>NONE</td>\n      <td>24.0</td>\n      <td>64f17e6a330a85798e4998f62d0930d14db8db1c054af6...</td>\n    </tr>\n    <tr>\n      <th>3</th>\n      <td>00005ca1c9ed5f5146b52ac8639a40ca9d57aeff4d1bd2...</td>\n      <td>NaN</td>\n      <td>NaN</td>\n      <td>ACTIVE</td>\n      <td>NONE</td>\n      <td>54.0</td>\n      <td>5d36574f52495e81f019b680c843c443bd343d5ca5b1c2...</td>\n    </tr>\n    <tr>\n      <th>4</th>\n      <td>00006413d8573cd20ed7128e53b7b13819fe5cfc2d801f...</td>\n      <td>1.0</td>\n      <td>1.0</td>\n      <td>ACTIVE</td>\n      <td>Regularly</td>\n      <td>52.0</td>\n      <td>25fa5ddee9aac01b35208d01736e57942317d756b32ddd...</td>\n    </tr>\n  </tbody>\n</table>\n</div>"
     },
     "execution_count": 46,
     "metadata": {},
     "output_type": "execute_result"
    }
   ],
   "source": [
    "d.head()"
   ],
   "metadata": {
    "collapsed": false,
    "pycharm": {
     "name": "#%%\n"
    }
   }
  },
  {
   "cell_type": "code",
   "execution_count": 47,
   "outputs": [
    {
     "data": {
      "text/plain": "512.2976226806641"
     },
     "execution_count": 47,
     "metadata": {},
     "output_type": "execute_result"
    }
   ],
   "source": [
    "d.memory_usage(deep=True).sum() / 1024 / 1024"
   ],
   "metadata": {
    "collapsed": false,
    "pycharm": {
     "name": "#%%\n"
    }
   }
  },
  {
   "cell_type": "code",
   "execution_count": 48,
   "outputs": [
    {
     "data": {
      "text/plain": "customer_id               1371980\nFN                         476930\nActive                     464404\nclub_member_status        1365918\nfashion_news_frequency    1355971\nage                       1356119\npostal_code               1371980\ndtype: int64"
     },
     "execution_count": 48,
     "metadata": {},
     "output_type": "execute_result"
    }
   ],
   "source": [
    "d.count()"
   ],
   "metadata": {
    "collapsed": false,
    "pycharm": {
     "name": "#%%\n"
    }
   }
  },
  {
   "cell_type": "code",
   "execution_count": 49,
   "outputs": [
    {
     "data": {
      "text/plain": "customer_id                object\nFN                        float64\nActive                    float64\nclub_member_status         object\nfashion_news_frequency     object\nage                       float64\npostal_code                object\ndtype: object"
     },
     "execution_count": 49,
     "metadata": {},
     "output_type": "execute_result"
    }
   ],
   "source": [
    "d.dtypes"
   ],
   "metadata": {
    "collapsed": false,
    "pycharm": {
     "name": "#%%\n"
    }
   }
  },
  {
   "cell_type": "code",
   "execution_count": 41,
   "outputs": [
    {
     "data": {
      "text/plain": "2c29ae653a9282cce4151bd87643c907644e09541abc28ae87dea0d1f6603b1c    120303\ncc4ed85e30f4977dae47662ddc468cd2eec11472de6fac5ec985080fd92243c8       261\n714976379549eb90aae4a71bca6c7402cc646ae7c40f6c1cb91d4b5a18623fc1       159\n7c1fa3b0ec1d37ce2c3f34f63bd792f3b4494f324b6be5d1e4ba6a75456b96a7       157\n5b7eb31eabebd3277de632b82267286d847fd5d44287ee150bb4206b48439145       156\n1f5bd429acc88fbbf24de844a59e438704aa8761bc7b99fd977cad297c50b74c       154\n9d5787501bf1c77592156ba51eab13f4a2670c807686431a9e22a69090b02358       141\na1959a16bf167858c93a66ec2a330644512b25fb10f97eee2058549885af4dbd       138\n087a46b65170845b4a55226ff1eb748ce7843d4b637cbe17f6bfbd1e645d2ffb       134\n4d22901a97bd952bb92cdd31b38c39b41dd3250a735cabdfac1503eb405b807d       132\n45dc52765eb24eb8bc8a4a40a682d5e430aed58a9aba44e7f67d9516e54ba0d1       113\n2790324c84cdb8ba471be2a199cfb5103bbe1ab10883a0312b6928b05d6ee6c4       109\n262cfc24e32aec2c7adc42cf50af7a412127aa064e0269d5723477d5631dcccb       107\ne7bcbb41a62610d1067e0effbab544746d8d1ba9829323ed3819a145ee3c74a5       105\n8bea14e5409ea8733f4e747887eff6b4bd58391605b495b9fa5e633262239735       101\ne3f4e08b31c34fb5c82e934b7430999d95d4b2c652fd30c180795626c29be33b       100\na5ca21aefc3cf90afd9b09faf3b0f8f3c423d4f1cfb4c2e33a1b86770e426fa8        97\n2f2d4e6abe65dcea4918019af805b3d4a2a6de9d91a267dbae07f04abec58508        97\n8537857094470e65f7a610a45fd3064b99dba724d18784bdec702a262a163171        95\n20f86c99aaa4cfe914948f35689dd4eb242d1400da5394e80c9a05837e3e6418        94\nName: postal_code, dtype: int64"
     },
     "execution_count": 41,
     "metadata": {},
     "output_type": "execute_result"
    }
   ],
   "source": [
    "# top zip-code ~ missing?\n",
    "d['postal_code'].value_counts()[:20]"
   ],
   "metadata": {
    "collapsed": false,
    "pycharm": {
     "name": "#%%\n"
    }
   }
  },
  {
   "cell_type": "code",
   "execution_count": 27,
   "outputs": [
    {
     "data": {
      "text/plain": "NONE         893720\nRegularly    477416\nMonthly         842\nNone              2\nName: fashion_news_frequency, dtype: int64"
     },
     "execution_count": 27,
     "metadata": {},
     "output_type": "execute_result"
    }
   ],
   "source": [
    "d['fashion_news_frequency'].fillna('NONE').value_counts()"
   ],
   "metadata": {
    "collapsed": false,
    "pycharm": {
     "name": "#%%\n"
    }
   }
  },
  {
   "cell_type": "code",
   "execution_count": 51,
   "outputs": [],
   "source": [
    "d['club_member_status'] = d['club_member_status'].fillna('UKNOWN').astype('category')\n",
    "d['fashion_news_frequency'] = d['fashion_news_frequency'].fillna('NONE').astype('category')\n",
    "d['postal_code'] = d['postal_code'].astype('category')"
   ],
   "metadata": {
    "collapsed": false,
    "pycharm": {
     "name": "#%%\n"
    }
   }
  },
  {
   "cell_type": "code",
   "execution_count": null,
   "outputs": [],
   "source": [
    "d['age_group'] = pd.cut(d['age'], bins=np.arange(d['age'].min(), d['age'].max(), 5))"
   ],
   "metadata": {
    "collapsed": false,
    "pycharm": {
     "name": "#%%\n"
    }
   }
  },
  {
   "cell_type": "code",
   "execution_count": 54,
   "outputs": [
    {
     "data": {
      "text/plain": "Index                       0.000122\ncustomer_id               158.319073\nFN                         10.467377\nActive                     10.467377\nclub_member_status          1.308833\nfashion_news_frequency      1.308826\nage                        10.467377\npostal_code                54.018863\ndtype: float64"
     },
     "execution_count": 54,
     "metadata": {},
     "output_type": "execute_result"
    }
   ],
   "source": [
    "d.memory_usage(deep=True) / 1024 / 1024"
   ],
   "metadata": {
    "collapsed": false,
    "pycharm": {
     "name": "#%%\n"
    }
   }
  },
  {
   "cell_type": "code",
   "execution_count": 53,
   "outputs": [
    {
     "data": {
      "text/plain": "246.35784721374512"
     },
     "execution_count": 53,
     "metadata": {},
     "output_type": "execute_result"
    }
   ],
   "source": [
    "d.memory_usage(deep=True).sum() / 1024 / 1024"
   ],
   "metadata": {
    "collapsed": false,
    "pycharm": {
     "name": "#%%\n"
    }
   }
  },
  {
   "cell_type": "code",
   "execution_count": 55,
   "outputs": [],
   "source": [
    "d.to_parquet('../data/clean/customers.parquet')"
   ],
   "metadata": {
    "collapsed": false,
    "pycharm": {
     "name": "#%%\n"
    }
   }
  },
  {
   "cell_type": "markdown",
   "source": [
    "# transactions"
   ],
   "metadata": {
    "collapsed": false,
    "pycharm": {
     "name": "#%% md\n"
    }
   }
  },
  {
   "cell_type": "code",
   "execution_count": 13,
   "outputs": [],
   "source": [
    "d = pd.read_csv('../data/raw/transactions_train.csv.zip', parse_dates=['t_dat'], dtype={'article_id': 'category'})"
   ],
   "metadata": {
    "collapsed": false,
    "pycharm": {
     "name": "#%%\n"
    }
   }
  },
  {
   "cell_type": "code",
   "execution_count": 17,
   "outputs": [
    {
     "data": {
      "text/plain": "       t_dat                                        customer_id  article_id  \\\n0 2018-09-20  000058a12d5b43e67d225668fa1f8d618c13dc232df0ca...  0663713001   \n1 2018-09-20  000058a12d5b43e67d225668fa1f8d618c13dc232df0ca...  0541518023   \n2 2018-09-20  00007d2de826758b65a93dd24ce629ed66842531df6699...  0505221004   \n3 2018-09-20  00007d2de826758b65a93dd24ce629ed66842531df6699...  0685687003   \n4 2018-09-20  00007d2de826758b65a93dd24ce629ed66842531df6699...  0685687004   \n\n      price  sales_channel_id  \n0  0.050831                 2  \n1  0.030492                 2  \n2  0.015237                 2  \n3  0.016932                 2  \n4  0.016932                 2  ",
      "text/html": "<div>\n<style scoped>\n    .dataframe tbody tr th:only-of-type {\n        vertical-align: middle;\n    }\n\n    .dataframe tbody tr th {\n        vertical-align: top;\n    }\n\n    .dataframe thead th {\n        text-align: right;\n    }\n</style>\n<table border=\"1\" class=\"dataframe\">\n  <thead>\n    <tr style=\"text-align: right;\">\n      <th></th>\n      <th>t_dat</th>\n      <th>customer_id</th>\n      <th>article_id</th>\n      <th>price</th>\n      <th>sales_channel_id</th>\n    </tr>\n  </thead>\n  <tbody>\n    <tr>\n      <th>0</th>\n      <td>2018-09-20</td>\n      <td>000058a12d5b43e67d225668fa1f8d618c13dc232df0ca...</td>\n      <td>0663713001</td>\n      <td>0.050831</td>\n      <td>2</td>\n    </tr>\n    <tr>\n      <th>1</th>\n      <td>2018-09-20</td>\n      <td>000058a12d5b43e67d225668fa1f8d618c13dc232df0ca...</td>\n      <td>0541518023</td>\n      <td>0.030492</td>\n      <td>2</td>\n    </tr>\n    <tr>\n      <th>2</th>\n      <td>2018-09-20</td>\n      <td>00007d2de826758b65a93dd24ce629ed66842531df6699...</td>\n      <td>0505221004</td>\n      <td>0.015237</td>\n      <td>2</td>\n    </tr>\n    <tr>\n      <th>3</th>\n      <td>2018-09-20</td>\n      <td>00007d2de826758b65a93dd24ce629ed66842531df6699...</td>\n      <td>0685687003</td>\n      <td>0.016932</td>\n      <td>2</td>\n    </tr>\n    <tr>\n      <th>4</th>\n      <td>2018-09-20</td>\n      <td>00007d2de826758b65a93dd24ce629ed66842531df6699...</td>\n      <td>0685687004</td>\n      <td>0.016932</td>\n      <td>2</td>\n    </tr>\n  </tbody>\n</table>\n</div>"
     },
     "execution_count": 17,
     "metadata": {},
     "output_type": "execute_result"
    }
   ],
   "source": [
    "d.head()"
   ],
   "metadata": {
    "collapsed": false,
    "pycharm": {
     "name": "#%%\n"
    }
   }
  },
  {
   "cell_type": "code",
   "execution_count": 14,
   "outputs": [
    {
     "data": {
      "text/plain": "4527.752079963684"
     },
     "execution_count": 14,
     "metadata": {},
     "output_type": "execute_result"
    }
   ],
   "source": [
    "d.memory_usage(deep=True).sum() / 1024 / 1024"
   ],
   "metadata": {
    "collapsed": false,
    "pycharm": {
     "name": "#%%\n"
    }
   }
  },
  {
   "cell_type": "code",
   "execution_count": 15,
   "outputs": [
    {
     "data": {
      "text/plain": "Index                  0.000122\nt_dat                242.525665\ncustomer_id         3668.200687\narticle_id           131.974275\nprice                242.525665\nsales_channel_id     242.525665\ndtype: float64"
     },
     "execution_count": 15,
     "metadata": {},
     "output_type": "execute_result"
    }
   ],
   "source": [
    "d.memory_usage(deep=True)/ 1024 / 1024"
   ],
   "metadata": {
    "collapsed": false,
    "pycharm": {
     "name": "#%%\n"
    }
   }
  },
  {
   "cell_type": "code",
   "execution_count": 18,
   "outputs": [
    {
     "data": {
      "text/plain": "t_dat               31788324\ncustomer_id         31788324\narticle_id          31788324\nprice               31788324\nsales_channel_id    31788324\ndtype: int64"
     },
     "execution_count": 18,
     "metadata": {},
     "output_type": "execute_result"
    }
   ],
   "source": [
    "d.count()"
   ],
   "metadata": {
    "collapsed": false,
    "pycharm": {
     "name": "#%%\n"
    }
   }
  },
  {
   "cell_type": "code",
   "execution_count": 19,
   "outputs": [],
   "source": [
    "d[['customer_id', 'article_id', 'sales_channel_id']] = d[['customer_id', 'article_id', 'sales_channel_id']].astype('category')"
   ],
   "metadata": {
    "collapsed": false,
    "pycharm": {
     "name": "#%%\n"
    }
   }
  },
  {
   "cell_type": "code",
   "execution_count": 20,
   "outputs": [
    {
     "data": {
      "text/plain": "958.0542850494385"
     },
     "execution_count": 20,
     "metadata": {},
     "output_type": "execute_result"
    }
   ],
   "source": [
    "d.memory_usage(deep=True).sum() / 1024 / 1024"
   ],
   "metadata": {
    "collapsed": false,
    "pycharm": {
     "name": "#%%\n"
    }
   }
  },
  {
   "cell_type": "code",
   "execution_count": 21,
   "outputs": [
    {
     "data": {
      "text/plain": "Index                 0.000122\nt_dat               242.525665\ncustomer_id         310.712731\narticle_id          131.974275\nprice               242.525665\nsales_channel_id     30.315826\ndtype: float64"
     },
     "execution_count": 21,
     "metadata": {},
     "output_type": "execute_result"
    }
   ],
   "source": [
    "d.memory_usage(deep=True)/ 1024 / 1024"
   ],
   "metadata": {
    "collapsed": false,
    "pycharm": {
     "name": "#%%\n"
    }
   }
  },
  {
   "cell_type": "code",
   "execution_count": 22,
   "outputs": [],
   "source": [
    "d.to_parquet('../data/clean/transactions.parquet')"
   ],
   "metadata": {
    "collapsed": false,
    "pycharm": {
     "name": "#%%\n"
    }
   }
  }
 ],
 "metadata": {
  "kernelspec": {
   "display_name": "Python 3",
   "language": "python",
   "name": "python3"
  },
  "language_info": {
   "codemirror_mode": {
    "name": "ipython",
    "version": 2
   },
   "file_extension": ".py",
   "mimetype": "text/x-python",
   "name": "python",
   "nbconvert_exporter": "python",
   "pygments_lexer": "ipython2",
   "version": "2.7.6"
  }
 },
 "nbformat": 4,
 "nbformat_minor": 0
}