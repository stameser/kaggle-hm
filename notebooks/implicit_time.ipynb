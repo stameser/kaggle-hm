{
 "cells": [
  {
   "cell_type": "code",
   "execution_count": 1,
   "outputs": [],
   "source": [
    "from importlib import reload\n",
    "\n",
    "import numpy as np\n",
    "import pandas as pd\n",
    "import seaborn as sns\n",
    "\n",
    "import kaggle_hm.als_model\n",
    "from kaggle_hm.chart_model import age_chart\n",
    "from kaggle_hm.chart_model import filter_data\n",
    "from kaggle_hm.config import data_root, train_dates, test_dates\n",
    "from kaggle_hm.evaluation import compute_precision"
   ],
   "metadata": {
    "collapsed": false,
    "pycharm": {
     "name": "#%%\n"
    }
   }
  },
  {
   "cell_type": "code",
   "execution_count": 2,
   "outputs": [
    {
     "data": {
      "text/plain": "<module 'kaggle_hm.als_model' from '/home/sstamenov/kaggle-hm/kaggle_hm/als_model.py'>"
     },
     "execution_count": 2,
     "metadata": {},
     "output_type": "execute_result"
    }
   ],
   "source": [
    "reload(kaggle_hm.als_model)"
   ],
   "metadata": {
    "collapsed": false,
    "pycharm": {
     "name": "#%%\n"
    }
   }
  },
  {
   "cell_type": "code",
   "execution_count": 3,
   "outputs": [],
   "source": [
    "# using test customers in train set makes alg perform worse\n",
    "# adding more history doesnt help"
   ],
   "metadata": {
    "collapsed": false,
    "pycharm": {
     "name": "#%%\n"
    }
   }
  },
  {
   "cell_type": "code",
   "execution_count": 4,
   "outputs": [],
   "source": [
    "df = pd.read_parquet(data_root / 'clean' / 'transactions.parquet')\n",
    "c = pd.read_parquet(data_root / 'clean' / 'customers.parquet').set_index('customer_id')\n",
    "c['age'] = c['age'].fillna(c['age'].mean())\n",
    "c['age_group'] = pd.cut(c['age'], bins=[15, 21, 25, 30, 40, 50, 60, 100])\n",
    "df = df.merge(c, left_on='customer_id', right_index=True)"
   ],
   "metadata": {
    "collapsed": false,
    "pycharm": {
     "name": "#%%\n"
    }
   }
  },
  {
   "cell_type": "code",
   "execution_count": 5,
   "outputs": [
    {
     "data": {
      "text/plain": "              t_dat                                        customer_id  \\\n0        2018-09-20  000058a12d5b43e67d225668fa1f8d618c13dc232df0ca...   \n1        2018-09-20  000058a12d5b43e67d225668fa1f8d618c13dc232df0ca...   \n165807   2018-09-24  000058a12d5b43e67d225668fa1f8d618c13dc232df0ca...   \n6827145  2019-03-01  000058a12d5b43e67d225668fa1f8d618c13dc232df0ca...   \n21953950 2020-02-03  000058a12d5b43e67d225668fa1f8d618c13dc232df0ca...   \n\n          article_id     price  sales_channel_id  FN  Active  \\\n0         0663713001  0.050831                 2 NaN     NaN   \n1         0541518023  0.030492                 2 NaN     NaN   \n165807    0663713001  0.050831                 2 NaN     NaN   \n6827145   0578020002  0.013542                 2 NaN     NaN   \n21953950  0723529001  0.025407                 2 NaN     NaN   \n\n         club_member_status fashion_news_frequency   age  \\\n0                    ACTIVE                   NONE  24.0   \n1                    ACTIVE                   NONE  24.0   \n165807               ACTIVE                   NONE  24.0   \n6827145              ACTIVE                   NONE  24.0   \n21953950             ACTIVE                   NONE  24.0   \n\n                                                postal_code age_group  \n0         64f17e6a330a85798e4998f62d0930d14db8db1c054af6...  (21, 25]  \n1         64f17e6a330a85798e4998f62d0930d14db8db1c054af6...  (21, 25]  \n165807    64f17e6a330a85798e4998f62d0930d14db8db1c054af6...  (21, 25]  \n6827145   64f17e6a330a85798e4998f62d0930d14db8db1c054af6...  (21, 25]  \n21953950  64f17e6a330a85798e4998f62d0930d14db8db1c054af6...  (21, 25]  ",
      "text/html": "<div>\n<style scoped>\n    .dataframe tbody tr th:only-of-type {\n        vertical-align: middle;\n    }\n\n    .dataframe tbody tr th {\n        vertical-align: top;\n    }\n\n    .dataframe thead th {\n        text-align: right;\n    }\n</style>\n<table border=\"1\" class=\"dataframe\">\n  <thead>\n    <tr style=\"text-align: right;\">\n      <th></th>\n      <th>t_dat</th>\n      <th>customer_id</th>\n      <th>article_id</th>\n      <th>price</th>\n      <th>sales_channel_id</th>\n      <th>FN</th>\n      <th>Active</th>\n      <th>club_member_status</th>\n      <th>fashion_news_frequency</th>\n      <th>age</th>\n      <th>postal_code</th>\n      <th>age_group</th>\n    </tr>\n  </thead>\n  <tbody>\n    <tr>\n      <th>0</th>\n      <td>2018-09-20</td>\n      <td>000058a12d5b43e67d225668fa1f8d618c13dc232df0ca...</td>\n      <td>0663713001</td>\n      <td>0.050831</td>\n      <td>2</td>\n      <td>NaN</td>\n      <td>NaN</td>\n      <td>ACTIVE</td>\n      <td>NONE</td>\n      <td>24.0</td>\n      <td>64f17e6a330a85798e4998f62d0930d14db8db1c054af6...</td>\n      <td>(21, 25]</td>\n    </tr>\n    <tr>\n      <th>1</th>\n      <td>2018-09-20</td>\n      <td>000058a12d5b43e67d225668fa1f8d618c13dc232df0ca...</td>\n      <td>0541518023</td>\n      <td>0.030492</td>\n      <td>2</td>\n      <td>NaN</td>\n      <td>NaN</td>\n      <td>ACTIVE</td>\n      <td>NONE</td>\n      <td>24.0</td>\n      <td>64f17e6a330a85798e4998f62d0930d14db8db1c054af6...</td>\n      <td>(21, 25]</td>\n    </tr>\n    <tr>\n      <th>165807</th>\n      <td>2018-09-24</td>\n      <td>000058a12d5b43e67d225668fa1f8d618c13dc232df0ca...</td>\n      <td>0663713001</td>\n      <td>0.050831</td>\n      <td>2</td>\n      <td>NaN</td>\n      <td>NaN</td>\n      <td>ACTIVE</td>\n      <td>NONE</td>\n      <td>24.0</td>\n      <td>64f17e6a330a85798e4998f62d0930d14db8db1c054af6...</td>\n      <td>(21, 25]</td>\n    </tr>\n    <tr>\n      <th>6827145</th>\n      <td>2019-03-01</td>\n      <td>000058a12d5b43e67d225668fa1f8d618c13dc232df0ca...</td>\n      <td>0578020002</td>\n      <td>0.013542</td>\n      <td>2</td>\n      <td>NaN</td>\n      <td>NaN</td>\n      <td>ACTIVE</td>\n      <td>NONE</td>\n      <td>24.0</td>\n      <td>64f17e6a330a85798e4998f62d0930d14db8db1c054af6...</td>\n      <td>(21, 25]</td>\n    </tr>\n    <tr>\n      <th>21953950</th>\n      <td>2020-02-03</td>\n      <td>000058a12d5b43e67d225668fa1f8d618c13dc232df0ca...</td>\n      <td>0723529001</td>\n      <td>0.025407</td>\n      <td>2</td>\n      <td>NaN</td>\n      <td>NaN</td>\n      <td>ACTIVE</td>\n      <td>NONE</td>\n      <td>24.0</td>\n      <td>64f17e6a330a85798e4998f62d0930d14db8db1c054af6...</td>\n      <td>(21, 25]</td>\n    </tr>\n  </tbody>\n</table>\n</div>"
     },
     "execution_count": 5,
     "metadata": {},
     "output_type": "execute_result"
    }
   ],
   "source": [
    "df.head()"
   ],
   "metadata": {
    "collapsed": false,
    "pycharm": {
     "name": "#%%\n"
    }
   }
  },
  {
   "cell_type": "code",
   "execution_count": 6,
   "outputs": [],
   "source": [
    "delta = (pd.to_datetime('2020-09-08') - df['t_dat']).dt.days\n",
    "df['delta_weeks'] = 1 / (1 + np.power(delta // 7, 1))"
   ],
   "metadata": {
    "collapsed": false,
    "pycharm": {
     "name": "#%%\n"
    }
   }
  },
  {
   "cell_type": "code",
   "execution_count": 7,
   "outputs": [],
   "source": [
    "cols = [f'rel_{i + 1}' for i in range(12)]\n",
    "test = filter_data(df, from_date=test_dates['start'], to_date=test_dates['end'])\n",
    "train = filter_data(df, from_date='2020-09-01', to_date=train_dates['end'])\n",
    "results = test.groupby('customer_id', observed=True).agg(bought=('article_id', set)).reset_index()\n",
    "results = results.merge(c, left_on='customer_id', right_index=True)\n",
    "old_customers = set(filter_data(df, to_date=train_dates['end'])['customer_id'].unique())"
   ],
   "metadata": {
    "collapsed": false,
    "pycharm": {
     "name": "#%%\n"
    }
   }
  },
  {
   "cell_type": "code",
   "execution_count": 8,
   "outputs": [],
   "source": [
    "pred_ds = filter_data(df, to_date=train_dates['end'])"
   ],
   "metadata": {
    "collapsed": false,
    "pycharm": {
     "name": "#%%\n"
    }
   }
  },
  {
   "cell_type": "code",
   "execution_count": 9,
   "outputs": [
    {
     "name": "stdout",
     "output_type": "stream",
     "text": [
      "#items 20149\n",
      "#customers 85300\n"
     ]
    },
    {
     "data": {
      "text/plain": "  0%|          | 0/50 [00:00<?, ?it/s]",
      "application/vnd.jupyter.widget-view+json": {
       "version_major": 2,
       "version_minor": 0,
       "model_id": "c4e51c7b8ea54e63b8cd6644a73869f4"
      }
     },
     "metadata": {},
     "output_type": "display_data"
    }
   ],
   "source": [
    "pipeline = kaggle_hm.als_model.MatrixFactorizationPipeline(min_items=1, min_customers=1, cell_value='time', factors=256, iterations=50, regularization=0.01)\n",
    "pipeline.fit(train)\n",
    "rec_df = pipeline.predict(pred_ds)"
   ],
   "metadata": {
    "collapsed": false,
    "pycharm": {
     "name": "#%%\n"
    }
   }
  },
  {
   "cell_type": "code",
   "execution_count": 14,
   "outputs": [],
   "source": [
    "# custom predictions\n",
    "train_items = pipeline.vectorizer.item_transformer.item_code.keys()\n",
    "cond = (\n",
    "    pred_ds['article_id'].isin(train_items) &\n",
    "    pred_ds['customer_id'].isin(test['customer_id'].unique())\n",
    ")\n",
    "pred_transactions = pred_ds[cond].copy()\n",
    "\n",
    "transformer = kaggle_hm.als_model.Transformer()\n",
    "transformer.fit(pred_transactions['customer_id'].unique())\n",
    "pred_transactions['customer_id'] = pred_transactions['customer_id'].map(transformer.item_code).astype('int')\n",
    "X_pred = pipeline.vectorizer.transform(pred_transactions)\n",
    "\n",
    "items, scores = pipeline.model.recommend(np.arange(X_pred.shape[0]), X_pred, N=100,\n",
    "                                     filter_already_liked_items=False,\n",
    "                                     recalculate_user=True)\n",
    "\n",
    "candidates = pd.DataFrame(zip(items.flatten(), scores.flatten()), columns=['item_id', 'score'])\n",
    "candidates['customer_id'] = (candidates.index // 100).map(transformer.code_item)\n",
    "candidates['article_id'] = candidates['item_id'].map(pipeline.vectorizer.item_transformer.code_item)"
   ],
   "metadata": {
    "collapsed": false,
    "pycharm": {
     "name": "#%%\n"
    }
   }
  },
  {
   "cell_type": "code",
   "execution_count": null,
   "outputs": [],
   "source": [],
   "metadata": {
    "collapsed": false,
    "pycharm": {
     "name": "#%%\n"
    }
   }
  },
  {
   "cell_type": "code",
   "execution_count": 40,
   "outputs": [],
   "source": [
    "test_nodup = test.drop_duplicates(subset=['customer_id', 'article_id'])"
   ],
   "metadata": {
    "collapsed": false,
    "pycharm": {
     "name": "#%%\n"
    }
   }
  },
  {
   "cell_type": "code",
   "execution_count": 41,
   "outputs": [
    {
     "data": {
      "text/plain": "              t_dat                                        customer_id  \\\n31521960 2020-09-15  000058a12d5b43e67d225668fa1f8d618c13dc232df0ca...   \n31492023 2020-09-14  0008968c0d451dbc5a9968da03196fe20051965edde741...   \n31452519 2020-09-13  004888668b9458668aa3234d17337671673599f7f84d36...   \n31452520 2020-09-13  004888668b9458668aa3234d17337671673599f7f84d36...   \n31452521 2020-09-13  004888668b9458668aa3234d17337671673599f7f84d36...   \n\n          article_id     price  sales_channel_id   FN  Active  \\\n31521960  0794321007  0.061000                 2  NaN     NaN   \n31492023  0893059004  0.035576                 2  1.0     1.0   \n31452519  0904026002  0.033881                 2  1.0     1.0   \n31452520  0897464002  0.025407                 2  1.0     1.0   \n31452521  0786579001  0.030492                 2  1.0     1.0   \n\n         club_member_status fashion_news_frequency   age  \\\n31521960             ACTIVE                   NONE  24.0   \n31492023             ACTIVE              Regularly  50.0   \n31452519             ACTIVE              Regularly  23.0   \n31452520             ACTIVE              Regularly  23.0   \n31452521             ACTIVE              Regularly  23.0   \n\n                                                postal_code age_group  \\\n31521960  64f17e6a330a85798e4998f62d0930d14db8db1c054af6...  (21, 25]   \n31492023  860a370c01b1eeebe3f3c78241f3236c79b0c41669c19e...  (40, 50]   \n31452519  063afae71598c3518f621e4a1224fef11de39f938d2d86...  (21, 25]   \n31452520  063afae71598c3518f621e4a1224fef11de39f938d2d86...  (21, 25]   \n31452521  063afae71598c3518f621e4a1224fef11de39f938d2d86...  (21, 25]   \n\n          delta_weeks  \n31521960          inf  \n31492023          inf  \n31452519          inf  \n31452520          inf  \n31452521          inf  ",
      "text/html": "<div>\n<style scoped>\n    .dataframe tbody tr th:only-of-type {\n        vertical-align: middle;\n    }\n\n    .dataframe tbody tr th {\n        vertical-align: top;\n    }\n\n    .dataframe thead th {\n        text-align: right;\n    }\n</style>\n<table border=\"1\" class=\"dataframe\">\n  <thead>\n    <tr style=\"text-align: right;\">\n      <th></th>\n      <th>t_dat</th>\n      <th>customer_id</th>\n      <th>article_id</th>\n      <th>price</th>\n      <th>sales_channel_id</th>\n      <th>FN</th>\n      <th>Active</th>\n      <th>club_member_status</th>\n      <th>fashion_news_frequency</th>\n      <th>age</th>\n      <th>postal_code</th>\n      <th>age_group</th>\n      <th>delta_weeks</th>\n    </tr>\n  </thead>\n  <tbody>\n    <tr>\n      <th>31521960</th>\n      <td>2020-09-15</td>\n      <td>000058a12d5b43e67d225668fa1f8d618c13dc232df0ca...</td>\n      <td>0794321007</td>\n      <td>0.061000</td>\n      <td>2</td>\n      <td>NaN</td>\n      <td>NaN</td>\n      <td>ACTIVE</td>\n      <td>NONE</td>\n      <td>24.0</td>\n      <td>64f17e6a330a85798e4998f62d0930d14db8db1c054af6...</td>\n      <td>(21, 25]</td>\n      <td>inf</td>\n    </tr>\n    <tr>\n      <th>31492023</th>\n      <td>2020-09-14</td>\n      <td>0008968c0d451dbc5a9968da03196fe20051965edde741...</td>\n      <td>0893059004</td>\n      <td>0.035576</td>\n      <td>2</td>\n      <td>1.0</td>\n      <td>1.0</td>\n      <td>ACTIVE</td>\n      <td>Regularly</td>\n      <td>50.0</td>\n      <td>860a370c01b1eeebe3f3c78241f3236c79b0c41669c19e...</td>\n      <td>(40, 50]</td>\n      <td>inf</td>\n    </tr>\n    <tr>\n      <th>31452519</th>\n      <td>2020-09-13</td>\n      <td>004888668b9458668aa3234d17337671673599f7f84d36...</td>\n      <td>0904026002</td>\n      <td>0.033881</td>\n      <td>2</td>\n      <td>1.0</td>\n      <td>1.0</td>\n      <td>ACTIVE</td>\n      <td>Regularly</td>\n      <td>23.0</td>\n      <td>063afae71598c3518f621e4a1224fef11de39f938d2d86...</td>\n      <td>(21, 25]</td>\n      <td>inf</td>\n    </tr>\n    <tr>\n      <th>31452520</th>\n      <td>2020-09-13</td>\n      <td>004888668b9458668aa3234d17337671673599f7f84d36...</td>\n      <td>0897464002</td>\n      <td>0.025407</td>\n      <td>2</td>\n      <td>1.0</td>\n      <td>1.0</td>\n      <td>ACTIVE</td>\n      <td>Regularly</td>\n      <td>23.0</td>\n      <td>063afae71598c3518f621e4a1224fef11de39f938d2d86...</td>\n      <td>(21, 25]</td>\n      <td>inf</td>\n    </tr>\n    <tr>\n      <th>31452521</th>\n      <td>2020-09-13</td>\n      <td>004888668b9458668aa3234d17337671673599f7f84d36...</td>\n      <td>0786579001</td>\n      <td>0.030492</td>\n      <td>2</td>\n      <td>1.0</td>\n      <td>1.0</td>\n      <td>ACTIVE</td>\n      <td>Regularly</td>\n      <td>23.0</td>\n      <td>063afae71598c3518f621e4a1224fef11de39f938d2d86...</td>\n      <td>(21, 25]</td>\n      <td>inf</td>\n    </tr>\n  </tbody>\n</table>\n</div>"
     },
     "execution_count": 41,
     "metadata": {},
     "output_type": "execute_result"
    }
   ],
   "source": [
    "test_nodup.head()"
   ],
   "metadata": {
    "collapsed": false,
    "pycharm": {
     "name": "#%%\n"
    }
   }
  },
  {
   "cell_type": "code",
   "execution_count": 62,
   "outputs": [],
   "source": [
    "cand_ext = candidates.merge(test_nodup[['customer_id', 'article_id', 'price']], on=['customer_id', 'article_id'], how='left')"
   ],
   "metadata": {
    "collapsed": false,
    "pycharm": {
     "name": "#%%\n"
    }
   }
  },
  {
   "cell_type": "code",
   "execution_count": 63,
   "outputs": [],
   "source": [
    "cand_ext['is_relevant'] = cand_ext['price'].notna().astype('int')"
   ],
   "metadata": {
    "collapsed": false,
    "pycharm": {
     "name": "#%%\n"
    }
   }
  },
  {
   "cell_type": "code",
   "execution_count": 69,
   "outputs": [
    {
     "data": {
      "text/plain": "0.10908253257864947"
     },
     "execution_count": 69,
     "metadata": {},
     "output_type": "execute_result"
    }
   ],
   "source": [
    "cand_ext['price'].notna().sum() / test_nodup.shape[0]"
   ],
   "metadata": {
    "collapsed": false,
    "pycharm": {
     "name": "#%%\n"
    }
   }
  },
  {
   "cell_type": "code",
   "execution_count": 64,
   "outputs": [
    {
     "data": {
      "text/plain": "         item_id     score                                        customer_id  \\\n663138       517  0.195961  4306fb91e44f77a47ff5932735f19e01542ba680c6ad59...   \n6355762     1328  0.079703  2c3af25e66e766abdcdc78881009582e1999738779313d...   \n4761        5474  0.172565  06622cd3c0651f9046c91e4b7ffb15b113ae6d192214ec...   \n5535236     2504  0.045151  68b87a99b0e7c44eac3a5154a5e2e5dcf11778f8fccf81...   \n614828      2282  0.040533  d40d7a4814d037cbda20a540dfcd042f811d5b4f0fd1e0...   \n3496672        5  0.030864  149f366638a08c60577db75e4c5d2b12ef1046bb6ba398...   \n89509       2013  0.381514  7787b44e939a117c685f7f7cf7097b292852f04d0be28f...   \n4719849      179  0.013150  39fe1573be3f1653eeba9ea4d4304afec620460ef3e3d4...   \n3184201     6499  0.475946  2aa65149b3c2ecb366df4be7ac6f5b55aa320cd4fcbd5f...   \n285699       301  0.221961  aad78e472bf2e7e64a39392412793830de0c5087d0d1aa...   \n6458453     1292  0.074161  9831346c405fd445763d9cc2b010db4990c0b9691b3e4f...   \n2822605       10  0.722529  cc3bf62a0a922b442c09102fe12017a3163f0b1253fe7a...   \n1725209     8444  0.301205  adecc7fc02afdb893d296412b20e9764d3b9561013c5bf...   \n3215404     1762  0.153601  7cafe85ee4694b03c8d7e8a94cb615cf52bceb007d5f36...   \n5090209     6951  0.027898  08356de9ae64281786296de5449d61fede125f08f8cf2b...   \n2886518       40  0.165503  2d26ad0159ec31c99e4f79cc881363f3c97d9a40531158...   \n6200300     4379  0.113617  b40f198a7cbb6f3aa1393af6b5eea4acb0edc5c209e975...   \n3239600      789  0.261225  72cd871ba79dd67a72aadd9fe9e162fb88b0cc75f6646a...   \n6230702     4630  0.052959  a7f574a81ab5f2dcb9946cd8f9dbc6798d91cd79d4bc58...   \n2691701      833  0.698318  5730146a4b8470124392928c206783366eabeea392af52...   \n\n         article_id     price  is_relevant  \n663138   0768912005  0.016932            1  \n6355762  0915453003  0.033881            1  \n4761     0916497001  0.022017            1  \n5535236  0728156006  0.050831            1  \n614828   0708138037  0.067780            1  \n3496672  0456163086  0.033881            1  \n89509    0751471041  0.033881            1  \n4719849  0904416001  0.033881            1  \n3184201  0917300005  0.050831            1  \n285699   0900422001  0.042356            1  \n6458453  0911870004  0.033881            1  \n2822605  0776179001  0.033881            1  \n1725209  0785018008  0.016932            1  \n3215404  0568601006  0.049119            1  \n5090209  0715343007  0.042356            1  \n2886518  0884319005  0.025407            1  \n6200300  0831450002  0.067780            1  \n3239600  0850244003  0.003373            1  \n6230702  0921226004  0.016932            1  \n2691701  0873771001  0.050831            1  ",
      "text/html": "<div>\n<style scoped>\n    .dataframe tbody tr th:only-of-type {\n        vertical-align: middle;\n    }\n\n    .dataframe tbody tr th {\n        vertical-align: top;\n    }\n\n    .dataframe thead th {\n        text-align: right;\n    }\n</style>\n<table border=\"1\" class=\"dataframe\">\n  <thead>\n    <tr style=\"text-align: right;\">\n      <th></th>\n      <th>item_id</th>\n      <th>score</th>\n      <th>customer_id</th>\n      <th>article_id</th>\n      <th>price</th>\n      <th>is_relevant</th>\n    </tr>\n  </thead>\n  <tbody>\n    <tr>\n      <th>663138</th>\n      <td>517</td>\n      <td>0.195961</td>\n      <td>4306fb91e44f77a47ff5932735f19e01542ba680c6ad59...</td>\n      <td>0768912005</td>\n      <td>0.016932</td>\n      <td>1</td>\n    </tr>\n    <tr>\n      <th>6355762</th>\n      <td>1328</td>\n      <td>0.079703</td>\n      <td>2c3af25e66e766abdcdc78881009582e1999738779313d...</td>\n      <td>0915453003</td>\n      <td>0.033881</td>\n      <td>1</td>\n    </tr>\n    <tr>\n      <th>4761</th>\n      <td>5474</td>\n      <td>0.172565</td>\n      <td>06622cd3c0651f9046c91e4b7ffb15b113ae6d192214ec...</td>\n      <td>0916497001</td>\n      <td>0.022017</td>\n      <td>1</td>\n    </tr>\n    <tr>\n      <th>5535236</th>\n      <td>2504</td>\n      <td>0.045151</td>\n      <td>68b87a99b0e7c44eac3a5154a5e2e5dcf11778f8fccf81...</td>\n      <td>0728156006</td>\n      <td>0.050831</td>\n      <td>1</td>\n    </tr>\n    <tr>\n      <th>614828</th>\n      <td>2282</td>\n      <td>0.040533</td>\n      <td>d40d7a4814d037cbda20a540dfcd042f811d5b4f0fd1e0...</td>\n      <td>0708138037</td>\n      <td>0.067780</td>\n      <td>1</td>\n    </tr>\n    <tr>\n      <th>3496672</th>\n      <td>5</td>\n      <td>0.030864</td>\n      <td>149f366638a08c60577db75e4c5d2b12ef1046bb6ba398...</td>\n      <td>0456163086</td>\n      <td>0.033881</td>\n      <td>1</td>\n    </tr>\n    <tr>\n      <th>89509</th>\n      <td>2013</td>\n      <td>0.381514</td>\n      <td>7787b44e939a117c685f7f7cf7097b292852f04d0be28f...</td>\n      <td>0751471041</td>\n      <td>0.033881</td>\n      <td>1</td>\n    </tr>\n    <tr>\n      <th>4719849</th>\n      <td>179</td>\n      <td>0.013150</td>\n      <td>39fe1573be3f1653eeba9ea4d4304afec620460ef3e3d4...</td>\n      <td>0904416001</td>\n      <td>0.033881</td>\n      <td>1</td>\n    </tr>\n    <tr>\n      <th>3184201</th>\n      <td>6499</td>\n      <td>0.475946</td>\n      <td>2aa65149b3c2ecb366df4be7ac6f5b55aa320cd4fcbd5f...</td>\n      <td>0917300005</td>\n      <td>0.050831</td>\n      <td>1</td>\n    </tr>\n    <tr>\n      <th>285699</th>\n      <td>301</td>\n      <td>0.221961</td>\n      <td>aad78e472bf2e7e64a39392412793830de0c5087d0d1aa...</td>\n      <td>0900422001</td>\n      <td>0.042356</td>\n      <td>1</td>\n    </tr>\n    <tr>\n      <th>6458453</th>\n      <td>1292</td>\n      <td>0.074161</td>\n      <td>9831346c405fd445763d9cc2b010db4990c0b9691b3e4f...</td>\n      <td>0911870004</td>\n      <td>0.033881</td>\n      <td>1</td>\n    </tr>\n    <tr>\n      <th>2822605</th>\n      <td>10</td>\n      <td>0.722529</td>\n      <td>cc3bf62a0a922b442c09102fe12017a3163f0b1253fe7a...</td>\n      <td>0776179001</td>\n      <td>0.033881</td>\n      <td>1</td>\n    </tr>\n    <tr>\n      <th>1725209</th>\n      <td>8444</td>\n      <td>0.301205</td>\n      <td>adecc7fc02afdb893d296412b20e9764d3b9561013c5bf...</td>\n      <td>0785018008</td>\n      <td>0.016932</td>\n      <td>1</td>\n    </tr>\n    <tr>\n      <th>3215404</th>\n      <td>1762</td>\n      <td>0.153601</td>\n      <td>7cafe85ee4694b03c8d7e8a94cb615cf52bceb007d5f36...</td>\n      <td>0568601006</td>\n      <td>0.049119</td>\n      <td>1</td>\n    </tr>\n    <tr>\n      <th>5090209</th>\n      <td>6951</td>\n      <td>0.027898</td>\n      <td>08356de9ae64281786296de5449d61fede125f08f8cf2b...</td>\n      <td>0715343007</td>\n      <td>0.042356</td>\n      <td>1</td>\n    </tr>\n    <tr>\n      <th>2886518</th>\n      <td>40</td>\n      <td>0.165503</td>\n      <td>2d26ad0159ec31c99e4f79cc881363f3c97d9a40531158...</td>\n      <td>0884319005</td>\n      <td>0.025407</td>\n      <td>1</td>\n    </tr>\n    <tr>\n      <th>6200300</th>\n      <td>4379</td>\n      <td>0.113617</td>\n      <td>b40f198a7cbb6f3aa1393af6b5eea4acb0edc5c209e975...</td>\n      <td>0831450002</td>\n      <td>0.067780</td>\n      <td>1</td>\n    </tr>\n    <tr>\n      <th>3239600</th>\n      <td>789</td>\n      <td>0.261225</td>\n      <td>72cd871ba79dd67a72aadd9fe9e162fb88b0cc75f6646a...</td>\n      <td>0850244003</td>\n      <td>0.003373</td>\n      <td>1</td>\n    </tr>\n    <tr>\n      <th>6230702</th>\n      <td>4630</td>\n      <td>0.052959</td>\n      <td>a7f574a81ab5f2dcb9946cd8f9dbc6798d91cd79d4bc58...</td>\n      <td>0921226004</td>\n      <td>0.016932</td>\n      <td>1</td>\n    </tr>\n    <tr>\n      <th>2691701</th>\n      <td>833</td>\n      <td>0.698318</td>\n      <td>5730146a4b8470124392928c206783366eabeea392af52...</td>\n      <td>0873771001</td>\n      <td>0.050831</td>\n      <td>1</td>\n    </tr>\n  </tbody>\n</table>\n</div>"
     },
     "execution_count": 64,
     "metadata": {},
     "output_type": "execute_result"
    }
   ],
   "source": [
    "cand_ext.query('is_relevant > 0').sample(n=20)"
   ],
   "metadata": {
    "collapsed": false,
    "pycharm": {
     "name": "#%%\n"
    }
   }
  },
  {
   "cell_type": "code",
   "execution_count": 65,
   "outputs": [],
   "source": [
    "stats = cand_ext.groupby('customer_id').agg(total=('article_id', 'count'), hits=('is_relevant', 'sum'))"
   ],
   "metadata": {
    "collapsed": false,
    "pycharm": {
     "name": "#%%\n"
    }
   }
  },
  {
   "cell_type": "code",
   "execution_count": 71,
   "outputs": [
    {
     "data": {
      "text/plain": "0.26632289259865655"
     },
     "execution_count": 71,
     "metadata": {},
     "output_type": "execute_result"
    }
   ],
   "source": [
    "(stats['hits'] > 0).sum() / stats.shape[0]"
   ],
   "metadata": {
    "collapsed": false,
    "pycharm": {
     "name": "#%%\n"
    }
   }
  },
  {
   "cell_type": "code",
   "execution_count": 73,
   "outputs": [],
   "source": [
    "cand_ext.sort_values('customer_id').to_parquet(data_root / 'clean' / 'candidates.parquet')"
   ],
   "metadata": {
    "collapsed": false,
    "pycharm": {
     "name": "#%%\n"
    }
   }
  },
  {
   "cell_type": "code",
   "execution_count": 34,
   "outputs": [],
   "source": [
    "top12_age_pred = age_chart(train)\n",
    "comb = results.merge(rec_df, on='customer_id', how='left')\n",
    "comb = comb.merge(top12_age_pred, on='age_group').drop(columns=['age_group'])\n",
    "comb['prediction'] = comb['candidates'].combine_first(comb['naive_pred'])\n",
    "cond = ~comb['customer_id'].isin(old_customers)\n",
    "comb.loc[cond, 'segment'] = 'cold'\n",
    "\n",
    "cond = comb['customer_id'].isin(old_customers)\n",
    "comb.loc[cond, 'segment'] = 'old'\n",
    "\n",
    "cond = comb['customer_id'].isin(train['customer_id'].unique())\n",
    "comb.loc[cond, 'segment'] = 'train'\n",
    "comb = compute_precision(comb)"
   ],
   "metadata": {
    "collapsed": false,
    "pycharm": {
     "name": "#%%\n"
    }
   }
  },
  {
   "cell_type": "code",
   "execution_count": 35,
   "outputs": [
    {
     "data": {
      "text/plain": "0.027632395962876324"
     },
     "execution_count": 35,
     "metadata": {},
     "output_type": "execute_result"
    }
   ],
   "source": [
    "comb['precision'].mean()"
   ],
   "metadata": {
    "collapsed": false,
    "pycharm": {
     "name": "#%%\n"
    }
   }
  },
  {
   "cell_type": "code",
   "execution_count": 36,
   "outputs": [
    {
     "data": {
      "text/plain": "0.029560253428218473"
     },
     "execution_count": 36,
     "metadata": {},
     "output_type": "execute_result"
    }
   ],
   "source": [
    "comb[~comb['candidates'].isna()]['precision'].mean()"
   ],
   "metadata": {
    "collapsed": false,
    "pycharm": {
     "name": "#%%\n"
    }
   }
  },
  {
   "cell_type": "code",
   "execution_count": 37,
   "outputs": [
    {
     "data": {
      "text/plain": "{'cold': 0.008500625450763665,\n 'old': 0.016901669723500337,\n 'train': 0.07042383424561427}"
     },
     "execution_count": 37,
     "metadata": {},
     "output_type": "execute_result"
    }
   ],
   "source": [
    "d = comb.groupby('segment').agg(avg_p=('precision', 'mean'))['avg_p'].to_dict()\n",
    "d"
   ],
   "metadata": {
    "collapsed": false,
    "pycharm": {
     "name": "#%%\n"
    }
   }
  },
  {
   "cell_type": "code",
   "execution_count": 38,
   "outputs": [
    {
     "data": {
      "text/plain": "old      51338\ntrain    15286\ncold      5395\nName: segment, dtype: int64"
     },
     "execution_count": 38,
     "metadata": {},
     "output_type": "execute_result"
    }
   ],
   "source": [
    "comb['segment'].value_counts()"
   ],
   "metadata": {
    "collapsed": false,
    "pycharm": {
     "name": "#%%\n"
    }
   }
  },
  {
   "cell_type": "code",
   "execution_count": 39,
   "outputs": [],
   "source": [
    "N = 1000\n",
    "precisions = np.zeros(N)\n",
    "for i in range(N):\n",
    "    precisions[i] = comb.sample(n=1000)['precision'].mean()"
   ],
   "metadata": {
    "collapsed": false,
    "pycharm": {
     "name": "#%%\n"
    }
   }
  },
  {
   "cell_type": "code",
   "execution_count": 40,
   "outputs": [
    {
     "data": {
      "text/plain": "count    1000.000000\nmean        0.027681\nstd         0.003860\nmin         0.016362\n25%         0.024862\n50%         0.027437\n75%         0.030385\nmax         0.040520\ndtype: float64"
     },
     "execution_count": 40,
     "metadata": {},
     "output_type": "execute_result"
    }
   ],
   "source": [
    "pd.Series(precisions).describe()"
   ],
   "metadata": {
    "collapsed": false,
    "pycharm": {
     "name": "#%%\n"
    }
   }
  },
  {
   "cell_type": "code",
   "execution_count": 41,
   "outputs": [
    {
     "data": {
      "text/plain": "<AxesSubplot:ylabel='Count'>"
     },
     "execution_count": 41,
     "metadata": {},
     "output_type": "execute_result"
    },
    {
     "data": {
      "text/plain": "<Figure size 432x288 with 1 Axes>",
      "image/png": "[encoded data removed]"
     },
     "metadata": {},
     "output_type": "display_data"
    }
   ],
   "source": [
    "sns.histplot(precisions)"
   ],
   "metadata": {
    "collapsed": false,
    "pycharm": {
     "name": "#%%\n"
    }
   }
  },
  {
   "cell_type": "markdown",
   "source": [
    "# Submission"
   ],
   "metadata": {
    "collapsed": false,
    "pycharm": {
     "name": "#%% md\n"
    }
   }
  },
  {
   "cell_type": "code",
   "execution_count": 42,
   "outputs": [],
   "source": [
    "submission = pd.read_csv('/data/sstamenov/kaggle-data/sample_submission.csv').drop(columns=['prediction'])\n",
    "submission = submission.merge(c, left_on='customer_id', right_index=True)"
   ],
   "metadata": {
    "collapsed": false,
    "pycharm": {
     "name": "#%%\n"
    }
   }
  },
  {
   "cell_type": "code",
   "execution_count": 43,
   "outputs": [
    {
     "data": {
      "text/plain": "                                         customer_id   FN  Active  \\\n0  00000dbacae5abe5e23885899a1fa44253a17956c6d1c3...  NaN     NaN   \n1  0000423b00ade91418cceaf3b26c6af3dd342b51fd051e...  NaN     NaN   \n2  000058a12d5b43e67d225668fa1f8d618c13dc232df0ca...  NaN     NaN   \n3  00005ca1c9ed5f5146b52ac8639a40ca9d57aeff4d1bd2...  NaN     NaN   \n4  00006413d8573cd20ed7128e53b7b13819fe5cfc2d801f...  1.0     1.0   \n\n  club_member_status fashion_news_frequency   age  \\\n0             ACTIVE                   NONE  49.0   \n1             ACTIVE                   NONE  25.0   \n2             ACTIVE                   NONE  24.0   \n3             ACTIVE                   NONE  54.0   \n4             ACTIVE              Regularly  52.0   \n\n                                         postal_code age_group  \n0  52043ee2162cf5aa7ee79974281641c6f11a68d276429a...  (40, 50]  \n1  2973abc54daa8a5f8ccfe9362140c63247c5eee03f1d93...  (21, 25]  \n2  64f17e6a330a85798e4998f62d0930d14db8db1c054af6...  (21, 25]  \n3  5d36574f52495e81f019b680c843c443bd343d5ca5b1c2...  (50, 60]  \n4  25fa5ddee9aac01b35208d01736e57942317d756b32ddd...  (50, 60]  ",
      "text/html": "<div>\n<style scoped>\n    .dataframe tbody tr th:only-of-type {\n        vertical-align: middle;\n    }\n\n    .dataframe tbody tr th {\n        vertical-align: top;\n    }\n\n    .dataframe thead th {\n        text-align: right;\n    }\n</style>\n<table border=\"1\" class=\"dataframe\">\n  <thead>\n    <tr style=\"text-align: right;\">\n      <th></th>\n      <th>customer_id</th>\n      <th>FN</th>\n      <th>Active</th>\n      <th>club_member_status</th>\n      <th>fashion_news_frequency</th>\n      <th>age</th>\n      <th>postal_code</th>\n      <th>age_group</th>\n    </tr>\n  </thead>\n  <tbody>\n    <tr>\n      <th>0</th>\n      <td>00000dbacae5abe5e23885899a1fa44253a17956c6d1c3...</td>\n      <td>NaN</td>\n      <td>NaN</td>\n      <td>ACTIVE</td>\n      <td>NONE</td>\n      <td>49.0</td>\n      <td>52043ee2162cf5aa7ee79974281641c6f11a68d276429a...</td>\n      <td>(40, 50]</td>\n    </tr>\n    <tr>\n      <th>1</th>\n      <td>0000423b00ade91418cceaf3b26c6af3dd342b51fd051e...</td>\n      <td>NaN</td>\n      <td>NaN</td>\n      <td>ACTIVE</td>\n      <td>NONE</td>\n      <td>25.0</td>\n      <td>2973abc54daa8a5f8ccfe9362140c63247c5eee03f1d93...</td>\n      <td>(21, 25]</td>\n    </tr>\n    <tr>\n      <th>2</th>\n      <td>000058a12d5b43e67d225668fa1f8d618c13dc232df0ca...</td>\n      <td>NaN</td>\n      <td>NaN</td>\n      <td>ACTIVE</td>\n      <td>NONE</td>\n      <td>24.0</td>\n      <td>64f17e6a330a85798e4998f62d0930d14db8db1c054af6...</td>\n      <td>(21, 25]</td>\n    </tr>\n    <tr>\n      <th>3</th>\n      <td>00005ca1c9ed5f5146b52ac8639a40ca9d57aeff4d1bd2...</td>\n      <td>NaN</td>\n      <td>NaN</td>\n      <td>ACTIVE</td>\n      <td>NONE</td>\n      <td>54.0</td>\n      <td>5d36574f52495e81f019b680c843c443bd343d5ca5b1c2...</td>\n      <td>(50, 60]</td>\n    </tr>\n    <tr>\n      <th>4</th>\n      <td>00006413d8573cd20ed7128e53b7b13819fe5cfc2d801f...</td>\n      <td>1.0</td>\n      <td>1.0</td>\n      <td>ACTIVE</td>\n      <td>Regularly</td>\n      <td>52.0</td>\n      <td>25fa5ddee9aac01b35208d01736e57942317d756b32ddd...</td>\n      <td>(50, 60]</td>\n    </tr>\n  </tbody>\n</table>\n</div>"
     },
     "execution_count": 43,
     "metadata": {},
     "output_type": "execute_result"
    }
   ],
   "source": [
    "submission.head()"
   ],
   "metadata": {
    "collapsed": false,
    "pycharm": {
     "name": "#%%\n"
    }
   }
  },
  {
   "cell_type": "code",
   "execution_count": 45,
   "outputs": [],
   "source": [
    "delta = (pd.to_datetime('2020-09-22') - df['t_dat']).dt.days\n",
    "df['delta_weeks'] = 1 / (1 + np.power(delta // 7, 1))"
   ],
   "metadata": {
    "collapsed": false,
    "pycharm": {
     "name": "#%%\n"
    }
   }
  },
  {
   "cell_type": "code",
   "execution_count": 46,
   "outputs": [],
   "source": [
    "full_ds = filter_data(df, to_date='2020-09-22')\n",
    "train = filter_data(df, '2020-09-15', '2020-09-22')"
   ],
   "metadata": {
    "collapsed": false,
    "pycharm": {
     "name": "#%%\n"
    }
   }
  },
  {
   "cell_type": "code",
   "execution_count": 47,
   "outputs": [
    {
     "name": "stdout",
     "output_type": "stream",
     "text": [
      "#items 18684\n",
      "#customers 75481\n"
     ]
    },
    {
     "data": {
      "text/plain": "  0%|          | 0/50 [00:00<?, ?it/s]",
      "application/vnd.jupyter.widget-view+json": {
       "version_major": 2,
       "version_minor": 0,
       "model_id": "e941f3eb2e264f8ba03324a361f28a02"
      }
     },
     "metadata": {},
     "output_type": "display_data"
    }
   ],
   "source": [
    "pipeline = kaggle_hm.als_model.MatrixFactorizationPipeline(min_items=1, min_customers=1, cell_value='time', factors=256, iterations=50, regularization=0.01)\n",
    "pipeline.fit(train)\n",
    "rec_df = pipeline.predict(full_ds)"
   ],
   "metadata": {
    "collapsed": false,
    "pycharm": {
     "name": "#%%\n"
    }
   }
  },
  {
   "cell_type": "code",
   "execution_count": 48,
   "outputs": [],
   "source": [
    "top12_age_pred = age_chart(train)\n",
    "submission = submission.merge(rec_df, on='customer_id', how='left')\n",
    "submission = submission.merge(top12_age_pred, on='age_group', how='left').drop(columns=['age_group'])\n",
    "submission['prediction'] = submission['candidates'].combine_first(submission['naive_pred'])"
   ],
   "metadata": {
    "collapsed": false,
    "pycharm": {
     "name": "#%%\n"
    }
   }
  },
  {
   "cell_type": "code",
   "execution_count": 49,
   "outputs": [],
   "source": [
    "submission['prediction'] = submission['prediction'].apply(lambda _: ' '.join(_))"
   ],
   "metadata": {
    "collapsed": false,
    "pycharm": {
     "name": "#%%\n"
    }
   }
  },
  {
   "cell_type": "code",
   "execution_count": 50,
   "outputs": [
    {
     "data": {
      "text/plain": "Empty DataFrame\nColumns: [customer_id, FN, Active, club_member_status, fashion_news_frequency, age, postal_code, 0, 1, 2, 3, 4, 5, 6, 7, 8, 9, 10, 11, candidates, naive_pred, prediction]\nIndex: []\n\n[0 rows x 22 columns]",
      "text/html": "<div>\n<style scoped>\n    .dataframe tbody tr th:only-of-type {\n        vertical-align: middle;\n    }\n\n    .dataframe tbody tr th {\n        vertical-align: top;\n    }\n\n    .dataframe thead th {\n        text-align: right;\n    }\n</style>\n<table border=\"1\" class=\"dataframe\">\n  <thead>\n    <tr style=\"text-align: right;\">\n      <th></th>\n      <th>customer_id</th>\n      <th>FN</th>\n      <th>Active</th>\n      <th>club_member_status</th>\n      <th>fashion_news_frequency</th>\n      <th>age</th>\n      <th>postal_code</th>\n      <th>0</th>\n      <th>1</th>\n      <th>2</th>\n      <th>...</th>\n      <th>5</th>\n      <th>6</th>\n      <th>7</th>\n      <th>8</th>\n      <th>9</th>\n      <th>10</th>\n      <th>11</th>\n      <th>candidates</th>\n      <th>naive_pred</th>\n      <th>prediction</th>\n    </tr>\n  </thead>\n  <tbody>\n  </tbody>\n</table>\n<p>0 rows × 22 columns</p>\n</div>"
     },
     "execution_count": 50,
     "metadata": {},
     "output_type": "execute_result"
    }
   ],
   "source": [
    "submission[submission['prediction'].isna()]"
   ],
   "metadata": {
    "collapsed": false,
    "pycharm": {
     "name": "#%%\n"
    }
   }
  },
  {
   "cell_type": "code",
   "execution_count": 51,
   "outputs": [
    {
     "data": {
      "text/plain": "                                         customer_id   FN  Active  \\\n0  00000dbacae5abe5e23885899a1fa44253a17956c6d1c3...  NaN     NaN   \n1  0000423b00ade91418cceaf3b26c6af3dd342b51fd051e...  NaN     NaN   \n2  000058a12d5b43e67d225668fa1f8d618c13dc232df0ca...  NaN     NaN   \n3  00005ca1c9ed5f5146b52ac8639a40ca9d57aeff4d1bd2...  NaN     NaN   \n4  00006413d8573cd20ed7128e53b7b13819fe5cfc2d801f...  1.0     1.0   \n\n  club_member_status fashion_news_frequency   age  \\\n0             ACTIVE                   NONE  49.0   \n1             ACTIVE                   NONE  25.0   \n2             ACTIVE                   NONE  24.0   \n3             ACTIVE                   NONE  54.0   \n4             ACTIVE              Regularly  52.0   \n\n                                         postal_code       0       1       2  \\\n0  52043ee2162cf5aa7ee79974281641c6f11a68d276429a...   165.0  2800.0  1562.0   \n1  2973abc54daa8a5f8ccfe9362140c63247c5eee03f1d93...  8712.0   924.0  4878.0   \n2  64f17e6a330a85798e4998f62d0930d14db8db1c054af6...     0.0   339.0   992.0   \n3  5d36574f52495e81f019b680c843c443bd343d5ca5b1c2...     NaN     NaN     NaN   \n4  25fa5ddee9aac01b35208d01736e57942317d756b32ddd...  1274.0  1682.0   296.0   \n\n   ...       5       6       7       8       9      10      11  \\\n0  ...   329.0  1917.0   301.0   579.0  1305.0   177.0  1794.0   \n1  ...  9231.0  1027.0  4309.0  4310.0  2325.0  4328.0  9779.0   \n2  ...  4948.0  2464.0  1911.0  1169.0  2887.0  4886.0   156.0   \n3  ...     NaN     NaN     NaN     NaN     NaN     NaN     NaN   \n4  ...   192.0  1961.0   191.0  3946.0  1228.0  3619.0  1467.0   \n\n                                          candidates  \\\n0  [0568601043, 0779781015, 0568601006, 085885600...   \n1  [0739590027, 0590928001, 0882759003, 088275700...   \n2  [0794321007, 0805000001, 0805000008, 080500000...   \n3                                                NaN   \n4  [0896152002, 0730683050, 0791587015, 089615200...   \n\n                                          naive_pred  \\\n0  [0751471001, 0923758001, 0924243001, 092424300...   \n1  [0924243001, 0918522001, 0924243002, 091552900...   \n2  [0924243001, 0918522001, 0924243002, 091552900...   \n3  [0924243001, 0928206001, 0930380001, 092424300...   \n4  [0924243001, 0928206001, 0930380001, 092424300...   \n\n                                          prediction  \n0  0568601043 0779781015 0568601006 0858856005 05...  \n1  0739590027 0590928001 0882759003 0882757003 03...  \n2  0794321007 0805000001 0805000008 0805000007 07...  \n3  0924243001 0928206001 0930380001 0924243002 09...  \n4  0896152002 0730683050 0791587015 0896152001 07...  \n\n[5 rows x 22 columns]",
      "text/html": "<div>\n<style scoped>\n    .dataframe tbody tr th:only-of-type {\n        vertical-align: middle;\n    }\n\n    .dataframe tbody tr th {\n        vertical-align: top;\n    }\n\n    .dataframe thead th {\n        text-align: right;\n    }\n</style>\n<table border=\"1\" class=\"dataframe\">\n  <thead>\n    <tr style=\"text-align: right;\">\n      <th></th>\n      <th>customer_id</th>\n      <th>FN</th>\n      <th>Active</th>\n      <th>club_member_status</th>\n      <th>fashion_news_frequency</th>\n      <th>age</th>\n      <th>postal_code</th>\n      <th>0</th>\n      <th>1</th>\n      <th>2</th>\n      <th>...</th>\n      <th>5</th>\n      <th>6</th>\n      <th>7</th>\n      <th>8</th>\n      <th>9</th>\n      <th>10</th>\n      <th>11</th>\n      <th>candidates</th>\n      <th>naive_pred</th>\n      <th>prediction</th>\n    </tr>\n  </thead>\n  <tbody>\n    <tr>\n      <th>0</th>\n      <td>00000dbacae5abe5e23885899a1fa44253a17956c6d1c3...</td>\n      <td>NaN</td>\n      <td>NaN</td>\n      <td>ACTIVE</td>\n      <td>NONE</td>\n      <td>49.0</td>\n      <td>52043ee2162cf5aa7ee79974281641c6f11a68d276429a...</td>\n      <td>165.0</td>\n      <td>2800.0</td>\n      <td>1562.0</td>\n      <td>...</td>\n      <td>329.0</td>\n      <td>1917.0</td>\n      <td>301.0</td>\n      <td>579.0</td>\n      <td>1305.0</td>\n      <td>177.0</td>\n      <td>1794.0</td>\n      <td>[0568601043, 0779781015, 0568601006, 085885600...</td>\n      <td>[0751471001, 0923758001, 0924243001, 092424300...</td>\n      <td>0568601043 0779781015 0568601006 0858856005 05...</td>\n    </tr>\n    <tr>\n      <th>1</th>\n      <td>0000423b00ade91418cceaf3b26c6af3dd342b51fd051e...</td>\n      <td>NaN</td>\n      <td>NaN</td>\n      <td>ACTIVE</td>\n      <td>NONE</td>\n      <td>25.0</td>\n      <td>2973abc54daa8a5f8ccfe9362140c63247c5eee03f1d93...</td>\n      <td>8712.0</td>\n      <td>924.0</td>\n      <td>4878.0</td>\n      <td>...</td>\n      <td>9231.0</td>\n      <td>1027.0</td>\n      <td>4309.0</td>\n      <td>4310.0</td>\n      <td>2325.0</td>\n      <td>4328.0</td>\n      <td>9779.0</td>\n      <td>[0739590027, 0590928001, 0882759003, 088275700...</td>\n      <td>[0924243001, 0918522001, 0924243002, 091552900...</td>\n      <td>0739590027 0590928001 0882759003 0882757003 03...</td>\n    </tr>\n    <tr>\n      <th>2</th>\n      <td>000058a12d5b43e67d225668fa1f8d618c13dc232df0ca...</td>\n      <td>NaN</td>\n      <td>NaN</td>\n      <td>ACTIVE</td>\n      <td>NONE</td>\n      <td>24.0</td>\n      <td>64f17e6a330a85798e4998f62d0930d14db8db1c054af6...</td>\n      <td>0.0</td>\n      <td>339.0</td>\n      <td>992.0</td>\n      <td>...</td>\n      <td>4948.0</td>\n      <td>2464.0</td>\n      <td>1911.0</td>\n      <td>1169.0</td>\n      <td>2887.0</td>\n      <td>4886.0</td>\n      <td>156.0</td>\n      <td>[0794321007, 0805000001, 0805000008, 080500000...</td>\n      <td>[0924243001, 0918522001, 0924243002, 091552900...</td>\n      <td>0794321007 0805000001 0805000008 0805000007 07...</td>\n    </tr>\n    <tr>\n      <th>3</th>\n      <td>00005ca1c9ed5f5146b52ac8639a40ca9d57aeff4d1bd2...</td>\n      <td>NaN</td>\n      <td>NaN</td>\n      <td>ACTIVE</td>\n      <td>NONE</td>\n      <td>54.0</td>\n      <td>5d36574f52495e81f019b680c843c443bd343d5ca5b1c2...</td>\n      <td>NaN</td>\n      <td>NaN</td>\n      <td>NaN</td>\n      <td>...</td>\n      <td>NaN</td>\n      <td>NaN</td>\n      <td>NaN</td>\n      <td>NaN</td>\n      <td>NaN</td>\n      <td>NaN</td>\n      <td>NaN</td>\n      <td>NaN</td>\n      <td>[0924243001, 0928206001, 0930380001, 092424300...</td>\n      <td>0924243001 0928206001 0930380001 0924243002 09...</td>\n    </tr>\n    <tr>\n      <th>4</th>\n      <td>00006413d8573cd20ed7128e53b7b13819fe5cfc2d801f...</td>\n      <td>1.0</td>\n      <td>1.0</td>\n      <td>ACTIVE</td>\n      <td>Regularly</td>\n      <td>52.0</td>\n      <td>25fa5ddee9aac01b35208d01736e57942317d756b32ddd...</td>\n      <td>1274.0</td>\n      <td>1682.0</td>\n      <td>296.0</td>\n      <td>...</td>\n      <td>192.0</td>\n      <td>1961.0</td>\n      <td>191.0</td>\n      <td>3946.0</td>\n      <td>1228.0</td>\n      <td>3619.0</td>\n      <td>1467.0</td>\n      <td>[0896152002, 0730683050, 0791587015, 089615200...</td>\n      <td>[0924243001, 0928206001, 0930380001, 092424300...</td>\n      <td>0896152002 0730683050 0791587015 0896152001 07...</td>\n    </tr>\n  </tbody>\n</table>\n<p>5 rows × 22 columns</p>\n</div>"
     },
     "execution_count": 51,
     "metadata": {},
     "output_type": "execute_result"
    }
   ],
   "source": [
    "submission.head()"
   ],
   "metadata": {
    "collapsed": false,
    "pycharm": {
     "name": "#%%\n"
    }
   }
  },
  {
   "cell_type": "code",
   "execution_count": 52,
   "outputs": [
    {
     "data": {
      "text/plain": "1371980"
     },
     "execution_count": 52,
     "metadata": {},
     "output_type": "execute_result"
    }
   ],
   "source": [
    "submission.shape[0]"
   ],
   "metadata": {
    "collapsed": false,
    "pycharm": {
     "name": "#%%\n"
    }
   }
  },
  {
   "cell_type": "code",
   "execution_count": 53,
   "outputs": [],
   "source": [
    "submission[['customer_id', 'prediction']].to_csv('/data/sstamenov/kaggle-data/output/implicit_time_submission.csv', index=False)"
   ],
   "metadata": {
    "collapsed": false,
    "pycharm": {
     "name": "#%%\n"
    }
   }
  }
 ],
 "metadata": {
  "kernelspec": {
   "display_name": "Python 3 (ipykernel)",
   "language": "python",
   "name": "python3"
  },
  "language_info": {
   "codemirror_mode": {
    "name": "ipython",
    "version": 3
   },
   "file_extension": ".py",
   "mimetype": "text/x-python",
   "name": "python",
   "nbconvert_exporter": "python",
   "pygments_lexer": "ipython3",
   "version": "3.8.13"
  }
 },
 "nbformat": 4,
 "nbformat_minor": 4
}