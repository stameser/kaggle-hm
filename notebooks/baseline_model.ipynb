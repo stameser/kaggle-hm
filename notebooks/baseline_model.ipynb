{
 "cells": [
  {
   "cell_type": "code",
   "execution_count": null,
   "outputs": [],
   "source": [
    "# 1/N ~ 1 in 100k"
   ],
   "metadata": {
    "collapsed": false,
    "pycharm": {
     "name": "#%%\n"
    }
   }
  },
  {
   "cell_type": "markdown",
   "source": [
    "Chart performance on cold customers is 0.006, let's try to build a better model. We are mainly interested on improving performance on cold-customers and old customers that didn't buy something in last 3 weeks. To goal is to beat simple benchmark of top12 items sold last week.\n",
    "\n",
    "features we may want to consider\n",
    "\n",
    "customer:\n",
    "- age\n",
    "- postal-code\n",
    "- FN\n",
    "- frequency\n",
    "\n",
    "item-features:\n",
    "- color\n",
    "- product_code\n",
    "- product_group_name\n",
    "- department\n",
    "- popularity (#users bought it, #times sold)\n",
    "- #this week popularity (normalized / quantile)\n",
    "- hotness - #days since first transactions\n",
    "- super-hotness - first transaction was on monday\n",
    "- days since last sale (for filtering mainly)\n",
    "\n",
    "time features:\n",
    "- month\n",
    "\n",
    "for customers with history\n",
    "- items was bought\n",
    "- color preference\n",
    "- category preference\n",
    "\n",
    "take all sales in test-period (target) generate random pairs\n",
    "\n",
    "COLD CUSTOMER INDICATOR / COLD ITEM INDICATOR\n",
    "\n",
    "take all items customer bought + random 20 items he didn't buy\n",
    "- (from all items)\n",
    "- (from latest items)"
   ],
   "metadata": {
    "collapsed": false,
    "pycharm": {
     "name": "#%% md\n"
    }
   }
  },
  {
   "cell_type": "code",
   "execution_count": 2,
   "outputs": [],
   "source": [
    "import pandas as pd\n",
    "import numpy as np\n",
    "import matplotlib.pyplot as plt\n",
    "import seaborn as sns\n",
    "\n",
    "from kaggle_hm.chart_model import filter_data\n",
    "from kaggle_hm.utils import init_nb, plot_item, visualize_items\n",
    "from kaggle_hm.config import data_root, test_dates\n",
    "\n",
    "from kaggle_hm.chart_model import compute_chart\n",
    "from kaggle_hm.evaluation import compute_precision\n",
    "\n",
    "init_nb()\n",
    "sns.set_style('white')"
   ],
   "metadata": {
    "collapsed": false,
    "pycharm": {
     "name": "#%%\n"
    }
   }
  },
  {
   "cell_type": "code",
   "execution_count": 3,
   "outputs": [],
   "source": [
    "df = pd.read_parquet(data_root / 'clean' / 'transactions.parquet')\n",
    "customers = pd.read_parquet(data_root / 'clean' / 'customers.parquet')\n",
    "items = pd.read_parquet(data_root / 'clean' / 'articles.parquet')"
   ],
   "metadata": {
    "collapsed": false,
    "pycharm": {
     "name": "#%%\n"
    }
   }
  },
  {
   "cell_type": "code",
   "execution_count": 17,
   "outputs": [],
   "source": [
    "train = filter_data(df, to_date='2020-09-08')\n",
    "test = filter_data(df, test_dates['start'], test_dates['end'])"
   ],
   "metadata": {
    "collapsed": false,
    "pycharm": {
     "name": "#%%\n"
    }
   }
  },
  {
   "cell_type": "code",
   "execution_count": 18,
   "outputs": [
    {
     "name": "stderr",
     "output_type": "stream",
     "text": [
      "/tmp/ipykernel_3942202/614587069.py:1: SettingWithCopyWarning: \n",
      "A value is trying to be set on a copy of a slice from a DataFrame.\n",
      "Try using .loc[row_indexer,col_indexer] = value instead\n",
      "\n",
      "See the caveats in the documentation: https://pandas.pydata.org/pandas-docs/stable/user_guide/indexing.html#returning-a-view-versus-a-copy\n",
      "  test['buy'] = 1\n"
     ]
    }
   ],
   "source": [
    "test['buy'] = 1"
   ],
   "metadata": {
    "collapsed": false,
    "pycharm": {
     "name": "#%%\n"
    }
   }
  },
  {
   "cell_type": "code",
   "execution_count": 19,
   "outputs": [],
   "source": [
    "neg_samples = pd.DataFrame()\n",
    "neg_samples['article_id'] = np.random.choice(items['article_id'], 1_000_000)\n",
    "neg_samples['customer_id'] = np.random.choice(test['customer_id'].unique(), 1_000_000)\n",
    "neg_samples['buy'] = 0"
   ],
   "metadata": {
    "collapsed": false,
    "pycharm": {
     "name": "#%%\n"
    }
   }
  },
  {
   "cell_type": "code",
   "execution_count": 24,
   "outputs": [],
   "source": [
    "X = pd.concat([test[['article_id', 'customer_id', 'buy']], neg_samples[['article_id', 'customer_id', 'buy']]]).drop_duplicates(subset=['article_id', 'customer_id']).sample(frac=1.0)"
   ],
   "metadata": {
    "collapsed": false,
    "pycharm": {
     "name": "#%%\n"
    }
   }
  },
  {
   "cell_type": "code",
   "execution_count": 35,
   "outputs": [],
   "source": [
    "from catboost import CatBoostClassifier, Pool\n",
    "\n",
    "model = CatBoostClassifier(learning_rate=0.01, metric_period=100, task_type=\"GPU\", devices='0:1')"
   ],
   "metadata": {
    "collapsed": false,
    "pycharm": {
     "name": "#%%\n"
    }
   }
  },
  {
   "cell_type": "code",
   "execution_count": 36,
   "outputs": [],
   "source": [
    "features = X[['article_id']]\n",
    "y = X['buy']"
   ],
   "metadata": {
    "collapsed": false,
    "pycharm": {
     "name": "#%%\n"
    }
   }
  },
  {
   "cell_type": "code",
   "execution_count": 37,
   "outputs": [],
   "source": [
    "p = Pool(features, y, cat_features=['article_id'])"
   ],
   "metadata": {
    "collapsed": false,
    "pycharm": {
     "name": "#%%\n"
    }
   }
  },
  {
   "cell_type": "code",
   "execution_count": 38,
   "outputs": [
    {
     "name": "stdout",
     "output_type": "stream",
     "text": [
      "0:\tlearn: 0.6779531\ttotal: 20.4ms\tremaining: 20.4s\n",
      "100:\tlearn: 0.2174210\ttotal: 1.84s\tremaining: 16.3s\n",
      "200:\tlearn: 0.1885548\ttotal: 3.62s\tremaining: 14.4s\n",
      "300:\tlearn: 0.1850515\ttotal: 5.41s\tremaining: 12.6s\n",
      "400:\tlearn: 0.1844184\ttotal: 7.17s\tremaining: 10.7s\n",
      "500:\tlearn: 0.1842528\ttotal: 8.94s\tremaining: 8.9s\n",
      "600:\tlearn: 0.1841859\ttotal: 10.7s\tremaining: 7.12s\n",
      "700:\tlearn: 0.1841436\ttotal: 12.5s\tremaining: 5.33s\n",
      "800:\tlearn: 0.1841181\ttotal: 14.3s\tremaining: 3.55s\n",
      "900:\tlearn: 0.1840983\ttotal: 16.1s\tremaining: 1.77s\n",
      "999:\tlearn: 0.1840828\ttotal: 17.9s\tremaining: 0us\n"
     ]
    },
    {
     "data": {
      "text/plain": "<catboost.core.CatBoostClassifier at 0x7f2db2d00e50>"
     },
     "execution_count": 38,
     "metadata": {},
     "output_type": "execute_result"
    }
   ],
   "source": [
    "model.fit(p)"
   ],
   "metadata": {
    "collapsed": false,
    "pycharm": {
     "name": "#%%\n"
    }
   }
  },
  {
   "cell_type": "code",
   "execution_count": 43,
   "outputs": [],
   "source": [
    "from sklearn.metrics import roc_auc_score, confusion_matrix"
   ],
   "metadata": {
    "collapsed": false,
    "pycharm": {
     "name": "#%%\n"
    }
   }
  },
  {
   "cell_type": "code",
   "execution_count": 51,
   "outputs": [],
   "source": [
    "predictions = model.predict_proba(features)[:, 1]"
   ],
   "metadata": {
    "collapsed": false,
    "pycharm": {
     "name": "#%%\n"
    }
   }
  },
  {
   "cell_type": "code",
   "execution_count": 52,
   "outputs": [
    {
     "data": {
      "text/plain": "0.9765634870581436"
     },
     "execution_count": 52,
     "metadata": {},
     "output_type": "execute_result"
    }
   ],
   "source": [
    "roc_auc_score(y, predictions)"
   ],
   "metadata": {
    "collapsed": false,
    "pycharm": {
     "name": "#%%\n"
    }
   }
  },
  {
   "cell_type": "code",
   "execution_count": 53,
   "outputs": [
    {
     "data": {
      "text/plain": "array([[957990,  41922],\n       [ 41639, 186271]])"
     },
     "execution_count": 53,
     "metadata": {},
     "output_type": "execute_result"
    }
   ],
   "source": [
    "confusion_matrix(y,  predictions >= 0.5)"
   ],
   "metadata": {
    "collapsed": false,
    "pycharm": {
     "name": "#%%\n"
    }
   }
  },
  {
   "cell_type": "code",
   "execution_count": 54,
   "outputs": [
    {
     "data": {
      "text/plain": "array([[0.    , 0.8144],\n       [0.    , 0.1856]])"
     },
     "execution_count": 54,
     "metadata": {},
     "output_type": "execute_result"
    }
   ],
   "source": [
    "confusion_matrix(y, np.ones(X.shape[0]), normalize='all')"
   ],
   "metadata": {
    "collapsed": false,
    "pycharm": {
     "name": "#%%\n"
    }
   }
  },
  {
   "cell_type": "code",
   "execution_count": 58,
   "outputs": [
    {
     "data": {
      "text/plain": "array([[0.9583, 0.1837],\n       [0.0417, 0.8163]])"
     },
     "execution_count": 58,
     "metadata": {},
     "output_type": "execute_result"
    }
   ],
   "source": [
    "confusion_matrix(y, predictions >= 0.5, normalize='pred')"
   ],
   "metadata": {
    "collapsed": false,
    "pycharm": {
     "name": "#%%\n"
    }
   }
  }
 ],
 "metadata": {
  "kernelspec": {
   "display_name": "Python 3",
   "language": "python",
   "name": "python3"
  },
  "language_info": {
   "codemirror_mode": {
    "name": "ipython",
    "version": 2
   },
   "file_extension": ".py",
   "mimetype": "text/x-python",
   "name": "python",
   "nbconvert_exporter": "python",
   "pygments_lexer": "ipython2",
   "version": "2.7.6"
  }
 },
 "nbformat": 4,
 "nbformat_minor": 0
}