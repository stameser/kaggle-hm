{
 "cells": [
  {
   "cell_type": "code",
   "execution_count": 1,
   "metadata": {
    "pycharm": {
     "name": "#%%\n"
    }
   },
   "outputs": [],
   "source": [
    "import os \n",
    "\n",
    "os.environ['KAGGLE_HM_DATA'] = '/data/sstamenov/kaggle-data/'"
   ]
  },
  {
   "cell_type": "code",
   "execution_count": 2,
   "metadata": {
    "tags": [],
    "pycharm": {
     "name": "#%%\n"
    }
   },
   "outputs": [],
   "source": [
    "import pandas as pd\n",
    "import seaborn as sns\n",
    "import matplotlib.pyplot as plt\n",
    "from kaggle_hm.config import train_dates, test_dates, data_root\n",
    "from kaggle_hm.utils import init_nb, plot_item, visualize_items\n",
    "import numpy as np\n",
    "import json\n",
    "from kaggle_hm.evaluation import compute_precision, enrich_data, plot_precision_at_k, plot_precision_at_k_segments, precision_by_age, precision_by_usage\n",
    "\n",
    "init_nb()"
   ]
  },
  {
   "cell_type": "code",
   "execution_count": 3,
   "metadata": {
    "pycharm": {
     "name": "#%%\n"
    }
   },
   "outputs": [
    {
     "name": "stdout",
     "output_type": "stream",
     "text": [
      "/data/sstamenov/kaggle-data\n"
     ]
    }
   ],
   "source": [
    "print(data_root)"
   ]
  },
  {
   "cell_type": "markdown",
   "metadata": {
    "pycharm": {
     "name": "#%% md\n"
    }
   },
   "source": [
    "Cosine similarity on items works nicely.\n",
    "There are very few items with very high similarity >= .4. which are usually bought together.\n",
    "\n",
    "Items with similarity >.1 provide reasonable similarity to customer's items and are OK to be recommended.\n",
    "Items had to have at least 10 customers that bought both items to be considered a candidate.\n",
    "\n",
    "Similarity rec. system looks at items that user bought in the past, finds all items that are similar to it and appends to the candidate list.\n",
    "Then the list is sorted by similarity and first 12 items are returned. If there are not enough items, the rest is filled with top items.\n",
    "\n",
    "KNN recs provide marginal improvement over top-12 or top-12 by age group category and reach 0.0041 on public leaderboard.\n",
    "They provide more consistent precision over age groups, but provide worse precision for customers with high number of purchased items."
   ]
  },
  {
   "cell_type": "code",
   "execution_count": 4,
   "metadata": {
    "collapsed": false,
    "jupyter": {
     "outputs_hidden": false
    },
    "pycharm": {
     "name": "#%%\n"
    }
   },
   "outputs": [],
   "source": [
    "customers = pd.read_parquet(data_root / 'clean/customers.parquet').set_index('customer_id')\n",
    "customers['age_group'] = pd.cut(customers['age'], bins=[16, 21, 26, 30, 40, 50, 60, 100])\n",
    "items = pd.read_parquet(data_root / 'clean/articles.parquet')\n",
    "t = pd.read_parquet(data_root / 'clean/transactions.parquet')"
   ]
  },
  {
   "cell_type": "code",
   "execution_count": 5,
   "metadata": {
    "collapsed": false,
    "jupyter": {
     "outputs_hidden": false
    },
    "pycharm": {
     "name": "#%%\n"
    }
   },
   "outputs": [],
   "source": [
    "# _ = (\n",
    "#     (t['t_dat'] >= train_dates['start']) &\n",
    "#     (t['t_dat'] <= train_dates['end'])\n",
    "# )\n",
    "# train = t[_]\n",
    "_ = (\n",
    "    (t['t_dat'] >= test_dates['start']) &\n",
    "    (t['t_dat'] <= test_dates['end'])\n",
    ")\n",
    "test = t[_]"
   ]
  },
  {
   "cell_type": "code",
   "execution_count": 6,
   "metadata": {
    "pycharm": {
     "name": "#%%\n"
    }
   },
   "outputs": [
    {
     "data": {
      "text/plain": [
       "(1371980, 7)"
      ]
     },
     "execution_count": 6,
     "metadata": {},
     "output_type": "execute_result"
    }
   ],
   "source": [
    "customers.shape"
   ]
  },
  {
   "cell_type": "code",
   "execution_count": 7,
   "metadata": {
    "pycharm": {
     "name": "#%%\n"
    }
   },
   "outputs": [
    {
     "data": {
      "text/plain": [
       "(105542, 25)"
      ]
     },
     "execution_count": 7,
     "metadata": {},
     "output_type": "execute_result"
    }
   ],
   "source": [
    "items.shape"
   ]
  },
  {
   "cell_type": "code",
   "execution_count": 8,
   "metadata": {
    "pycharm": {
     "name": "#%%\n"
    }
   },
   "outputs": [
    {
     "data": {
      "text/plain": [
       "1362281"
      ]
     },
     "execution_count": 8,
     "metadata": {},
     "output_type": "execute_result"
    }
   ],
   "source": [
    "t['customer_id'].nunique()"
   ]
  },
  {
   "cell_type": "code",
   "execution_count": 9,
   "metadata": {
    "pycharm": {
     "name": "#%%\n"
    }
   },
   "outputs": [
    {
     "data": {
      "text/plain": [
       "104547"
      ]
     },
     "execution_count": 9,
     "metadata": {},
     "output_type": "execute_result"
    }
   ],
   "source": [
    "t['article_id'].nunique()"
   ]
  },
  {
   "cell_type": "code",
   "execution_count": 10,
   "metadata": {
    "collapsed": false,
    "jupyter": {
     "outputs_hidden": false
    },
    "pycharm": {
     "name": "#%%\n"
    }
   },
   "outputs": [],
   "source": [
    "def pad_rec(recommended, top_items):\n",
    "    try:\n",
    "        if np.isnan(recommended):\n",
    "            recommended = []\n",
    "    except:\n",
    "        pass\n",
    "    n = len(recommended)\n",
    "    if n == 12:\n",
    "        return recommended\n",
    "    m = 12 - n\n",
    "    return recommended + top_items[:m]\n",
    "# results['prediction']"
   ]
  },
  {
   "cell_type": "code",
   "execution_count": 83,
   "metadata": {
    "pycharm": {
     "name": "#%%\n"
    }
   },
   "outputs": [],
   "source": [
    "similarity_df = pd.read_parquet(data_root / 'clean' / 'similarity_table.parquet')"
   ]
  },
  {
   "cell_type": "code",
   "execution_count": 85,
   "metadata": {
    "pycharm": {
     "name": "#%%\n"
    }
   },
   "outputs": [
    {
     "data": {
      "text/html": [
       "<div>\n",
       "<style scoped>\n",
       "    .dataframe tbody tr th:only-of-type {\n",
       "        vertical-align: middle;\n",
       "    }\n",
       "\n",
       "    .dataframe tbody tr th {\n",
       "        vertical-align: top;\n",
       "    }\n",
       "\n",
       "    .dataframe thead th {\n",
       "        text-align: right;\n",
       "    }\n",
       "</style>\n",
       "<table border=\"1\" class=\"dataframe\">\n",
       "  <thead>\n",
       "    <tr style=\"text-align: right;\">\n",
       "      <th></th>\n",
       "      <th>simil</th>\n",
       "      <th>len_b</th>\n",
       "      <th>len_common</th>\n",
       "      <th>len_a</th>\n",
       "      <th>b</th>\n",
       "      <th>a</th>\n",
       "    </tr>\n",
       "  </thead>\n",
       "  <tbody>\n",
       "    <tr>\n",
       "      <th>22</th>\n",
       "      <td>0.1682</td>\n",
       "      <td>72</td>\n",
       "      <td>13</td>\n",
       "      <td>83</td>\n",
       "      <td>0912574002</td>\n",
       "      <td>0912574001</td>\n",
       "    </tr>\n",
       "    <tr>\n",
       "      <th>26</th>\n",
       "      <td>0.1324</td>\n",
       "      <td>44</td>\n",
       "      <td>8</td>\n",
       "      <td>83</td>\n",
       "      <td>0911056002</td>\n",
       "      <td>0912574001</td>\n",
       "    </tr>\n",
       "    <tr>\n",
       "      <th>36</th>\n",
       "      <td>0.1332</td>\n",
       "      <td>133</td>\n",
       "      <td>14</td>\n",
       "      <td>83</td>\n",
       "      <td>0917056001</td>\n",
       "      <td>0912574001</td>\n",
       "    </tr>\n",
       "    <tr>\n",
       "      <th>88</th>\n",
       "      <td>0.2060</td>\n",
       "      <td>92</td>\n",
       "      <td>18</td>\n",
       "      <td>83</td>\n",
       "      <td>0894210001</td>\n",
       "      <td>0912574001</td>\n",
       "    </tr>\n",
       "    <tr>\n",
       "      <th>123</th>\n",
       "      <td>0.1399</td>\n",
       "      <td>104</td>\n",
       "      <td>13</td>\n",
       "      <td>83</td>\n",
       "      <td>0911034002</td>\n",
       "      <td>0912574001</td>\n",
       "    </tr>\n",
       "  </tbody>\n",
       "</table>\n",
       "</div>"
      ],
      "text/plain": [
       "     simil  len_b  len_common  len_a           b           a\n",
       "22  0.1682     72          13     83  0912574002  0912574001\n",
       "26  0.1324     44           8     83  0911056002  0912574001\n",
       "36  0.1332    133          14     83  0917056001  0912574001\n",
       "88  0.2060     92          18     83  0894210001  0912574001\n",
       "123 0.1399    104          13     83  0911034002  0912574001"
      ]
     },
     "execution_count": 85,
     "metadata": {},
     "output_type": "execute_result"
    }
   ],
   "source": [
    "similarity_df.head()"
   ]
  },
  {
   "cell_type": "code",
   "execution_count": 86,
   "metadata": {
    "pycharm": {
     "name": "#%%\n"
    }
   },
   "outputs": [
    {
     "data": {
      "text/plain": [
       "(184304, 6)"
      ]
     },
     "execution_count": 86,
     "metadata": {},
     "output_type": "execute_result"
    }
   ],
   "source": [
    "similarity_df.shape"
   ]
  },
  {
   "cell_type": "markdown",
   "metadata": {
    "pycharm": {
     "name": "#%% md\n"
    }
   },
   "source": [
    "# Knn predictions"
   ]
  },
  {
   "cell_type": "code",
   "execution_count": 68,
   "metadata": {
    "pycharm": {
     "name": "#%%\n"
    }
   },
   "outputs": [],
   "source": [
    "_ = (\n",
    "    (t['t_dat'] >= '2020-08-15') &\n",
    "    (t['t_dat'] <= train_dates['end'])\n",
    ")\n",
    "train = t[_]"
   ]
  },
  {
   "cell_type": "code",
   "execution_count": 69,
   "metadata": {
    "pycharm": {
     "name": "#%%\n"
    }
   },
   "outputs": [
    {
     "data": {
      "text/plain": [
       "(923967, 5)"
      ]
     },
     "execution_count": 69,
     "metadata": {},
     "output_type": "execute_result"
    }
   ],
   "source": [
    "train.shape"
   ]
  },
  {
   "cell_type": "code",
   "execution_count": 70,
   "metadata": {
    "pycharm": {
     "name": "#%%\n"
    }
   },
   "outputs": [],
   "source": [
    "top12 = (\n",
    "    train\n",
    "    .groupby('article_id')\n",
    "    .agg(total_count=('customer_id', 'count'))\n",
    "    .sort_values('total_count', ascending=False)[:12].reset_index()['article_id'].tolist()\n",
    ")"
   ]
  },
  {
   "cell_type": "code",
   "execution_count": 38,
   "metadata": {
    "pycharm": {
     "name": "#%%\n"
    }
   },
   "outputs": [],
   "source": [
    "# ground truth\n",
    "test_items = test.groupby('customer_id', observed=True).agg(bought=('article_id', set)).reset_index()"
   ]
  },
  {
   "cell_type": "code",
   "execution_count": 39,
   "metadata": {
    "pycharm": {
     "name": "#%%\n"
    }
   },
   "outputs": [],
   "source": [
    "def get_knn_recs(data, similarity_df, top12, test_items):\n",
    "    nodup = data[['customer_id', 'article_id']].drop_duplicates()\n",
    "    print(nodup.shape)\n",
    "    \n",
    "    m = nodup.merge(similarity_df, left_on='article_id', right_on='a')\n",
    "    print(m.shape)\n",
    "\n",
    "    # exclude rec items that customer already has\n",
    "    _ = m.merge(nodup, left_on=['customer_id', 'b'], right_on=['customer_id', 'article_id'], how='outer')\n",
    "    _ = _[_['article_id_y'].isna()]\n",
    "    print(_.shape)\n",
    "    _['r'] = _.groupby('customer_id')['simil'].rank(method='first', ascending=False)\n",
    "\n",
    "    # leave up to 12 most similar items\n",
    "    candidates = _[_['r'] <= 12]\n",
    "\n",
    "    preds = candidates.sort_values(['customer_id', 'r']).groupby('customer_id',  observed=True).agg(recs=('b', list)).reset_index()\n",
    "    preds['prediction'] = preds['recs'].apply(lambda recs: pad_rec(recs, top12))\n",
    "\n",
    "    # test_items -> replace with submission\n",
    "    results = test_items.merge(preds, on='customer_id', how='left')\n",
    "    \n",
    "    # fill cold-start users \n",
    "    f = results['prediction'].isna()\n",
    "    results.loc[f, 'prediction'] = results.loc[f, 'prediction'].apply(lambda _: top12)\n",
    "    \n",
    "    return results "
   ]
  },
  {
   "cell_type": "code",
   "execution_count": 79,
   "metadata": {
    "pycharm": {
     "name": "#%%\n"
    }
   },
   "outputs": [
    {
     "name": "stdout",
     "output_type": "stream",
     "text": [
      "(821941, 2)\n",
      "(795804, 8)\n",
      "(669336, 9)\n"
     ]
    }
   ],
   "source": [
    "results = get_knn_recs(train, similarity_df.query('len_common >= 5'), top12, test_items)"
   ]
  },
  {
   "cell_type": "code",
   "execution_count": 80,
   "metadata": {
    "pycharm": {
     "name": "#%%\n"
    }
   },
   "outputs": [
    {
     "data": {
      "text/plain": [
       "count   8378.0000\n",
       "mean       0.1841\n",
       "std        0.1160\n",
       "min        0.1000\n",
       "25%        0.1174\n",
       "50%        0.1449\n",
       "75%        0.1980\n",
       "max        0.8715\n",
       "Name: simil, dtype: float64"
      ]
     },
     "execution_count": 80,
     "metadata": {},
     "output_type": "execute_result"
    }
   ],
   "source": [
    "similarity_df.query('len_common >= 5')['simil'].describe()"
   ]
  },
  {
   "cell_type": "code",
   "execution_count": 78,
   "metadata": {
    "pycharm": {
     "name": "#%%\n"
    }
   },
   "outputs": [
    {
     "data": {
      "text/plain": [
       "count   8378.0000\n",
       "mean      29.2667\n",
       "std       44.9544\n",
       "min        5.0000\n",
       "25%        7.0000\n",
       "50%       14.0000\n",
       "75%       32.0000\n",
       "max      609.0000\n",
       "Name: len_common, dtype: float64"
      ]
     },
     "execution_count": 78,
     "metadata": {},
     "output_type": "execute_result"
    }
   ],
   "source": [
    "similarity_df.query('len_common >= 5')['len_common'].describe()"
   ]
  },
  {
   "cell_type": "code",
   "execution_count": 81,
   "metadata": {
    "pycharm": {
     "name": "#%%\n"
    }
   },
   "outputs": [],
   "source": [
    "results = compute_precision(results)"
   ]
  },
  {
   "cell_type": "code",
   "execution_count": 82,
   "metadata": {
    "pycharm": {
     "name": "#%%\n"
    }
   },
   "outputs": [
    {
     "data": {
      "text/plain": [
       "0.009837033519230796"
      ]
     },
     "execution_count": 82,
     "metadata": {},
     "output_type": "execute_result"
    }
   ],
   "source": [
    "results['precision'].mean()"
   ]
  },
  {
   "cell_type": "markdown",
   "metadata": {
    "pycharm": {
     "name": "#%% md\n"
    }
   },
   "source": [
    "# sanity check"
   ]
  },
  {
   "cell_type": "code",
   "execution_count": null,
   "metadata": {
    "pycharm": {
     "name": "#%%\n"
    }
   },
   "outputs": [],
   "source": [
    "match = test[['customer_id', 'article_id']].drop_duplicates().merge(candidates, left_on=['customer_id', 'article_id'], right_on=['customer_id', 'b'])"
   ]
  },
  {
   "cell_type": "code",
   "execution_count": null,
   "metadata": {
    "pycharm": {
     "name": "#%%\n"
    }
   },
   "outputs": [],
   "source": [
    "match['r'].value_counts().sort_index()"
   ]
  },
  {
   "cell_type": "code",
   "execution_count": null,
   "metadata": {
    "pycharm": {
     "name": "#%%\n"
    }
   },
   "outputs": [],
   "source": [
    "match.shape"
   ]
  },
  {
   "cell_type": "code",
   "execution_count": null,
   "metadata": {
    "pycharm": {
     "name": "#%%\n"
    }
   },
   "outputs": [],
   "source": []
  },
  {
   "cell_type": "markdown",
   "metadata": {
    "pycharm": {
     "name": "#%% md\n"
    }
   },
   "source": [
    "# test"
   ]
  },
  {
   "cell_type": "code",
   "execution_count": null,
   "metadata": {
    "pycharm": {
     "name": "#%%\n"
    }
   },
   "outputs": [],
   "source": [
    "item_stats = (\n",
    "    t[t['t_dat'] <= train_dates['end']]\n",
    "    .groupby('article_id', observed=True)\n",
    "    .agg(\n",
    "        total=('customer_id', 'count'),\n",
    "        first_date=('t_dat', 'min'),\n",
    "        last_date=('t_dat', 'max')\n",
    "    )\n",
    ")"
   ]
  },
  {
   "cell_type": "code",
   "execution_count": null,
   "metadata": {
    "pycharm": {
     "name": "#%%\n"
    }
   },
   "outputs": [],
   "source": [
    "global_top12 = item_stats.sort_values('total', ascending=False)[:12].index.tolist()"
   ]
  },
  {
   "cell_type": "code",
   "execution_count": null,
   "metadata": {
    "pycharm": {
     "name": "#%%\n"
    }
   },
   "outputs": [],
   "source": [
    "top12"
   ]
  },
  {
   "cell_type": "code",
   "execution_count": null,
   "metadata": {
    "pycharm": {
     "name": "#%%\n"
    }
   },
   "outputs": [],
   "source": [
    "global_top12"
   ]
  },
  {
   "cell_type": "code",
   "execution_count": null,
   "metadata": {
    "pycharm": {
     "name": "#%%\n"
    }
   },
   "outputs": [],
   "source": [
    "len(\n",
    "    set(top12) & set(global_top12)\n",
    ")"
   ]
  },
  {
   "cell_type": "code",
   "execution_count": null,
   "metadata": {
    "pycharm": {
     "name": "#%%\n"
    }
   },
   "outputs": [],
   "source": [
    "test['hot'] = test['article_id'].isin(top12)\n",
    "test['oldy'] = test['article_id'].isin(global_top12)"
   ]
  },
  {
   "cell_type": "code",
   "execution_count": null,
   "metadata": {
    "pycharm": {
     "name": "#%%\n"
    }
   },
   "outputs": [],
   "source": [
    "test['hot'].mean() * 100"
   ]
  },
  {
   "cell_type": "code",
   "execution_count": null,
   "metadata": {
    "pycharm": {
     "name": "#%%\n"
    }
   },
   "outputs": [],
   "source": [
    "test.drop_duplicates(subset=['customer_id', 'article_id'])['hot'].mean()"
   ]
  },
  {
   "cell_type": "code",
   "execution_count": null,
   "metadata": {
    "pycharm": {
     "name": "#%%\n"
    }
   },
   "outputs": [],
   "source": [
    "test[test['hot']]"
   ]
  },
  {
   "cell_type": "code",
   "execution_count": null,
   "metadata": {
    "pycharm": {
     "name": "#%%\n"
    }
   },
   "outputs": [],
   "source": [
    "test['oldy'].mean() * 100"
   ]
  },
  {
   "cell_type": "code",
   "execution_count": null,
   "metadata": {
    "pycharm": {
     "name": "#%%\n"
    }
   },
   "outputs": [],
   "source": []
  },
  {
   "cell_type": "code",
   "execution_count": null,
   "metadata": {
    "pycharm": {
     "name": "#%%\n"
    }
   },
   "outputs": [],
   "source": [
    "_ = test.groupby('article_id', observed=True).agg(test_count=('customer_id', 'count')).join(item_stats)"
   ]
  },
  {
   "cell_type": "code",
   "execution_count": null,
   "metadata": {
    "pycharm": {
     "name": "#%%\n"
    }
   },
   "outputs": [],
   "source": [
    "_['d'] = pd.to_datetime('2020-09-15') - _['first_date']"
   ]
  },
  {
   "cell_type": "code",
   "execution_count": null,
   "metadata": {
    "pycharm": {
     "name": "#%%\n"
    }
   },
   "outputs": [],
   "source": [
    "# unseen items\n",
    "_[_['total'].isna()]['test_count'].sum()"
   ]
  },
  {
   "cell_type": "code",
   "execution_count": null,
   "metadata": {
    "pycharm": {
     "name": "#%%\n"
    }
   },
   "outputs": [],
   "source": [
    "plot_item('0805947001')"
   ]
  },
  {
   "cell_type": "code",
   "execution_count": null,
   "metadata": {
    "pycharm": {
     "name": "#%%\n"
    }
   },
   "outputs": [],
   "source": [
    "_.sort_values('test_count', ascending=False)[:20]"
   ]
  },
  {
   "cell_type": "code",
   "execution_count": null,
   "metadata": {
    "pycharm": {
     "name": "#%%\n"
    }
   },
   "outputs": [],
   "source": [
    "_.sort_values('test_count', ascending=True)[:20]"
   ]
  },
  {
   "cell_type": "code",
   "execution_count": null,
   "metadata": {
    "pycharm": {
     "name": "#%%\n"
    }
   },
   "outputs": [],
   "source": [
    "test.shape"
   ]
  },
  {
   "cell_type": "markdown",
   "metadata": {
    "pycharm": {
     "name": "#%% md\n"
    }
   },
   "source": [
    "# explore Knns"
   ]
  },
  {
   "cell_type": "code",
   "execution_count": null,
   "metadata": {
    "pycharm": {
     "name": "#%%\n"
    }
   },
   "outputs": [],
   "source": [
    "_ = (\n",
    "        (t['t_dat'] >= '2020-08-01') &\n",
    "        (t['t_dat'] <= train_dates['end'])\n",
    ")\n",
    "train = t[_]\n",
    "_ = (\n",
    "        (t['t_dat'] >= test_dates['start']) &\n",
    "        (t['t_dat'] <= test_dates['end'])\n",
    ")\n",
    "test = t[_]"
   ]
  },
  {
   "cell_type": "code",
   "execution_count": null,
   "metadata": {
    "tags": [],
    "pycharm": {
     "name": "#%%\n"
    }
   },
   "outputs": [],
   "source": [
    "item_counts = train['article_id'].value_counts().reset_index()\n",
    "\n",
    "item_counts = item_counts[item_counts['article_id'] > 1]"
   ]
  },
  {
   "cell_type": "code",
   "execution_count": null,
   "metadata": {
    "pycharm": {
     "name": "#%%\n"
    }
   },
   "outputs": [],
   "source": [
    "row = item_counts.sample(n=1)\n",
    "\n",
    "print(f\"{row['index'].iloc[0]} - {row['article_id'].iloc[0]}\")\n",
    "\n",
    "item_id = row['index'].iloc[0]\n",
    "s = get_similar_items([item_id])\n",
    "\n",
    "s = s[s['len_common'] > 5]"
   ]
  },
  {
   "cell_type": "code",
   "execution_count": null,
   "metadata": {
    "pycharm": {
     "name": "#%%\n"
    }
   },
   "outputs": [],
   "source": [
    "plot_item(item_id)"
   ]
  },
  {
   "cell_type": "code",
   "execution_count": null,
   "metadata": {
    "tags": [],
    "pycharm": {
     "name": "#%%\n"
    }
   },
   "outputs": [],
   "source": [
    "s.sort_values('simil', ascending=False).reset_index()[:20]"
   ]
  },
  {
   "cell_type": "code",
   "execution_count": null,
   "metadata": {
    "pycharm": {
     "name": "#%%\n"
    }
   },
   "outputs": [],
   "source": [
    "visualize_items(s.sort_values('simil', ascending=False).reset_index()['b'])"
   ]
  },
  {
   "cell_type": "code",
   "execution_count": null,
   "metadata": {
    "collapsed": false,
    "jupyter": {
     "outputs_hidden": false
    },
    "pycharm": {
     "name": "#%%\n"
    }
   },
   "outputs": [],
   "source": [
    "recs = t.merge(similarity_df, left_on='article_id', right_on='a')"
   ]
  },
  {
   "cell_type": "code",
   "execution_count": null,
   "metadata": {
    "collapsed": false,
    "jupyter": {
     "outputs_hidden": false
    },
    "pycharm": {
     "name": "#%%\n"
    }
   },
   "outputs": [],
   "source": [
    "cand_recs = recs.sort_values('simil', ascending=False).drop_duplicates(subset=['customer_id', 'b']).groupby('customer_id', observed=True).agg(top_k=('b', list)).reset_index()"
   ]
  },
  {
   "cell_type": "markdown",
   "metadata": {
    "pycharm": {
     "name": "#%% md\n"
    }
   },
   "source": [
    "# make submission"
   ]
  },
  {
   "cell_type": "code",
   "execution_count": 44,
   "metadata": {
    "collapsed": false,
    "jupyter": {
     "outputs_hidden": false
    },
    "pycharm": {
     "name": "#%%\n"
    }
   },
   "outputs": [],
   "source": [
    "submission = pd.read_csv(data_root / 'sample_submission.csv')"
   ]
  },
  {
   "cell_type": "code",
   "execution_count": 50,
   "metadata": {
    "pycharm": {
     "name": "#%%\n"
    }
   },
   "outputs": [
    {
     "name": "stdout",
     "output_type": "stream",
     "text": [
      "(798269, 5)\n",
      "['0751471001', '0909370001', '0918522001', '0924243001', '0918292001', '0915526001', '0915529003', '0448509014', '0751471043', '0706016001', '0865799006', '0863595006']\n",
      "(705504, 2)\n",
      "(1445354, 8)\n",
      "(1318436, 9)\n"
     ]
    }
   ],
   "source": [
    "_ = (\n",
    "    (t['t_dat'] >= '2020-09-01')\n",
    ")\n",
    "train = t[_]\n",
    "print(train.shape)\n",
    "top12 = (\n",
    "    train\n",
    "    .groupby('article_id')\n",
    "    .agg(total_count=('customer_id', 'count'))\n",
    "    .sort_values('total_count', ascending=False)[:12].reset_index()['article_id'].tolist()\n",
    ")\n",
    "print(top12)\n",
    "submission = get_knn_recs(train, similarity_df, top12, submission[['customer_id']])"
   ]
  },
  {
   "cell_type": "code",
   "execution_count": 54,
   "metadata": {
    "pycharm": {
     "name": "#%%\n"
    }
   },
   "outputs": [
    {
     "data": {
      "text/plain": [
       "0.8882855435210426"
      ]
     },
     "execution_count": 54,
     "metadata": {},
     "output_type": "execute_result"
    }
   ],
   "source": [
    "submission['recs'].isna().sum() / submission.shape[0]  # low coverage"
   ]
  },
  {
   "cell_type": "code",
   "execution_count": 55,
   "metadata": {
    "collapsed": false,
    "jupyter": {
     "outputs_hidden": false
    },
    "pycharm": {
     "name": "#%%\n"
    }
   },
   "outputs": [],
   "source": [
    "submission['prediction'] = submission['prediction'].apply(lambda _: ' '.join(_))"
   ]
  },
  {
   "cell_type": "code",
   "execution_count": 56,
   "metadata": {
    "collapsed": false,
    "jupyter": {
     "outputs_hidden": false
    },
    "pycharm": {
     "name": "#%%\n"
    }
   },
   "outputs": [
    {
     "data": {
      "text/html": [
       "<div>\n",
       "<style scoped>\n",
       "    .dataframe tbody tr th:only-of-type {\n",
       "        vertical-align: middle;\n",
       "    }\n",
       "\n",
       "    .dataframe tbody tr th {\n",
       "        vertical-align: top;\n",
       "    }\n",
       "\n",
       "    .dataframe thead th {\n",
       "        text-align: right;\n",
       "    }\n",
       "</style>\n",
       "<table border=\"1\" class=\"dataframe\">\n",
       "  <thead>\n",
       "    <tr style=\"text-align: right;\">\n",
       "      <th></th>\n",
       "      <th>customer_id</th>\n",
       "      <th>recs</th>\n",
       "      <th>prediction</th>\n",
       "    </tr>\n",
       "  </thead>\n",
       "  <tbody>\n",
       "    <tr>\n",
       "      <th>0</th>\n",
       "      <td>00000dbacae5abe5e23885899a1fa44253a17956c6d1c3...</td>\n",
       "      <td>[0858856005]</td>\n",
       "      <td>0858856005 0751471001 0909370001 0918522001 09...</td>\n",
       "    </tr>\n",
       "    <tr>\n",
       "      <th>1</th>\n",
       "      <td>0000423b00ade91418cceaf3b26c6af3dd342b51fd051e...</td>\n",
       "      <td>NaN</td>\n",
       "      <td>0751471001 0909370001 0918522001 0924243001 09...</td>\n",
       "    </tr>\n",
       "    <tr>\n",
       "      <th>2</th>\n",
       "      <td>000058a12d5b43e67d225668fa1f8d618c13dc232df0ca...</td>\n",
       "      <td>NaN</td>\n",
       "      <td>0751471001 0909370001 0918522001 0924243001 09...</td>\n",
       "    </tr>\n",
       "    <tr>\n",
       "      <th>3</th>\n",
       "      <td>00005ca1c9ed5f5146b52ac8639a40ca9d57aeff4d1bd2...</td>\n",
       "      <td>NaN</td>\n",
       "      <td>0751471001 0909370001 0918522001 0924243001 09...</td>\n",
       "    </tr>\n",
       "    <tr>\n",
       "      <th>4</th>\n",
       "      <td>00006413d8573cd20ed7128e53b7b13819fe5cfc2d801f...</td>\n",
       "      <td>NaN</td>\n",
       "      <td>0751471001 0909370001 0918522001 0924243001 09...</td>\n",
       "    </tr>\n",
       "  </tbody>\n",
       "</table>\n",
       "</div>"
      ],
      "text/plain": [
       "                                         customer_id          recs  \\\n",
       "0  00000dbacae5abe5e23885899a1fa44253a17956c6d1c3...  [0858856005]   \n",
       "1  0000423b00ade91418cceaf3b26c6af3dd342b51fd051e...           NaN   \n",
       "2  000058a12d5b43e67d225668fa1f8d618c13dc232df0ca...           NaN   \n",
       "3  00005ca1c9ed5f5146b52ac8639a40ca9d57aeff4d1bd2...           NaN   \n",
       "4  00006413d8573cd20ed7128e53b7b13819fe5cfc2d801f...           NaN   \n",
       "\n",
       "                                          prediction  \n",
       "0  0858856005 0751471001 0909370001 0918522001 09...  \n",
       "1  0751471001 0909370001 0918522001 0924243001 09...  \n",
       "2  0751471001 0909370001 0918522001 0924243001 09...  \n",
       "3  0751471001 0909370001 0918522001 0924243001 09...  \n",
       "4  0751471001 0909370001 0918522001 0924243001 09...  "
      ]
     },
     "execution_count": 56,
     "metadata": {},
     "output_type": "execute_result"
    }
   ],
   "source": [
    "submission.head()"
   ]
  },
  {
   "cell_type": "code",
   "execution_count": 57,
   "metadata": {
    "pycharm": {
     "name": "#%%\n"
    }
   },
   "outputs": [
    {
     "data": {
      "text/plain": [
       "(1371980, 3)"
      ]
     },
     "execution_count": 57,
     "metadata": {},
     "output_type": "execute_result"
    }
   ],
   "source": [
    "submission.shape"
   ]
  },
  {
   "cell_type": "code",
   "execution_count": 58,
   "metadata": {
    "collapsed": false,
    "jupyter": {
     "outputs_hidden": false
    },
    "pycharm": {
     "name": "#%%\n"
    }
   },
   "outputs": [],
   "source": [
    "submission[['customer_id', 'prediction']].to_csv('knn_submission.csv', index=False)"
   ]
  }
 ],
 "metadata": {
  "kernelspec": {
   "display_name": "Python 3 (ipykernel)",
   "language": "python",
   "name": "python3"
  },
  "language_info": {
   "codemirror_mode": {
    "name": "ipython",
    "version": 3
   },
   "file_extension": ".py",
   "mimetype": "text/x-python",
   "name": "python",
   "nbconvert_exporter": "python",
   "pygments_lexer": "ipython3",
   "version": "3.8.13"
  }
 },
 "nbformat": 4,
 "nbformat_minor": 4
}