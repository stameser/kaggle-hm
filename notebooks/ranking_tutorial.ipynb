{
 "cells": [
  {
   "cell_type": "markdown",
   "metadata": {
    "pycharm": {
     "name": "#%% md\n"
    }
   },
   "source": [
    "# <i>CatBoost learning to rank on Microsoft dataset</i>"
   ]
  },
  {
   "cell_type": "markdown",
   "metadata": {
    "pycharm": {
     "name": "#%% md\n"
    }
   },
   "source": [
    "[![Open In Colab](https://colab.research.google.com/assets/colab-badge.svg)](https://colab.research.google.com/github/catboost/tutorials/blob/master/ranking/ranking_tutorial.ipynb)"
   ]
  },
  {
   "cell_type": "code",
   "execution_count": 3,
   "metadata": {
    "scrolled": true,
    "pycharm": {
     "name": "#%%\n"
    }
   },
   "outputs": [],
   "source": [
    "import matplotlib.pyplot as plt\n",
    "from catboost import CatBoostRanker, Pool, MetricVisualizer\n",
    "from copy import deepcopy\n",
    "import numpy as np\n",
    "import os\n",
    "import pandas as pd"
   ]
  },
  {
   "cell_type": "markdown",
   "metadata": {
    "pycharm": {
     "name": "#%% md\n"
    }
   },
   "source": [
    "### Ranking problem\n",
    "\n",
    "Let's introduce a notation:\n",
    "* Let $Q = \\{q_1, \\dots, q_n\\}$ be the set of groups\n",
    "* $D_q = \\{d_{q1}, \\dots, d_{qm}\\}$ -- set of objects retrieved for a group $q$\n",
    "* $L_q = \\{l_{q1}, \\dots, l_{qm}\\}$ -- relevance labels for the objects from the set $D_q$\n",
    "\n",
    "Every object $d_{qi}$ is represented in the vector space of features, describing the associatinos between the group and the object.\n",
    "\n",
    "So every group is associated with set of objects. For example, group is a query and object is a document if we are ranking documents for a search query.\n",
    "\n",
    "The goal is to learn the ranking function $f = f(d_{qi})$, such that the ranking of objects $d_{qi}$ for all groups from $Q$ based on their scores $x_{qi} = f(d_{qi})$, is as close as possible to the ideal ranking from the editorial judgements $l_{qi}$."
   ]
  },
  {
   "cell_type": "markdown",
   "metadata": {
    "pycharm": {
     "name": "#%% md\n"
    }
   },
   "source": [
    "### Ranking quality metrics:\n",
    "* __Precision__\n",
    "    $$ \\mbox{P}=\\frac{|\\{\\mbox{relevant docs}\\}\\cap\\{\\mbox{retrieved docs}\\}|}{|\\{\\mbox{retrieved docs}\\}|} $$\n",
    "* __Recall__\n",
    "    $$ \\mbox{R}=\\frac{|\\{\\mbox{relevant docs}\\}\\cap\\{\\mbox{retrieved docs}\\}|}{|\\{\\mbox{relevant docs}\\}|} $$\n",
    "    \n",
    "    Notation $@k$ means that metric is calculated on the first $k$ documents from ranking list.\n",
    "\n",
    "    For example, if 1,2,5,7,9 is the ranks of relevant documents (enumerations starts from number 1) from ten retrivied then $P@5$ will be $\\frac{3}{5}$.\n",
    "\n",
    "* __Mean average precision (MAP)__\n",
    "    $$\\frac{1}{|Q|}\\sum_{q \\in Q} \\frac{1}{|\\mbox{relevant docs in } D_q|} \\sum_{k} P@k(q) \\times rel(q, k) $$\n",
    "    \n",
    "    Where $rel(q, k)$ is a relevance label of the document at k-th position in our ranking of $D_q$. This metric calculates average precision for a query weighted with document relevances and then calculate mean between all queries.\n",
    "    \n",
    "* __Discounted cumulative gain (DCG)__\n",
    "    $$\\sum_{k=1}^{mq} \\frac{2 ^ {l_{qk}}}{\\log_2(k+1)}$$\n",
    "    \n",
    "    This metric takes into account user behavior: user attention is high on the top and then nonlinear decrease to the end.\n",
    "    \n",
    "* __NDCG__ - normalized DCG = DCG $~ / ~$ IDCG, where IDCG is a maximum possible value of DCG with given set of relevance labels.\n",
    "\n",
    "* __AverageGain__ - represents the average value of the label values for objects with the defined top  label values.\n",
    "\n",
    "* __[PFound](https://tech.yandex.com/catboost/doc/dg/references/pfound-docpage/#pfound)__\n",
    "    \n",
    "More on wiki: https://en.wikipedia.org/wiki/Evaluation_measures_(information_retrieval)\n",
    "\n",
    "Parameter $@k$ for every metric can be specified through metric parameter \"top\", for example \"NDCG:top=10\", would mean NDCG@10."
   ]
  },
  {
   "cell_type": "markdown",
   "metadata": {
    "pycharm": {
     "name": "#%% md\n"
    }
   },
   "source": [
    "### Download part of [MSRank](https://www.microsoft.com/en-us/research/project/mslr/) dataset from CatBoost datasets storage"
   ]
  },
  {
   "cell_type": "code",
   "execution_count": 4,
   "metadata": {
    "scrolled": true,
    "pycharm": {
     "name": "#%%\n"
    }
   },
   "outputs": [],
   "source": [
    "from catboost.datasets import msrank_10k\n",
    "train_df, test_df = msrank_10k()\n",
    "\n",
    "X_train = train_df.drop([0, 1], axis=1).values\n",
    "y_train = train_df[0].values\n",
    "queries_train = train_df[1].values\n",
    "\n",
    "X_test = test_df.drop([0, 1], axis=1).values\n",
    "y_test = test_df[0].values\n",
    "queries_test = test_df[1].values\n",
    "\n",
    "# each row in dataset is a query document pair\n",
    "# 0 column is relevance label\n",
    "# 1 column is query-id"
   ]
  },
  {
   "cell_type": "code",
   "execution_count": 5,
   "outputs": [
    {
     "data": {
      "text/plain": "   0    1    2    3    4    5    6    7    8         9    ...  128       129  \\\n0  2.0    1    3    3    0    0    3  1.0  1.0  0.000000  ...   62  11089534   \n1  2.0    1    3    0    3    0    3  1.0  0.0  1.000000  ...   54  11089534   \n2  0.0    1    3    0    2    0    3  1.0  0.0  0.666667  ...   45         3   \n3  2.0    1    3    0    3    0    3  1.0  0.0  1.000000  ...   56  11089534   \n4  1.0    1    3    0    3    0    3  1.0  0.0  1.000000  ...   64         5   \n\n   130  131    132  133  134  135  136  137  \n0    2  116  64034   13    3    0    0  0.0  \n1    2  124  64034    1    2    0    0  0.0  \n2    1  124   3344   14   67    0    0  0.0  \n3   13  123  63933    1    3    0    0  0.0  \n4    7  256  49697    1   13    0    0  0.0  \n\n[5 rows x 138 columns]",
      "text/html": "<div>\n<style scoped>\n    .dataframe tbody tr th:only-of-type {\n        vertical-align: middle;\n    }\n\n    .dataframe tbody tr th {\n        vertical-align: top;\n    }\n\n    .dataframe thead th {\n        text-align: right;\n    }\n</style>\n<table border=\"1\" class=\"dataframe\">\n  <thead>\n    <tr style=\"text-align: right;\">\n      <th></th>\n      <th>0</th>\n      <th>1</th>\n      <th>2</th>\n      <th>3</th>\n      <th>4</th>\n      <th>5</th>\n      <th>6</th>\n      <th>7</th>\n      <th>8</th>\n      <th>9</th>\n      <th>...</th>\n      <th>128</th>\n      <th>129</th>\n      <th>130</th>\n      <th>131</th>\n      <th>132</th>\n      <th>133</th>\n      <th>134</th>\n      <th>135</th>\n      <th>136</th>\n      <th>137</th>\n    </tr>\n  </thead>\n  <tbody>\n    <tr>\n      <th>0</th>\n      <td>2.0</td>\n      <td>1</td>\n      <td>3</td>\n      <td>3</td>\n      <td>0</td>\n      <td>0</td>\n      <td>3</td>\n      <td>1.0</td>\n      <td>1.0</td>\n      <td>0.000000</td>\n      <td>...</td>\n      <td>62</td>\n      <td>11089534</td>\n      <td>2</td>\n      <td>116</td>\n      <td>64034</td>\n      <td>13</td>\n      <td>3</td>\n      <td>0</td>\n      <td>0</td>\n      <td>0.0</td>\n    </tr>\n    <tr>\n      <th>1</th>\n      <td>2.0</td>\n      <td>1</td>\n      <td>3</td>\n      <td>0</td>\n      <td>3</td>\n      <td>0</td>\n      <td>3</td>\n      <td>1.0</td>\n      <td>0.0</td>\n      <td>1.000000</td>\n      <td>...</td>\n      <td>54</td>\n      <td>11089534</td>\n      <td>2</td>\n      <td>124</td>\n      <td>64034</td>\n      <td>1</td>\n      <td>2</td>\n      <td>0</td>\n      <td>0</td>\n      <td>0.0</td>\n    </tr>\n    <tr>\n      <th>2</th>\n      <td>0.0</td>\n      <td>1</td>\n      <td>3</td>\n      <td>0</td>\n      <td>2</td>\n      <td>0</td>\n      <td>3</td>\n      <td>1.0</td>\n      <td>0.0</td>\n      <td>0.666667</td>\n      <td>...</td>\n      <td>45</td>\n      <td>3</td>\n      <td>1</td>\n      <td>124</td>\n      <td>3344</td>\n      <td>14</td>\n      <td>67</td>\n      <td>0</td>\n      <td>0</td>\n      <td>0.0</td>\n    </tr>\n    <tr>\n      <th>3</th>\n      <td>2.0</td>\n      <td>1</td>\n      <td>3</td>\n      <td>0</td>\n      <td>3</td>\n      <td>0</td>\n      <td>3</td>\n      <td>1.0</td>\n      <td>0.0</td>\n      <td>1.000000</td>\n      <td>...</td>\n      <td>56</td>\n      <td>11089534</td>\n      <td>13</td>\n      <td>123</td>\n      <td>63933</td>\n      <td>1</td>\n      <td>3</td>\n      <td>0</td>\n      <td>0</td>\n      <td>0.0</td>\n    </tr>\n    <tr>\n      <th>4</th>\n      <td>1.0</td>\n      <td>1</td>\n      <td>3</td>\n      <td>0</td>\n      <td>3</td>\n      <td>0</td>\n      <td>3</td>\n      <td>1.0</td>\n      <td>0.0</td>\n      <td>1.000000</td>\n      <td>...</td>\n      <td>64</td>\n      <td>5</td>\n      <td>7</td>\n      <td>256</td>\n      <td>49697</td>\n      <td>1</td>\n      <td>13</td>\n      <td>0</td>\n      <td>0</td>\n      <td>0.0</td>\n    </tr>\n  </tbody>\n</table>\n<p>5 rows × 138 columns</p>\n</div>"
     },
     "execution_count": 5,
     "metadata": {},
     "output_type": "execute_result"
    }
   ],
   "source": [
    "train_df.head()"
   ],
   "metadata": {
    "collapsed": false,
    "pycharm": {
     "name": "#%%\n"
    }
   }
  },
  {
   "cell_type": "code",
   "execution_count": 25,
   "outputs": [
    {
     "data": {
      "text/plain": "<Figure size 432x288 with 1 Axes>",
      "image/png": "[encoded data removed]"
     },
     "metadata": {
      "needs_background": "light"
     },
     "output_type": "display_data"
    }
   ],
   "source": [
    "train_df.pivot_table(index=1, columns=0, values=2, aggfunc='count').boxplot()\n",
    "plt.title('Relevance labels distribution');"
   ],
   "metadata": {
    "collapsed": false,
    "pycharm": {
     "name": "#%%\n"
    }
   }
  },
  {
   "cell_type": "markdown",
   "metadata": {
    "pycharm": {
     "name": "#%% md\n"
    }
   },
   "source": [
    "### Dataset analysis"
   ]
  },
  {
   "cell_type": "markdown",
   "metadata": {
    "pycharm": {
     "name": "#%% md\n"
    }
   },
   "source": [
    "__Number of documents__"
   ]
  },
  {
   "cell_type": "code",
   "execution_count": 4,
   "metadata": {
    "scrolled": false,
    "pycharm": {
     "name": "#%%\n"
    }
   },
   "outputs": [
    {
     "name": "stdout",
     "output_type": "stream",
     "text": [
      "10000\n"
     ]
    }
   ],
   "source": [
    "num_documents = X_train.shape[0]\n",
    "print(num_documents)"
   ]
  },
  {
   "cell_type": "markdown",
   "metadata": {
    "pycharm": {
     "name": "#%% md\n"
    }
   },
   "source": [
    "__Number of features__"
   ]
  },
  {
   "cell_type": "code",
   "execution_count": 5,
   "metadata": {
    "scrolled": true,
    "pycharm": {
     "name": "#%%\n"
    }
   },
   "outputs": [
    {
     "data": {
      "text/plain": "136"
     },
     "execution_count": 5,
     "metadata": {},
     "output_type": "execute_result"
    }
   ],
   "source": [
    "X_train.shape[1]"
   ]
  },
  {
   "cell_type": "markdown",
   "metadata": {
    "pycharm": {
     "name": "#%% md\n"
    }
   },
   "source": [
    "__Relevance labels statistics__\n",
    "\n",
    "0 - irrelevant, 1 - highly relevant. Table represents number of documents for each value."
   ]
  },
  {
   "cell_type": "code",
   "execution_count": 8,
   "metadata": {
    "scrolled": true,
    "pycharm": {
     "name": "#%%\n"
    }
   },
   "outputs": [
    {
     "data": {
      "text/plain": "0.0    5481\n1.0    3000\n2.0    1326\n3.0     142\n4.0      51\ndtype: int64"
     },
     "execution_count": 8,
     "metadata": {},
     "output_type": "execute_result"
    }
   ],
   "source": [
    "pd.value_counts(y_train)"
   ]
  },
  {
   "cell_type": "markdown",
   "metadata": {
    "pycharm": {
     "name": "#%% md\n"
    }
   },
   "source": [
    "For calculation such metrics as NDCG and PFound relevances should be in segment \\[0,1\\]."
   ]
  },
  {
   "cell_type": "code",
   "execution_count": 6,
   "metadata": {
    "scrolled": true,
    "pycharm": {
     "name": "#%%\n"
    }
   },
   "outputs": [],
   "source": [
    "max_relevance = np.max(y_train)\n",
    "y_train /= max_relevance\n",
    "y_test /= max_relevance"
   ]
  },
  {
   "cell_type": "markdown",
   "metadata": {
    "pycharm": {
     "name": "#%% md\n"
    }
   },
   "source": [
    "__Number of queries__"
   ]
  },
  {
   "cell_type": "code",
   "execution_count": 10,
   "metadata": {
    "scrolled": true,
    "pycharm": {
     "name": "#%%\n"
    }
   },
   "outputs": [
    {
     "data": {
      "text/plain": "87"
     },
     "execution_count": 10,
     "metadata": {},
     "output_type": "execute_result"
    }
   ],
   "source": [
    "num_queries = np.unique(queries_train).shape[0]\n",
    "num_queries"
   ]
  },
  {
   "cell_type": "markdown",
   "metadata": {
    "pycharm": {
     "name": "#%% md\n"
    }
   },
   "source": [
    "### Creation of CatBoost pools"
   ]
  },
  {
   "cell_type": "code",
   "execution_count": 18,
   "outputs": [
    {
     "data": {
      "text/plain": "<Figure size 432x288 with 1 Axes>",
      "image/png": "[encoded data removed]"
     },
     "metadata": {
      "needs_background": "light"
     },
     "output_type": "display_data"
    }
   ],
   "source": [
    "pd.value_counts(queries_train).hist()\n",
    "plt.title('Distribution of relevant documents per query');"
   ],
   "metadata": {
    "collapsed": false,
    "pycharm": {
     "name": "#%%\n"
    }
   }
  },
  {
   "cell_type": "code",
   "execution_count": 7,
   "metadata": {
    "scrolled": true,
    "pycharm": {
     "name": "#%%\n"
    }
   },
   "outputs": [],
   "source": [
    "train = Pool(\n",
    "    data=X_train,\n",
    "    label=y_train,\n",
    "    group_id=queries_train,\n",
    ")\n",
    "\n",
    "test = Pool(\n",
    "    data=X_test,\n",
    "    label=y_test,\n",
    "    group_id=queries_test\n",
    ")"
   ]
  },
  {
   "cell_type": "markdown",
   "metadata": {
    "pycharm": {
     "name": "#%% md\n"
    }
   },
   "source": [
    "### You can also create pools from files"
   ]
  },
  {
   "cell_type": "code",
   "execution_count": 49,
   "metadata": {
    "scrolled": true,
    "pycharm": {
     "name": "#%%\n"
    }
   },
   "outputs": [],
   "source": [
    "data_dir = './msrank'\n",
    "\n",
    "if not os.path.exists(data_dir):\n",
    "    os.makedirs(data_dir)\n",
    "\n",
    "train_file = os.path.join(data_dir, 'train.csv')\n",
    "test_file = os.path.join(data_dir, 'test.csv')\n",
    "\n",
    "train_df.to_csv(train_file, index=False, header=False)\n",
    "test_df.to_csv(test_file, index=False, header=False)"
   ]
  },
  {
   "cell_type": "code",
   "execution_count": 50,
   "metadata": {
    "scrolled": true,
    "pycharm": {
     "name": "#%%\n"
    }
   },
   "outputs": [],
   "source": [
    "description_file = os.path.join(data_dir, 'dataset.cd')\n",
    "with open(description_file, 'w') as f:\n",
    "    f.write('0\\tLabel\\n')\n",
    "    f.write('1\\tQueryId\\n')"
   ]
  },
  {
   "cell_type": "code",
   "execution_count": 51,
   "metadata": {
    "scrolled": true,
    "pycharm": {
     "name": "#%%\n"
    }
   },
   "outputs": [
    {
     "data": {
      "text/plain": "<catboost.core.Pool at 0x7faa6e0ce5e0>"
     },
     "execution_count": 51,
     "metadata": {},
     "output_type": "execute_result"
    }
   ],
   "source": [
    "Pool(data=train_file, column_description=description_file, delimiter=',')"
   ]
  },
  {
   "cell_type": "markdown",
   "metadata": {
    "pycharm": {
     "name": "#%% md\n"
    }
   },
   "source": [
    "### <span style=\"color:#ce2029\">Attention:</span> all objects in dataset must be grouped by group_id\n",
    "\n",
    "For example, if the dataset consits of five documents \n",
    "\\[d1, d2, d3, d4, d5\\] with corresponding queries \\[q1, q2, q2, q1, q2\\] then the dataset should be look like:\n",
    "\n",
    "$$\\begin{pmatrix}\n",
    "    d_1, q_1, f_1\\\\\n",
    "    d_4, q_1, f_4\\\\\n",
    "    d_2, q_2, f_2\\\\\n",
    "    d_3, q_2, f_3\\\\\n",
    "    d_5, q_2, f_5\\\\\n",
    "\\end{pmatrix} \\hspace{6px} \\texttt{or} \\hspace{6px}\n",
    "\\begin{pmatrix}\n",
    "    d_2, q_2, f_2\\\\\n",
    "    d_3, q_2, f_3\\\\\n",
    "    d_5, q_2, f_5\\\\\n",
    "    d_1, q_1, f_1\\\\\n",
    "    d_4, q_1, f_4\\\\\n",
    "\\end{pmatrix}$$\n",
    "\n",
    "where $f_i$ is feature vector of i-th document."
   ]
  },
  {
   "cell_type": "markdown",
   "metadata": {
    "pycharm": {
     "name": "#%% md\n"
    }
   },
   "source": [
    "### Reducing problem to machine learning task\n",
    "\n",
    "The first and simplest idea is to try predicting document relevance $l_q$ minimizing RMSE.\n",
    "\n",
    "$$\\frac{1}{N}\\sqrt{ \\sum_q \\sum_{d_{qk}} \\left(f(d_{qk}) - l_{qk} \\right)^2 }$$"
   ]
  },
  {
   "cell_type": "code",
   "execution_count": 8,
   "metadata": {
    "scrolled": true,
    "pycharm": {
     "name": "#%%\n"
    }
   },
   "outputs": [],
   "source": [
    "default_parameters = {\n",
    "    'iterations': 2000,\n",
    "    'custom_metric': ['NDCG', 'PFound', 'AverageGain:top=10'],\n",
    "    'verbose': True,\n",
    "    'metric_period': 100,\n",
    "    'task_type': 'GPU',\n",
    "    'devices': '0',\n",
    "    'random_seed': 0,\n",
    "}\n",
    "\n",
    "parameters = {}"
   ]
  },
  {
   "cell_type": "code",
   "execution_count": 9,
   "metadata": {
    "scrolled": true,
    "pycharm": {
     "name": "#%%\n"
    }
   },
   "outputs": [],
   "source": [
    "def fit_model(loss_function, additional_params=None, train_pool=train, test_pool=test):\n",
    "    parameters = deepcopy(default_parameters)\n",
    "    parameters['loss_function'] = loss_function\n",
    "    parameters['train_dir'] = loss_function\n",
    "    \n",
    "    if additional_params is not None:\n",
    "        parameters.update(additional_params)\n",
    "        \n",
    "    model = CatBoostRanker(**parameters)\n",
    "    model.fit(train_pool, eval_set=test_pool, plot=False)\n",
    "    \n",
    "    return model"
   ]
  },
  {
   "cell_type": "markdown",
   "metadata": {
    "pycharm": {
     "name": "#%% md\n"
    }
   },
   "source": [
    "Lets train the simplest model and also demonstrate precision/recall metrics from introduction."
   ]
  },
  {
   "cell_type": "code",
   "execution_count": 21,
   "metadata": {
    "scrolled": false,
    "pycharm": {
     "name": "#%%\n"
    }
   },
   "outputs": [
    {
     "name": "stderr",
     "output_type": "stream",
     "text": [
      "/home/sstamenov/miniconda3/envs/kagglehm/lib/python3.8/site-packages/catboost/core.py:6011: RuntimeWarning: Regression loss ('RMSE') ignores an important ranking parameter 'group_id'\n",
      "  warnings.warn(\"Regression loss ('{}') ignores an important ranking parameter 'group_id'\".format(loss_function), RuntimeWarning)\n"
     ]
    },
    {
     "data": {
      "text/plain": "MetricVisualizer(layout=Layout(align_self='stretch', height='500px'))",
      "application/vnd.jupyter.widget-view+json": {
       "version_major": 2,
       "version_minor": 0,
       "model_id": "1229d3d609754c85adc304bde055ec49"
      }
     },
     "metadata": {},
     "output_type": "display_data"
    }
   ],
   "source": [
    "model = fit_model('RMSE', {'custom_metric': ['PrecisionAt:top=10', 'RecallAt:top=10', 'MAP:top=10']})"
   ]
  },
  {
   "cell_type": "code",
   "execution_count": 27,
   "outputs": [
    {
     "data": {
      "text/plain": "{'learn': {'MAP:top=10': 0.5472907924344704,\n  'RecallAt:top=10': 0.9578087940156905,\n  'PrecisionAt:top=10': 0.19540229885057472,\n  'RMSE': 0.10653904769016405},\n 'validation': {'MAP:top=10': 0.1293203613516113,\n  'RecallAt:top=10': 0.6395443886921159,\n  'PrecisionAt:top=10': 0.0715909090909091,\n  'RMSE': 0.18275054601352592}}"
     },
     "execution_count": 27,
     "metadata": {},
     "output_type": "execute_result"
    }
   ],
   "source": [
    "model.get_best_score()"
   ],
   "metadata": {
    "collapsed": false,
    "pycharm": {
     "name": "#%%\n"
    }
   }
  },
  {
   "cell_type": "code",
   "execution_count": 26,
   "outputs": [
    {
     "data": {
      "text/plain": "    name  importance\n133  133    6.334719\n107  107    5.941477\n10    10    3.127200\n7      7    3.001182\n127  127    2.838254\n54    54    2.819228\n13    13    2.789212\n129  129    2.756180\n14    14    2.431121\n132  132    2.168594\n106  106    2.065459\n19    19    1.905443\n52    52    1.734581\n105  105    1.705401\n134  134    1.622627",
      "text/html": "<div>\n<style scoped>\n    .dataframe tbody tr th:only-of-type {\n        vertical-align: middle;\n    }\n\n    .dataframe tbody tr th {\n        vertical-align: top;\n    }\n\n    .dataframe thead th {\n        text-align: right;\n    }\n</style>\n<table border=\"1\" class=\"dataframe\">\n  <thead>\n    <tr style=\"text-align: right;\">\n      <th></th>\n      <th>name</th>\n      <th>importance</th>\n    </tr>\n  </thead>\n  <tbody>\n    <tr>\n      <th>133</th>\n      <td>133</td>\n      <td>6.334719</td>\n    </tr>\n    <tr>\n      <th>107</th>\n      <td>107</td>\n      <td>5.941477</td>\n    </tr>\n    <tr>\n      <th>10</th>\n      <td>10</td>\n      <td>3.127200</td>\n    </tr>\n    <tr>\n      <th>7</th>\n      <td>7</td>\n      <td>3.001182</td>\n    </tr>\n    <tr>\n      <th>127</th>\n      <td>127</td>\n      <td>2.838254</td>\n    </tr>\n    <tr>\n      <th>54</th>\n      <td>54</td>\n      <td>2.819228</td>\n    </tr>\n    <tr>\n      <th>13</th>\n      <td>13</td>\n      <td>2.789212</td>\n    </tr>\n    <tr>\n      <th>129</th>\n      <td>129</td>\n      <td>2.756180</td>\n    </tr>\n    <tr>\n      <th>14</th>\n      <td>14</td>\n      <td>2.431121</td>\n    </tr>\n    <tr>\n      <th>132</th>\n      <td>132</td>\n      <td>2.168594</td>\n    </tr>\n    <tr>\n      <th>106</th>\n      <td>106</td>\n      <td>2.065459</td>\n    </tr>\n    <tr>\n      <th>19</th>\n      <td>19</td>\n      <td>1.905443</td>\n    </tr>\n    <tr>\n      <th>52</th>\n      <td>52</td>\n      <td>1.734581</td>\n    </tr>\n    <tr>\n      <th>105</th>\n      <td>105</td>\n      <td>1.705401</td>\n    </tr>\n    <tr>\n      <th>134</th>\n      <td>134</td>\n      <td>1.622627</td>\n    </tr>\n  </tbody>\n</table>\n</div>"
     },
     "execution_count": 26,
     "metadata": {},
     "output_type": "execute_result"
    }
   ],
   "source": [
    "pd.DataFrame({\n",
    "    'name': model.feature_names_,\n",
    "    'importance': model.feature_importances_\n",
    "}).sort_values('importance', ascending=False).head(15)"
   ],
   "metadata": {
    "collapsed": false,
    "pycharm": {
     "name": "#%%\n"
    }
   }
  },
  {
   "cell_type": "markdown",
   "metadata": {
    "pycharm": {
     "name": "#%% md\n"
    }
   },
   "source": [
    "### Group weights parameter\n",
    "Suppose we know that some queries are more important than others for us.<br/>\n",
    "The word \"importance\" used here in terms of accuracy or quality of CatBoostRanker prediction for given queries.<br/>\n",
    "You can pass this additional information for learner using a ``group_weights`` parameter.<br/>\n",
    "Under the hood, CatBoostRanker uses this weights in loss function simply multiplying it on a group summand.<br/>\n",
    "So the bigger weight $\\rightarrow$ the more attention for query.<br/>\n",
    "Let's show an example of training procedure with random query weights."
   ]
  },
  {
   "cell_type": "code",
   "execution_count": 45,
   "metadata": {
    "scrolled": false,
    "pycharm": {
     "name": "#%%\n"
    }
   },
   "outputs": [
    {
     "name": "stderr",
     "output_type": "stream",
     "text": [
      "/home/sstamenov/miniconda3/envs/kagglehm/lib/python3.8/site-packages/catboost/core.py:6011: RuntimeWarning: Regression loss ('RMSE') ignores an important ranking parameter 'group_id'\n",
      "  warnings.warn(\"Regression loss ('{}') ignores an important ranking parameter 'group_id'\".format(loss_function), RuntimeWarning)\n"
     ]
    },
    {
     "name": "stdout",
     "output_type": "stream",
     "text": [
      "Learning rate set to 0.065361\n",
      "0:\tlearn: 0.1985682\ttest: 0.1958774\tbest: 0.1958774 (0)\ttotal: 21ms\tremaining: 42.1s\n"
     ]
    },
    {
     "name": "stderr",
     "output_type": "stream",
     "text": [
      "Metric NDCG:type=Base is not implemented on GPU. Will use CPU for metric computation, this could significantly affect learning time\n",
      "Metric PFound is not implemented on GPU. Will use CPU for metric computation, this could significantly affect learning time\n",
      "Metric AverageGain:top=10 is not implemented on GPU. Will use CPU for metric computation, this could significantly affect learning time\n"
     ]
    },
    {
     "name": "stdout",
     "output_type": "stream",
     "text": [
      "100:\tlearn: 0.1754914\ttest: 0.1812445\tbest: 0.1812445 (100)\ttotal: 1.23s\tremaining: 23.1s\n",
      "200:\tlearn: 0.1711317\ttest: 0.1812379\tbest: 0.1812379 (200)\ttotal: 2.41s\tremaining: 21.6s\n",
      "300:\tlearn: 0.1683229\ttest: 0.1813865\tbest: 0.1812379 (200)\ttotal: 3.43s\tremaining: 19.3s\n",
      "400:\tlearn: 0.1658654\ttest: 0.1815100\tbest: 0.1812379 (200)\ttotal: 4.44s\tremaining: 17.7s\n",
      "500:\tlearn: 0.1638719\ttest: 0.1816599\tbest: 0.1812379 (200)\ttotal: 5.45s\tremaining: 16.3s\n",
      "600:\tlearn: 0.1619280\ttest: 0.1815545\tbest: 0.1812379 (200)\ttotal: 6.47s\tremaining: 15.1s\n",
      "700:\tlearn: 0.1605466\ttest: 0.1815010\tbest: 0.1812379 (200)\ttotal: 7.48s\tremaining: 13.9s\n",
      "800:\tlearn: 0.1590907\ttest: 0.1816039\tbest: 0.1812379 (200)\ttotal: 8.5s\tremaining: 12.7s\n",
      "900:\tlearn: 0.1577764\ttest: 0.1817709\tbest: 0.1812379 (200)\ttotal: 9.49s\tremaining: 11.6s\n",
      "1000:\tlearn: 0.1566729\ttest: 0.1818580\tbest: 0.1812379 (200)\ttotal: 10.4s\tremaining: 10.4s\n",
      "1100:\tlearn: 0.1555946\ttest: 0.1818750\tbest: 0.1812379 (200)\ttotal: 11.3s\tremaining: 9.23s\n",
      "1200:\tlearn: 0.1546536\ttest: 0.1820180\tbest: 0.1812379 (200)\ttotal: 12.2s\tremaining: 8.13s\n",
      "1300:\tlearn: 0.1538233\ttest: 0.1821585\tbest: 0.1812379 (200)\ttotal: 13.2s\tremaining: 7.08s\n",
      "1400:\tlearn: 0.1527910\ttest: 0.1821848\tbest: 0.1812379 (200)\ttotal: 14.2s\tremaining: 6.05s\n",
      "1500:\tlearn: 0.1521516\ttest: 0.1821459\tbest: 0.1812379 (200)\ttotal: 15.1s\tremaining: 5.03s\n",
      "1600:\tlearn: 0.1517556\ttest: 0.1822250\tbest: 0.1812379 (200)\ttotal: 16.1s\tremaining: 4.01s\n",
      "1700:\tlearn: 0.1512776\ttest: 0.1823211\tbest: 0.1812379 (200)\ttotal: 17.1s\tremaining: 3s\n",
      "1800:\tlearn: 0.1508408\ttest: 0.1823305\tbest: 0.1812379 (200)\ttotal: 18s\tremaining: 1.99s\n",
      "1900:\tlearn: 0.1503069\ttest: 0.1824741\tbest: 0.1812379 (200)\ttotal: 19s\tremaining: 990ms\n",
      "1999:\tlearn: 0.1497675\ttest: 0.1825805\tbest: 0.1812379 (200)\ttotal: 20s\tremaining: 0us\n",
      "bestTest = 0.1812379241\n",
      "bestIteration = 200\n",
      "Shrink model to first 201 iterations.\n"
     ]
    }
   ],
   "source": [
    "def create_weights(queries):\n",
    "    query_set = np.unique(queries)\n",
    "    query_weights = np.random.uniform(size=query_set.shape[0])\n",
    "    weights = np.zeros(shape=queries.shape)\n",
    "    \n",
    "    for i, query_id in enumerate(query_set):\n",
    "        weights[queries == query_id] = query_weights[i]\n",
    "    \n",
    "    return weights\n",
    "    \n",
    "\n",
    "train_with_weights = Pool(\n",
    "    data=X_train,\n",
    "    label=y_train,\n",
    "    group_weight=create_weights(queries_train),\n",
    "    group_id=queries_train\n",
    ")\n",
    "\n",
    "test_with_weights = Pool(\n",
    "    data=X_test,\n",
    "    label=y_test,\n",
    "    group_weight=create_weights(queries_test),\n",
    "    group_id=queries_test\n",
    ")\n",
    "\n",
    "model = fit_model(\n",
    "    'RMSE', \n",
    "    additional_params={'train_dir': 'RMSE_weigths'}, \n",
    "    train_pool=train_with_weights,\n",
    "    test_pool=test_with_weights\n",
    ")"
   ]
  },
  {
   "cell_type": "code",
   "execution_count": 34,
   "outputs": [
    {
     "data": {
      "text/plain": "{'learn': {'AverageGain:top=10': 0.5064965293560282,\n  'RMSE': 0.09525656461436982},\n 'validation': {'PFound': 0.6877331164098363,\n  'NDCG:type=Base': 0.750261195095063,\n  'AverageGain:top=10': 0.2654876431000913,\n  'RMSE': 0.18162412032700953}}"
     },
     "execution_count": 34,
     "metadata": {},
     "output_type": "execute_result"
    }
   ],
   "source": [
    "model.get_best_score()"
   ],
   "metadata": {
    "collapsed": false,
    "pycharm": {
     "name": "#%%\n"
    }
   }
  },
  {
   "cell_type": "markdown",
   "metadata": {
    "pycharm": {
     "name": "#%% md\n"
    }
   },
   "source": [
    "### A special case: top-1 prediction\n",
    "\n",
    "Someday you may face with a problem $-$ you will need to predict the top one most relevant object for a given query.<br/>\n",
    "For this purpose CatBoostRanker has a mode called __QuerySoftMax__.\n",
    "\n",
    "Suppose our dataset contain a binary target: 1 $-$ mean best document for a query, 0 $-$ others.<br/>\n",
    "We will maximize the probability of being the best document for given query.<br/>\n",
    "MSRANK dataset doesn't contain binary labels, but for example of method __QuerySoftMax__ we convert it to that format,<br/> choosing a best document for every query."
   ]
  },
  {
   "cell_type": "code",
   "execution_count": 35,
   "metadata": {
    "scrolled": true,
    "pycharm": {
     "name": "#%%\n"
    }
   },
   "outputs": [],
   "source": [
    "def get_best_documents(labels, queries):\n",
    "    query_set = np.unique(queries)\n",
    "    num_queries = query_set.shape[0]\n",
    "    by_query_arg_max = {query: -1 for query in query_set}\n",
    "    \n",
    "    for i, query in enumerate(queries):\n",
    "        best_idx = by_query_arg_max[query]\n",
    "        if best_idx == -1 or labels[best_idx] < labels[i]:\n",
    "            by_query_arg_max[query] = i\n",
    "    \n",
    "    binary_best_docs = np.zeros(shape=labels.shape)\n",
    "    for arg_max in by_query_arg_max.values():\n",
    "        binary_best_docs[arg_max] = 1.\n",
    "        \n",
    "    return binary_best_docs"
   ]
  },
  {
   "cell_type": "code",
   "execution_count": 36,
   "metadata": {
    "scrolled": false,
    "pycharm": {
     "name": "#%%\n"
    }
   },
   "outputs": [
    {
     "data": {
      "text/plain": "MetricVisualizer(layout=Layout(align_self='stretch', height='500px'))",
      "application/vnd.jupyter.widget-view+json": {
       "version_major": 2,
       "version_minor": 0,
       "model_id": "9ab9bb859a8348449bbe5859e619f4d7"
      }
     },
     "metadata": {},
     "output_type": "display_data"
    }
   ],
   "source": [
    "best_docs_train = get_best_documents(y_train, queries_train)\n",
    "best_docs_test = get_best_documents(y_test, queries_test)\n",
    "\n",
    "train_with_weights = Pool(\n",
    "    data=X_train,\n",
    "    label=best_docs_train,\n",
    "    group_id=queries_train,\n",
    "    group_weight=create_weights(queries_train)\n",
    ")\n",
    "\n",
    "test_with_weights = Pool(\n",
    "    data=X_test,\n",
    "    label=best_docs_test,\n",
    "    group_id=queries_test,\n",
    "    group_weight=create_weights(queries_test)\n",
    ")\n",
    "\n",
    "model = fit_model(\n",
    "    'QuerySoftMax',\n",
    "    additional_params={'custom_metric': 'AverageGain:top=1'},\n",
    "    train_pool=train_with_weights,\n",
    "    test_pool=test_with_weights\n",
    ")"
   ]
  },
  {
   "cell_type": "code",
   "execution_count": 37,
   "outputs": [
    {
     "data": {
      "text/plain": "{'learn': {'AverageGain:top=1': 0.9993291336878123,\n  'QuerySoftMax': 0.042787154203139985},\n 'validation': {'AverageGain:top=1': 0.1137165838254637,\n  'QuerySoftMax': 4.244513651768611}}"
     },
     "execution_count": 37,
     "metadata": {},
     "output_type": "execute_result"
    }
   ],
   "source": [
    "model.get_best_score()"
   ],
   "metadata": {
    "collapsed": false,
    "pycharm": {
     "name": "#%%\n"
    }
   }
  },
  {
   "cell_type": "markdown",
   "metadata": {
    "pycharm": {
     "name": "#%% md\n"
    }
   },
   "source": [
    "### Reducing ploblem, step 2\n",
    "\n",
    "Now lets look at example of documents relevance:\n",
    "\n",
    "$$ \n",
    "    \\begin{align}\n",
    "    labels(q_1) &= \\begin{bmatrix}\n",
    "           4 \\\\\n",
    "           3 \\\\\n",
    "           3 \\\\\n",
    "           1\n",
    "         \\end{bmatrix},\n",
    "    labels(q_2) &= \\begin{bmatrix}\n",
    "           2 \\\\\n",
    "           1 \\\\\n",
    "           1 \\\\\n",
    "           0\n",
    "         \\end{bmatrix}\n",
    "   \\end{align}\n",
    "$$\n",
    "\n",
    "This means that with RMSE loss function we pay more attention to q1 than q2. \n",
    "\n",
    "To avoid this problem we introduce into RMSE a coefficient $c_q$ which depends only on query (and if fact equals to the mean of the difference between prediction and label).\n",
    "\n",
    "$$\\frac{1}{N}\\sqrt{ \\sum_q \\sum_{d_{qk}} \\left(f(d_{qk}) - l_{qk} - \\color{red}{c_{q}} \\right)^2 }$$"
   ]
  },
  {
   "cell_type": "code",
   "execution_count": 38,
   "metadata": {
    "scrolled": false,
    "pycharm": {
     "name": "#%%\n"
    }
   },
   "outputs": [
    {
     "data": {
      "text/plain": "MetricVisualizer(layout=Layout(align_self='stretch', height='500px'))",
      "application/vnd.jupyter.widget-view+json": {
       "version_major": 2,
       "version_minor": 0,
       "model_id": "41aedb823bfd489fa6dfc5620865c1e8"
      }
     },
     "metadata": {},
     "output_type": "display_data"
    }
   ],
   "source": [
    "model = fit_model('QueryRMSE')"
   ]
  },
  {
   "cell_type": "code",
   "execution_count": 39,
   "outputs": [
    {
     "data": {
      "text/plain": "{'learn': {'AverageGain:top=10': 0.47528735632183894,\n  'QueryRMSE': 0.12417683344349269},\n 'validation': {'PFound': 0.7055757583875754,\n  'NDCG:type=Base': 0.7555343291436938,\n  'AverageGain:top=10': 0.2636363636363637,\n  'QueryRMSE': 0.17507349419509302}}"
     },
     "execution_count": 39,
     "metadata": {},
     "output_type": "execute_result"
    }
   ],
   "source": [
    "model.get_best_score()"
   ],
   "metadata": {
    "collapsed": false,
    "pycharm": {
     "name": "#%%\n"
    }
   }
  },
  {
   "cell_type": "markdown",
   "metadata": {
    "pycharm": {
     "name": "#%% md\n"
    }
   },
   "source": [
    "### Reducing problem, step 3\n",
    "\n",
    "Since the goal of ranking is to predict a list of documents (which can be generated from given document relevances) RMSE loss function doesn't take into account relations between documents: the first is better than second, second is better than third and fifth etc.\n",
    "\n",
    "We can easily bring this information into the loss function, reducing problem not to regression but classification for two documents $(d_i, d_j)$ -- does $i$th better than $j$th or not.\n",
    "\n",
    "So we minimize the negative loglikelihood:\n",
    "\n",
    "$$ - \\sum_{i,j \\in Pairs} \\log \\left( \\frac{1}{1 + \\exp{-(f(d_i) - f(d_j))}} \\right) $$\n",
    "\n",
    "Methods based on pair comparisons called __pairwise__ in CatBoostRanker this objective called __PairLogit__.\n",
    "\n",
    "There's no need to change the dataset CatBoost generate the pairs for us. The number of generating pairs managed via parameter max_size."
   ]
  },
  {
   "cell_type": "code",
   "execution_count": 46,
   "metadata": {
    "scrolled": false,
    "pycharm": {
     "name": "#%%\n"
    }
   },
   "outputs": [
    {
     "name": "stderr",
     "output_type": "stream",
     "text": [
      "Metric NDCG:type=Base is not implemented on GPU. Will use CPU for metric computation, this could significantly affect learning time\n",
      "Metric PFound is not implemented on GPU. Will use CPU for metric computation, this could significantly affect learning time\n",
      "Metric AverageGain:top=10 is not implemented on GPU. Will use CPU for metric computation, this could significantly affect learning time\n"
     ]
    },
    {
     "name": "stdout",
     "output_type": "stream",
     "text": [
      "0:\tlearn: 0.6897058\ttest: 0.6907011\tbest: 0.6907011 (0)\ttotal: 51.1ms\tremaining: 1m 42s\n",
      "100:\tlearn: 0.5911733\ttest: 0.6420131\tbest: 0.6420131 (100)\ttotal: 2.77s\tremaining: 52s\n",
      "200:\tlearn: 0.5649748\ttest: 0.6383494\tbest: 0.6383494 (200)\ttotal: 5.53s\tremaining: 49.5s\n",
      "300:\tlearn: 0.5466273\ttest: 0.6376793\tbest: 0.6376793 (300)\ttotal: 8.33s\tremaining: 47s\n",
      "400:\tlearn: 0.5288810\ttest: 0.6386064\tbest: 0.6376793 (300)\ttotal: 11.2s\tremaining: 44.5s\n",
      "500:\tlearn: 0.5144261\ttest: 0.6391934\tbest: 0.6376793 (300)\ttotal: 14s\tremaining: 41.8s\n",
      "600:\tlearn: 0.4995952\ttest: 0.6396274\tbest: 0.6376793 (300)\ttotal: 16.8s\tremaining: 39.2s\n",
      "700:\tlearn: 0.4867026\ttest: 0.6410659\tbest: 0.6376793 (300)\ttotal: 19.7s\tremaining: 36.4s\n",
      "800:\tlearn: 0.4769803\ttest: 0.6410113\tbest: 0.6376793 (300)\ttotal: 22.5s\tremaining: 33.7s\n",
      "900:\tlearn: 0.4691782\ttest: 0.6426873\tbest: 0.6376793 (300)\ttotal: 25.3s\tremaining: 30.9s\n",
      "1000:\tlearn: 0.4620465\ttest: 0.6451779\tbest: 0.6376793 (300)\ttotal: 28.1s\tremaining: 28.1s\n",
      "1100:\tlearn: 0.4560143\ttest: 0.6460833\tbest: 0.6376793 (300)\ttotal: 31s\tremaining: 25.3s\n",
      "1200:\tlearn: 0.4491320\ttest: 0.6473403\tbest: 0.6376793 (300)\ttotal: 33.8s\tremaining: 22.5s\n",
      "1300:\tlearn: 0.4443173\ttest: 0.6480282\tbest: 0.6376793 (300)\ttotal: 36.6s\tremaining: 19.7s\n",
      "1400:\tlearn: 0.4394577\ttest: 0.6488020\tbest: 0.6376793 (300)\ttotal: 39.5s\tremaining: 16.9s\n",
      "1500:\tlearn: 0.4351628\ttest: 0.6505827\tbest: 0.6376793 (300)\ttotal: 42.3s\tremaining: 14s\n",
      "1600:\tlearn: 0.4311194\ttest: 0.6524505\tbest: 0.6376793 (300)\ttotal: 45s\tremaining: 11.2s\n",
      "1700:\tlearn: 0.4277679\ttest: 0.6539517\tbest: 0.6376793 (300)\ttotal: 47.8s\tremaining: 8.39s\n",
      "1800:\tlearn: 0.4239519\ttest: 0.6552935\tbest: 0.6376793 (300)\ttotal: 50.6s\tremaining: 5.59s\n",
      "1900:\tlearn: 0.4199275\ttest: 0.6564787\tbest: 0.6376793 (300)\ttotal: 53.4s\tremaining: 2.78s\n",
      "1999:\tlearn: 0.4168369\ttest: 0.6576009\tbest: 0.6376793 (300)\ttotal: 56.2s\tremaining: 0us\n",
      "bestTest = 0.6376792693\n",
      "bestIteration = 300\n",
      "Shrink model to first 301 iterations.\n"
     ]
    }
   ],
   "source": [
    "model = fit_model('PairLogit')"
   ]
  },
  {
   "cell_type": "markdown",
   "metadata": {
    "pycharm": {
     "name": "#%% md\n"
    }
   },
   "source": [
    "Also we can to specify the pairs directly. There are two ways to do that:\n",
    "\n",
    "1. Two-dimensional matrix with shape=(num_pairs, 2) $\\rightarrow$ (winner_id, loser_id): list, numpy.array, pandas.DataFrame.\n",
    "2. Path two the input file that contains pair descriptions:\n",
    "    * Row format: $\\texttt{[winner index, loser index, pair weight]}$"
   ]
  },
  {
   "cell_type": "code",
   "execution_count": 47,
   "outputs": [
    {
     "data": {
      "text/plain": "{'learn': {'AverageGain:top=10': 0.3919540229885057,\n  'PairLogit': 0.4168368807478197},\n 'validation': {'PFound': 0.6942302783326958,\n  'NDCG:type=Base': 0.7437263506825026,\n  'AverageGain:top=10': 0.25965909090909095,\n  'PairLogit': 0.6376792693372165}}"
     },
     "execution_count": 47,
     "metadata": {},
     "output_type": "execute_result"
    }
   ],
   "source": [
    "model.get_best_score()"
   ],
   "metadata": {
    "collapsed": false,
    "pycharm": {
     "name": "#%%\n"
    }
   }
  },
  {
   "cell_type": "code",
   "execution_count": 52,
   "metadata": {
    "scrolled": true,
    "pycharm": {
     "name": "#%%\n"
    }
   },
   "outputs": [],
   "source": [
    "def read_groups(file_name):\n",
    "    groups = {}\n",
    "    group_ids = []\n",
    "\n",
    "    with open(file_name) as f:\n",
    "        for doc_id, line in enumerate(f):\n",
    "            line = line.split(',')[:2]\n",
    "            \n",
    "            label, query_id = float(line[0]), int(line[1])\n",
    "            if query_id not in groups:\n",
    "                groups[query_id] = []\n",
    "            groups[query_id].append((doc_id, label))\n",
    "\n",
    "            group_ids.append(query_id)\n",
    "\n",
    "    return groups, group_ids\n",
    "            \n",
    "train_groups, train_group_ids = read_groups(train_file)\n",
    "assert num_queries == len(train_groups)"
   ]
  },
  {
   "cell_type": "code",
   "execution_count": 53,
   "metadata": {
    "scrolled": true,
    "pycharm": {
     "name": "#%%\n"
    }
   },
   "outputs": [],
   "source": [
    "pairs = []\n",
    "\n",
    "for group in train_groups.values():\n",
    "    for i in range(len(group)):\n",
    "        for j in range(i, len(group)):\n",
    "            if i == j:\n",
    "                continue\n",
    "            doc_i, relevance_i = group[i]\n",
    "            doc_j, relevance_j = group[j]\n",
    "            if relevance_i < relevance_j:\n",
    "                pairs.append((doc_j, doc_i))\n",
    "            else:\n",
    "                pairs.append((doc_i, doc_j))\n",
    "                \n",
    "pairs_file = os.path.join(data_dir, 'pairs.csv')\n",
    "\n",
    "with open(pairs_file, 'w') as f:\n",
    "    for pair in pairs:\n",
    "        f.write(str(pair[0]) + '\\t' + str(pair[1]) + '\\t1\\n')"
   ]
  },
  {
   "cell_type": "code",
   "execution_count": 54,
   "metadata": {
    "scrolled": true,
    "pycharm": {
     "name": "#%%\n"
    }
   },
   "outputs": [],
   "source": [
    "pool1 = Pool(data=X_train, label=y_train, group_id=train_group_ids, pairs=pairs)\n",
    "pool2 = Pool(data=train_file, column_description=description_file, pairs=pairs_file, delimiter=',')"
   ]
  },
  {
   "cell_type": "markdown",
   "metadata": {
    "pycharm": {
     "name": "#%% md\n"
    }
   },
   "source": [
    "### Reducing problem, step 3.1\n",
    "\n",
    "Thus we know that $f(d_{qk})$ is a ensemble of trees, we can accurately solve the minimization task from step 3.\n",
    "\n",
    "This method called __PairLogitPairwise__."
   ]
  },
  {
   "cell_type": "code",
   "execution_count": 55,
   "metadata": {
    "scrolled": false,
    "pycharm": {
     "name": "#%%\n"
    }
   },
   "outputs": [
    {
     "name": "stderr",
     "output_type": "stream",
     "text": [
      "Metric NDCG:type=Base is not implemented on GPU. Will use CPU for metric computation, this could significantly affect learning time\n",
      "Metric PFound is not implemented on GPU. Will use CPU for metric computation, this could significantly affect learning time\n",
      "Metric AverageGain:top=10 is not implemented on GPU. Will use CPU for metric computation, this could significantly affect learning time\n"
     ]
    },
    {
     "name": "stdout",
     "output_type": "stream",
     "text": [
      "0:\tlearn: 0.6893803\ttest: 0.6907359\tbest: 0.6907359 (0)\ttotal: 40.7ms\tremaining: 1m 21s\n",
      "100:\tlearn: 0.5639202\ttest: 0.6366385\tbest: 0.6366385 (100)\ttotal: 1.94s\tremaining: 36.4s\n",
      "200:\tlearn: 0.5189296\ttest: 0.6318639\tbest: 0.6318639 (200)\ttotal: 3.73s\tremaining: 33.4s\n",
      "300:\tlearn: 0.4816323\ttest: 0.6308098\tbest: 0.6308098 (300)\ttotal: 5.53s\tremaining: 31.2s\n",
      "400:\tlearn: 0.4509807\ttest: 0.6304736\tbest: 0.6304736 (400)\ttotal: 7.33s\tremaining: 29.2s\n",
      "500:\tlearn: 0.4230745\ttest: 0.6315715\tbest: 0.6304736 (400)\ttotal: 9.14s\tremaining: 27.3s\n",
      "600:\tlearn: 0.3992476\ttest: 0.6330836\tbest: 0.6304736 (400)\ttotal: 10.9s\tremaining: 25.5s\n",
      "700:\tlearn: 0.3775283\ttest: 0.6354034\tbest: 0.6304736 (400)\ttotal: 12.7s\tremaining: 23.6s\n",
      "800:\tlearn: 0.3582875\ttest: 0.6371145\tbest: 0.6304736 (400)\ttotal: 14.5s\tremaining: 21.8s\n",
      "900:\tlearn: 0.3399309\ttest: 0.6390522\tbest: 0.6304736 (400)\ttotal: 16.4s\tremaining: 19.9s\n",
      "1000:\tlearn: 0.3227226\ttest: 0.6413806\tbest: 0.6304736 (400)\ttotal: 18.2s\tremaining: 18.1s\n",
      "1100:\tlearn: 0.3073184\ttest: 0.6428211\tbest: 0.6304736 (400)\ttotal: 20s\tremaining: 16.3s\n",
      "1200:\tlearn: 0.2936101\ttest: 0.6450398\tbest: 0.6304736 (400)\ttotal: 21.8s\tremaining: 14.5s\n",
      "1300:\tlearn: 0.2800645\ttest: 0.6477038\tbest: 0.6304736 (400)\ttotal: 23.6s\tremaining: 12.7s\n",
      "1400:\tlearn: 0.2673140\ttest: 0.6489722\tbest: 0.6304736 (400)\ttotal: 25.4s\tremaining: 10.9s\n",
      "1500:\tlearn: 0.2562559\ttest: 0.6506668\tbest: 0.6304736 (400)\ttotal: 27.2s\tremaining: 9.06s\n",
      "1600:\tlearn: 0.2455367\ttest: 0.6528627\tbest: 0.6304736 (400)\ttotal: 29.1s\tremaining: 7.24s\n",
      "1700:\tlearn: 0.2355926\ttest: 0.6546178\tbest: 0.6304736 (400)\ttotal: 30.9s\tremaining: 5.42s\n",
      "1800:\tlearn: 0.2261826\ttest: 0.6571793\tbest: 0.6304736 (400)\ttotal: 32.7s\tremaining: 3.61s\n",
      "1900:\tlearn: 0.2174939\ttest: 0.6595091\tbest: 0.6304736 (400)\ttotal: 34.5s\tremaining: 1.8s\n",
      "1999:\tlearn: 0.2091752\ttest: 0.6607567\tbest: 0.6304736 (400)\ttotal: 36.3s\tremaining: 0us\n",
      "bestTest = 0.630473576\n",
      "bestIteration = 400\n",
      "Shrink model to first 401 iterations.\n"
     ]
    }
   ],
   "source": [
    "model = fit_model('PairLogitPairwise')"
   ]
  },
  {
   "cell_type": "code",
   "execution_count": 56,
   "outputs": [
    {
     "data": {
      "text/plain": "{'learn': {'AverageGain:top=10': 0.4589080459770114,\n  'PairLogit': 0.20917523288347004},\n 'validation': {'PFound': 0.6969708692991746,\n  'NDCG:type=Base': 0.7485915858518861,\n  'AverageGain:top=10': 0.2599431818181817,\n  'PairLogit': 0.6304735760224252}}"
     },
     "execution_count": 56,
     "metadata": {},
     "output_type": "execute_result"
    }
   ],
   "source": [
    "model.get_best_score()"
   ],
   "metadata": {
    "collapsed": false,
    "pycharm": {
     "name": "#%%\n"
    }
   }
  },
  {
   "cell_type": "markdown",
   "metadata": {
    "pycharm": {
     "name": "#%% md\n"
    }
   },
   "source": [
    "### Reducing problem, step 4\n",
    "\n",
    "Previous loss function directly minimize the number of pairs $(d_i, d_j)$ where $l_i > l_j$ but $f(d_i) < f(d_j)$, simply said the number of incorrectly placed documents.\n",
    "\n",
    "Since the user attention is high on the first documents and low on last the incorrect switch of the first two documents and last two has different cost.\n",
    "\n",
    "In steps 3 and 3.1 user can set the weight for pair.\n",
    "\n",
    "Method __YetiRank__ take this effect into account and generates weights for pairs according to their positions ([paper](https://cache-mskstoredata08.cdn.yandex.net/download.yandex.ru/company/to_rank_challenge_with_yetirank.pdf)).\n",
    "\n",
    "$$ - \\sum_{i,j \\in Pairs} \\color{red}{w_{ij}} \\log \\left( \\frac{1}{1 + \\exp{-(f(d_i) - f(d_j))}} \\right) $$"
   ]
  },
  {
   "cell_type": "code",
   "execution_count": 57,
   "metadata": {
    "scrolled": true,
    "pycharm": {
     "name": "#%%\n"
    }
   },
   "outputs": [
    {
     "name": "stderr",
     "output_type": "stream",
     "text": [
      "Metric PFound is not implemented on GPU. Will use CPU for metric computation, this could significantly affect learning time\n",
      "Metric PFound is not implemented on GPU. Will use CPU for metric computation, this could significantly affect learning time\n",
      "Metric NDCG:type=Base is not implemented on GPU. Will use CPU for metric computation, this could significantly affect learning time\n",
      "Metric PFound is not implemented on GPU. Will use CPU for metric computation, this could significantly affect learning time\n",
      "Metric AverageGain:top=10 is not implemented on GPU. Will use CPU for metric computation, this could significantly affect learning time\n"
     ]
    },
    {
     "name": "stdout",
     "output_type": "stream",
     "text": [
      "0:\ttest: 0.4794952\tbest: 0.4794952 (0)\ttotal: 22.1ms\tremaining: 44.2s\n",
      "100:\ttest: 0.6754177\tbest: 0.6754177 (100)\ttotal: 1.38s\tremaining: 26s\n",
      "200:\ttest: 0.6888809\tbest: 0.6888809 (200)\ttotal: 2.69s\tremaining: 24.1s\n",
      "300:\ttest: 0.6999734\tbest: 0.6999734 (300)\ttotal: 3.99s\tremaining: 22.5s\n",
      "400:\ttest: 0.7040829\tbest: 0.7040829 (400)\ttotal: 5.3s\tremaining: 21.1s\n",
      "500:\ttest: 0.7025046\tbest: 0.7040829 (400)\ttotal: 6.61s\tremaining: 19.8s\n",
      "600:\ttest: 0.7020804\tbest: 0.7040829 (400)\ttotal: 7.92s\tremaining: 18.4s\n",
      "700:\ttest: 0.7040818\tbest: 0.7040829 (400)\ttotal: 9.22s\tremaining: 17.1s\n",
      "800:\ttest: 0.7010248\tbest: 0.7040829 (400)\ttotal: 10.5s\tremaining: 15.8s\n",
      "900:\ttest: 0.6962643\tbest: 0.7040829 (400)\ttotal: 11.9s\tremaining: 14.5s\n",
      "1000:\ttest: 0.6982147\tbest: 0.7040829 (400)\ttotal: 13.2s\tremaining: 13.1s\n",
      "1100:\ttest: 0.7008561\tbest: 0.7040829 (400)\ttotal: 14.5s\tremaining: 11.8s\n",
      "1200:\ttest: 0.7022368\tbest: 0.7040829 (400)\ttotal: 15.8s\tremaining: 10.5s\n",
      "1300:\ttest: 0.7018676\tbest: 0.7040829 (400)\ttotal: 17.1s\tremaining: 9.17s\n",
      "1400:\ttest: 0.7033715\tbest: 0.7040829 (400)\ttotal: 18.4s\tremaining: 7.85s\n",
      "1500:\ttest: 0.7028913\tbest: 0.7040829 (400)\ttotal: 19.7s\tremaining: 6.54s\n",
      "1600:\ttest: 0.7018758\tbest: 0.7040829 (400)\ttotal: 21s\tremaining: 5.22s\n",
      "1700:\ttest: 0.7032972\tbest: 0.7040829 (400)\ttotal: 22.2s\tremaining: 3.91s\n",
      "1800:\ttest: 0.7040949\tbest: 0.7040949 (1800)\ttotal: 23.5s\tremaining: 2.6s\n",
      "1900:\ttest: 0.7036480\tbest: 0.7040949 (1800)\ttotal: 24.8s\tremaining: 1.29s\n",
      "1999:\ttest: 0.7047156\tbest: 0.7047156 (1999)\ttotal: 26.1s\tremaining: 0us\n",
      "bestTest = 0.7047155573\n",
      "bestIteration = 1999\n"
     ]
    }
   ],
   "source": [
    "model = fit_model('YetiRank')"
   ]
  },
  {
   "cell_type": "code",
   "execution_count": 58,
   "outputs": [
    {
     "data": {
      "text/plain": "{'learn': {'AverageGain:top=10': 0.37499999999999983},\n 'validation': {'NDCG:type=Base': 0.7488483022049874,\n  'PFound': 0.7047155572928794,\n  'AverageGain:top=10': 0.2650568181818182}}"
     },
     "execution_count": 58,
     "metadata": {},
     "output_type": "execute_result"
    }
   ],
   "source": [
    "model.get_best_score()"
   ],
   "metadata": {
    "collapsed": false,
    "pycharm": {
     "name": "#%%\n"
    }
   }
  },
  {
   "cell_type": "markdown",
   "metadata": {
    "pycharm": {
     "name": "#%% md\n"
    }
   },
   "source": [
    "### Step 4.1\n",
    "\n",
    "As in step 3.1 __YetiRankPairwise__ is slower than __YetiRank__, but gives more accurate results."
   ]
  },
  {
   "cell_type": "code",
   "execution_count": 10,
   "metadata": {
    "scrolled": true,
    "pycharm": {
     "name": "#%%\n"
    }
   },
   "outputs": [
    {
     "name": "stderr",
     "output_type": "stream",
     "text": [
      "Metric PFound is not implemented on GPU. Will use CPU for metric computation, this could significantly affect learning time\n",
      "Metric PFound is not implemented on GPU. Will use CPU for metric computation, this could significantly affect learning time\n",
      "Metric NDCG:type=Base is not implemented on GPU. Will use CPU for metric computation, this could significantly affect learning time\n",
      "Metric PFound is not implemented on GPU. Will use CPU for metric computation, this could significantly affect learning time\n",
      "Metric AverageGain:top=10 is not implemented on GPU. Will use CPU for metric computation, this could significantly affect learning time\n"
     ]
    },
    {
     "name": "stdout",
     "output_type": "stream",
     "text": [
      "0:\ttest: 0.5275414\tbest: 0.5275414 (0)\ttotal: 24.3ms\tremaining: 48.6s\n",
      "100:\ttest: 0.6815594\tbest: 0.6815594 (100)\ttotal: 1.54s\tremaining: 29.1s\n",
      "200:\ttest: 0.6909609\tbest: 0.6909609 (200)\ttotal: 3.01s\tremaining: 26.9s\n",
      "300:\ttest: 0.6908462\tbest: 0.6909609 (200)\ttotal: 4.48s\tremaining: 25.3s\n",
      "400:\ttest: 0.6927097\tbest: 0.6927097 (400)\ttotal: 5.94s\tremaining: 23.7s\n",
      "500:\ttest: 0.6943018\tbest: 0.6943018 (500)\ttotal: 7.4s\tremaining: 22.1s\n",
      "600:\ttest: 0.6940887\tbest: 0.6943018 (500)\ttotal: 8.85s\tremaining: 20.6s\n",
      "700:\ttest: 0.6951791\tbest: 0.6951791 (700)\ttotal: 10.3s\tremaining: 19.1s\n",
      "800:\ttest: 0.6980429\tbest: 0.6980429 (800)\ttotal: 11.7s\tremaining: 17.6s\n",
      "900:\ttest: 0.6978350\tbest: 0.6980429 (800)\ttotal: 13.2s\tremaining: 16.1s\n",
      "1000:\ttest: 0.6957414\tbest: 0.6980429 (800)\ttotal: 14.6s\tremaining: 14.6s\n",
      "1100:\ttest: 0.6955567\tbest: 0.6980429 (800)\ttotal: 16.1s\tremaining: 13.1s\n",
      "1200:\ttest: 0.6950036\tbest: 0.6980429 (800)\ttotal: 17.6s\tremaining: 11.7s\n",
      "1300:\ttest: 0.6951498\tbest: 0.6980429 (800)\ttotal: 19s\tremaining: 10.2s\n",
      "1400:\ttest: 0.6928706\tbest: 0.6980429 (800)\ttotal: 20.5s\tremaining: 8.75s\n",
      "1500:\ttest: 0.6923447\tbest: 0.6980429 (800)\ttotal: 21.9s\tremaining: 7.28s\n",
      "1600:\ttest: 0.6935547\tbest: 0.6980429 (800)\ttotal: 23.4s\tremaining: 5.82s\n",
      "1700:\ttest: 0.6941803\tbest: 0.6980429 (800)\ttotal: 24.8s\tremaining: 4.36s\n",
      "1800:\ttest: 0.6952567\tbest: 0.6980429 (800)\ttotal: 26.3s\tremaining: 2.9s\n",
      "1900:\ttest: 0.7004345\tbest: 0.7004345 (1900)\ttotal: 27.7s\tremaining: 1.44s\n",
      "1999:\ttest: 0.7018181\tbest: 0.7018181 (1999)\ttotal: 29.1s\tremaining: 0us\n",
      "bestTest = 0.701818065\n",
      "bestIteration = 1999\n"
     ]
    }
   ],
   "source": [
    "model = fit_model('YetiRankPairwise')"
   ]
  },
  {
   "cell_type": "code",
   "execution_count": 11,
   "outputs": [
    {
     "data": {
      "text/plain": "{'learn': {'AverageGain:top=10': 0.40890804597701147},\n 'validation': {'NDCG:type=Base': 0.7524265747946437,\n  'PFound': 0.7018180650026347,\n  'AverageGain:top=10': 0.2667613636363638}}"
     },
     "execution_count": 11,
     "metadata": {},
     "output_type": "execute_result"
    }
   ],
   "source": [
    "model.get_best_score()"
   ],
   "metadata": {
    "collapsed": false,
    "pycharm": {
     "name": "#%%\n"
    }
   }
  },
  {
   "cell_type": "code",
   "execution_count": 60,
   "metadata": {
    "scrolled": false,
    "pycharm": {
     "name": "#%%\n"
    }
   },
   "outputs": [
    {
     "data": {
      "text/plain": "MetricVisualizer(layout=Layout(align_self='stretch', height='500px'))",
      "application/vnd.jupyter.widget-view+json": {
       "version_major": 2,
       "version_minor": 0,
       "model_id": "b1c77f3d4b7744ff9b4ee7481cab2f77"
      }
     },
     "metadata": {},
     "output_type": "display_data"
    }
   ],
   "source": [
    "widget = MetricVisualizer(['RMSE', 'QueryRMSE', 'PairLogit', 'PairLogitPairwise', 'YetiRank', 'YetiRankPairwise'])\n",
    "widget.start()"
   ]
  },
  {
   "cell_type": "markdown",
   "metadata": {
    "pycharm": {
     "name": "#%% md\n"
    }
   },
   "source": [
    "### Simple classification\n",
    "\n",
    "Very fast $\\rightarrow$ very slow; Simple method $\\rightarrow$ complex method; Low quality $\\rightarrow$ high quality.\n",
    "\n",
    "1. RMSE\n",
    "2. QueryRMSE\n",
    "3. PairLogit\n",
    "4. PairLogitPairwise\n",
    "5. YetiRank\n",
    "6. YetiRankPairwise\n",
    "\n",
    "Besides our classification, the quality of the concrete method may depend on your dataset."
   ]
  },
  {
   "cell_type": "markdown",
   "metadata": {
    "pycharm": {
     "name": "#%% md\n"
    }
   },
   "source": [
    "Look on NDCG metric of method YetiRank $-$ it's underfitted."
   ]
  },
  {
   "cell_type": "code",
   "execution_count": 62,
   "metadata": {
    "scrolled": true,
    "pycharm": {
     "name": "#%%\n"
    }
   },
   "outputs": [
    {
     "name": "stderr",
     "output_type": "stream",
     "text": [
      "Metric PFound is not implemented on GPU. Will use CPU for metric computation, this could significantly affect learning time\n",
      "Metric PFound is not implemented on GPU. Will use CPU for metric computation, this could significantly affect learning time\n",
      "Metric NDCG:type=Base is not implemented on GPU. Will use CPU for metric computation, this could significantly affect learning time\n",
      "Metric PFound is not implemented on GPU. Will use CPU for metric computation, this could significantly affect learning time\n",
      "Metric AverageGain:top=10 is not implemented on GPU. Will use CPU for metric computation, this could significantly affect learning time\n"
     ]
    },
    {
     "name": "stdout",
     "output_type": "stream",
     "text": [
      "0:\ttest: 0.4794952\tbest: 0.4794952 (0)\ttotal: 19.9ms\tremaining: 39.8s\n",
      "100:\ttest: 0.7114558\tbest: 0.7114558 (100)\ttotal: 1.37s\tremaining: 25.8s\n",
      "200:\ttest: 0.7123913\tbest: 0.7123913 (200)\ttotal: 2.67s\tremaining: 23.9s\n",
      "300:\ttest: 0.7137171\tbest: 0.7137171 (300)\ttotal: 3.96s\tremaining: 22.4s\n",
      "400:\ttest: 0.7078599\tbest: 0.7137171 (300)\ttotal: 5.26s\tremaining: 21s\n",
      "500:\ttest: 0.7023283\tbest: 0.7137171 (300)\ttotal: 6.54s\tremaining: 19.6s\n",
      "600:\ttest: 0.7011803\tbest: 0.7137171 (300)\ttotal: 7.83s\tremaining: 18.2s\n",
      "700:\ttest: 0.6927510\tbest: 0.7137171 (300)\ttotal: 9.12s\tremaining: 16.9s\n",
      "800:\ttest: 0.6928724\tbest: 0.7137171 (300)\ttotal: 10.4s\tremaining: 15.6s\n",
      "900:\ttest: 0.6963260\tbest: 0.7137171 (300)\ttotal: 11.7s\tremaining: 14.3s\n",
      "1000:\ttest: 0.6990880\tbest: 0.7137171 (300)\ttotal: 13s\tremaining: 13s\n",
      "1100:\ttest: 0.6972629\tbest: 0.7137171 (300)\ttotal: 14.3s\tremaining: 11.7s\n",
      "1200:\ttest: 0.6973643\tbest: 0.7137171 (300)\ttotal: 15.6s\tremaining: 10.4s\n",
      "1300:\ttest: 0.7008261\tbest: 0.7137171 (300)\ttotal: 16.8s\tremaining: 9.05s\n",
      "1400:\ttest: 0.7021052\tbest: 0.7137171 (300)\ttotal: 18.1s\tremaining: 7.75s\n",
      "1500:\ttest: 0.7016347\tbest: 0.7137171 (300)\ttotal: 19.4s\tremaining: 6.46s\n",
      "1600:\ttest: 0.7013777\tbest: 0.7137171 (300)\ttotal: 20.7s\tremaining: 5.16s\n",
      "1700:\ttest: 0.7000778\tbest: 0.7137171 (300)\ttotal: 22s\tremaining: 3.87s\n",
      "1800:\ttest: 0.7011926\tbest: 0.7137171 (300)\ttotal: 23.3s\tremaining: 2.57s\n",
      "1900:\ttest: 0.7004270\tbest: 0.7137171 (300)\ttotal: 24.6s\tremaining: 1.28s\n",
      "1999:\ttest: 0.7000137\tbest: 0.7137171 (300)\ttotal: 25.9s\tremaining: 0us\n",
      "bestTest = 0.7137170549\n",
      "bestIteration = 300\n",
      "Shrink model to first 301 iterations.\n"
     ]
    }
   ],
   "source": [
    "model = fit_model('YetiRank', {'train_dir': 'YetiRank-lr-0.3', 'learning_rate': 0.3})"
   ]
  },
  {
   "cell_type": "code",
   "execution_count": 12,
   "outputs": [],
   "source": [
    "predictions = model.predict(test)"
   ],
   "metadata": {
    "collapsed": false,
    "pycharm": {
     "name": "#%%\n"
    }
   }
  },
  {
   "cell_type": "code",
   "execution_count": 17,
   "outputs": [
    {
     "data": {
      "text/plain": "[0.13768747745310245]"
     },
     "execution_count": 17,
     "metadata": {},
     "output_type": "execute_result"
    }
   ],
   "source": [
    "from catboost.utils import eval_metric\n",
    "\n",
    "eval_metric(y_test, predictions, 'MAP:top=12', group_id=queries_test)"
   ],
   "metadata": {
    "collapsed": false,
    "pycharm": {
     "name": "#%%\n"
    }
   }
  },
  {
   "cell_type": "code",
   "execution_count": 78,
   "outputs": [
    {
     "data": {
      "text/plain": "    label  prediction\n28   0.75    0.171162\n28   0.25    0.105966\n28   0.25    0.007418\n28   0.75   -0.087417\n28   0.00   -0.317539\n..    ...         ...\n28   0.00   -2.058155\n28   0.00   -2.206252\n28   0.00   -2.475829\n28   0.00   -2.480184\n28   0.00   -2.673262\n\n[94 rows x 2 columns]",
      "text/html": "<div>\n<style scoped>\n    .dataframe tbody tr th:only-of-type {\n        vertical-align: middle;\n    }\n\n    .dataframe tbody tr th {\n        vertical-align: top;\n    }\n\n    .dataframe thead th {\n        text-align: right;\n    }\n</style>\n<table border=\"1\" class=\"dataframe\">\n  <thead>\n    <tr style=\"text-align: right;\">\n      <th></th>\n      <th>label</th>\n      <th>prediction</th>\n    </tr>\n  </thead>\n  <tbody>\n    <tr>\n      <th>28</th>\n      <td>0.75</td>\n      <td>0.171162</td>\n    </tr>\n    <tr>\n      <th>28</th>\n      <td>0.25</td>\n      <td>0.105966</td>\n    </tr>\n    <tr>\n      <th>28</th>\n      <td>0.25</td>\n      <td>0.007418</td>\n    </tr>\n    <tr>\n      <th>28</th>\n      <td>0.75</td>\n      <td>-0.087417</td>\n    </tr>\n    <tr>\n      <th>28</th>\n      <td>0.00</td>\n      <td>-0.317539</td>\n    </tr>\n    <tr>\n      <th>...</th>\n      <td>...</td>\n      <td>...</td>\n    </tr>\n    <tr>\n      <th>28</th>\n      <td>0.00</td>\n      <td>-2.058155</td>\n    </tr>\n    <tr>\n      <th>28</th>\n      <td>0.00</td>\n      <td>-2.206252</td>\n    </tr>\n    <tr>\n      <th>28</th>\n      <td>0.00</td>\n      <td>-2.475829</td>\n    </tr>\n    <tr>\n      <th>28</th>\n      <td>0.00</td>\n      <td>-2.480184</td>\n    </tr>\n    <tr>\n      <th>28</th>\n      <td>0.00</td>\n      <td>-2.673262</td>\n    </tr>\n  </tbody>\n</table>\n<p>94 rows × 2 columns</p>\n</div>"
     },
     "execution_count": 78,
     "metadata": {},
     "output_type": "execute_result"
    }
   ],
   "source": [
    "pd.DataFrame({\n",
    "    'label': y_test,\n",
    "    'prediction': predictions\n",
    "}, index=queries_test).loc[28].sort_values(by='prediction', ascending=False)"
   ],
   "metadata": {
    "collapsed": false,
    "pycharm": {
     "name": "#%%\n"
    }
   }
  },
  {
   "cell_type": "code",
   "execution_count": 75,
   "outputs": [
    {
     "data": {
      "text/plain": "{13,\n 28,\n 43,\n 58,\n 73,\n 88,\n 103,\n 118,\n 133,\n 148,\n 163,\n 178,\n 193,\n 208,\n 223,\n 238,\n 253,\n 268,\n 283,\n 298,\n 313,\n 328,\n 343,\n 358,\n 373,\n 388,\n 403,\n 418,\n 433,\n 448,\n 463,\n 478,\n 493,\n 508,\n 523,\n 538,\n 553,\n 568,\n 583,\n 598,\n 613,\n 628,\n 643,\n 658,\n 673,\n 688,\n 703,\n 718,\n 733,\n 748,\n 763,\n 778,\n 793,\n 808,\n 823,\n 838,\n 853,\n 868,\n 883,\n 898,\n 913,\n 928,\n 943,\n 958,\n 973,\n 988,\n 1003,\n 1018,\n 1033,\n 1048,\n 1063,\n 1078,\n 1093,\n 1108,\n 1123,\n 1138,\n 1153,\n 1168,\n 1183,\n 1198,\n 1213,\n 1228,\n 1243,\n 1258,\n 1273,\n 1288,\n 1303,\n 1318}"
     },
     "execution_count": 75,
     "metadata": {},
     "output_type": "execute_result"
    }
   ],
   "source": [
    "set(queries_test)"
   ],
   "metadata": {
    "collapsed": false,
    "pycharm": {
     "name": "#%%\n"
    }
   }
  },
  {
   "cell_type": "code",
   "execution_count": null,
   "metadata": {
    "scrolled": true,
    "pycharm": {
     "name": "#%%\n"
    }
   },
   "outputs": [],
   "source": [
    "widget = MetricVisualizer(['YetiRank', 'YetiRank-lr-0.3'])\n",
    "widget.start()"
   ]
  },
  {
   "cell_type": "markdown",
   "metadata": {
    "pycharm": {
     "name": "#%% md\n"
    }
   },
   "source": [
    "### Additional parameters"
   ]
  },
  {
   "cell_type": "markdown",
   "metadata": {
    "pycharm": {
     "name": "#%% md\n"
    }
   },
   "source": [
    "__Metric period__\n",
    "\n",
    "Period in iterations of calculation metrics. This parameter can speed up training process."
   ]
  },
  {
   "cell_type": "code",
   "execution_count": null,
   "metadata": {
    "scrolled": true,
    "pycharm": {
     "name": "#%%\n"
    }
   },
   "outputs": [],
   "source": [
    "fit_model('YetiRank', {'metric_period': 50})"
   ]
  },
  {
   "cell_type": "markdown",
   "metadata": {
    "pycharm": {
     "name": "#%% md\n"
    }
   },
   "source": [
    "__Task type__\n",
    "\n",
    "You can significantly speed up training procedure switching to gpu."
   ]
  },
  {
   "cell_type": "code",
   "execution_count": null,
   "metadata": {
    "scrolled": true,
    "pycharm": {
     "name": "#%%\n"
    }
   },
   "outputs": [],
   "source": [
    "fit_model('YetiRank', {'task_type': 'GPU'})"
   ]
  }
 ],
 "metadata": {
  "kernelspec": {
   "display_name": "Python 3",
   "language": "python",
   "name": "python3"
  },
  "language_info": {
   "codemirror_mode": {
    "name": "ipython",
    "version": 3
   },
   "file_extension": ".py",
   "mimetype": "text/x-python",
   "name": "python",
   "nbconvert_exporter": "python",
   "pygments_lexer": "ipython3",
   "version": "3.7.4"
  }
 },
 "nbformat": 4,
 "nbformat_minor": 2
}