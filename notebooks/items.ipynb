{
 "cells": [
  {
   "cell_type": "code",
   "execution_count": 1,
   "metadata": {
    "collapsed": true
   },
   "outputs": [],
   "source": [
    "import pandas as pd\n",
    "import seaborn as sns\n",
    "\n",
    "pd.set_option('display.max_columns', 50)"
   ]
  },
  {
   "cell_type": "markdown",
   "source": [
    "index-group-name (most general categories | ladies, men, kids, divided, sport)\n"
   ],
   "metadata": {
    "collapsed": false,
    "pycharm": {
     "name": "#%% md\n"
    }
   }
  },
  {
   "cell_type": "code",
   "execution_count": 2,
   "outputs": [
    {
     "data": {
      "text/plain": "   article_id  product_code          prod_name  product_type_no  \\\n0  0108775015        108775          Strap top              253   \n1  0108775044        108775          Strap top              253   \n2  0108775051        108775      Strap top (1)              253   \n3  0110065001        110065  OP T-shirt (Idro)              306   \n4  0110065002        110065  OP T-shirt (Idro)              306   \n\n  product_type_name  product_group_name  graphical_appearance_no  \\\n0          Vest top  Garment Upper body                  1010016   \n1          Vest top  Garment Upper body                  1010016   \n2          Vest top  Garment Upper body                  1010017   \n3               Bra           Underwear                  1010016   \n4               Bra           Underwear                  1010016   \n\n  graphical_appearance_name  colour_group_code colour_group_name  \\\n0                     Solid                  9             Black   \n1                     Solid                 10             White   \n2                    Stripe                 11         Off White   \n3                     Solid                  9             Black   \n4                     Solid                 10             White   \n\n   perceived_colour_value_id perceived_colour_value_name  \\\n0                          4                        Dark   \n1                          3                       Light   \n2                          1                 Dusty Light   \n3                          4                        Dark   \n4                          3                       Light   \n\n   perceived_colour_master_id perceived_colour_master_name  department_no  \\\n0                           5                        Black           1676   \n1                           9                        White           1676   \n2                           9                        White           1676   \n3                           5                        Black           1339   \n4                           9                        White           1339   \n\n  department_name index_code        index_name  index_group_no  \\\n0    Jersey Basic          A        Ladieswear               1   \n1    Jersey Basic          A        Ladieswear               1   \n2    Jersey Basic          A        Ladieswear               1   \n3  Clean Lingerie          B  Lingeries/Tights               1   \n4  Clean Lingerie          B  Lingeries/Tights               1   \n\n  index_group_name  section_no            section_name  garment_group_no  \\\n0       Ladieswear          16  Womens Everyday Basics              1002   \n1       Ladieswear          16  Womens Everyday Basics              1002   \n2       Ladieswear          16  Womens Everyday Basics              1002   \n3       Ladieswear          61         Womens Lingerie              1017   \n4       Ladieswear          61         Womens Lingerie              1017   \n\n  garment_group_name                                        detail_desc  \n0       Jersey Basic            Jersey top with narrow shoulder straps.  \n1       Jersey Basic            Jersey top with narrow shoulder straps.  \n2       Jersey Basic            Jersey top with narrow shoulder straps.  \n3  Under-, Nightwear  Microfibre T-shirt bra with underwired, moulde...  \n4  Under-, Nightwear  Microfibre T-shirt bra with underwired, moulde...  ",
      "text/html": "<div>\n<style scoped>\n    .dataframe tbody tr th:only-of-type {\n        vertical-align: middle;\n    }\n\n    .dataframe tbody tr th {\n        vertical-align: top;\n    }\n\n    .dataframe thead th {\n        text-align: right;\n    }\n</style>\n<table border=\"1\" class=\"dataframe\">\n  <thead>\n    <tr style=\"text-align: right;\">\n      <th></th>\n      <th>article_id</th>\n      <th>product_code</th>\n      <th>prod_name</th>\n      <th>product_type_no</th>\n      <th>product_type_name</th>\n      <th>product_group_name</th>\n      <th>graphical_appearance_no</th>\n      <th>graphical_appearance_name</th>\n      <th>colour_group_code</th>\n      <th>colour_group_name</th>\n      <th>perceived_colour_value_id</th>\n      <th>perceived_colour_value_name</th>\n      <th>perceived_colour_master_id</th>\n      <th>perceived_colour_master_name</th>\n      <th>department_no</th>\n      <th>department_name</th>\n      <th>index_code</th>\n      <th>index_name</th>\n      <th>index_group_no</th>\n      <th>index_group_name</th>\n      <th>section_no</th>\n      <th>section_name</th>\n      <th>garment_group_no</th>\n      <th>garment_group_name</th>\n      <th>detail_desc</th>\n    </tr>\n  </thead>\n  <tbody>\n    <tr>\n      <th>0</th>\n      <td>0108775015</td>\n      <td>108775</td>\n      <td>Strap top</td>\n      <td>253</td>\n      <td>Vest top</td>\n      <td>Garment Upper body</td>\n      <td>1010016</td>\n      <td>Solid</td>\n      <td>9</td>\n      <td>Black</td>\n      <td>4</td>\n      <td>Dark</td>\n      <td>5</td>\n      <td>Black</td>\n      <td>1676</td>\n      <td>Jersey Basic</td>\n      <td>A</td>\n      <td>Ladieswear</td>\n      <td>1</td>\n      <td>Ladieswear</td>\n      <td>16</td>\n      <td>Womens Everyday Basics</td>\n      <td>1002</td>\n      <td>Jersey Basic</td>\n      <td>Jersey top with narrow shoulder straps.</td>\n    </tr>\n    <tr>\n      <th>1</th>\n      <td>0108775044</td>\n      <td>108775</td>\n      <td>Strap top</td>\n      <td>253</td>\n      <td>Vest top</td>\n      <td>Garment Upper body</td>\n      <td>1010016</td>\n      <td>Solid</td>\n      <td>10</td>\n      <td>White</td>\n      <td>3</td>\n      <td>Light</td>\n      <td>9</td>\n      <td>White</td>\n      <td>1676</td>\n      <td>Jersey Basic</td>\n      <td>A</td>\n      <td>Ladieswear</td>\n      <td>1</td>\n      <td>Ladieswear</td>\n      <td>16</td>\n      <td>Womens Everyday Basics</td>\n      <td>1002</td>\n      <td>Jersey Basic</td>\n      <td>Jersey top with narrow shoulder straps.</td>\n    </tr>\n    <tr>\n      <th>2</th>\n      <td>0108775051</td>\n      <td>108775</td>\n      <td>Strap top (1)</td>\n      <td>253</td>\n      <td>Vest top</td>\n      <td>Garment Upper body</td>\n      <td>1010017</td>\n      <td>Stripe</td>\n      <td>11</td>\n      <td>Off White</td>\n      <td>1</td>\n      <td>Dusty Light</td>\n      <td>9</td>\n      <td>White</td>\n      <td>1676</td>\n      <td>Jersey Basic</td>\n      <td>A</td>\n      <td>Ladieswear</td>\n      <td>1</td>\n      <td>Ladieswear</td>\n      <td>16</td>\n      <td>Womens Everyday Basics</td>\n      <td>1002</td>\n      <td>Jersey Basic</td>\n      <td>Jersey top with narrow shoulder straps.</td>\n    </tr>\n    <tr>\n      <th>3</th>\n      <td>0110065001</td>\n      <td>110065</td>\n      <td>OP T-shirt (Idro)</td>\n      <td>306</td>\n      <td>Bra</td>\n      <td>Underwear</td>\n      <td>1010016</td>\n      <td>Solid</td>\n      <td>9</td>\n      <td>Black</td>\n      <td>4</td>\n      <td>Dark</td>\n      <td>5</td>\n      <td>Black</td>\n      <td>1339</td>\n      <td>Clean Lingerie</td>\n      <td>B</td>\n      <td>Lingeries/Tights</td>\n      <td>1</td>\n      <td>Ladieswear</td>\n      <td>61</td>\n      <td>Womens Lingerie</td>\n      <td>1017</td>\n      <td>Under-, Nightwear</td>\n      <td>Microfibre T-shirt bra with underwired, moulde...</td>\n    </tr>\n    <tr>\n      <th>4</th>\n      <td>0110065002</td>\n      <td>110065</td>\n      <td>OP T-shirt (Idro)</td>\n      <td>306</td>\n      <td>Bra</td>\n      <td>Underwear</td>\n      <td>1010016</td>\n      <td>Solid</td>\n      <td>10</td>\n      <td>White</td>\n      <td>3</td>\n      <td>Light</td>\n      <td>9</td>\n      <td>White</td>\n      <td>1339</td>\n      <td>Clean Lingerie</td>\n      <td>B</td>\n      <td>Lingeries/Tights</td>\n      <td>1</td>\n      <td>Ladieswear</td>\n      <td>61</td>\n      <td>Womens Lingerie</td>\n      <td>1017</td>\n      <td>Under-, Nightwear</td>\n      <td>Microfibre T-shirt bra with underwired, moulde...</td>\n    </tr>\n  </tbody>\n</table>\n</div>"
     },
     "execution_count": 2,
     "metadata": {},
     "output_type": "execute_result"
    }
   ],
   "source": [
    "df = pd.read_parquet('../data/clean/articles.parquet')\n",
    "df.head()"
   ],
   "metadata": {
    "collapsed": false,
    "pycharm": {
     "name": "#%%\n"
    }
   }
  },
  {
   "cell_type": "code",
   "execution_count": 18,
   "outputs": [
    {
     "data": {
      "text/plain": "(105542, 25)"
     },
     "execution_count": 18,
     "metadata": {},
     "output_type": "execute_result"
    }
   ],
   "source": [
    "df.shape"
   ],
   "metadata": {
    "collapsed": false,
    "pycharm": {
     "name": "#%%\n"
    }
   }
  },
  {
   "cell_type": "code",
   "execution_count": 17,
   "outputs": [
    {
     "data": {
      "text/plain": "Jersey Fancy                     21445\nAccessories                      11519\nJersey Basic                      8126\nKnitwear                          7490\nUnder-, Nightwear                 7441\nTrousers                          6727\nBlouses                           5838\nShoes                             5145\nDresses Ladies                    4874\nOutdoor                           4501\nUnknown                           3873\nTrousers Denim                    3100\nSwimwear                          2787\nSocks and Tights                  2272\nShirts                            2116\nWoven/Jersey/Knitted mix Baby     1965\nShorts                            1559\nDresses/Skirts girls              1541\nSkirts                            1254\nSpecial Offers                    1061\nDressed                            908\nName: garment_group_name, dtype: int64"
     },
     "execution_count": 17,
     "metadata": {},
     "output_type": "execute_result"
    }
   ],
   "source": [
    "df['garment_group_name'].value_counts()"
   ],
   "metadata": {
    "collapsed": false,
    "pycharm": {
     "name": "#%%\n"
    }
   }
  },
  {
   "cell_type": "code",
   "execution_count": 4,
   "outputs": [
    {
     "data": {
      "text/plain": "article_id                      105542\nproduct_code                     47224\nprod_name                        45875\nproduct_type_no                    132\nproduct_type_name                  131\nproduct_group_name                  19\ngraphical_appearance_no             30\ngraphical_appearance_name           30\ncolour_group_code                   50\ncolour_group_name                   50\nperceived_colour_value_id            8\nperceived_colour_value_name          8\nperceived_colour_master_id          20\nperceived_colour_master_name        20\ndepartment_no                      299\ndepartment_name                    250\nindex_code                          10\nindex_name                          10\nindex_group_no                       5\nindex_group_name                     5\nsection_no                          57\nsection_name                        56\ngarment_group_no                    21\ngarment_group_name                  21\ndetail_desc                      43404\ndtype: int64"
     },
     "execution_count": 4,
     "metadata": {},
     "output_type": "execute_result"
    }
   ],
   "source": [
    "df.nunique()"
   ],
   "metadata": {
    "collapsed": false,
    "pycharm": {
     "name": "#%%\n"
    }
   }
  },
  {
   "cell_type": "code",
   "execution_count": 5,
   "outputs": [
    {
     "data": {
      "text/plain": "Womens Everyday Collection        7295\nDivided Collection                7124\nBaby Essentials & Complements     4932\nKids Girl                         4469\nYoung Girl                        3899\nWomens Lingerie                   3598\nGirls Underwear & Basics          3490\nWomens Tailoring                  3376\nKids Boy                          3328\nWomens Small accessories          3270\nWomens Casual                     2725\nKids Outerwear                    2665\nWomens Trend                      2622\nDivided Projects                  2364\nYoung Boy                         2352\nH&M+                              2337\nMen Underwear                     2322\nMama                              2266\nKids & Baby Shoes                 2142\nBoys Underwear & Basics           2034\nWomens Shoes                      2026\nLadies H&M Sport                  1894\nWomens Swimwear, beachwear        1839\nContemporary Smart                1778\nBaby Girl                         1760\nDivided Accessories               1732\nKids Accessories, Swimwear & D    1731\nDivided Basics                    1723\nBaby Boy                          1717\nWomens Big accessories            1665\nWomens Everyday Basics            1581\nWomens Nightwear, Socks & Tigh    1566\nContemporary Casual               1560\nContemporary Street               1490\nMen Suits & Tailoring             1428\nMen Accessories                   1337\nWomens Premium                    1270\nLadies Denim                      1101\nDivided Selected                   991\nMen H&M Sport                      872\nWomens Jackets                     829\nSpecial Collections                682\nMen Shoes                          645\nMens Outerwear                     629\nKids Sports                        626\nCollaborations                     559\nDenim Men                          521\nMen Edition                        330\nMen Project                        298\nDivided Asia keys                  280\nKids Local Relevance               192\nMen Other 2                        190\nDivided Complements Other           35\nEQ Divided                          26\nMen Other                           25\nLadies Other                         4\nName: section_name, dtype: int64"
     },
     "execution_count": 5,
     "metadata": {},
     "output_type": "execute_result"
    }
   ],
   "source": [
    "df['section_name'].value_counts()"
   ],
   "metadata": {
    "collapsed": false,
    "pycharm": {
     "name": "#%%\n"
    }
   }
  },
  {
   "cell_type": "code",
   "execution_count": 3,
   "outputs": [
    {
     "data": {
      "text/plain": "Trousers             11169\nDress                10362\nSweater               9302\nT-shirt               7904\nTop                   4155\nBlouse                3979\nJacket                3940\nShorts                3939\nShirt                 3405\nVest top              2991\nUnderwear bottom      2748\nSkirt                 2696\nHoodie                2356\nBra                   2212\nSocks                 1889\nLeggings/Tights       1878\nSneakers              1621\nCardigan              1550\nHat/beanie            1349\nGarment Set           1320\nSwimwear bottom       1307\nBag                   1280\nEarring               1159\nJumpsuit/Playsuit     1147\nPyjama set            1120\nBlazer                1110\nOther accessories     1034\nBoots                 1028\nScarf                 1013\nBodysuit               913\nName: product_type_name, dtype: int64"
     },
     "execution_count": 3,
     "metadata": {},
     "output_type": "execute_result"
    }
   ],
   "source": [
    "df['product_type_name'].value_counts()[:30]"
   ],
   "metadata": {
    "collapsed": false,
    "pycharm": {
     "name": "#%%\n"
    }
   }
  },
  {
   "cell_type": "code",
   "execution_count": 9,
   "outputs": [
    {
     "data": {
      "text/plain": "Garment Upper body       42741\nGarment Lower body       19812\nGarment Full body        13292\nAccessories              11158\nUnderwear                 5490\nShoes                     5283\nSwimwear                  3127\nSocks & Tights            2442\nNightwear                 1899\nUnknown                    121\nUnderwear/nightwear         54\nCosmetic                    49\nBags                        25\nItems                       17\nFurniture                   13\nGarment and Shoe care        9\nStationery                   5\nInterior textile             3\nFun                          2\nName: product_group_name, dtype: int64"
     },
     "execution_count": 9,
     "metadata": {},
     "output_type": "execute_result"
    }
   ],
   "source": [
    "df['product_group_name'].value_counts()"
   ],
   "metadata": {
    "collapsed": false,
    "pycharm": {
     "name": "#%%\n"
    }
   }
  },
  {
   "cell_type": "code",
   "execution_count": 12,
   "outputs": [
    {
     "data": {
      "text/plain": "Jersey                             4604\nKnitwear                           3503\nTrouser                            2655\nBlouse                             2362\nDress                              2087\n                                   ... \nAccessories Other                     1\nKids Boy License                      1\nJersey inactive from S.6              1\nWoven bottoms inactive from S.7       1\nShirt Extended inactive from s1       1\nName: department_name, Length: 250, dtype: int64"
     },
     "execution_count": 12,
     "metadata": {},
     "output_type": "execute_result"
    }
   ],
   "source": [
    "df['department_name'].value_counts()"
   ],
   "metadata": {
    "collapsed": false,
    "pycharm": {
     "name": "#%%\n"
    }
   }
  },
  {
   "cell_type": "code",
   "execution_count": 14,
   "outputs": [
    {
     "data": {
      "text/plain": "Ladieswear       39737\nBaby/Children    34711\nDivided          15149\nMenswear         12553\nSport             3392\nName: index_group_name, dtype: int64"
     },
     "execution_count": 14,
     "metadata": {},
     "output_type": "execute_result"
    }
   ],
   "source": [
    "df['index_group_name'].value_counts()"
   ],
   "metadata": {
    "collapsed": false,
    "pycharm": {
     "name": "#%%\n"
    }
   }
  }
 ],
 "metadata": {
  "kernelspec": {
   "display_name": "Python 3",
   "language": "python",
   "name": "python3"
  },
  "language_info": {
   "codemirror_mode": {
    "name": "ipython",
    "version": 2
   },
   "file_extension": ".py",
   "mimetype": "text/x-python",
   "name": "python",
   "nbconvert_exporter": "python",
   "pygments_lexer": "ipython2",
   "version": "2.7.6"
  }
 },
 "nbformat": 4,
 "nbformat_minor": 0
}