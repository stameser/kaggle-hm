{
 "cells": [
  {
   "cell_type": "code",
   "execution_count": 1,
   "outputs": [],
   "source": [
    "import matplotlib.pyplot as plt\n",
    "from catboost import CatBoostRanker, Pool\n",
    "from kaggle_hm.chart_model import filter_data\n",
    "from copy import deepcopy\n",
    "import numpy as np\n",
    "import os\n",
    "import seaborn as sns\n",
    "import pandas as pd\n",
    "from kaggle_hm.config import data_root, train_dates, test_dates\n",
    "from kaggle_hm.evaluation import compute_precision\n",
    "import kaggle_hm.als_model\n",
    "from kaggle_hm.chart_model import age_chart\n",
    "from kaggle_hm.evaluation import plot_precision_at_k, enrich_data, precision_by_age, precision_by_usage\n",
    "from kaggle_hm import ranking_features as rf\n",
    "from sklearn.model_selection import train_test_split\n",
    "from importlib import reload"
   ],
   "metadata": {
    "collapsed": false,
    "pycharm": {
     "name": "#%%\n"
    }
   }
  },
  {
   "cell_type": "code",
   "execution_count": 2,
   "outputs": [],
   "source": [
    "rf = reload(kaggle_hm.ranking_features)"
   ],
   "metadata": {
    "collapsed": false,
    "pycharm": {
     "name": "#%%\n"
    }
   }
  },
  {
   "cell_type": "code",
   "execution_count": 3,
   "outputs": [],
   "source": [
    "c = pd.read_parquet(data_root / 'clean' / 'customers.parquet')\n",
    "c['age'] = c['age'].fillna(c['age'].mean())\n",
    "c['age_group'] = pd.cut(c['age'], bins=[15, 21, 25, 30, 40, 50, 60, 100])\n",
    "items = pd.read_parquet(data_root / 'clean' / 'articles.parquet')\n",
    "\n",
    "df = pd.read_parquet(data_root / 'clean' / 'transactions.parquet')\n",
    "df = df.merge(c[['customer_id', 'age', 'age_group']], on='customer_id')\n",
    "df['product_code'] = df['article_id'].str[1:7].astype('int')\n",
    "\n",
    "df = df.merge(items[['article_id', 'product_type_name', 'colour_group_name', 'department_name']], on='article_id')\n",
    "\n",
    "cols = [f'rel_{i + 1}' for i in range(12)]"
   ],
   "metadata": {
    "collapsed": false,
    "pycharm": {
     "name": "#%%\n"
    }
   }
  },
  {
   "cell_type": "code",
   "execution_count": 29,
   "outputs": [],
   "source": [
    "features = [\n",
    "    'score',\n",
    "    'article_totals',\n",
    "    'age',\n",
    "    'product_type_name_preference_clean',\n",
    "    'colour_group_name_preference_clean',\n",
    "    'department_name_preference_clean',\n",
    "    'total_cust',\n",
    "    'item_age',\n",
    "    'monday_item',\n",
    "    'avg_per_customer',\n",
    "    'daily_sales',\n",
    "    'avg_price',\n",
    "    'avg_age',\n",
    "    'product_totals',\n",
    "    'segment',\n",
    "    'method'\n",
    "]"
   ],
   "metadata": {
    "collapsed": false,
    "pycharm": {
     "name": "#%%\n"
    }
   }
  },
  {
   "cell_type": "code",
   "execution_count": 5,
   "outputs": [],
   "source": [
    "delta = (pd.to_datetime('2020-09-08') - df['t_dat']).dt.days\n",
    "df['delta_weeks'] = 1 / (1 + np.power(delta // 7, 1))\n",
    "\n",
    "train = filter_data(df, from_date='2020-09-01', to_date=train_dates['end'])\n",
    "\n",
    "test = filter_data(df, from_date=test_dates['start'], to_date=test_dates['end'])\n",
    "results = test.groupby('customer_id', observed=True).agg(bought=('article_id', set)).reset_index()\n",
    "full_ds = filter_data(df, to_date=train_dates['end'])\n",
    "\n",
    "t_cust = set(train['customer_id'].unique())\n",
    "old_cust = set(full_ds['customer_id'].unique()) - t_cust\n",
    "cold_cust = set(test['customer_id'].unique()) - old_cust - t_cust"
   ],
   "metadata": {
    "collapsed": false,
    "pycharm": {
     "name": "#%%\n"
    }
   }
  },
  {
   "cell_type": "code",
   "execution_count": 6,
   "outputs": [],
   "source": [
    "candidates = pd.read_parquet(data_root / 'clean' / 'candidates.parquet').drop(columns=['price', 'item_id'])\n",
    "candidates['method'] = 'als'"
   ],
   "metadata": {
    "collapsed": false,
    "pycharm": {
     "name": "#%%\n"
    }
   }
  },
  {
   "cell_type": "code",
   "execution_count": 7,
   "outputs": [],
   "source": [
    "semantic_candidates = pd.read_parquet(data_root / 'clean' / 'semantic_candidates.parquet')\n",
    "semantic_candidates = semantic_candidates[semantic_candidates['customer_id'].isin(test['customer_id'].unique())].copy()\n",
    "semantic_candidates['method'] = 'tfidf'"
   ],
   "metadata": {
    "collapsed": false,
    "pycharm": {
     "name": "#%%\n"
    }
   }
  },
  {
   "cell_type": "code",
   "execution_count": 8,
   "outputs": [],
   "source": [
    "rules_candidates = pd.read_parquet(data_root / 'clean' / 'association_rules.parquet')\n",
    "rules_candidates = rules_candidates[rules_candidates['customer_id'].isin(test['customer_id'].unique())].copy()\n",
    "rules_candidates['method'] = 'rules'"
   ],
   "metadata": {
    "collapsed": false,
    "pycharm": {
     "name": "#%%\n"
    }
   }
  },
  {
   "cell_type": "code",
   "execution_count": 9,
   "outputs": [],
   "source": [
    "combined_candidates = pd.concat([candidates,\n",
    "                                 semantic_candidates[['score', 'customer_id', 'article_id', 'is_relevant', 'method']],\n",
    "                                 rules_candidates[['score', 'customer_id', 'article_id', 'is_relevant', 'method']]\n",
    "])"
   ],
   "metadata": {
    "collapsed": false,
    "pycharm": {
     "name": "#%%\n"
    }
   }
  },
  {
   "cell_type": "code",
   "execution_count": 10,
   "outputs": [
    {
     "name": "stdout",
     "output_type": "stream",
     "text": [
      "(6535300, 5) (3853536, 5) (447712, 5) (10836548, 5)\n"
     ]
    }
   ],
   "source": [
    "print(candidates.shape, semantic_candidates.shape, rules_candidates.shape, combined_candidates.shape)"
   ],
   "metadata": {
    "collapsed": false,
    "pycharm": {
     "name": "#%%\n"
    }
   }
  },
  {
   "cell_type": "code",
   "execution_count": 11,
   "outputs": [],
   "source": [
    "combined_candidates = combined_candidates.drop_duplicates(subset=['customer_id', 'article_id'], keep='first') # try last"
   ],
   "metadata": {
    "collapsed": false,
    "pycharm": {
     "name": "#%%\n"
    }
   }
  },
  {
   "cell_type": "code",
   "execution_count": 12,
   "outputs": [
    {
     "data": {
      "text/plain": "(29254, 65353)"
     },
     "execution_count": 12,
     "metadata": {},
     "output_type": "execute_result"
    }
   ],
   "source": [
    "combined_candidates['is_relevant'].sum(), combined_candidates['customer_id'].nunique()"
   ],
   "metadata": {
    "collapsed": false,
    "pycharm": {
     "name": "#%%\n"
    }
   }
  },
  {
   "cell_type": "code",
   "execution_count": 13,
   "outputs": [
    {
     "data": {
      "text/plain": "0     45834\n1     13455\n2      3943\n3      1298\n4       476\n5       169\n6        92\n7        37\n8        22\n9         6\n10       12\n11        3\n12        3\n13        2\n14        1\nName: relevant, dtype: int64"
     },
     "execution_count": 13,
     "metadata": {},
     "output_type": "execute_result"
    }
   ],
   "source": [
    "rel_stats = combined_candidates.groupby('customer_id').agg(relevant=('is_relevant', 'sum'))\n",
    "rel_stats['relevant'].value_counts().sort_index()"
   ],
   "metadata": {
    "collapsed": false,
    "pycharm": {
     "name": "#%%\n"
    }
   }
  },
  {
   "cell_type": "code",
   "execution_count": 14,
   "outputs": [
    {
     "data": {
      "text/plain": "       score                                        customer_id  article_id  \\\n0   0.046631  000058a12d5b43e67d225668fa1f8d618c13dc232df0ca...  0685813001   \n72  0.011759  000058a12d5b43e67d225668fa1f8d618c13dc232df0ca...  0917606004   \n71  0.011767  000058a12d5b43e67d225668fa1f8d618c13dc232df0ca...  0919741001   \n70  0.011869  000058a12d5b43e67d225668fa1f8d618c13dc232df0ca...  0685816001   \n69  0.011914  000058a12d5b43e67d225668fa1f8d618c13dc232df0ca...  0791837002   \n\n    is_relevant method  \n0             0    als  \n72            0    als  \n71            0    als  \n70            0    als  \n69            0    als  ",
      "text/html": "<div>\n<style scoped>\n    .dataframe tbody tr th:only-of-type {\n        vertical-align: middle;\n    }\n\n    .dataframe tbody tr th {\n        vertical-align: top;\n    }\n\n    .dataframe thead th {\n        text-align: right;\n    }\n</style>\n<table border=\"1\" class=\"dataframe\">\n  <thead>\n    <tr style=\"text-align: right;\">\n      <th></th>\n      <th>score</th>\n      <th>customer_id</th>\n      <th>article_id</th>\n      <th>is_relevant</th>\n      <th>method</th>\n    </tr>\n  </thead>\n  <tbody>\n    <tr>\n      <th>0</th>\n      <td>0.046631</td>\n      <td>000058a12d5b43e67d225668fa1f8d618c13dc232df0ca...</td>\n      <td>0685813001</td>\n      <td>0</td>\n      <td>als</td>\n    </tr>\n    <tr>\n      <th>72</th>\n      <td>0.011759</td>\n      <td>000058a12d5b43e67d225668fa1f8d618c13dc232df0ca...</td>\n      <td>0917606004</td>\n      <td>0</td>\n      <td>als</td>\n    </tr>\n    <tr>\n      <th>71</th>\n      <td>0.011767</td>\n      <td>000058a12d5b43e67d225668fa1f8d618c13dc232df0ca...</td>\n      <td>0919741001</td>\n      <td>0</td>\n      <td>als</td>\n    </tr>\n    <tr>\n      <th>70</th>\n      <td>0.011869</td>\n      <td>000058a12d5b43e67d225668fa1f8d618c13dc232df0ca...</td>\n      <td>0685816001</td>\n      <td>0</td>\n      <td>als</td>\n    </tr>\n    <tr>\n      <th>69</th>\n      <td>0.011914</td>\n      <td>000058a12d5b43e67d225668fa1f8d618c13dc232df0ca...</td>\n      <td>0791837002</td>\n      <td>0</td>\n      <td>als</td>\n    </tr>\n  </tbody>\n</table>\n</div>"
     },
     "execution_count": 14,
     "metadata": {},
     "output_type": "execute_result"
    }
   ],
   "source": [
    "combined_candidates.head()"
   ],
   "metadata": {
    "collapsed": false,
    "pycharm": {
     "name": "#%%\n"
    }
   }
  },
  {
   "cell_type": "code",
   "execution_count": 15,
   "outputs": [],
   "source": [
    "candidates = combined_candidates.sort_values('customer_id').copy()"
   ],
   "metadata": {
    "collapsed": false,
    "pycharm": {
     "name": "#%%\n"
    }
   }
  },
  {
   "cell_type": "code",
   "execution_count": 16,
   "outputs": [
    {
     "data": {
      "text/plain": "      score                                        customer_id  article_id  \\\n0  0.046631  000058a12d5b43e67d225668fa1f8d618c13dc232df0ca...  0685813001   \n1  0.043729  000058a12d5b43e67d225668fa1f8d618c13dc232df0ca...  0685813039   \n2  0.043092  000058a12d5b43e67d225668fa1f8d618c13dc232df0ca...  0685813018   \n3  0.040875  000058a12d5b43e67d225668fa1f8d618c13dc232df0ca...  0685813037   \n4  0.037867  000058a12d5b43e67d225668fa1f8d618c13dc232df0ca...  0685813043   \n\n   is_relevant method  product_code  score_rank  article_totals  \\\n0            0    als        685813         1.0             NaN   \n1            0    als        685813         2.0             NaN   \n2            0    als        685813         3.0             NaN   \n3            0    als        685813         4.0             NaN   \n4            0    als        685813         5.0             NaN   \n\n   product_totals   age  ... garment_group_name total_cust uniq_customers  \\\n0             NaN  24.0  ...       Jersey Basic      870.0          671.0   \n1             NaN  24.0  ...       Jersey Basic      249.0          232.0   \n2             NaN  24.0  ...       Jersey Basic      323.0          284.0   \n3             NaN  24.0  ...       Jersey Basic      555.0          466.0   \n4             NaN  24.0  ...       Jersey Basic      316.0          279.0   \n\n  avg_price    avg_age  item_age  daily_sales  monday_item  avg_per_customer  \\\n0  0.016580  33.388246  0.025641    22.307692          0.0          1.296572   \n1  0.016469  35.843373  0.034483     8.892857          0.0          1.073276   \n2  0.016509  38.832817  0.025641     8.500000          0.0          1.137324   \n3  0.016564  31.707004  0.025641    14.230769          0.0          1.190987   \n4  0.016564  34.032870  0.043478    13.739130          1.0          1.132616   \n\n   segment  \n0      old  \n1      old  \n2      old  \n3      old  \n4      old  \n\n[5 rows x 24 columns]",
      "text/html": "<div>\n<style scoped>\n    .dataframe tbody tr th:only-of-type {\n        vertical-align: middle;\n    }\n\n    .dataframe tbody tr th {\n        vertical-align: top;\n    }\n\n    .dataframe thead th {\n        text-align: right;\n    }\n</style>\n<table border=\"1\" class=\"dataframe\">\n  <thead>\n    <tr style=\"text-align: right;\">\n      <th></th>\n      <th>score</th>\n      <th>customer_id</th>\n      <th>article_id</th>\n      <th>is_relevant</th>\n      <th>method</th>\n      <th>product_code</th>\n      <th>score_rank</th>\n      <th>article_totals</th>\n      <th>product_totals</th>\n      <th>age</th>\n      <th>...</th>\n      <th>garment_group_name</th>\n      <th>total_cust</th>\n      <th>uniq_customers</th>\n      <th>avg_price</th>\n      <th>avg_age</th>\n      <th>item_age</th>\n      <th>daily_sales</th>\n      <th>monday_item</th>\n      <th>avg_per_customer</th>\n      <th>segment</th>\n    </tr>\n  </thead>\n  <tbody>\n    <tr>\n      <th>0</th>\n      <td>0.046631</td>\n      <td>000058a12d5b43e67d225668fa1f8d618c13dc232df0ca...</td>\n      <td>0685813001</td>\n      <td>0</td>\n      <td>als</td>\n      <td>685813</td>\n      <td>1.0</td>\n      <td>NaN</td>\n      <td>NaN</td>\n      <td>24.0</td>\n      <td>...</td>\n      <td>Jersey Basic</td>\n      <td>870.0</td>\n      <td>671.0</td>\n      <td>0.016580</td>\n      <td>33.388246</td>\n      <td>0.025641</td>\n      <td>22.307692</td>\n      <td>0.0</td>\n      <td>1.296572</td>\n      <td>old</td>\n    </tr>\n    <tr>\n      <th>1</th>\n      <td>0.043729</td>\n      <td>000058a12d5b43e67d225668fa1f8d618c13dc232df0ca...</td>\n      <td>0685813039</td>\n      <td>0</td>\n      <td>als</td>\n      <td>685813</td>\n      <td>2.0</td>\n      <td>NaN</td>\n      <td>NaN</td>\n      <td>24.0</td>\n      <td>...</td>\n      <td>Jersey Basic</td>\n      <td>249.0</td>\n      <td>232.0</td>\n      <td>0.016469</td>\n      <td>35.843373</td>\n      <td>0.034483</td>\n      <td>8.892857</td>\n      <td>0.0</td>\n      <td>1.073276</td>\n      <td>old</td>\n    </tr>\n    <tr>\n      <th>2</th>\n      <td>0.043092</td>\n      <td>000058a12d5b43e67d225668fa1f8d618c13dc232df0ca...</td>\n      <td>0685813018</td>\n      <td>0</td>\n      <td>als</td>\n      <td>685813</td>\n      <td>3.0</td>\n      <td>NaN</td>\n      <td>NaN</td>\n      <td>24.0</td>\n      <td>...</td>\n      <td>Jersey Basic</td>\n      <td>323.0</td>\n      <td>284.0</td>\n      <td>0.016509</td>\n      <td>38.832817</td>\n      <td>0.025641</td>\n      <td>8.500000</td>\n      <td>0.0</td>\n      <td>1.137324</td>\n      <td>old</td>\n    </tr>\n    <tr>\n      <th>3</th>\n      <td>0.040875</td>\n      <td>000058a12d5b43e67d225668fa1f8d618c13dc232df0ca...</td>\n      <td>0685813037</td>\n      <td>0</td>\n      <td>als</td>\n      <td>685813</td>\n      <td>4.0</td>\n      <td>NaN</td>\n      <td>NaN</td>\n      <td>24.0</td>\n      <td>...</td>\n      <td>Jersey Basic</td>\n      <td>555.0</td>\n      <td>466.0</td>\n      <td>0.016564</td>\n      <td>31.707004</td>\n      <td>0.025641</td>\n      <td>14.230769</td>\n      <td>0.0</td>\n      <td>1.190987</td>\n      <td>old</td>\n    </tr>\n    <tr>\n      <th>4</th>\n      <td>0.037867</td>\n      <td>000058a12d5b43e67d225668fa1f8d618c13dc232df0ca...</td>\n      <td>0685813043</td>\n      <td>0</td>\n      <td>als</td>\n      <td>685813</td>\n      <td>5.0</td>\n      <td>NaN</td>\n      <td>NaN</td>\n      <td>24.0</td>\n      <td>...</td>\n      <td>Jersey Basic</td>\n      <td>316.0</td>\n      <td>279.0</td>\n      <td>0.016564</td>\n      <td>34.032870</td>\n      <td>0.043478</td>\n      <td>13.739130</td>\n      <td>1.0</td>\n      <td>1.132616</td>\n      <td>old</td>\n    </tr>\n  </tbody>\n</table>\n<p>5 rows × 24 columns</p>\n</div>"
     },
     "execution_count": 16,
     "metadata": {},
     "output_type": "execute_result"
    }
   ],
   "source": [
    "candidates['product_code'] = candidates['article_id'].str[1:7].astype('int')\n",
    "candidates['score_rank'] = candidates.groupby('customer_id')['score'].rank(ascending=False, method='first')\n",
    "\n",
    "last_transactions = filter_data(df, from_date='2020-08-01', to_date='2020-09-08') # isin test customers\n",
    "candidates = rf.calc_features(candidates, last_transactions, c, items)\n",
    "\n",
    "old_transactions = filter_data(df, from_date='2020-08-01', to_date='2020-09-08')\n",
    "item_stats = rf.get_item_stats(old_transactions, '2020-09-08')\n",
    "candidates = candidates.merge(item_stats, on='article_id', how='left')\n",
    "\n",
    "candidates['segment'] = 'old'\n",
    "candidates.loc[candidates['customer_id'].isin(t_cust), 'segment'] = 'train'\n",
    "candidates.head()"
   ],
   "metadata": {
    "collapsed": false,
    "pycharm": {
     "name": "#%%\n"
    }
   }
  },
  {
   "cell_type": "code",
   "execution_count": 17,
   "outputs": [],
   "source": [
    "cond = (\n",
    "    (df['t_dat'] <= '2020-09-08')\n",
    ")\n",
    "\n",
    "customer_totals = df[cond].groupby('customer_id', observed=True, as_index=False).agg(total_items=('article_id', 'count'))"
   ],
   "metadata": {
    "collapsed": false,
    "pycharm": {
     "name": "#%%\n"
    }
   }
  },
  {
   "cell_type": "code",
   "execution_count": 18,
   "outputs": [],
   "source": [
    "prod_type_stats = rf.cat_feature_prop(df[cond], 'product_type_name')\n",
    "candidates = candidates.merge(prod_type_stats, on=['customer_id', 'product_type_name'], how='left')\n",
    "\n",
    "colour_group_stats = rf.cat_feature_prop(df[cond], 'colour_group_name')\n",
    "candidates = candidates.merge(colour_group_stats, on=['customer_id', 'colour_group_name'], how='left')\n",
    "\n",
    "department_stats = rf.cat_feature_prop(df[cond], 'department_name')\n",
    "candidates = candidates.merge(department_stats, on=['customer_id', 'department_name'], how='left')\n",
    "\n",
    "# prod_type_stats = rf.cat_feature_prop(df[cond], 'section_name')\n",
    "# train = train.merge(prod_type_stats, on=['customer_id', 'section_name'], how='left')"
   ],
   "metadata": {
    "collapsed": false,
    "pycharm": {
     "name": "#%%\n"
    }
   }
  },
  {
   "cell_type": "code",
   "execution_count": 21,
   "outputs": [],
   "source": [
    "candidates = candidates.merge(customer_totals, on='customer_id', how='left')"
   ],
   "metadata": {
    "collapsed": false,
    "pycharm": {
     "name": "#%%\n"
    }
   }
  },
  {
   "cell_type": "code",
   "execution_count": 27,
   "outputs": [],
   "source": [
    "candidates['colour_group_name_preference_clean'] = candidates['colour_group_name_preference'].combine_first(2/(7+candidates['total_items']))\n",
    "candidates['product_type_name_preference_clean'] = candidates['product_type_name_preference'].combine_first(2/(7+candidates['total_items']))\n",
    "candidates['department_name_preference_clean'] = candidates['department_name_preference'].combine_first(2/(7+candidates['total_items']))"
   ],
   "metadata": {
    "collapsed": false,
    "pycharm": {
     "name": "#%%\n"
    }
   }
  },
  {
   "cell_type": "code",
   "execution_count": 30,
   "outputs": [],
   "source": [
    "train_customers, test_customers = train_test_split(test['customer_id'].unique(), test_size=0.2, random_state=42)\n",
    "\n",
    "train_df = candidates[candidates['customer_id'].isin(train_customers)].copy()\n",
    "test_df = candidates[candidates['customer_id'].isin(test_customers)].copy()\n",
    "\n",
    "X_train = train_df[features]\n",
    "y_train = train_df['is_relevant']\n",
    "queries_train = train_df['customer_id']\n",
    "\n",
    "X_test = test_df[features]\n",
    "y_test = test_df['is_relevant']\n",
    "queries_test = test_df['customer_id']\n",
    "\n",
    "train_pool = Pool(\n",
    "    data=X_train,\n",
    "    label=y_train,\n",
    "    group_id=queries_train,\n",
    "    cat_features=['segment', 'method']\n",
    ")\n",
    "\n",
    "test_pool = Pool(\n",
    "    data=X_test,\n",
    "    label=y_test,\n",
    "    group_id=queries_test,\n",
    "    cat_features=['segment', 'method']\n",
    ")"
   ],
   "metadata": {
    "collapsed": false,
    "pycharm": {
     "name": "#%%\n"
    }
   }
  },
  {
   "cell_type": "code",
   "execution_count": 31,
   "outputs": [
    {
     "data": {
      "text/plain": "0.9070901674911047"
     },
     "execution_count": 31,
     "metadata": {},
     "output_type": "execute_result"
    }
   ],
   "source": [
    "candidates[candidates['customer_id'].isin(train_customers)]['customer_id'].nunique() / len(train_customers)"
   ],
   "metadata": {
    "collapsed": false,
    "pycharm": {
     "name": "#%%\n"
    }
   }
  },
  {
   "cell_type": "code",
   "execution_count": 25,
   "outputs": [
    {
     "data": {
      "text/plain": "0.9088447653429603"
     },
     "execution_count": 25,
     "metadata": {},
     "output_type": "execute_result"
    }
   ],
   "source": [
    "candidates[candidates['customer_id'].isin(test_customers)]['customer_id'].nunique() / len(test_customers)"
   ],
   "metadata": {
    "collapsed": false,
    "pycharm": {
     "name": "#%%\n"
    }
   }
  },
  {
   "cell_type": "code",
   "execution_count": 36,
   "outputs": [],
   "source": [
    "default_parameters = {\n",
    "    'iterations': 2000,\n",
    "    'custom_metric': ['MAP:top=10', 'NDCG'],\n",
    "    'verbose': True,\n",
    "    'metric_period': 200,\n",
    "    'task_type': 'GPU',\n",
    "    'devices': '0',\n",
    "    'random_seed': 0,\n",
    "    'learning_rate': 0.01,\n",
    "    'one_hot_max_size': 10\n",
    "}\n",
    "\n",
    "parameters = {}\n",
    "\n",
    "def fit_model(loss_function, additional_params=None, train_pool=train_pool, test_pool=test_pool):\n",
    "    parameters = deepcopy(default_parameters)\n",
    "    parameters['loss_function'] = loss_function\n",
    "    parameters['train_dir'] = loss_function\n",
    "\n",
    "    if additional_params is not None:\n",
    "        parameters.update(additional_params)\n",
    "\n",
    "    model = CatBoostRanker(**parameters)\n",
    "    model.fit(train_pool, eval_set=test_pool, plot=False)\n",
    "\n",
    "    return model"
   ],
   "metadata": {
    "collapsed": false,
    "pycharm": {
     "name": "#%%\n"
    }
   }
  },
  {
   "cell_type": "code",
   "execution_count": 31,
   "outputs": [
    {
     "data": {
      "text/plain": "score                                 7836775\narticle_totals                         152732\nage                                   7836775\nproduct_type_name_preference_clean    7836775\ncolour_group_name_preference_clean    7836775\ndepartment_name_preference_clean      7836775\ntotal_cust                            7727514\nitem_age                              7727514\nmonday_item                           7727514\navg_per_customer                      7727514\ndaily_sales                           7727514\navg_price                             7727514\navg_age                               7727514\nproduct_totals                         580743\nsegment                               7836775\nmethod                                7836775\ndtype: int64"
     },
     "execution_count": 31,
     "metadata": {},
     "output_type": "execute_result"
    }
   ],
   "source": [
    "X_train.count()"
   ],
   "metadata": {
    "collapsed": false,
    "pycharm": {
     "name": "#%%\n"
    }
   }
  },
  {
   "cell_type": "code",
   "execution_count": 32,
   "outputs": [
    {
     "data": {
      "text/plain": "['score',\n 'article_totals',\n 'age',\n 'product_type_name_preference_clean',\n 'colour_group_name_preference_clean',\n 'department_name_preference_clean',\n 'total_cust',\n 'item_age',\n 'monday_item',\n 'avg_per_customer',\n 'daily_sales',\n 'avg_price',\n 'avg_age',\n 'product_totals',\n 'segment',\n 'method']"
     },
     "execution_count": 32,
     "metadata": {},
     "output_type": "execute_result"
    }
   ],
   "source": [
    "train_pool.get_feature_names()"
   ],
   "metadata": {
    "collapsed": false,
    "pycharm": {
     "name": "#%%\n"
    }
   }
  },
  {
   "cell_type": "code",
   "execution_count": 33,
   "outputs": [
    {
     "data": {
      "text/plain": "is_relevant        0      1\nmethod                     \nals          5206877  19823\nrules         224235    743\ntfidf        2382303   2794",
      "text/html": "<div>\n<style scoped>\n    .dataframe tbody tr th:only-of-type {\n        vertical-align: middle;\n    }\n\n    .dataframe tbody tr th {\n        vertical-align: top;\n    }\n\n    .dataframe thead th {\n        text-align: right;\n    }\n</style>\n<table border=\"1\" class=\"dataframe\">\n  <thead>\n    <tr style=\"text-align: right;\">\n      <th>is_relevant</th>\n      <th>0</th>\n      <th>1</th>\n    </tr>\n    <tr>\n      <th>method</th>\n      <th></th>\n      <th></th>\n    </tr>\n  </thead>\n  <tbody>\n    <tr>\n      <th>als</th>\n      <td>5206877</td>\n      <td>19823</td>\n    </tr>\n    <tr>\n      <th>rules</th>\n      <td>224235</td>\n      <td>743</td>\n    </tr>\n    <tr>\n      <th>tfidf</th>\n      <td>2382303</td>\n      <td>2794</td>\n    </tr>\n  </tbody>\n</table>\n</div>"
     },
     "execution_count": 33,
     "metadata": {},
     "output_type": "execute_result"
    }
   ],
   "source": [
    "train_df.pivot_table(index='method', columns='is_relevant', values='article_id', aggfunc='count')"
   ],
   "metadata": {
    "collapsed": false,
    "pycharm": {
     "name": "#%%\n"
    }
   }
  },
  {
   "cell_type": "code",
   "execution_count": 34,
   "outputs": [
    {
     "data": {
      "text/plain": "is_relevant        0     1\nmethod                    \nals          1303562  5038\nrules          57177   151\ntfidf         607200   705",
      "text/html": "<div>\n<style scoped>\n    .dataframe tbody tr th:only-of-type {\n        vertical-align: middle;\n    }\n\n    .dataframe tbody tr th {\n        vertical-align: top;\n    }\n\n    .dataframe thead th {\n        text-align: right;\n    }\n</style>\n<table border=\"1\" class=\"dataframe\">\n  <thead>\n    <tr style=\"text-align: right;\">\n      <th>is_relevant</th>\n      <th>0</th>\n      <th>1</th>\n    </tr>\n    <tr>\n      <th>method</th>\n      <th></th>\n      <th></th>\n    </tr>\n  </thead>\n  <tbody>\n    <tr>\n      <th>als</th>\n      <td>1303562</td>\n      <td>5038</td>\n    </tr>\n    <tr>\n      <th>rules</th>\n      <td>57177</td>\n      <td>151</td>\n    </tr>\n    <tr>\n      <th>tfidf</th>\n      <td>607200</td>\n      <td>705</td>\n    </tr>\n  </tbody>\n</table>\n</div>"
     },
     "execution_count": 34,
     "metadata": {},
     "output_type": "execute_result"
    }
   ],
   "source": [
    "test_df.pivot_table(index='method', columns='is_relevant', values='article_id', aggfunc='count')"
   ],
   "metadata": {
    "collapsed": false,
    "pycharm": {
     "name": "#%%\n"
    }
   }
  },
  {
   "cell_type": "code",
   "execution_count": 37,
   "outputs": [
    {
     "name": "stderr",
     "output_type": "stream",
     "text": [
      "Metric MAP:top=10 is not implemented on GPU. Will use CPU for metric computation, this could significantly affect learning time\n",
      "Metric NDCG:type=Base is not implemented on GPU. Will use CPU for metric computation, this could significantly affect learning time\n"
     ]
    },
    {
     "name": "stdout",
     "output_type": "stream",
     "text": [
      "0:\tlearn: 0.6875129\ttest: 0.6876090\tbest: 0.6876090 (0)\ttotal: 454ms\tremaining: 15m 8s\n",
      "200:\tlearn: 0.4386542\ttest: 0.4438399\tbest: 0.4438399 (200)\ttotal: 10.3s\tremaining: 1m 32s\n",
      "400:\tlearn: 0.4151968\ttest: 0.4229959\tbest: 0.4229959 (400)\ttotal: 20.1s\tremaining: 1m 20s\n",
      "600:\tlearn: 0.4041871\ttest: 0.4151185\tbest: 0.4151185 (600)\ttotal: 29.9s\tremaining: 1m 9s\n",
      "800:\tlearn: 0.3965807\ttest: 0.4109118\tbest: 0.4109118 (800)\ttotal: 39.7s\tremaining: 59.5s\n",
      "1000:\tlearn: 0.3906354\ttest: 0.4082168\tbest: 0.4082168 (1000)\ttotal: 49.7s\tremaining: 49.6s\n",
      "1200:\tlearn: 0.3855155\ttest: 0.4063288\tbest: 0.4063288 (1200)\ttotal: 59.7s\tremaining: 39.7s\n",
      "1400:\tlearn: 0.3810660\ttest: 0.4047465\tbest: 0.4047465 (1400)\ttotal: 1m 9s\tremaining: 29.8s\n",
      "1600:\tlearn: 0.3769104\ttest: 0.4035586\tbest: 0.4035586 (1600)\ttotal: 1m 19s\tremaining: 19.9s\n",
      "1800:\tlearn: 0.3732276\ttest: 0.4026100\tbest: 0.4026100 (1800)\ttotal: 1m 29s\tremaining: 9.93s\n",
      "1999:\tlearn: 0.3697257\ttest: 0.4018734\tbest: 0.4018734 (1999)\ttotal: 1m 39s\tremaining: 0us\n",
      "bestTest = 0.4018734064\n",
      "bestIteration = 1999\n"
     ]
    }
   ],
   "source": [
    "model = fit_model('PairLogit')"
   ],
   "metadata": {
    "collapsed": false,
    "pycharm": {
     "name": "#%%\n"
    }
   }
  },
  {
   "cell_type": "code",
   "execution_count": 39,
   "outputs": [],
   "source": [
    "model.save_model(data_root / 'models' / 'pair_logit.model')"
   ],
   "metadata": {
    "collapsed": false,
    "pycharm": {
     "name": "#%%\n"
    }
   }
  },
  {
   "cell_type": "code",
   "execution_count": 38,
   "outputs": [
    {
     "data": {
      "text/plain": "{'learn': {'MAP:top=10': 0.0532685560948529, 'PairLogit': 0.36972567572033593},\n 'validation': {'NDCG:type=Base': 0.8095097473821767,\n  'MAP:top=10': 0.05180087270656393,\n  'PairLogit': 0.40187340637887264}}"
     },
     "execution_count": 38,
     "metadata": {},
     "output_type": "execute_result"
    }
   ],
   "source": [
    "model.get_best_score()"
   ],
   "metadata": {
    "collapsed": false,
    "pycharm": {
     "name": "#%%\n"
    }
   }
  },
  {
   "cell_type": "code",
   "execution_count": 39,
   "outputs": [],
   "source": [
    "fe = model.get_feature_importance(test_pool, type='LossFunctionChange')"
   ],
   "metadata": {
    "collapsed": false,
    "pycharm": {
     "name": "#%%\n"
    }
   }
  },
  {
   "cell_type": "code",
   "execution_count": 40,
   "outputs": [
    {
     "data": {
      "text/plain": "       score                                name\n15  0.039295                              method\n10  0.032194                         daily_sales\n13  0.025081                      product_totals\n0   0.019814                               score\n7   0.008491                            item_age\n5   0.008438    department_name_preference_clean\n1   0.006887                      article_totals\n4   0.004033  colour_group_name_preference_clean\n11  0.003757                           avg_price\n3   0.002219  product_type_name_preference_clean\n9   0.002064                    avg_per_customer\n6   0.001608                          total_cust\n12  0.001341                             avg_age\n14  0.001272                             segment\n2   0.000797                                 age\n8   0.000581                         monday_item",
      "text/html": "<div>\n<style scoped>\n    .dataframe tbody tr th:only-of-type {\n        vertical-align: middle;\n    }\n\n    .dataframe tbody tr th {\n        vertical-align: top;\n    }\n\n    .dataframe thead th {\n        text-align: right;\n    }\n</style>\n<table border=\"1\" class=\"dataframe\">\n  <thead>\n    <tr style=\"text-align: right;\">\n      <th></th>\n      <th>score</th>\n      <th>name</th>\n    </tr>\n  </thead>\n  <tbody>\n    <tr>\n      <th>15</th>\n      <td>0.039295</td>\n      <td>method</td>\n    </tr>\n    <tr>\n      <th>10</th>\n      <td>0.032194</td>\n      <td>daily_sales</td>\n    </tr>\n    <tr>\n      <th>13</th>\n      <td>0.025081</td>\n      <td>product_totals</td>\n    </tr>\n    <tr>\n      <th>0</th>\n      <td>0.019814</td>\n      <td>score</td>\n    </tr>\n    <tr>\n      <th>7</th>\n      <td>0.008491</td>\n      <td>item_age</td>\n    </tr>\n    <tr>\n      <th>5</th>\n      <td>0.008438</td>\n      <td>department_name_preference_clean</td>\n    </tr>\n    <tr>\n      <th>1</th>\n      <td>0.006887</td>\n      <td>article_totals</td>\n    </tr>\n    <tr>\n      <th>4</th>\n      <td>0.004033</td>\n      <td>colour_group_name_preference_clean</td>\n    </tr>\n    <tr>\n      <th>11</th>\n      <td>0.003757</td>\n      <td>avg_price</td>\n    </tr>\n    <tr>\n      <th>3</th>\n      <td>0.002219</td>\n      <td>product_type_name_preference_clean</td>\n    </tr>\n    <tr>\n      <th>9</th>\n      <td>0.002064</td>\n      <td>avg_per_customer</td>\n    </tr>\n    <tr>\n      <th>6</th>\n      <td>0.001608</td>\n      <td>total_cust</td>\n    </tr>\n    <tr>\n      <th>12</th>\n      <td>0.001341</td>\n      <td>avg_age</td>\n    </tr>\n    <tr>\n      <th>14</th>\n      <td>0.001272</td>\n      <td>segment</td>\n    </tr>\n    <tr>\n      <th>2</th>\n      <td>0.000797</td>\n      <td>age</td>\n    </tr>\n    <tr>\n      <th>8</th>\n      <td>0.000581</td>\n      <td>monday_item</td>\n    </tr>\n  </tbody>\n</table>\n</div>"
     },
     "execution_count": 40,
     "metadata": {},
     "output_type": "execute_result"
    }
   ],
   "source": [
    "pd.DataFrame({\n",
    "    'score': fe,\n",
    "    'name': model.feature_names_\n",
    "}).sort_values('score', ascending=False)"
   ],
   "metadata": {
    "collapsed": false,
    "pycharm": {
     "name": "#%%\n"
    }
   }
  },
  {
   "cell_type": "code",
   "execution_count": 41,
   "outputs": [
    {
     "data": {
      "text/plain": "0.03525445965682421"
     },
     "execution_count": 41,
     "metadata": {},
     "output_type": "execute_result"
    }
   ],
   "source": [
    "rec_df = rf.rank_predictions(test_df, model)\n",
    "comb = results.merge(rec_df, on='customer_id')\n",
    "comb = comb[comb['candidates'].str.len() > 1]\n",
    "comb['prediction'] = comb['candidates']\n",
    "comb = compute_precision(comb)\n",
    "comb['precision'].mean()"
   ],
   "metadata": {
    "collapsed": false,
    "pycharm": {
     "name": "#%%\n"
    }
   }
  },
  {
   "cell_type": "code",
   "execution_count": 42,
   "outputs": [],
   "source": [
    "comb_enriched = enrich_data(filter_data(df, to_date='2020-09-08'), comb.set_index('customer_id'), c.set_index('customer_id'))"
   ],
   "metadata": {
    "collapsed": false,
    "pycharm": {
     "name": "#%%\n"
    }
   }
  },
  {
   "cell_type": "code",
   "execution_count": 43,
   "outputs": [],
   "source": [
    "comb['segment'] = 'old'\n",
    "comb.loc[comb['customer_id'].isin(t_cust), 'segment'] = 'train'"
   ],
   "metadata": {
    "collapsed": false,
    "pycharm": {
     "name": "#%%\n"
    }
   }
  },
  {
   "cell_type": "code",
   "execution_count": 44,
   "outputs": [
    {
     "data": {
      "text/plain": "         customers  avg_precision\nsegment                          \nold           9975       0.020545\ntrain         3111       0.082419",
      "text/html": "<div>\n<style scoped>\n    .dataframe tbody tr th:only-of-type {\n        vertical-align: middle;\n    }\n\n    .dataframe tbody tr th {\n        vertical-align: top;\n    }\n\n    .dataframe thead th {\n        text-align: right;\n    }\n</style>\n<table border=\"1\" class=\"dataframe\">\n  <thead>\n    <tr style=\"text-align: right;\">\n      <th></th>\n      <th>customers</th>\n      <th>avg_precision</th>\n    </tr>\n    <tr>\n      <th>segment</th>\n      <th></th>\n      <th></th>\n    </tr>\n  </thead>\n  <tbody>\n    <tr>\n      <th>old</th>\n      <td>9975</td>\n      <td>0.020545</td>\n    </tr>\n    <tr>\n      <th>train</th>\n      <td>3111</td>\n      <td>0.082419</td>\n    </tr>\n  </tbody>\n</table>\n</div>"
     },
     "execution_count": 44,
     "metadata": {},
     "output_type": "execute_result"
    }
   ],
   "source": [
    "comb.groupby('segment').agg(\n",
    "    customers=('customer_id', 'count'),\n",
    "    avg_precision=('precision', 'mean'),\n",
    ")"
   ],
   "metadata": {
    "collapsed": false,
    "pycharm": {
     "name": "#%%\n"
    }
   }
  },
  {
   "cell_type": "code",
   "execution_count": 45,
   "outputs": [
    {
     "data": {
      "text/plain": "0.032592196612052204"
     },
     "execution_count": 45,
     "metadata": {},
     "output_type": "execute_result"
    }
   ],
   "source": [
    "N = len(test_customers)\n",
    "\n",
    "(9992 / N * .0205 + 3099 / N * 0.082 + 1313/ N * 0.008)"
   ],
   "metadata": {
    "collapsed": false,
    "pycharm": {
     "name": "#%%\n"
    }
   }
  },
  {
   "cell_type": "code",
   "execution_count": 46,
   "outputs": [],
   "source": [
    "test_df['prediction_rank'] = test_df.groupby('customer_id')['prediction'].rank(ascending=False, method='first')"
   ],
   "metadata": {
    "collapsed": false,
    "pycharm": {
     "name": "#%%\n"
    }
   }
  },
  {
   "cell_type": "code",
   "execution_count": 47,
   "outputs": [
    {
     "data": {
      "text/plain": "<AxesSubplot:xlabel='prediction_rank'>"
     },
     "execution_count": 47,
     "metadata": {},
     "output_type": "execute_result"
    },
    {
     "data": {
      "text/plain": "<Figure size 432x288 with 1 Axes>",
      "image/png": "[encoded data removed]"
     },
     "metadata": {},
     "output_type": "display_data"
    }
   ],
   "source": [
    "test_df.groupby('score_rank')['is_relevant'].agg(['mean', 'sum']).reset_index().set_index('score_rank')['sum'].plot()\n",
    "test_df.groupby('prediction_rank')['is_relevant'].agg(['mean', 'sum']).reset_index().set_index('prediction_rank')['sum'].plot()"
   ],
   "metadata": {
    "collapsed": false,
    "pycharm": {
     "name": "#%%\n"
    }
   }
  },
  {
   "cell_type": "code",
   "execution_count": 48,
   "outputs": [
    {
     "data": {
      "text/plain": "[0.05277794398777704]"
     },
     "execution_count": 48,
     "metadata": {},
     "output_type": "execute_result"
    }
   ],
   "source": [
    "from catboost.utils import eval_metric\n",
    "\n",
    "eval_metric(y_test.values, test_df['prediction'].values, 'MAP:top=12', group_id=queries_test.values)"
   ],
   "metadata": {
    "collapsed": false,
    "pycharm": {
     "name": "#%%\n"
    }
   }
  },
  {
   "cell_type": "code",
   "execution_count": 49,
   "outputs": [
    {
     "data": {
      "text/plain": "<Figure size 864x432 with 2 Axes>",
      "image/png": "[encoded data removed]"
     },
     "metadata": {},
     "output_type": "display_data"
    }
   ],
   "source": [
    "fig, ax = plt.subplots(1, 2, figsize=(12, 6))\n",
    "\n",
    "sns.boxplot(data=test_df, x='is_relevant', y='score', ax=ax[0])\n",
    "ax[0].set_title('score distribution')\n",
    "\n",
    "sns.boxplot(data=test_df, x='is_relevant', y='prediction', ax=ax[1])\n",
    "plt.title('Rank distribution');"
   ],
   "metadata": {
    "collapsed": false,
    "pycharm": {
     "name": "#%%\n"
    }
   }
  },
  {
   "cell_type": "code",
   "execution_count": 50,
   "outputs": [
    {
     "data": {
      "text/plain": "<seaborn.axisgrid.FacetGrid at 0x7fb39edb1910>"
     },
     "execution_count": 50,
     "metadata": {},
     "output_type": "execute_result"
    },
    {
     "data": {
      "text/plain": "<Figure size 422.375x360 with 1 Axes>",
      "image/png": "[encoded data removed]"
     },
     "metadata": {},
     "output_type": "display_data"
    }
   ],
   "source": [
    "sns.displot(data=test_df, x='prediction', hue='is_relevant', stat='probability', common_norm=False, bins=100)"
   ],
   "metadata": {
    "collapsed": false,
    "pycharm": {
     "name": "#%%\n"
    }
   }
  },
  {
   "cell_type": "code",
   "execution_count": 51,
   "outputs": [
    {
     "data": {
      "text/plain": "<Figure size 782.375x360 with 2 Axes>",
      "image/png": "[encoded data removed]"
     },
     "metadata": {},
     "output_type": "display_data"
    }
   ],
   "source": [
    "sns.displot(data=test_df, x='prediction', hue='is_relevant', col='segment', stat='probability', common_norm=False, bins=100);"
   ],
   "metadata": {
    "collapsed": false,
    "pycharm": {
     "name": "#%%\n"
    }
   }
  },
  {
   "cell_type": "code",
   "execution_count": 52,
   "outputs": [
    {
     "data": {
      "text/plain": "<Figure size 419.375x360 with 1 Axes>",
      "image/png": "[encoded data removed]"
     },
     "metadata": {},
     "output_type": "display_data"
    }
   ],
   "source": [
    "sns.displot(data=test_df, x='prediction', hue='segment', stat='probability', common_norm=False, bins=100);"
   ],
   "metadata": {
    "collapsed": false,
    "pycharm": {
     "name": "#%%\n"
    }
   }
  },
  {
   "cell_type": "code",
   "execution_count": 53,
   "outputs": [
    {
     "data": {
      "text/plain": "<Figure size 1440x360 with 3 Axes>",
      "image/png": "[encoded data removed]"
     },
     "metadata": {},
     "output_type": "display_data"
    }
   ],
   "source": [
    "plot_precision_at_k(comb);"
   ],
   "metadata": {
    "collapsed": false,
    "pycharm": {
     "name": "#%%\n"
    }
   }
  },
  {
   "cell_type": "code",
   "execution_count": 54,
   "outputs": [
    {
     "data": {
      "text/plain": "<Figure size 1152x360 with 2 Axes>",
      "image/png": "[encoded data removed]"
     },
     "metadata": {},
     "output_type": "display_data"
    }
   ],
   "source": [
    "precision_by_age(comb_enriched);"
   ],
   "metadata": {
    "collapsed": false,
    "pycharm": {
     "name": "#%%\n"
    }
   }
  },
  {
   "cell_type": "code",
   "execution_count": 55,
   "outputs": [
    {
     "data": {
      "text/plain": "<Figure size 1152x360 with 2 Axes>",
      "image/png": "[encoded data removed]"
     },
     "metadata": {},
     "output_type": "display_data"
    }
   ],
   "source": [
    "precision_by_usage(comb_enriched);"
   ],
   "metadata": {
    "collapsed": false,
    "pycharm": {
     "name": "#%%\n"
    }
   }
  },
  {
   "cell_type": "code",
   "execution_count": 56,
   "outputs": [
    {
     "data": {
      "text/plain": "{'total_relevance': 0.29993886596362523,\n 'train_relevance': 0.11370930765703806,\n 'old_relevance': 0.1862295583065872}"
     },
     "execution_count": 56,
     "metadata": {},
     "output_type": "execute_result"
    }
   ],
   "source": [
    "stats = (\n",
    "    test_df\n",
    "    .groupby('customer_id')\n",
    "    .agg(\n",
    "        total=('article_id', 'count'),\n",
    "        hits=('is_relevant', 'sum'),\n",
    "        has_hit=('is_relevant', 'max')\n",
    "    ).reset_index()\n",
    ")\n",
    "\n",
    "{\n",
    "    'total_relevance': stats['has_hit'].sum() / stats.shape[0],\n",
    "    'train_relevance': stats[stats['customer_id'].isin(t_cust)]['has_hit'].sum() / stats.shape[0],\n",
    "    'old_relevance': stats[stats['customer_id'].isin(old_cust)]['has_hit'].sum() / stats.shape[0],\n",
    "}"
   ],
   "metadata": {
    "collapsed": false,
    "pycharm": {
     "name": "#%%\n"
    }
   }
  },
  {
   "cell_type": "code",
   "execution_count": 57,
   "outputs": [
    {
     "data": {
      "text/plain": "{'total_relevance': 0.05700748891945591,\n 'train_relevance': 0.01543634418462479,\n 'old_relevance': 0.04157114473483112}"
     },
     "execution_count": 57,
     "metadata": {},
     "output_type": "execute_result"
    }
   ],
   "source": [
    "stats = (\n",
    "    test_df\n",
    "    .query('score_rank <= 12')\n",
    "    .groupby('customer_id')\n",
    "    .agg(\n",
    "        total=('article_id', 'count'),\n",
    "        hits=('is_relevant', 'sum'),\n",
    "        has_hit=('is_relevant', 'max')\n",
    "    ).reset_index()\n",
    ")\n",
    "\n",
    "{\n",
    "    'total_relevance': stats['has_hit'].sum() / stats.shape[0],\n",
    "    'train_relevance': stats[stats['customer_id'].isin(t_cust)]['has_hit'].sum() / stats.shape[0],\n",
    "    'old_relevance': stats[stats['customer_id'].isin(old_cust)]['has_hit'].sum() / stats.shape[0],\n",
    "}"
   ],
   "metadata": {
    "collapsed": false,
    "pycharm": {
     "name": "#%%\n"
    }
   }
  },
  {
   "cell_type": "code",
   "execution_count": 58,
   "outputs": [
    {
     "data": {
      "text/plain": "{'total_relevance': 0.14549900657190892,\n 'train_relevance': 0.06663609964847929,\n 'old_relevance': 0.07886290692342962}"
     },
     "execution_count": 58,
     "metadata": {},
     "output_type": "execute_result"
    }
   ],
   "source": [
    "stats = (\n",
    "    test_df\n",
    "    .query('prediction_rank <= 12')\n",
    "    .groupby('customer_id')\n",
    "    .agg(\n",
    "        total=('article_id', 'count'),\n",
    "        hits=('is_relevant', 'sum'),\n",
    "        has_hit=('is_relevant', 'max')\n",
    "    ).reset_index()\n",
    ")\n",
    "\n",
    "{\n",
    "    'total_relevance': stats['has_hit'].sum() / stats.shape[0],\n",
    "    'train_relevance': stats[stats['customer_id'].isin(t_cust)]['has_hit'].sum() / stats.shape[0],\n",
    "    'old_relevance': stats[stats['customer_id'].isin(old_cust)]['has_hit'].sum() / stats.shape[0],\n",
    "}"
   ],
   "metadata": {
    "collapsed": false,
    "pycharm": {
     "name": "#%%\n"
    }
   }
  },
  {
   "cell_type": "code",
   "execution_count": 59,
   "outputs": [
    {
     "name": "stdout",
     "output_type": "stream",
     "text": [
      "count    1000.000000\n",
      "mean        0.035106\n",
      "std         0.004169\n",
      "min         0.023357\n",
      "25%         0.032227\n",
      "50%         0.034870\n",
      "75%         0.037839\n",
      "max         0.050073\n",
      "dtype: float64\n"
     ]
    },
    {
     "data": {
      "text/plain": "<Figure size 432x288 with 1 Axes>",
      "image/png": "[encoded data removed]"
     },
     "metadata": {},
     "output_type": "display_data"
    }
   ],
   "source": [
    "N = 1000\n",
    "precisions = np.zeros(N)\n",
    "for i in range(N):\n",
    "    precisions[i] = comb.sample(n=1000)['precision'].mean()\n",
    "\n",
    "print(pd.Series(precisions).describe())\n",
    "sns.histplot(precisions)\n",
    "plt.title('Precision distribution');"
   ],
   "metadata": {
    "collapsed": false,
    "pycharm": {
     "name": "#%%\n"
    }
   }
  },
  {
   "cell_type": "markdown",
   "source": [
    "# submission"
   ],
   "metadata": {
    "collapsed": false,
    "pycharm": {
     "name": "#%% md\n"
    }
   }
  },
  {
   "cell_type": "code",
   "execution_count": null,
   "outputs": [],
   "source": [
    "model = CatBoostRanker().load_model(fname=str(data_root / 'models' / 'pair_logit.model'))"
   ],
   "metadata": {
    "collapsed": false,
    "pycharm": {
     "name": "#%%\n"
    }
   }
  },
  {
   "cell_type": "code",
   "execution_count": null,
   "outputs": [],
   "source": [
    "submission = pd.read_csv('/data/sstamenov/kaggle-data/sample_submission.csv').drop(columns=['prediction'])\n",
    "delta = (pd.to_datetime('2020-09-22') - df['t_dat']).dt.days\n",
    "df['delta_weeks'] = 1 / (1 + np.power(delta // 7, 1))"
   ],
   "metadata": {
    "collapsed": false,
    "pycharm": {
     "name": "#%%\n"
    }
   }
  },
  {
   "cell_type": "code",
   "execution_count": null,
   "outputs": [],
   "source": [
    "submission.head()"
   ],
   "metadata": {
    "collapsed": false,
    "pycharm": {
     "name": "#%%\n"
    }
   }
  },
  {
   "cell_type": "code",
   "execution_count": null,
   "outputs": [],
   "source": [
    "df.head()"
   ],
   "metadata": {
    "collapsed": false,
    "pycharm": {
     "name": "#%%\n"
    }
   }
  },
  {
   "cell_type": "code",
   "execution_count": null,
   "outputs": [],
   "source": [
    "# full_ds = filter_data(df, to_date='2020-09-22')\n",
    "train = filter_data(df, '2020-09-15', '2020-09-22')"
   ],
   "metadata": {
    "collapsed": false,
    "pycharm": {
     "name": "#%%\n"
    }
   }
  },
  {
   "cell_type": "code",
   "execution_count": null,
   "outputs": [],
   "source": [
    "\n",
    "pipeline = kaggle_hm.als_model.MatrixFactorizationPipeline(min_items=1, min_customers=1, cell_value='time', factors=256, iterations=50, regularization=0.01)\n",
    "pipeline.fit(train)\n",
    "rec_df = pipeline.predict(full_ds, N=100)"
   ],
   "metadata": {
    "collapsed": false,
    "pycharm": {
     "name": "#%%\n"
    }
   }
  },
  {
   "cell_type": "code",
   "execution_count": null,
   "outputs": [],
   "source": [
    "rec_df['product_code'] = rec_df['article_id'].str[1:7].astype('int')"
   ],
   "metadata": {
    "collapsed": false,
    "pycharm": {
     "name": "#%%\n"
    }
   }
  },
  {
   "cell_type": "code",
   "execution_count": null,
   "outputs": [],
   "source": [
    "rec_df = calc_features(rec_df, train, c, items)"
   ],
   "metadata": {
    "collapsed": false,
    "pycharm": {
     "name": "#%%\n"
    }
   }
  },
  {
   "cell_type": "code",
   "execution_count": null,
   "outputs": [],
   "source": [
    "old_transactions = filter_data(df, from_date='2020-08-24', to_date='2020-09-22')\n",
    "item_stats = get_item_stats(old_transactions, '2020-09-22')\n",
    "rec_df = rec_df.merge(item_stats, on='article_id', how='left')"
   ],
   "metadata": {
    "collapsed": false,
    "pycharm": {
     "name": "#%%\n"
    }
   }
  },
  {
   "cell_type": "code",
   "execution_count": null,
   "outputs": [],
   "source": [
    "rec_df.to_parquet(data_root / 'clean' / 'X_pred.parquet')"
   ],
   "metadata": {
    "collapsed": false,
    "pycharm": {
     "name": "#%%\n"
    }
   }
  },
  {
   "cell_type": "code",
   "execution_count": null,
   "outputs": [],
   "source": [
    "rec_df = pd.read_parquet(data_root / 'clean' / 'X_pred.parquet')"
   ],
   "metadata": {
    "collapsed": false,
    "pycharm": {
     "name": "#%%\n"
    }
   }
  },
  {
   "cell_type": "code",
   "execution_count": null,
   "outputs": [],
   "source": [
    "X_pred = rec_df[features]"
   ],
   "metadata": {
    "collapsed": false,
    "pycharm": {
     "name": "#%%\n"
    }
   }
  },
  {
   "cell_type": "code",
   "execution_count": null,
   "outputs": [],
   "source": [
    "X_pred.head()"
   ],
   "metadata": {
    "collapsed": false,
    "pycharm": {
     "name": "#%%\n"
    }
   }
  },
  {
   "cell_type": "code",
   "execution_count": null,
   "outputs": [],
   "source": [
    "predictions = model.predict(X_pred)\n",
    "rec_df['prediction'] = predictions\n",
    "rec_df['rank'] = rec_df.groupby('customer_id')['prediction'].rank(ascending=False, method='first')\n",
    "\n",
    "relevant_items = rec_df.query('rank <= 12').sort_values(['customer_id', 'rank'], ascending=True)\n",
    "pred_df = (\n",
    "    relevant_items.groupby('customer_id', observed=True).agg(candidates=('article_id', list))\n",
    ")"
   ],
   "metadata": {
    "collapsed": false,
    "pycharm": {
     "name": "#%%\n"
    }
   }
  },
  {
   "cell_type": "code",
   "execution_count": null,
   "outputs": [],
   "source": [
    "pred_df.shape[0]"
   ],
   "metadata": {
    "collapsed": false,
    "pycharm": {
     "name": "#%%\n"
    }
   }
  },
  {
   "cell_type": "code",
   "execution_count": null,
   "outputs": [],
   "source": [
    "submission = submission.merge(c[['customer_id', 'age_group']], on='customer_id', how='left')"
   ],
   "metadata": {
    "collapsed": false,
    "pycharm": {
     "name": "#%%\n"
    }
   }
  },
  {
   "cell_type": "code",
   "execution_count": null,
   "outputs": [],
   "source": [
    "top12_age_pred = age_chart(train)\n",
    "submission = submission.merge(pred_df, on='customer_id', how='left')\n",
    "submission = submission.merge(top12_age_pred, on='age_group', how='left').drop(columns=['age_group'])\n",
    "submission['prediction'] = submission['candidates'].combine_first(submission['naive_pred'])"
   ],
   "metadata": {
    "collapsed": false,
    "pycharm": {
     "name": "#%%\n"
    }
   }
  },
  {
   "cell_type": "code",
   "execution_count": null,
   "outputs": [],
   "source": [
    "submission.head()"
   ],
   "metadata": {
    "collapsed": false,
    "pycharm": {
     "name": "#%%\n"
    }
   }
  },
  {
   "cell_type": "code",
   "execution_count": null,
   "outputs": [],
   "source": [
    "submission.shape[0]"
   ],
   "metadata": {
    "collapsed": false,
    "pycharm": {
     "name": "#%%\n"
    }
   }
  },
  {
   "cell_type": "code",
   "execution_count": null,
   "outputs": [],
   "source": [
    "submission['prediction'] = submission['prediction'].apply(lambda _: ' '.join(_))"
   ],
   "metadata": {
    "collapsed": false,
    "pycharm": {
     "name": "#%%\n"
    }
   }
  },
  {
   "cell_type": "code",
   "execution_count": null,
   "outputs": [],
   "source": [
    "submission.head()"
   ],
   "metadata": {
    "collapsed": false,
    "pycharm": {
     "name": "#%%\n"
    }
   }
  },
  {
   "cell_type": "code",
   "execution_count": null,
   "outputs": [],
   "source": [
    "submission[['customer_id', 'prediction']].to_csv('/data/sstamenov/kaggle-data/output/implicit_time_rank_ftrs_submission.csv', index=False)"
   ],
   "metadata": {
    "collapsed": false,
    "pycharm": {
     "name": "#%%\n"
    }
   }
  },
  {
   "cell_type": "code",
   "execution_count": null,
   "outputs": [],
   "source": [
    "sept = filter_data(df, from_date='2019-09-23', to_date='2019-09-29')"
   ],
   "metadata": {
    "collapsed": false,
    "pycharm": {
     "name": "#%%\n"
    }
   }
  },
  {
   "cell_type": "code",
   "execution_count": null,
   "outputs": [],
   "source": [
    "sept['t_dat'].value_counts().sort_index()"
   ],
   "metadata": {
    "collapsed": false,
    "pycharm": {
     "name": "#%%\n"
    }
   }
  },
  {
   "cell_type": "code",
   "execution_count": null,
   "outputs": [],
   "source": [
    "sept.groupby('t_dat')['customer_id'].nunique().sort_index()"
   ],
   "metadata": {
    "collapsed": false,
    "pycharm": {
     "name": "#%%\n"
    }
   }
  },
  {
   "cell_type": "code",
   "execution_count": null,
   "outputs": [],
   "source": [
    "from kaggle_hm.utils import visualize_items\n",
    "\n",
    "visualize_items(sept['article_id'].value_counts()[:20].index, rows=4, columns=5)"
   ],
   "metadata": {
    "collapsed": false,
    "pycharm": {
     "name": "#%%\n"
    }
   }
  },
  {
   "cell_type": "code",
   "execution_count": 11,
   "outputs": [
    {
     "data": {
      "text/plain": "      score  bought   age product_type_name colour_group_name  \\\n0  0.378568       1  24.0            Jacket     Greyish Beige   \n1  0.280123       0  24.0            Hoodie             Black   \n2  0.195061       0  24.0            Hoodie        Light Pink   \n3  0.184482       0  24.0            Hoodie             Green   \n4  0.168636       0  24.0            Jacket              Pink   \n\n      department_name      section_name garment_group_name  total_cust  \\\n0  Ladies Sport Woven  Ladies H&M Sport            Unknown         382   \n1   Ladies Sport Bras  Ladies H&M Sport       Jersey Fancy         781   \n2   Ladies Sport Bras  Ladies H&M Sport       Jersey Fancy         432   \n3   Ladies Sport Bras  Ladies H&M Sport       Jersey Fancy         232   \n4  Ladies Sport Woven  Ladies H&M Sport            Unknown          77   \n\n   item_age  monday_item  avg_per_customer  daily_sales  avg_price    avg_age  \\\n0  0.033333            1          1.197492    13.172414   0.066298  40.954314   \n1  0.033333            1          1.199693    26.033333   0.050016  38.413283   \n2  0.033333            1          1.119171    14.400000   0.049658  40.621639   \n3  0.066667            0          1.094340    15.466667   0.049865  41.327586   \n4  0.045455            0          1.054795     3.666667   0.065408  45.103896   \n\n   median_price  max_price  min_price  bought_same_prod  \n0      0.067780   0.067780   0.027102                 1  \n1      0.050831   0.050831   0.031339                 0  \n2      0.050831   0.050831   0.037136                 0  \n3      0.050831   0.050831   0.038119                 0  \n4      0.067780   0.067780   0.027119                 1  ",
      "text/html": "<div>\n<style scoped>\n    .dataframe tbody tr th:only-of-type {\n        vertical-align: middle;\n    }\n\n    .dataframe tbody tr th {\n        vertical-align: top;\n    }\n\n    .dataframe thead th {\n        text-align: right;\n    }\n</style>\n<table border=\"1\" class=\"dataframe\">\n  <thead>\n    <tr style=\"text-align: right;\">\n      <th></th>\n      <th>score</th>\n      <th>bought</th>\n      <th>age</th>\n      <th>product_type_name</th>\n      <th>colour_group_name</th>\n      <th>department_name</th>\n      <th>section_name</th>\n      <th>garment_group_name</th>\n      <th>total_cust</th>\n      <th>item_age</th>\n      <th>monday_item</th>\n      <th>avg_per_customer</th>\n      <th>daily_sales</th>\n      <th>avg_price</th>\n      <th>avg_age</th>\n      <th>median_price</th>\n      <th>max_price</th>\n      <th>min_price</th>\n      <th>bought_same_prod</th>\n    </tr>\n  </thead>\n  <tbody>\n    <tr>\n      <th>0</th>\n      <td>0.378568</td>\n      <td>1</td>\n      <td>24.0</td>\n      <td>Jacket</td>\n      <td>Greyish Beige</td>\n      <td>Ladies Sport Woven</td>\n      <td>Ladies H&amp;M Sport</td>\n      <td>Unknown</td>\n      <td>382</td>\n      <td>0.033333</td>\n      <td>1</td>\n      <td>1.197492</td>\n      <td>13.172414</td>\n      <td>0.066298</td>\n      <td>40.954314</td>\n      <td>0.067780</td>\n      <td>0.067780</td>\n      <td>0.027102</td>\n      <td>1</td>\n    </tr>\n    <tr>\n      <th>1</th>\n      <td>0.280123</td>\n      <td>0</td>\n      <td>24.0</td>\n      <td>Hoodie</td>\n      <td>Black</td>\n      <td>Ladies Sport Bras</td>\n      <td>Ladies H&amp;M Sport</td>\n      <td>Jersey Fancy</td>\n      <td>781</td>\n      <td>0.033333</td>\n      <td>1</td>\n      <td>1.199693</td>\n      <td>26.033333</td>\n      <td>0.050016</td>\n      <td>38.413283</td>\n      <td>0.050831</td>\n      <td>0.050831</td>\n      <td>0.031339</td>\n      <td>0</td>\n    </tr>\n    <tr>\n      <th>2</th>\n      <td>0.195061</td>\n      <td>0</td>\n      <td>24.0</td>\n      <td>Hoodie</td>\n      <td>Light Pink</td>\n      <td>Ladies Sport Bras</td>\n      <td>Ladies H&amp;M Sport</td>\n      <td>Jersey Fancy</td>\n      <td>432</td>\n      <td>0.033333</td>\n      <td>1</td>\n      <td>1.119171</td>\n      <td>14.400000</td>\n      <td>0.049658</td>\n      <td>40.621639</td>\n      <td>0.050831</td>\n      <td>0.050831</td>\n      <td>0.037136</td>\n      <td>0</td>\n    </tr>\n    <tr>\n      <th>3</th>\n      <td>0.184482</td>\n      <td>0</td>\n      <td>24.0</td>\n      <td>Hoodie</td>\n      <td>Green</td>\n      <td>Ladies Sport Bras</td>\n      <td>Ladies H&amp;M Sport</td>\n      <td>Jersey Fancy</td>\n      <td>232</td>\n      <td>0.066667</td>\n      <td>0</td>\n      <td>1.094340</td>\n      <td>15.466667</td>\n      <td>0.049865</td>\n      <td>41.327586</td>\n      <td>0.050831</td>\n      <td>0.050831</td>\n      <td>0.038119</td>\n      <td>0</td>\n    </tr>\n    <tr>\n      <th>4</th>\n      <td>0.168636</td>\n      <td>0</td>\n      <td>24.0</td>\n      <td>Jacket</td>\n      <td>Pink</td>\n      <td>Ladies Sport Woven</td>\n      <td>Ladies H&amp;M Sport</td>\n      <td>Unknown</td>\n      <td>77</td>\n      <td>0.045455</td>\n      <td>0</td>\n      <td>1.054795</td>\n      <td>3.666667</td>\n      <td>0.065408</td>\n      <td>45.103896</td>\n      <td>0.067780</td>\n      <td>0.067780</td>\n      <td>0.027119</td>\n      <td>1</td>\n    </tr>\n  </tbody>\n</table>\n</div>"
     },
     "execution_count": 11,
     "metadata": {},
     "output_type": "execute_result"
    }
   ],
   "source": [
    "X_pred.head()"
   ],
   "metadata": {
    "collapsed": false,
    "pycharm": {
     "name": "#%%\n"
    }
   }
  },
  {
   "cell_type": "code",
   "execution_count": 12,
   "outputs": [],
   "source": [
    "predictions = model.predict(X_pred)\n",
    "rec_df['prediction'] = predictions\n",
    "rec_df['rank'] = rec_df.groupby('customer_id')['prediction'].rank(ascending=False, method='first')\n",
    "\n",
    "relevant_items = rec_df.query('rank <= 12').sort_values(['customer_id', 'rank'], ascending=True)\n",
    "pred_df = (\n",
    "    relevant_items.groupby('customer_id', observed=True).agg(candidates=('article_id', list))\n",
    ")"
   ],
   "metadata": {
    "collapsed": false,
    "pycharm": {
     "name": "#%%\n"
    }
   }
  },
  {
   "cell_type": "code",
   "execution_count": 13,
   "outputs": [
    {
     "data": {
      "text/plain": "1105000"
     },
     "execution_count": 13,
     "metadata": {},
     "output_type": "execute_result"
    }
   ],
   "source": [
    "pred_df.shape[0]"
   ],
   "metadata": {
    "collapsed": false,
    "pycharm": {
     "name": "#%%\n"
    }
   }
  },
  {
   "cell_type": "code",
   "execution_count": 14,
   "outputs": [],
   "source": [
    "submission = submission.merge(c[['customer_id', 'age_group']], on='customer_id', how='left')"
   ],
   "metadata": {
    "collapsed": false,
    "pycharm": {
     "name": "#%%\n"
    }
   }
  },
  {
   "cell_type": "code",
   "execution_count": 17,
   "outputs": [],
   "source": [
    "top12_age_pred = age_chart(train)\n",
    "submission = submission.merge(pred_df, on='customer_id', how='left')\n",
    "submission = submission.merge(top12_age_pred, on='age_group', how='left').drop(columns=['age_group'])\n",
    "submission['prediction'] = submission['candidates'].combine_first(submission['naive_pred'])"
   ],
   "metadata": {
    "collapsed": false,
    "pycharm": {
     "name": "#%%\n"
    }
   }
  },
  {
   "cell_type": "code",
   "execution_count": 18,
   "outputs": [
    {
     "data": {
      "text/plain": "                                         customer_id  \\\n0  00000dbacae5abe5e23885899a1fa44253a17956c6d1c3...   \n1  0000423b00ade91418cceaf3b26c6af3dd342b51fd051e...   \n2  000058a12d5b43e67d225668fa1f8d618c13dc232df0ca...   \n3  00005ca1c9ed5f5146b52ac8639a40ca9d57aeff4d1bd2...   \n4  00006413d8573cd20ed7128e53b7b13819fe5cfc2d801f...   \n\n                                          candidates  \\\n0  [0568601043, 0779781015, 0568601006, 056859700...   \n1  [0673677002, 0351484039, 0739590027, 077623702...   \n2  [0794321007, 0805000001, 0794321008, 080500000...   \n3                                                NaN   \n4  [0896152002, 0896152001, 0730683050, 079158700...   \n\n                                          naive_pred  \\\n0  [0751471001, 0923758001, 0924243001, 092424300...   \n1  [0924243001, 0918522001, 0924243002, 091552900...   \n2  [0924243001, 0918522001, 0924243002, 091552900...   \n3  [0924243001, 0928206001, 0930380001, 092424300...   \n4  [0924243001, 0928206001, 0930380001, 092424300...   \n\n                                          prediction  \n0  [0568601043, 0779781015, 0568601006, 056859700...  \n1  [0673677002, 0351484039, 0739590027, 077623702...  \n2  [0794321007, 0805000001, 0794321008, 080500000...  \n3  [0924243001, 0928206001, 0930380001, 092424300...  \n4  [0896152002, 0896152001, 0730683050, 079158700...  ",
      "text/html": "<div>\n<style scoped>\n    .dataframe tbody tr th:only-of-type {\n        vertical-align: middle;\n    }\n\n    .dataframe tbody tr th {\n        vertical-align: top;\n    }\n\n    .dataframe thead th {\n        text-align: right;\n    }\n</style>\n<table border=\"1\" class=\"dataframe\">\n  <thead>\n    <tr style=\"text-align: right;\">\n      <th></th>\n      <th>customer_id</th>\n      <th>candidates</th>\n      <th>naive_pred</th>\n      <th>prediction</th>\n    </tr>\n  </thead>\n  <tbody>\n    <tr>\n      <th>0</th>\n      <td>00000dbacae5abe5e23885899a1fa44253a17956c6d1c3...</td>\n      <td>[0568601043, 0779781015, 0568601006, 056859700...</td>\n      <td>[0751471001, 0923758001, 0924243001, 092424300...</td>\n      <td>[0568601043, 0779781015, 0568601006, 056859700...</td>\n    </tr>\n    <tr>\n      <th>1</th>\n      <td>0000423b00ade91418cceaf3b26c6af3dd342b51fd051e...</td>\n      <td>[0673677002, 0351484039, 0739590027, 077623702...</td>\n      <td>[0924243001, 0918522001, 0924243002, 091552900...</td>\n      <td>[0673677002, 0351484039, 0739590027, 077623702...</td>\n    </tr>\n    <tr>\n      <th>2</th>\n      <td>000058a12d5b43e67d225668fa1f8d618c13dc232df0ca...</td>\n      <td>[0794321007, 0805000001, 0794321008, 080500000...</td>\n      <td>[0924243001, 0918522001, 0924243002, 091552900...</td>\n      <td>[0794321007, 0805000001, 0794321008, 080500000...</td>\n    </tr>\n    <tr>\n      <th>3</th>\n      <td>00005ca1c9ed5f5146b52ac8639a40ca9d57aeff4d1bd2...</td>\n      <td>NaN</td>\n      <td>[0924243001, 0928206001, 0930380001, 092424300...</td>\n      <td>[0924243001, 0928206001, 0930380001, 092424300...</td>\n    </tr>\n    <tr>\n      <th>4</th>\n      <td>00006413d8573cd20ed7128e53b7b13819fe5cfc2d801f...</td>\n      <td>[0896152002, 0896152001, 0730683050, 079158700...</td>\n      <td>[0924243001, 0928206001, 0930380001, 092424300...</td>\n      <td>[0896152002, 0896152001, 0730683050, 079158700...</td>\n    </tr>\n  </tbody>\n</table>\n</div>"
     },
     "execution_count": 18,
     "metadata": {},
     "output_type": "execute_result"
    }
   ],
   "source": [
    "submission.head()"
   ],
   "metadata": {
    "collapsed": false,
    "pycharm": {
     "name": "#%%\n"
    }
   }
  },
  {
   "cell_type": "code",
   "execution_count": 19,
   "outputs": [
    {
     "data": {
      "text/plain": "1371980"
     },
     "execution_count": 19,
     "metadata": {},
     "output_type": "execute_result"
    }
   ],
   "source": [
    "submission.shape[0]"
   ],
   "metadata": {
    "collapsed": false,
    "pycharm": {
     "name": "#%%\n"
    }
   }
  },
  {
   "cell_type": "code",
   "execution_count": 21,
   "outputs": [],
   "source": [
    "submission['prediction'] = submission['prediction'].apply(lambda _: ' '.join(_))"
   ],
   "metadata": {
    "collapsed": false,
    "pycharm": {
     "name": "#%%\n"
    }
   }
  },
  {
   "cell_type": "code",
   "execution_count": 22,
   "outputs": [
    {
     "data": {
      "text/plain": "                                         customer_id  \\\n0  00000dbacae5abe5e23885899a1fa44253a17956c6d1c3...   \n1  0000423b00ade91418cceaf3b26c6af3dd342b51fd051e...   \n2  000058a12d5b43e67d225668fa1f8d618c13dc232df0ca...   \n3  00005ca1c9ed5f5146b52ac8639a40ca9d57aeff4d1bd2...   \n4  00006413d8573cd20ed7128e53b7b13819fe5cfc2d801f...   \n\n                                          candidates  \\\n0  [0568601043, 0779781015, 0568601006, 056859700...   \n1  [0673677002, 0351484039, 0739590027, 077623702...   \n2  [0794321007, 0805000001, 0794321008, 080500000...   \n3                                                NaN   \n4  [0896152002, 0896152001, 0730683050, 079158700...   \n\n                                          naive_pred  \\\n0  [0751471001, 0923758001, 0924243001, 092424300...   \n1  [0924243001, 0918522001, 0924243002, 091552900...   \n2  [0924243001, 0918522001, 0924243002, 091552900...   \n3  [0924243001, 0928206001, 0930380001, 092424300...   \n4  [0924243001, 0928206001, 0930380001, 092424300...   \n\n                                          prediction  \n0  0568601043 0779781015 0568601006 0568597006 08...  \n1  0673677002 0351484039 0739590027 0776237020 05...  \n2  0794321007 0805000001 0794321008 0805000007 08...  \n3  0924243001 0928206001 0930380001 0924243002 09...  \n4  0896152002 0896152001 0730683050 0791587001 07...  ",
      "text/html": "<div>\n<style scoped>\n    .dataframe tbody tr th:only-of-type {\n        vertical-align: middle;\n    }\n\n    .dataframe tbody tr th {\n        vertical-align: top;\n    }\n\n    .dataframe thead th {\n        text-align: right;\n    }\n</style>\n<table border=\"1\" class=\"dataframe\">\n  <thead>\n    <tr style=\"text-align: right;\">\n      <th></th>\n      <th>customer_id</th>\n      <th>candidates</th>\n      <th>naive_pred</th>\n      <th>prediction</th>\n    </tr>\n  </thead>\n  <tbody>\n    <tr>\n      <th>0</th>\n      <td>00000dbacae5abe5e23885899a1fa44253a17956c6d1c3...</td>\n      <td>[0568601043, 0779781015, 0568601006, 056859700...</td>\n      <td>[0751471001, 0923758001, 0924243001, 092424300...</td>\n      <td>0568601043 0779781015 0568601006 0568597006 08...</td>\n    </tr>\n    <tr>\n      <th>1</th>\n      <td>0000423b00ade91418cceaf3b26c6af3dd342b51fd051e...</td>\n      <td>[0673677002, 0351484039, 0739590027, 077623702...</td>\n      <td>[0924243001, 0918522001, 0924243002, 091552900...</td>\n      <td>0673677002 0351484039 0739590027 0776237020 05...</td>\n    </tr>\n    <tr>\n      <th>2</th>\n      <td>000058a12d5b43e67d225668fa1f8d618c13dc232df0ca...</td>\n      <td>[0794321007, 0805000001, 0794321008, 080500000...</td>\n      <td>[0924243001, 0918522001, 0924243002, 091552900...</td>\n      <td>0794321007 0805000001 0794321008 0805000007 08...</td>\n    </tr>\n    <tr>\n      <th>3</th>\n      <td>00005ca1c9ed5f5146b52ac8639a40ca9d57aeff4d1bd2...</td>\n      <td>NaN</td>\n      <td>[0924243001, 0928206001, 0930380001, 092424300...</td>\n      <td>0924243001 0928206001 0930380001 0924243002 09...</td>\n    </tr>\n    <tr>\n      <th>4</th>\n      <td>00006413d8573cd20ed7128e53b7b13819fe5cfc2d801f...</td>\n      <td>[0896152002, 0896152001, 0730683050, 079158700...</td>\n      <td>[0924243001, 0928206001, 0930380001, 092424300...</td>\n      <td>0896152002 0896152001 0730683050 0791587001 07...</td>\n    </tr>\n  </tbody>\n</table>\n</div>"
     },
     "execution_count": 22,
     "metadata": {},
     "output_type": "execute_result"
    }
   ],
   "source": [
    "submission.head()"
   ],
   "metadata": {
    "collapsed": false,
    "pycharm": {
     "name": "#%%\n"
    }
   }
  },
  {
   "cell_type": "code",
   "execution_count": 23,
   "outputs": [],
   "source": [
    "submission[['customer_id', 'prediction']].to_csv('/data/sstamenov/kaggle-data/output/implicit_time_rank_ftrs_submission.csv', index=False)"
   ],
   "metadata": {
    "collapsed": false,
    "pycharm": {
     "name": "#%%\n"
    }
   }
  },
  {
   "cell_type": "code",
   "execution_count": 48,
   "outputs": [],
   "source": [
    "sept = filter_data(df, from_date='2019-09-23', to_date='2019-09-29')"
   ],
   "metadata": {
    "collapsed": false,
    "pycharm": {
     "name": "#%%\n"
    }
   }
  },
  {
   "cell_type": "code",
   "execution_count": 49,
   "outputs": [
    {
     "data": {
      "text/plain": "2019-09-23     34076\n2019-09-24     36702\n2019-09-25     41256\n2019-09-26     37128\n2019-09-27     35597\n2019-09-28    198622\n2019-09-29     40043\nName: t_dat, dtype: int64"
     },
     "execution_count": 49,
     "metadata": {},
     "output_type": "execute_result"
    }
   ],
   "source": [
    "sept['t_dat'].value_counts().sort_index()"
   ],
   "metadata": {
    "collapsed": false,
    "pycharm": {
     "name": "#%%\n"
    }
   }
  },
  {
   "cell_type": "code",
   "execution_count": 50,
   "outputs": [
    {
     "data": {
      "text/plain": "t_dat\n2019-09-23     9766\n2019-09-24    10975\n2019-09-25    12497\n2019-09-26    11757\n2019-09-27    12208\n2019-09-28    42062\n2019-09-29    11192\nName: customer_id, dtype: int64"
     },
     "execution_count": 50,
     "metadata": {},
     "output_type": "execute_result"
    }
   ],
   "source": [
    "sept.groupby('t_dat')['customer_id'].nunique().sort_index()"
   ],
   "metadata": {
    "collapsed": false,
    "pycharm": {
     "name": "#%%\n"
    }
   }
  },
  {
   "cell_type": "code",
   "execution_count": null,
   "outputs": [],
   "source": [
    "from kaggle_hm.utils import visualize_items\n",
    "\n",
    "visualize_items(sept['article_id'].value_counts()[:20].index, rows=4, columns=5)"
   ],
   "metadata": {
    "collapsed": false,
    "pycharm": {
     "name": "#%%\n"
    }
   }
  }
 ],
 "metadata": {
  "kernelspec": {
   "display_name": "Python 3",
   "language": "python",
   "name": "python3"
  },
  "language_info": {
   "codemirror_mode": {
    "name": "ipython",
    "version": 2
   },
   "file_extension": ".py",
   "mimetype": "text/x-python",
   "name": "python",
   "nbconvert_exporter": "python",
   "pygments_lexer": "ipython2",
   "version": "2.7.6"
  }
 },
 "nbformat": 4,
 "nbformat_minor": 0
}