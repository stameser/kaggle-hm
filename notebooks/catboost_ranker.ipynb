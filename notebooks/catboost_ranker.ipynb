{
 "cells": [
  {
   "cell_type": "code",
   "execution_count": 2,
   "outputs": [],
   "source": [
    "import matplotlib.pyplot as plt\n",
    "from catboost import CatBoostRanker, Pool\n",
    "from kaggle_hm.chart_model import filter_data\n",
    "from copy import deepcopy\n",
    "import numpy as np\n",
    "import os\n",
    "import seaborn as sns\n",
    "import pandas as pd\n",
    "from kaggle_hm.config import data_root, train_dates, test_dates\n",
    "from kaggle_hm.evaluation import compute_precision\n",
    "import kaggle_hm.als_model\n",
    "from kaggle_hm.chart_model import age_chart\n",
    "from kaggle_hm.evaluation import plot_precision_at_k, enrich_data, precision_by_age, precision_by_usage\n",
    "from kaggle_hm import ranking_features as rf\n",
    "from sklearn.model_selection import train_test_split\n",
    "from importlib import reload"
   ],
   "metadata": {
    "collapsed": false,
    "pycharm": {
     "name": "#%%\n"
    }
   }
  },
  {
   "cell_type": "code",
   "execution_count": 24,
   "outputs": [],
   "source": [
    "rf = reload(kaggle_hm.ranking_features)"
   ],
   "metadata": {
    "collapsed": false,
    "pycharm": {
     "name": "#%%\n"
    }
   }
  },
  {
   "cell_type": "code",
   "execution_count": 2,
   "outputs": [],
   "source": [
    "candidates = pd.read_parquet(data_root / '2020-09-08' / 'X.parquet')"
   ],
   "metadata": {
    "collapsed": false,
    "pycharm": {
     "name": "#%%\n"
    }
   }
  },
  {
   "cell_type": "code",
   "execution_count": 3,
   "outputs": [
    {
     "data": {
      "text/plain": "      score                                        customer_id  article_id  \\\n0  0.015371  00401a367c5ac085cb9d4b77c56f3edcabf25153615db9...  0573937001   \n1  0.014880  00401a367c5ac085cb9d4b77c56f3edcabf25153615db9...  0931769003   \n2  0.011691  00401a367c5ac085cb9d4b77c56f3edcabf25153615db9...  0881244001   \n3  0.010719  00401a367c5ac085cb9d4b77c56f3edcabf25153615db9...  0698387001   \n4  0.009584  00401a367c5ac085cb9d4b77c56f3edcabf25153615db9...  0889652001   \n\n  method  product_code  article_totals  product_totals   age  \\\n0    als        573937             NaN             NaN  28.0   \n1    als        931769             NaN             NaN  28.0   \n2    als        881244             NaN             NaN  28.0   \n3    als        698387             NaN             NaN  28.0   \n4    als        889652             NaN             NaN  28.0   \n\n  product_type_name colour_group_name  ...  item_age daily_sales monday_item  \\\n0          Trousers             Black  ...  0.032258    3.592593           0   \n1          Trousers         Dark Grey  ...  0.083333   25.250000           0   \n2          Trousers             Black  ...  0.032258   13.709677           0   \n3          Trousers             Black  ...  0.033333    2.750000           1   \n4          Trousers             Black  ...  0.032258   10.538462           0   \n\n   avg_per_customer  segment  total_items  product_type_name_clean  \\\n0          1.328767      old           11                 0.222222   \n1          1.278481      old           11                 0.222222   \n2          1.388889      old           11                 0.222222   \n3          1.404255      old           11                 0.222222   \n4          1.256881      old           11                 0.222222   \n\n   colour_group_name_clean  department_name_clean  section_name_clean  \n0                 0.500000               0.166667            0.388889  \n1                 0.111111               0.166667            0.388889  \n2                 0.500000               0.111111            0.111111  \n3                 0.500000               0.111111            0.111111  \n4                 0.500000               0.166667            0.388889  \n\n[5 rows x 27 columns]",
      "text/html": "<div>\n<style scoped>\n    .dataframe tbody tr th:only-of-type {\n        vertical-align: middle;\n    }\n\n    .dataframe tbody tr th {\n        vertical-align: top;\n    }\n\n    .dataframe thead th {\n        text-align: right;\n    }\n</style>\n<table border=\"1\" class=\"dataframe\">\n  <thead>\n    <tr style=\"text-align: right;\">\n      <th></th>\n      <th>score</th>\n      <th>customer_id</th>\n      <th>article_id</th>\n      <th>method</th>\n      <th>product_code</th>\n      <th>article_totals</th>\n      <th>product_totals</th>\n      <th>age</th>\n      <th>product_type_name</th>\n      <th>colour_group_name</th>\n      <th>...</th>\n      <th>item_age</th>\n      <th>daily_sales</th>\n      <th>monday_item</th>\n      <th>avg_per_customer</th>\n      <th>segment</th>\n      <th>total_items</th>\n      <th>product_type_name_clean</th>\n      <th>colour_group_name_clean</th>\n      <th>department_name_clean</th>\n      <th>section_name_clean</th>\n    </tr>\n  </thead>\n  <tbody>\n    <tr>\n      <th>0</th>\n      <td>0.015371</td>\n      <td>00401a367c5ac085cb9d4b77c56f3edcabf25153615db9...</td>\n      <td>0573937001</td>\n      <td>als</td>\n      <td>573937</td>\n      <td>NaN</td>\n      <td>NaN</td>\n      <td>28.0</td>\n      <td>Trousers</td>\n      <td>Black</td>\n      <td>...</td>\n      <td>0.032258</td>\n      <td>3.592593</td>\n      <td>0</td>\n      <td>1.328767</td>\n      <td>old</td>\n      <td>11</td>\n      <td>0.222222</td>\n      <td>0.500000</td>\n      <td>0.166667</td>\n      <td>0.388889</td>\n    </tr>\n    <tr>\n      <th>1</th>\n      <td>0.014880</td>\n      <td>00401a367c5ac085cb9d4b77c56f3edcabf25153615db9...</td>\n      <td>0931769003</td>\n      <td>als</td>\n      <td>931769</td>\n      <td>NaN</td>\n      <td>NaN</td>\n      <td>28.0</td>\n      <td>Trousers</td>\n      <td>Dark Grey</td>\n      <td>...</td>\n      <td>0.083333</td>\n      <td>25.250000</td>\n      <td>0</td>\n      <td>1.278481</td>\n      <td>old</td>\n      <td>11</td>\n      <td>0.222222</td>\n      <td>0.111111</td>\n      <td>0.166667</td>\n      <td>0.388889</td>\n    </tr>\n    <tr>\n      <th>2</th>\n      <td>0.011691</td>\n      <td>00401a367c5ac085cb9d4b77c56f3edcabf25153615db9...</td>\n      <td>0881244001</td>\n      <td>als</td>\n      <td>881244</td>\n      <td>NaN</td>\n      <td>NaN</td>\n      <td>28.0</td>\n      <td>Trousers</td>\n      <td>Black</td>\n      <td>...</td>\n      <td>0.032258</td>\n      <td>13.709677</td>\n      <td>0</td>\n      <td>1.388889</td>\n      <td>old</td>\n      <td>11</td>\n      <td>0.222222</td>\n      <td>0.500000</td>\n      <td>0.111111</td>\n      <td>0.111111</td>\n    </tr>\n    <tr>\n      <th>3</th>\n      <td>0.010719</td>\n      <td>00401a367c5ac085cb9d4b77c56f3edcabf25153615db9...</td>\n      <td>0698387001</td>\n      <td>als</td>\n      <td>698387</td>\n      <td>NaN</td>\n      <td>NaN</td>\n      <td>28.0</td>\n      <td>Trousers</td>\n      <td>Black</td>\n      <td>...</td>\n      <td>0.033333</td>\n      <td>2.750000</td>\n      <td>1</td>\n      <td>1.404255</td>\n      <td>old</td>\n      <td>11</td>\n      <td>0.222222</td>\n      <td>0.500000</td>\n      <td>0.111111</td>\n      <td>0.111111</td>\n    </tr>\n    <tr>\n      <th>4</th>\n      <td>0.009584</td>\n      <td>00401a367c5ac085cb9d4b77c56f3edcabf25153615db9...</td>\n      <td>0889652001</td>\n      <td>als</td>\n      <td>889652</td>\n      <td>NaN</td>\n      <td>NaN</td>\n      <td>28.0</td>\n      <td>Trousers</td>\n      <td>Black</td>\n      <td>...</td>\n      <td>0.032258</td>\n      <td>10.538462</td>\n      <td>0</td>\n      <td>1.256881</td>\n      <td>old</td>\n      <td>11</td>\n      <td>0.222222</td>\n      <td>0.500000</td>\n      <td>0.166667</td>\n      <td>0.388889</td>\n    </tr>\n  </tbody>\n</table>\n<p>5 rows × 27 columns</p>\n</div>"
     },
     "execution_count": 3,
     "metadata": {},
     "output_type": "execute_result"
    }
   ],
   "source": [
    "candidates.head()"
   ],
   "metadata": {
    "collapsed": false,
    "pycharm": {
     "name": "#%%\n"
    }
   }
  },
  {
   "cell_type": "code",
   "execution_count": 5,
   "outputs": [],
   "source": [
    "df = pd.read_parquet(data_root / 'clean' / 'transactions.parquet')\n",
    "test = filter_data(df, from_date=test_dates['start'], to_date=test_dates['end'])\n",
    "results = test.groupby('customer_id', observed=True).agg(bought=('article_id', set)).reset_index()"
   ],
   "metadata": {
    "collapsed": false,
    "pycharm": {
     "name": "#%%\n"
    }
   }
  },
  {
   "cell_type": "code",
   "execution_count": 6,
   "outputs": [],
   "source": [
    "candidates = candidates[candidates['customer_id'].isin(test['customer_id'].unique())]"
   ],
   "metadata": {
    "collapsed": false,
    "pycharm": {
     "name": "#%%\n"
    }
   }
  },
  {
   "cell_type": "code",
   "execution_count": 8,
   "outputs": [],
   "source": [
    "test_nodup = test.drop_duplicates(subset=['customer_id', 'article_id'])[['customer_id', 'article_id', 'price']]\n",
    "candidates = candidates.merge(test_nodup[['customer_id', 'article_id', 'price']], on=['customer_id', 'article_id'], how='left')\n",
    "candidates['is_relevant'] = candidates['price'].notna().astype('int')"
   ],
   "metadata": {
    "collapsed": false,
    "pycharm": {
     "name": "#%%\n"
    }
   }
  },
  {
   "cell_type": "code",
   "execution_count": 9,
   "outputs": [
    {
     "data": {
      "text/plain": "64841"
     },
     "execution_count": 9,
     "metadata": {},
     "output_type": "execute_result"
    }
   ],
   "source": [
    "candidates['customer_id'].nunique()"
   ],
   "metadata": {
    "collapsed": false,
    "pycharm": {
     "name": "#%%\n"
    }
   }
  },
  {
   "cell_type": "code",
   "execution_count": 27,
   "outputs": [],
   "source": [
    "c = pd.read_parquet(data_root / 'clean' / 'customers.parquet')\n",
    "c['age'] = c['age'].fillna(c['age'].mean())\n",
    "c['age_group'] = pd.cut(c['age'], bins=[15, 21, 25, 30, 40, 50, 60, 100])\n",
    "train = filter_data(df, from_date='2020-09-01', to_date=train_dates['end'])\n",
    "t_cust = set(train['customer_id'].unique())\n",
    "full_ds = filter_data(df, to_date=train_dates['end'])\n",
    "old_cust = set(full_ds['customer_id'].unique()) - t_cust\n",
    "cold_cust = set(test['customer_id'].unique()) - old_cust - t_cust"
   ],
   "metadata": {
    "collapsed": false,
    "pycharm": {
     "name": "#%%\n"
    }
   }
  },
  {
   "cell_type": "code",
   "execution_count": 10,
   "outputs": [],
   "source": [
    "cols = [f'rel_{i + 1}' for i in range(12)]"
   ],
   "metadata": {
    "collapsed": false,
    "pycharm": {
     "name": "#%%\n"
    }
   }
  },
  {
   "cell_type": "code",
   "execution_count": 11,
   "outputs": [],
   "source": [
    "features = [\n",
    "    'score',\n",
    "    'article_totals',\n",
    "    'age',\n",
    "    'product_type_name_clean',\n",
    "    'colour_group_name_clean',\n",
    "    'department_name_clean',\n",
    "    'section_name_clean',\n",
    "    'total_cust',\n",
    "    'item_age',\n",
    "    'monday_item',\n",
    "    'avg_per_customer',\n",
    "    'daily_sales',\n",
    "    'avg_price',\n",
    "    'avg_age',\n",
    "    'product_totals',\n",
    "    'segment',\n",
    "    'method'\n",
    "]"
   ],
   "metadata": {
    "collapsed": false,
    "pycharm": {
     "name": "#%%\n"
    }
   }
  },
  {
   "cell_type": "code",
   "execution_count": 12,
   "outputs": [
    {
     "data": {
      "text/plain": "0     54445\n1      8038\n2      1761\n3       428\n4       116\n5        33\n6         9\n7         7\n8         1\n9         1\n10        1\n11        1\nName: relevant, dtype: int64"
     },
     "execution_count": 12,
     "metadata": {},
     "output_type": "execute_result"
    }
   ],
   "source": [
    "rel_stats = candidates.groupby('customer_id').agg(relevant=('is_relevant', 'sum'))\n",
    "rel_stats['relevant'].value_counts().sort_index()"
   ],
   "metadata": {
    "collapsed": false,
    "pycharm": {
     "name": "#%%\n"
    }
   }
  },
  {
   "cell_type": "code",
   "execution_count": 13,
   "outputs": [],
   "source": [
    "train_customers, test_customers = train_test_split(test['customer_id'].unique(), test_size=0.2, random_state=42)\n",
    "\n",
    "train_df = candidates[candidates['customer_id'].isin(train_customers)].copy()\n",
    "test_df = candidates[candidates['customer_id'].isin(test_customers)].copy()\n",
    "\n",
    "X_train = train_df[features]\n",
    "y_train = train_df['is_relevant']\n",
    "queries_train = train_df['customer_id']\n",
    "\n",
    "X_test = test_df[features]\n",
    "y_test = test_df['is_relevant']\n",
    "queries_test = test_df['customer_id']\n",
    "\n",
    "train_pool = Pool(\n",
    "    data=X_train,\n",
    "    label=y_train,\n",
    "    group_id=queries_train,\n",
    "    cat_features=['segment', 'method']\n",
    ")\n",
    "\n",
    "test_pool = Pool(\n",
    "    data=X_test,\n",
    "    label=y_test,\n",
    "    group_id=queries_test,\n",
    "    cat_features=['segment', 'method']\n",
    ")"
   ],
   "metadata": {
    "collapsed": false,
    "pycharm": {
     "name": "#%%\n"
    }
   }
  },
  {
   "cell_type": "code",
   "execution_count": 34,
   "outputs": [
    {
     "data": {
      "text/plain": "0.9075935086349041"
     },
     "execution_count": 34,
     "metadata": {},
     "output_type": "execute_result"
    }
   ],
   "source": [
    "candidates[candidates['customer_id'].isin(train_customers)]['customer_id'].nunique() / len(train_customers)"
   ],
   "metadata": {
    "collapsed": false,
    "pycharm": {
     "name": "#%%\n"
    }
   }
  },
  {
   "cell_type": "code",
   "execution_count": 25,
   "outputs": [
    {
     "data": {
      "text/plain": "0.9088447653429603"
     },
     "execution_count": 25,
     "metadata": {},
     "output_type": "execute_result"
    }
   ],
   "source": [
    "candidates[candidates['customer_id'].isin(test_customers)]['customer_id'].nunique() / len(test_customers)"
   ],
   "metadata": {
    "collapsed": false,
    "pycharm": {
     "name": "#%%\n"
    }
   }
  },
  {
   "cell_type": "code",
   "execution_count": 14,
   "outputs": [],
   "source": [
    "default_parameters = {\n",
    "    'iterations': 2000,\n",
    "    'custom_metric': ['MAP:top=10', 'NDCG'],\n",
    "    'verbose': True,\n",
    "    'metric_period': 200,\n",
    "    'task_type': 'GPU',\n",
    "    'devices': '0',\n",
    "    'random_seed': 0,\n",
    "    'learning_rate': 0.01,\n",
    "    'one_hot_max_size': 10\n",
    "}\n",
    "\n",
    "parameters = {}\n",
    "\n",
    "def fit_model(loss_function, additional_params=None, train_pool=train_pool, test_pool=test_pool):\n",
    "    parameters = deepcopy(default_parameters)\n",
    "    parameters['loss_function'] = loss_function\n",
    "    parameters['train_dir'] = loss_function\n",
    "\n",
    "    if additional_params is not None:\n",
    "        parameters.update(additional_params)\n",
    "\n",
    "    model = CatBoostRanker(**parameters)\n",
    "    model.fit(train_pool, eval_set=test_pool, plot=False)\n",
    "\n",
    "    return model"
   ],
   "metadata": {
    "collapsed": false,
    "pycharm": {
     "name": "#%%\n"
    }
   }
  },
  {
   "cell_type": "code",
   "execution_count": 15,
   "outputs": [
    {
     "data": {
      "text/plain": "score                      1245360\narticle_totals               81003\nage                        1245360\nproduct_type_name_clean    1245360\ncolour_group_name_clean    1245360\ndepartment_name_clean      1245360\nsection_name_clean         1245360\ntotal_cust                 1245360\nitem_age                   1245360\nmonday_item                1245360\navg_per_customer           1245360\ndaily_sales                1245360\navg_price                  1245360\navg_age                    1245360\nproduct_totals              161838\nsegment                    1245360\nmethod                     1245360\ndtype: int64"
     },
     "execution_count": 15,
     "metadata": {},
     "output_type": "execute_result"
    }
   ],
   "source": [
    "X_train.count()"
   ],
   "metadata": {
    "collapsed": false,
    "pycharm": {
     "name": "#%%\n"
    }
   }
  },
  {
   "cell_type": "code",
   "execution_count": 16,
   "outputs": [
    {
     "data": {
      "text/plain": "['score',\n 'article_totals',\n 'age',\n 'product_type_name_clean',\n 'colour_group_name_clean',\n 'department_name_clean',\n 'section_name_clean',\n 'total_cust',\n 'item_age',\n 'monday_item',\n 'avg_per_customer',\n 'daily_sales',\n 'avg_price',\n 'avg_age',\n 'product_totals',\n 'segment',\n 'method']"
     },
     "execution_count": 16,
     "metadata": {},
     "output_type": "execute_result"
    }
   ],
   "source": [
    "train_pool.get_feature_names()"
   ],
   "metadata": {
    "collapsed": false,
    "pycharm": {
     "name": "#%%\n"
    }
   }
  },
  {
   "cell_type": "code",
   "execution_count": 17,
   "outputs": [
    {
     "data": {
      "text/plain": "is_relevant        0      1\nmethod                     \nals          1234496  10864",
      "text/html": "<div>\n<style scoped>\n    .dataframe tbody tr th:only-of-type {\n        vertical-align: middle;\n    }\n\n    .dataframe tbody tr th {\n        vertical-align: top;\n    }\n\n    .dataframe thead th {\n        text-align: right;\n    }\n</style>\n<table border=\"1\" class=\"dataframe\">\n  <thead>\n    <tr style=\"text-align: right;\">\n      <th>is_relevant</th>\n      <th>0</th>\n      <th>1</th>\n    </tr>\n    <tr>\n      <th>method</th>\n      <th></th>\n      <th></th>\n    </tr>\n  </thead>\n  <tbody>\n    <tr>\n      <th>als</th>\n      <td>1234496</td>\n      <td>10864</td>\n    </tr>\n  </tbody>\n</table>\n</div>"
     },
     "execution_count": 17,
     "metadata": {},
     "output_type": "execute_result"
    }
   ],
   "source": [
    "train_df.pivot_table(index='method', columns='is_relevant', values='article_id', aggfunc='count')"
   ],
   "metadata": {
    "collapsed": false,
    "pycharm": {
     "name": "#%%\n"
    }
   }
  },
  {
   "cell_type": "code",
   "execution_count": 18,
   "outputs": [
    {
     "data": {
      "text/plain": "is_relevant       0     1\nmethod                   \nals          308074  2750",
      "text/html": "<div>\n<style scoped>\n    .dataframe tbody tr th:only-of-type {\n        vertical-align: middle;\n    }\n\n    .dataframe tbody tr th {\n        vertical-align: top;\n    }\n\n    .dataframe thead th {\n        text-align: right;\n    }\n</style>\n<table border=\"1\" class=\"dataframe\">\n  <thead>\n    <tr style=\"text-align: right;\">\n      <th>is_relevant</th>\n      <th>0</th>\n      <th>1</th>\n    </tr>\n    <tr>\n      <th>method</th>\n      <th></th>\n      <th></th>\n    </tr>\n  </thead>\n  <tbody>\n    <tr>\n      <th>als</th>\n      <td>308074</td>\n      <td>2750</td>\n    </tr>\n  </tbody>\n</table>\n</div>"
     },
     "execution_count": 18,
     "metadata": {},
     "output_type": "execute_result"
    }
   ],
   "source": [
    "test_df.pivot_table(index='method', columns='is_relevant', values='article_id', aggfunc='count')"
   ],
   "metadata": {
    "collapsed": false,
    "pycharm": {
     "name": "#%%\n"
    }
   }
  },
  {
   "cell_type": "code",
   "execution_count": 19,
   "outputs": [
    {
     "name": "stderr",
     "output_type": "stream",
     "text": [
      "Metric MAP:top=10 is not implemented on GPU. Will use CPU for metric computation, this could significantly affect learning time\n",
      "Metric NDCG:type=Base is not implemented on GPU. Will use CPU for metric computation, this could significantly affect learning time\n"
     ]
    },
    {
     "name": "stdout",
     "output_type": "stream",
     "text": [
      "0:\tlearn: 0.6899811\ttest: 0.6900737\tbest: 0.6900737 (0)\ttotal: 86.9ms\tremaining: 2m 53s\n",
      "200:\tlearn: 0.5333316\ttest: 0.5409598\tbest: 0.5409598 (200)\ttotal: 2.23s\tremaining: 19.9s\n",
      "400:\tlearn: 0.5095955\ttest: 0.5245618\tbest: 0.5245618 (400)\ttotal: 4.24s\tremaining: 16.9s\n",
      "600:\tlearn: 0.4963163\ttest: 0.5178791\tbest: 0.5178791 (600)\ttotal: 6.17s\tremaining: 14.4s\n",
      "800:\tlearn: 0.4864915\ttest: 0.5143854\tbest: 0.5143854 (800)\ttotal: 8.22s\tremaining: 12.3s\n",
      "1000:\tlearn: 0.4782111\ttest: 0.5124841\tbest: 0.5124841 (1000)\ttotal: 10.3s\tremaining: 10.2s\n",
      "1200:\tlearn: 0.4706748\ttest: 0.5108093\tbest: 0.5108093 (1200)\ttotal: 12.4s\tremaining: 8.23s\n",
      "1400:\tlearn: 0.4638505\ttest: 0.5096789\tbest: 0.5096789 (1400)\ttotal: 14.5s\tremaining: 6.2s\n",
      "1600:\tlearn: 0.4576930\ttest: 0.5089910\tbest: 0.5089910 (1600)\ttotal: 16.6s\tremaining: 4.13s\n",
      "1800:\tlearn: 0.4517231\ttest: 0.5082374\tbest: 0.5082374 (1800)\ttotal: 18.6s\tremaining: 2.06s\n",
      "1999:\tlearn: 0.4459425\ttest: 0.5077790\tbest: 0.5077790 (1999)\ttotal: 20.7s\tremaining: 0us\n",
      "bestTest = 0.5077789866\n",
      "bestIteration = 1999\n"
     ]
    }
   ],
   "source": [
    "model = fit_model('PairLogit')"
   ],
   "metadata": {
    "collapsed": false,
    "pycharm": {
     "name": "#%%\n"
    }
   }
  },
  {
   "cell_type": "code",
   "execution_count": 20,
   "outputs": [],
   "source": [
    "model.save_model(data_root / '2020-09-08' / 'pair_logit.model')"
   ],
   "metadata": {
    "collapsed": false,
    "pycharm": {
     "name": "#%%\n"
    }
   }
  },
  {
   "cell_type": "code",
   "execution_count": 21,
   "outputs": [
    {
     "data": {
      "text/plain": "{'learn': {'MAP:top=10': 0.06543607968622309, 'PairLogit': 0.445942523705813},\n 'validation': {'NDCG:type=Base': 0.924467643603086,\n  'MAP:top=10': 0.05813643420374012,\n  'PairLogit': 0.5077789866058346}}"
     },
     "execution_count": 21,
     "metadata": {},
     "output_type": "execute_result"
    }
   ],
   "source": [
    "model.get_best_score()"
   ],
   "metadata": {
    "collapsed": false,
    "pycharm": {
     "name": "#%%\n"
    }
   }
  },
  {
   "cell_type": "code",
   "execution_count": 22,
   "outputs": [
    {
     "data": {
      "text/plain": "['score',\n 'article_totals',\n 'age',\n 'product_type_name_clean',\n 'colour_group_name_clean',\n 'department_name_clean',\n 'section_name_clean',\n 'total_cust',\n 'item_age',\n 'monday_item',\n 'avg_per_customer',\n 'daily_sales',\n 'avg_price',\n 'avg_age',\n 'product_totals',\n 'segment',\n 'method']"
     },
     "execution_count": 22,
     "metadata": {},
     "output_type": "execute_result"
    }
   ],
   "source": [
    "model.feature_names_"
   ],
   "metadata": {
    "collapsed": false,
    "pycharm": {
     "name": "#%%\n"
    }
   }
  },
  {
   "cell_type": "code",
   "execution_count": 23,
   "outputs": [],
   "source": [
    "fe = model.get_feature_importance(test_pool, type='LossFunctionChange')"
   ],
   "metadata": {
    "collapsed": false,
    "pycharm": {
     "name": "#%%\n"
    }
   }
  },
  {
   "cell_type": "code",
   "execution_count": 24,
   "outputs": [
    {
     "data": {
      "text/plain": "       score                     name\n0   0.033676                    score\n14  0.020756           product_totals\n1   0.006341           article_totals\n11  0.005649              daily_sales\n15  0.003854                  segment\n12  0.003836                avg_price\n4   0.002799  colour_group_name_clean\n8   0.002504                 item_age\n13  0.001848                  avg_age\n7   0.001746               total_cust\n5   0.001683    department_name_clean\n3   0.001537  product_type_name_clean\n2   0.001437                      age\n6   0.000284       section_name_clean\n10  0.000257         avg_per_customer\n9   0.000014              monday_item\n16  0.000000                   method",
      "text/html": "<div>\n<style scoped>\n    .dataframe tbody tr th:only-of-type {\n        vertical-align: middle;\n    }\n\n    .dataframe tbody tr th {\n        vertical-align: top;\n    }\n\n    .dataframe thead th {\n        text-align: right;\n    }\n</style>\n<table border=\"1\" class=\"dataframe\">\n  <thead>\n    <tr style=\"text-align: right;\">\n      <th></th>\n      <th>score</th>\n      <th>name</th>\n    </tr>\n  </thead>\n  <tbody>\n    <tr>\n      <th>0</th>\n      <td>0.033676</td>\n      <td>score</td>\n    </tr>\n    <tr>\n      <th>14</th>\n      <td>0.020756</td>\n      <td>product_totals</td>\n    </tr>\n    <tr>\n      <th>1</th>\n      <td>0.006341</td>\n      <td>article_totals</td>\n    </tr>\n    <tr>\n      <th>11</th>\n      <td>0.005649</td>\n      <td>daily_sales</td>\n    </tr>\n    <tr>\n      <th>15</th>\n      <td>0.003854</td>\n      <td>segment</td>\n    </tr>\n    <tr>\n      <th>12</th>\n      <td>0.003836</td>\n      <td>avg_price</td>\n    </tr>\n    <tr>\n      <th>4</th>\n      <td>0.002799</td>\n      <td>colour_group_name_clean</td>\n    </tr>\n    <tr>\n      <th>8</th>\n      <td>0.002504</td>\n      <td>item_age</td>\n    </tr>\n    <tr>\n      <th>13</th>\n      <td>0.001848</td>\n      <td>avg_age</td>\n    </tr>\n    <tr>\n      <th>7</th>\n      <td>0.001746</td>\n      <td>total_cust</td>\n    </tr>\n    <tr>\n      <th>5</th>\n      <td>0.001683</td>\n      <td>department_name_clean</td>\n    </tr>\n    <tr>\n      <th>3</th>\n      <td>0.001537</td>\n      <td>product_type_name_clean</td>\n    </tr>\n    <tr>\n      <th>2</th>\n      <td>0.001437</td>\n      <td>age</td>\n    </tr>\n    <tr>\n      <th>6</th>\n      <td>0.000284</td>\n      <td>section_name_clean</td>\n    </tr>\n    <tr>\n      <th>10</th>\n      <td>0.000257</td>\n      <td>avg_per_customer</td>\n    </tr>\n    <tr>\n      <th>9</th>\n      <td>0.000014</td>\n      <td>monday_item</td>\n    </tr>\n    <tr>\n      <th>16</th>\n      <td>0.000000</td>\n      <td>method</td>\n    </tr>\n  </tbody>\n</table>\n</div>"
     },
     "execution_count": 24,
     "metadata": {},
     "output_type": "execute_result"
    }
   ],
   "source": [
    "pd.DataFrame({\n",
    "    'score': fe,\n",
    "    'name': model.feature_names_\n",
    "}).sort_values('score', ascending=False)"
   ],
   "metadata": {
    "collapsed": false,
    "pycharm": {
     "name": "#%%\n"
    }
   }
  },
  {
   "cell_type": "code",
   "execution_count": 25,
   "outputs": [
    {
     "data": {
      "text/plain": "0.034902760601560674"
     },
     "execution_count": 25,
     "metadata": {},
     "output_type": "execute_result"
    }
   ],
   "source": [
    "rec_df = rf.rank_predictions(test_df, model)\n",
    "comb = results.merge(rec_df, on='customer_id')\n",
    "comb = comb[comb['candidates'].str.len() > 1]\n",
    "comb['prediction'] = comb['candidates']\n",
    "comb = compute_precision(comb)\n",
    "comb['precision'].mean()"
   ],
   "metadata": {
    "collapsed": false,
    "pycharm": {
     "name": "#%%\n"
    }
   }
  },
  {
   "cell_type": "code",
   "execution_count": 28,
   "outputs": [],
   "source": [
    "comb_enriched = enrich_data(filter_data(df, to_date='2020-09-08'), comb.set_index('customer_id'), c.set_index('customer_id'))"
   ],
   "metadata": {
    "collapsed": false,
    "pycharm": {
     "name": "#%%\n"
    }
   }
  },
  {
   "cell_type": "code",
   "execution_count": 29,
   "outputs": [],
   "source": [
    "comb['segment'] = 'old'\n",
    "comb.loc[comb['customer_id'].isin(t_cust), 'segment'] = 'train'"
   ],
   "metadata": {
    "collapsed": false,
    "pycharm": {
     "name": "#%%\n"
    }
   }
  },
  {
   "cell_type": "code",
   "execution_count": 30,
   "outputs": [
    {
     "data": {
      "text/plain": "         customers  avg_precision\nsegment                          \nold           9879       0.021349\ntrain         3072       0.078489",
      "text/html": "<div>\n<style scoped>\n    .dataframe tbody tr th:only-of-type {\n        vertical-align: middle;\n    }\n\n    .dataframe tbody tr th {\n        vertical-align: top;\n    }\n\n    .dataframe thead th {\n        text-align: right;\n    }\n</style>\n<table border=\"1\" class=\"dataframe\">\n  <thead>\n    <tr style=\"text-align: right;\">\n      <th></th>\n      <th>customers</th>\n      <th>avg_precision</th>\n    </tr>\n    <tr>\n      <th>segment</th>\n      <th></th>\n      <th></th>\n    </tr>\n  </thead>\n  <tbody>\n    <tr>\n      <th>old</th>\n      <td>9879</td>\n      <td>0.021349</td>\n    </tr>\n    <tr>\n      <th>train</th>\n      <td>3072</td>\n      <td>0.078489</td>\n    </tr>\n  </tbody>\n</table>\n</div>"
     },
     "execution_count": 30,
     "metadata": {},
     "output_type": "execute_result"
    }
   ],
   "source": [
    "comb.groupby('segment').agg(\n",
    "    customers=('customer_id', 'count'),\n",
    "    avg_precision=('precision', 'mean'),\n",
    ")"
   ],
   "metadata": {
    "collapsed": false,
    "pycharm": {
     "name": "#%%\n"
    }
   }
  },
  {
   "cell_type": "code",
   "execution_count": 31,
   "outputs": [
    {
     "data": {
      "text/plain": "0.03228655928908636"
     },
     "execution_count": 31,
     "metadata": {},
     "output_type": "execute_result"
    }
   ],
   "source": [
    "N = len(test_customers)\n",
    "\n",
    "(9992 / N * .0213 + 3099 / N * 0.078 + 1313/ N * 0.008)"
   ],
   "metadata": {
    "collapsed": false,
    "pycharm": {
     "name": "#%%\n"
    }
   }
  },
  {
   "cell_type": "code",
   "execution_count": 32,
   "outputs": [],
   "source": [
    "test_df['prediction_rank'] = test_df.groupby('customer_id')['prediction'].rank(ascending=False, method='first')\n",
    "test_df['score_rank'] = test_df.groupby('customer_id')['score'].rank(ascending=False, method='first')"
   ],
   "metadata": {
    "collapsed": false,
    "pycharm": {
     "name": "#%%\n"
    }
   }
  },
  {
   "cell_type": "code",
   "execution_count": 33,
   "outputs": [
    {
     "data": {
      "text/plain": "<AxesSubplot:xlabel='prediction_rank'>"
     },
     "execution_count": 33,
     "metadata": {},
     "output_type": "execute_result"
    },
    {
     "data": {
      "text/plain": "<Figure size 432x288 with 1 Axes>",
      "image/png": "[encoded data removed]"
     },
     "metadata": {},
     "output_type": "display_data"
    }
   ],
   "source": [
    "test_df.groupby('score_rank')['is_relevant'].agg(['mean', 'sum']).reset_index().set_index('score_rank')['sum'].plot()\n",
    "test_df.groupby('prediction_rank')['is_relevant'].agg(['mean', 'sum']).reset_index().set_index('prediction_rank')['sum'].plot()"
   ],
   "metadata": {
    "collapsed": false,
    "pycharm": {
     "name": "#%%\n"
    }
   }
  },
  {
   "cell_type": "code",
   "execution_count": 34,
   "outputs": [
    {
     "data": {
      "text/plain": "[0.05918699463002444]"
     },
     "execution_count": 34,
     "metadata": {},
     "output_type": "execute_result"
    }
   ],
   "source": [
    "from catboost.utils import eval_metric\n",
    "\n",
    "eval_metric(y_test.values, test_df['prediction'].values, 'MAP:top=12', group_id=queries_test.values)"
   ],
   "metadata": {
    "collapsed": false,
    "pycharm": {
     "name": "#%%\n"
    }
   }
  },
  {
   "cell_type": "code",
   "execution_count": 35,
   "outputs": [
    {
     "data": {
      "text/plain": "<Figure size 864x432 with 2 Axes>",
      "image/png": "[encoded data removed]"
     },
     "metadata": {},
     "output_type": "display_data"
    }
   ],
   "source": [
    "fig, ax = plt.subplots(1, 2, figsize=(12, 6))\n",
    "\n",
    "sns.boxplot(data=test_df.query('method == \"als\"'), x='is_relevant', y='score', ax=ax[0])\n",
    "ax[0].set_title('score distribution')\n",
    "\n",
    "sns.boxplot(data=test_df, x='is_relevant', y='prediction', ax=ax[1])\n",
    "plt.title('Rank distribution');"
   ],
   "metadata": {
    "collapsed": false,
    "pycharm": {
     "name": "#%%\n"
    }
   }
  },
  {
   "cell_type": "code",
   "execution_count": 36,
   "outputs": [
    {
     "data": {
      "text/plain": "<seaborn.axisgrid.FacetGrid at 0x7f39aff38490>"
     },
     "execution_count": 36,
     "metadata": {},
     "output_type": "execute_result"
    },
    {
     "data": {
      "text/plain": "<Figure size 422.375x360 with 1 Axes>",
      "image/png": "[encoded data removed]"
     },
     "metadata": {},
     "output_type": "display_data"
    }
   ],
   "source": [
    "sns.displot(data=test_df, x='prediction', hue='is_relevant', stat='probability', common_norm=False, bins=100)"
   ],
   "metadata": {
    "collapsed": false,
    "pycharm": {
     "name": "#%%\n"
    }
   }
  },
  {
   "cell_type": "code",
   "execution_count": 37,
   "outputs": [
    {
     "data": {
      "text/plain": "<Figure size 782.375x360 with 2 Axes>",
      "image/png": "[encoded data removed]"
     },
     "metadata": {},
     "output_type": "display_data"
    }
   ],
   "source": [
    "sns.displot(data=test_df, x='prediction', hue='is_relevant', col='segment', stat='probability', common_norm=False, bins=100);"
   ],
   "metadata": {
    "collapsed": false,
    "pycharm": {
     "name": "#%%\n"
    }
   }
  },
  {
   "cell_type": "code",
   "execution_count": 38,
   "outputs": [
    {
     "data": {
      "text/plain": "<Figure size 1440x360 with 3 Axes>",
      "image/png": "[encoded data removed]"
     },
     "metadata": {},
     "output_type": "display_data"
    }
   ],
   "source": [
    "plot_precision_at_k(comb);"
   ],
   "metadata": {
    "collapsed": false,
    "pycharm": {
     "name": "#%%\n"
    }
   }
  },
  {
   "cell_type": "code",
   "execution_count": 39,
   "outputs": [
    {
     "data": {
      "text/plain": "<Figure size 1152x360 with 2 Axes>",
      "image/png": "[encoded data removed]"
     },
     "metadata": {},
     "output_type": "display_data"
    }
   ],
   "source": [
    "precision_by_age(comb_enriched);"
   ],
   "metadata": {
    "collapsed": false,
    "pycharm": {
     "name": "#%%\n"
    }
   }
  },
  {
   "cell_type": "code",
   "execution_count": 40,
   "outputs": [
    {
     "data": {
      "text/plain": "<Figure size 1152x360 with 2 Axes>",
      "image/png": "[encoded data removed]"
     },
     "metadata": {},
     "output_type": "display_data"
    }
   ],
   "source": [
    "precision_by_usage(comb_enriched);"
   ],
   "metadata": {
    "collapsed": false,
    "pycharm": {
     "name": "#%%\n"
    }
   }
  },
  {
   "cell_type": "code",
   "execution_count": 41,
   "outputs": [
    {
     "data": {
      "text/plain": "{'total_relevance': 0.16099142923326384,\n 'train_relevance': 0.06470542815226624,\n 'old_relevance': 0.09628600108099761}"
     },
     "execution_count": 41,
     "metadata": {},
     "output_type": "execute_result"
    }
   ],
   "source": [
    "stats = (\n",
    "    test_df\n",
    "    .groupby('customer_id')\n",
    "    .agg(\n",
    "        total=('article_id', 'count'),\n",
    "        hits=('is_relevant', 'sum'),\n",
    "        has_hit=('is_relevant', 'max')\n",
    "    ).reset_index()\n",
    ")\n",
    "\n",
    "{\n",
    "    'total_relevance': stats['has_hit'].sum() / stats.shape[0],\n",
    "    'train_relevance': stats[stats['customer_id'].isin(t_cust)]['has_hit'].sum() / stats.shape[0],\n",
    "    'old_relevance': stats[stats['customer_id'].isin(old_cust)]['has_hit'].sum() / stats.shape[0],\n",
    "}"
   ],
   "metadata": {
    "collapsed": false,
    "pycharm": {
     "name": "#%%\n"
    }
   }
  },
  {
   "cell_type": "code",
   "execution_count": 42,
   "outputs": [
    {
     "data": {
      "text/plain": "{'total_relevance': 0.12300208478109799,\n 'train_relevance': 0.05412709443286233,\n 'old_relevance': 0.06887499034823566}"
     },
     "execution_count": 42,
     "metadata": {},
     "output_type": "execute_result"
    }
   ],
   "source": [
    "stats = (\n",
    "    test_df\n",
    "    .query('score_rank <= 12')\n",
    "    .groupby('customer_id')\n",
    "    .agg(\n",
    "        total=('article_id', 'count'),\n",
    "        hits=('is_relevant', 'sum'),\n",
    "        has_hit=('is_relevant', 'max')\n",
    "    ).reset_index()\n",
    ")\n",
    "\n",
    "{\n",
    "    'total_relevance': stats['has_hit'].sum() / stats.shape[0],\n",
    "    'train_relevance': stats[stats['customer_id'].isin(t_cust)]['has_hit'].sum() / stats.shape[0],\n",
    "    'old_relevance': stats[stats['customer_id'].isin(old_cust)]['has_hit'].sum() / stats.shape[0],\n",
    "}"
   ],
   "metadata": {
    "collapsed": false,
    "pycharm": {
     "name": "#%%\n"
    }
   }
  },
  {
   "cell_type": "code",
   "execution_count": 43,
   "outputs": [
    {
     "data": {
      "text/plain": "{'total_relevance': 0.1344297737626438,\n 'train_relevance': 0.05860551308779245,\n 'old_relevance': 0.07582426067485136}"
     },
     "execution_count": 43,
     "metadata": {},
     "output_type": "execute_result"
    }
   ],
   "source": [
    "stats = (\n",
    "    test_df\n",
    "    .query('prediction_rank <= 12')\n",
    "    .groupby('customer_id')\n",
    "    .agg(\n",
    "        total=('article_id', 'count'),\n",
    "        hits=('is_relevant', 'sum'),\n",
    "        has_hit=('is_relevant', 'max')\n",
    "    ).reset_index()\n",
    ")\n",
    "\n",
    "{\n",
    "    'total_relevance': stats['has_hit'].sum() / stats.shape[0],\n",
    "    'train_relevance': stats[stats['customer_id'].isin(t_cust)]['has_hit'].sum() / stats.shape[0],\n",
    "    'old_relevance': stats[stats['customer_id'].isin(old_cust)]['has_hit'].sum() / stats.shape[0],\n",
    "}"
   ],
   "metadata": {
    "collapsed": false,
    "pycharm": {
     "name": "#%%\n"
    }
   }
  },
  {
   "cell_type": "code",
   "execution_count": 44,
   "outputs": [
    {
     "name": "stdout",
     "output_type": "stream",
     "text": [
      "count    1000.000000\n",
      "mean        0.034893\n",
      "std         0.004190\n",
      "min         0.022097\n",
      "25%         0.032036\n",
      "50%         0.034820\n",
      "75%         0.037759\n",
      "max         0.050199\n",
      "dtype: float64\n"
     ]
    },
    {
     "data": {
      "text/plain": "<Figure size 432x288 with 1 Axes>",
      "image/png": "[encoded data removed]"
     },
     "metadata": {},
     "output_type": "display_data"
    }
   ],
   "source": [
    "N = 1000\n",
    "precisions = np.zeros(N)\n",
    "for i in range(N):\n",
    "    precisions[i] = comb.sample(n=1000)['precision'].mean()\n",
    "\n",
    "print(pd.Series(precisions).describe())\n",
    "sns.histplot(precisions)\n",
    "plt.title('Precision distribution');"
   ],
   "metadata": {
    "collapsed": false,
    "pycharm": {
     "name": "#%%\n"
    }
   }
  },
  {
   "cell_type": "markdown",
   "source": [
    "# validation set"
   ],
   "metadata": {
    "collapsed": false,
    "pycharm": {
     "name": "#%% md\n"
    }
   }
  },
  {
   "cell_type": "code",
   "execution_count": 29,
   "outputs": [],
   "source": [
    "model = CatBoostRanker().load_model(fname=str(data_root / '2020-09-08' / 'pair_logit.model'))\n",
    "df = pd.read_parquet(data_root / 'clean' / 'transactions.parquet')\n",
    "\n",
    "c = pd.read_parquet(data_root / 'clean' / 'customers.parquet')\n",
    "c['age'] = c['age'].fillna(c['age'].mean())\n",
    "c['age_group'] = pd.cut(c['age'], bins=[15, 21, 25, 30, 40, 50, 60, 100])\n",
    "\n",
    "df = df.merge(c[['customer_id', 'age_group']], on='customer_id')\n",
    "train = filter_data(df, '2020-09-08', '2020-09-15')\n",
    "top12_age_pred = age_chart(train)"
   ],
   "metadata": {
    "collapsed": false,
    "pycharm": {
     "name": "#%%\n"
    }
   }
  },
  {
   "cell_type": "code",
   "execution_count": 42,
   "outputs": [],
   "source": [
    "rec_df = pd.read_parquet(data_root / '2020-09-15' / 'candidates.parquet')"
   ],
   "metadata": {
    "collapsed": false,
    "pycharm": {
     "name": "#%%\n"
    }
   }
  },
  {
   "cell_type": "code",
   "execution_count": null,
   "outputs": [],
   "source": [],
   "metadata": {
    "collapsed": false,
    "pycharm": {
     "name": "#%%\n"
    }
   }
  },
  {
   "cell_type": "code",
   "execution_count": 45,
   "outputs": [],
   "source": [
    "# CB\n",
    "rec_df = pd.read_parquet(data_root / '2020-09-15' / 'X.parquet')\n",
    "pred_df = rf.rank_predictions(rec_df, model)"
   ],
   "metadata": {
    "collapsed": false,
    "pycharm": {
     "name": "#%%\n"
    }
   }
  },
  {
   "cell_type": "code",
   "execution_count": null,
   "outputs": [],
   "source": [],
   "metadata": {
    "collapsed": false,
    "pycharm": {
     "name": "#%%\n"
    }
   }
  },
  {
   "cell_type": "code",
   "execution_count": null,
   "outputs": [],
   "source": [
    "test = filter_data(df, '2020-09-16', '2020-09-22')\n",
    "results = test.groupby('customer_id', observed=True).agg(bought=('article_id', set)).reset_index()\n",
    "results = results.merge(c[['customer_id', 'age_group']], on='customer_id')"
   ],
   "metadata": {
    "collapsed": false,
    "pycharm": {
     "name": "#%%\n",
     "is_executing": true
    }
   }
  },
  {
   "cell_type": "code",
   "execution_count": 15,
   "outputs": [],
   "source": [],
   "metadata": {
    "collapsed": false,
    "pycharm": {
     "name": "#%%\n"
    }
   }
  },
  {
   "cell_type": "code",
   "execution_count": 46,
   "outputs": [
    {
     "data": {
      "text/plain": "0.03195323032102248"
     },
     "execution_count": 46,
     "metadata": {},
     "output_type": "execute_result"
    }
   ],
   "source": [
    "comb = results.merge(pred_df, on='customer_id', how='left')\n",
    "comb = comb.merge(top12_age_pred, on='age_group', how='left').drop(columns=['age_group'])\n",
    "comb['prediction'] = comb['candidates'].combine_first(comb['naive_pred'])\n",
    "\n",
    "comb = compute_precision(comb)\n",
    "comb['precision'].mean()"
   ],
   "metadata": {
    "collapsed": false,
    "pycharm": {
     "name": "#%%\n"
    }
   }
  },
  {
   "cell_type": "code",
   "execution_count": 47,
   "outputs": [
    {
     "data": {
      "text/plain": "0.03413591794461487"
     },
     "execution_count": 47,
     "metadata": {},
     "output_type": "execute_result"
    }
   ],
   "source": [
    "comb[comb['candidates'].notna()]['precision'].mean()"
   ],
   "metadata": {
    "collapsed": false,
    "pycharm": {
     "name": "#%%\n"
    }
   }
  },
  {
   "cell_type": "markdown",
   "source": [
    "# submission"
   ],
   "metadata": {
    "collapsed": false,
    "pycharm": {
     "name": "#%% md\n"
    }
   }
  },
  {
   "cell_type": "code",
   "execution_count": null,
   "outputs": [],
   "source": [
    "model = CatBoostRanker().load_model(fname=str(data_root / '2020-09-08' / 'pair_logit.model'))"
   ],
   "metadata": {
    "collapsed": false,
    "pycharm": {
     "name": "#%%\n"
    }
   }
  },
  {
   "cell_type": "code",
   "execution_count": 29,
   "outputs": [
    {
     "data": {
      "text/plain": "['score',\n 'article_totals',\n 'age',\n 'product_type_name_clean',\n 'colour_group_name_clean',\n 'department_name_clean',\n 'section_name_clean',\n 'total_cust',\n 'item_age',\n 'monday_item',\n 'avg_per_customer',\n 'daily_sales',\n 'avg_price',\n 'avg_age',\n 'product_totals',\n 'segment',\n 'method']"
     },
     "execution_count": 29,
     "metadata": {},
     "output_type": "execute_result"
    }
   ],
   "source": [
    "model.feature_names_"
   ],
   "metadata": {
    "collapsed": false,
    "pycharm": {
     "name": "#%%\n"
    }
   }
  },
  {
   "cell_type": "code",
   "execution_count": 3,
   "outputs": [],
   "source": [
    "df = pd.read_parquet(data_root / 'clean' / 'transactions.parquet')\n",
    "\n",
    "c = pd.read_parquet(data_root / 'clean' / 'customers.parquet')\n",
    "c['age'] = c['age'].fillna(c['age'].mean())\n",
    "c['age_group'] = pd.cut(c['age'], bins=[15, 21, 25, 30, 40, 50, 60, 100])\n",
    "\n",
    "df = df.merge(c[['customer_id', 'age_group']], on='customer_id')\n",
    "train = filter_data(df, '2020-09-15', '2020-09-22')"
   ],
   "metadata": {
    "collapsed": false,
    "pycharm": {
     "name": "#%%\n"
    }
   }
  },
  {
   "cell_type": "code",
   "execution_count": 4,
   "outputs": [],
   "source": [
    "rec_df = pd.read_parquet(data_root / '2020-09-22' / 'X.parquet')\n",
    "# pred_df = rf.rank_predictions(rec_df, model)"
   ],
   "metadata": {
    "collapsed": false,
    "pycharm": {
     "name": "#%%\n"
    }
   }
  },
  {
   "cell_type": "code",
   "execution_count": 5,
   "outputs": [
    {
     "data": {
      "text/plain": "      score                                        customer_id  article_id  \\\n0  0.003916  00401a367c5ac085cb9d4b77c56f3edcabf25153615db9...  0902407003   \n1  0.003278  00401a367c5ac085cb9d4b77c56f3edcabf25153615db9...  0918200001   \n2  0.003110  00401a367c5ac085cb9d4b77c56f3edcabf25153615db9...  0889652001   \n3  0.002861  00401a367c5ac085cb9d4b77c56f3edcabf25153615db9...  0914999001   \n4  0.002802  00401a367c5ac085cb9d4b77c56f3edcabf25153615db9...  0903352001   \n\n  method  product_code  article_totals  product_totals   age  \\\n0    als        902407             NaN             NaN  28.0   \n1    als        918200             NaN             NaN  28.0   \n2    als        889652             NaN             NaN  28.0   \n3    als        914999             NaN             NaN  28.0   \n4    als        903352             NaN             NaN  28.0   \n\n  product_type_name colour_group_name  ...  item_age daily_sales monday_item  \\\n0            Hoodie            Orange  ...  0.043478   20.869565           1   \n1            Blouse             Black  ...  0.083333   12.166667           0   \n2          Trousers             Black  ...  0.032258   12.354839           0   \n3               Top             Black  ...  0.166667   14.400000           0   \n4            Jacket             Black  ...  0.166667   15.750000           0   \n\n   avg_per_customer  segment  total_items  product_type_name_clean  \\\n0          1.105991      old           11                 0.111111   \n1          1.226891      old           11                 0.166667   \n2          1.293919      old           11                 0.222222   \n3          1.074627      old           11                 0.222222   \n4          1.166667      old           11                 0.111111   \n\n   colour_group_name_clean  department_name_clean  section_name_clean  \n0                 0.111111               0.111111            0.111111  \n1                 0.500000               0.111111            0.388889  \n2                 0.500000               0.166667            0.388889  \n3                 0.500000               0.111111            0.111111  \n4                 0.500000               0.111111            0.111111  \n\n[5 rows x 27 columns]",
      "text/html": "<div>\n<style scoped>\n    .dataframe tbody tr th:only-of-type {\n        vertical-align: middle;\n    }\n\n    .dataframe tbody tr th {\n        vertical-align: top;\n    }\n\n    .dataframe thead th {\n        text-align: right;\n    }\n</style>\n<table border=\"1\" class=\"dataframe\">\n  <thead>\n    <tr style=\"text-align: right;\">\n      <th></th>\n      <th>score</th>\n      <th>customer_id</th>\n      <th>article_id</th>\n      <th>method</th>\n      <th>product_code</th>\n      <th>article_totals</th>\n      <th>product_totals</th>\n      <th>age</th>\n      <th>product_type_name</th>\n      <th>colour_group_name</th>\n      <th>...</th>\n      <th>item_age</th>\n      <th>daily_sales</th>\n      <th>monday_item</th>\n      <th>avg_per_customer</th>\n      <th>segment</th>\n      <th>total_items</th>\n      <th>product_type_name_clean</th>\n      <th>colour_group_name_clean</th>\n      <th>department_name_clean</th>\n      <th>section_name_clean</th>\n    </tr>\n  </thead>\n  <tbody>\n    <tr>\n      <th>0</th>\n      <td>0.003916</td>\n      <td>00401a367c5ac085cb9d4b77c56f3edcabf25153615db9...</td>\n      <td>0902407003</td>\n      <td>als</td>\n      <td>902407</td>\n      <td>NaN</td>\n      <td>NaN</td>\n      <td>28.0</td>\n      <td>Hoodie</td>\n      <td>Orange</td>\n      <td>...</td>\n      <td>0.043478</td>\n      <td>20.869565</td>\n      <td>1</td>\n      <td>1.105991</td>\n      <td>old</td>\n      <td>11</td>\n      <td>0.111111</td>\n      <td>0.111111</td>\n      <td>0.111111</td>\n      <td>0.111111</td>\n    </tr>\n    <tr>\n      <th>1</th>\n      <td>0.003278</td>\n      <td>00401a367c5ac085cb9d4b77c56f3edcabf25153615db9...</td>\n      <td>0918200001</td>\n      <td>als</td>\n      <td>918200</td>\n      <td>NaN</td>\n      <td>NaN</td>\n      <td>28.0</td>\n      <td>Blouse</td>\n      <td>Black</td>\n      <td>...</td>\n      <td>0.083333</td>\n      <td>12.166667</td>\n      <td>0</td>\n      <td>1.226891</td>\n      <td>old</td>\n      <td>11</td>\n      <td>0.166667</td>\n      <td>0.500000</td>\n      <td>0.111111</td>\n      <td>0.388889</td>\n    </tr>\n    <tr>\n      <th>2</th>\n      <td>0.003110</td>\n      <td>00401a367c5ac085cb9d4b77c56f3edcabf25153615db9...</td>\n      <td>0889652001</td>\n      <td>als</td>\n      <td>889652</td>\n      <td>NaN</td>\n      <td>NaN</td>\n      <td>28.0</td>\n      <td>Trousers</td>\n      <td>Black</td>\n      <td>...</td>\n      <td>0.032258</td>\n      <td>12.354839</td>\n      <td>0</td>\n      <td>1.293919</td>\n      <td>old</td>\n      <td>11</td>\n      <td>0.222222</td>\n      <td>0.500000</td>\n      <td>0.166667</td>\n      <td>0.388889</td>\n    </tr>\n    <tr>\n      <th>3</th>\n      <td>0.002861</td>\n      <td>00401a367c5ac085cb9d4b77c56f3edcabf25153615db9...</td>\n      <td>0914999001</td>\n      <td>als</td>\n      <td>914999</td>\n      <td>NaN</td>\n      <td>NaN</td>\n      <td>28.0</td>\n      <td>Top</td>\n      <td>Black</td>\n      <td>...</td>\n      <td>0.166667</td>\n      <td>14.400000</td>\n      <td>0</td>\n      <td>1.074627</td>\n      <td>old</td>\n      <td>11</td>\n      <td>0.222222</td>\n      <td>0.500000</td>\n      <td>0.111111</td>\n      <td>0.111111</td>\n    </tr>\n    <tr>\n      <th>4</th>\n      <td>0.002802</td>\n      <td>00401a367c5ac085cb9d4b77c56f3edcabf25153615db9...</td>\n      <td>0903352001</td>\n      <td>als</td>\n      <td>903352</td>\n      <td>NaN</td>\n      <td>NaN</td>\n      <td>28.0</td>\n      <td>Jacket</td>\n      <td>Black</td>\n      <td>...</td>\n      <td>0.166667</td>\n      <td>15.750000</td>\n      <td>0</td>\n      <td>1.166667</td>\n      <td>old</td>\n      <td>11</td>\n      <td>0.111111</td>\n      <td>0.500000</td>\n      <td>0.111111</td>\n      <td>0.111111</td>\n    </tr>\n  </tbody>\n</table>\n<p>5 rows × 27 columns</p>\n</div>"
     },
     "execution_count": 5,
     "metadata": {},
     "output_type": "execute_result"
    }
   ],
   "source": [
    "rec_df.head()"
   ],
   "metadata": {
    "collapsed": false,
    "pycharm": {
     "name": "#%%\n"
    }
   }
  },
  {
   "cell_type": "code",
   "execution_count": 6,
   "outputs": [],
   "source": [
    "rec_df['rank'] = rec_df.groupby('customer_id')['score'].rank(ascending=False, method='first')\n",
    "\n",
    "relevant_items = rec_df.query('rank <= 12').sort_values(['customer_id', 'rank'], ascending=True)\n",
    "pred_df = relevant_items.groupby('customer_id', observed=True).agg(candidates=('article_id', list))"
   ],
   "metadata": {
    "collapsed": false,
    "pycharm": {
     "name": "#%%\n"
    }
   }
  },
  {
   "cell_type": "code",
   "execution_count": 7,
   "outputs": [
    {
     "data": {
      "text/plain": "                                         customer_id age_group\n0  00000dbacae5abe5e23885899a1fa44253a17956c6d1c3...  (40, 50]\n1  0000423b00ade91418cceaf3b26c6af3dd342b51fd051e...  (21, 25]\n2  000058a12d5b43e67d225668fa1f8d618c13dc232df0ca...  (21, 25]\n3  00005ca1c9ed5f5146b52ac8639a40ca9d57aeff4d1bd2...  (50, 60]\n4  00006413d8573cd20ed7128e53b7b13819fe5cfc2d801f...  (50, 60]",
      "text/html": "<div>\n<style scoped>\n    .dataframe tbody tr th:only-of-type {\n        vertical-align: middle;\n    }\n\n    .dataframe tbody tr th {\n        vertical-align: top;\n    }\n\n    .dataframe thead th {\n        text-align: right;\n    }\n</style>\n<table border=\"1\" class=\"dataframe\">\n  <thead>\n    <tr style=\"text-align: right;\">\n      <th></th>\n      <th>customer_id</th>\n      <th>age_group</th>\n    </tr>\n  </thead>\n  <tbody>\n    <tr>\n      <th>0</th>\n      <td>00000dbacae5abe5e23885899a1fa44253a17956c6d1c3...</td>\n      <td>(40, 50]</td>\n    </tr>\n    <tr>\n      <th>1</th>\n      <td>0000423b00ade91418cceaf3b26c6af3dd342b51fd051e...</td>\n      <td>(21, 25]</td>\n    </tr>\n    <tr>\n      <th>2</th>\n      <td>000058a12d5b43e67d225668fa1f8d618c13dc232df0ca...</td>\n      <td>(21, 25]</td>\n    </tr>\n    <tr>\n      <th>3</th>\n      <td>00005ca1c9ed5f5146b52ac8639a40ca9d57aeff4d1bd2...</td>\n      <td>(50, 60]</td>\n    </tr>\n    <tr>\n      <th>4</th>\n      <td>00006413d8573cd20ed7128e53b7b13819fe5cfc2d801f...</td>\n      <td>(50, 60]</td>\n    </tr>\n  </tbody>\n</table>\n</div>"
     },
     "execution_count": 7,
     "metadata": {},
     "output_type": "execute_result"
    }
   ],
   "source": [
    "submission = pd.read_csv('/data/sstamenov/kaggle-data/sample_submission.csv').drop(columns=['prediction'])\n",
    "submission = submission.merge(c[['customer_id', 'age_group']], on='customer_id', how='left')\n",
    "submission.head()"
   ],
   "metadata": {
    "collapsed": false,
    "pycharm": {
     "name": "#%%\n"
    }
   }
  },
  {
   "cell_type": "code",
   "execution_count": 8,
   "outputs": [],
   "source": [
    "top12_age_pred = age_chart(train)\n",
    "submission = submission.merge(pred_df, on='customer_id', how='left')\n",
    "submission = submission.merge(top12_age_pred, on='age_group', how='left').drop(columns=['age_group'])\n",
    "submission['prediction'] = submission['candidates'].combine_first(submission['naive_pred'])"
   ],
   "metadata": {
    "collapsed": false,
    "pycharm": {
     "name": "#%%\n"
    }
   }
  },
  {
   "cell_type": "code",
   "execution_count": 9,
   "outputs": [
    {
     "data": {
      "text/plain": "                                         customer_id  \\\n0  00000dbacae5abe5e23885899a1fa44253a17956c6d1c3...   \n1  0000423b00ade91418cceaf3b26c6af3dd342b51fd051e...   \n2  000058a12d5b43e67d225668fa1f8d618c13dc232df0ca...   \n3  00005ca1c9ed5f5146b52ac8639a40ca9d57aeff4d1bd2...   \n4  00006413d8573cd20ed7128e53b7b13819fe5cfc2d801f...   \n\n                                          candidates  \\\n0  [0568601043, 0779781015, 0568601006, 085885600...   \n1  [0739590027, 0590928001, 0882759003, 035148403...   \n2  [0599580038, 0685813001, 0768931002, 073959002...   \n3                                                NaN   \n4  [0896152002, 0730683050, 0791587015, 089615200...   \n\n                                          naive_pred  \\\n0  [0751471001, 0923758001, 0924243001, 092424300...   \n1  [0924243001, 0918522001, 0924243002, 091552900...   \n2  [0924243001, 0918522001, 0924243002, 091552900...   \n3  [0924243001, 0928206001, 0930380001, 092424300...   \n4  [0924243001, 0928206001, 0930380001, 092424300...   \n\n                                          prediction  \n0  [0568601043, 0779781015, 0568601006, 085885600...  \n1  [0739590027, 0590928001, 0882759003, 035148403...  \n2  [0599580038, 0685813001, 0768931002, 073959002...  \n3  [0924243001, 0928206001, 0930380001, 092424300...  \n4  [0896152002, 0730683050, 0791587015, 089615200...  ",
      "text/html": "<div>\n<style scoped>\n    .dataframe tbody tr th:only-of-type {\n        vertical-align: middle;\n    }\n\n    .dataframe tbody tr th {\n        vertical-align: top;\n    }\n\n    .dataframe thead th {\n        text-align: right;\n    }\n</style>\n<table border=\"1\" class=\"dataframe\">\n  <thead>\n    <tr style=\"text-align: right;\">\n      <th></th>\n      <th>customer_id</th>\n      <th>candidates</th>\n      <th>naive_pred</th>\n      <th>prediction</th>\n    </tr>\n  </thead>\n  <tbody>\n    <tr>\n      <th>0</th>\n      <td>00000dbacae5abe5e23885899a1fa44253a17956c6d1c3...</td>\n      <td>[0568601043, 0779781015, 0568601006, 085885600...</td>\n      <td>[0751471001, 0923758001, 0924243001, 092424300...</td>\n      <td>[0568601043, 0779781015, 0568601006, 085885600...</td>\n    </tr>\n    <tr>\n      <th>1</th>\n      <td>0000423b00ade91418cceaf3b26c6af3dd342b51fd051e...</td>\n      <td>[0739590027, 0590928001, 0882759003, 035148403...</td>\n      <td>[0924243001, 0918522001, 0924243002, 091552900...</td>\n      <td>[0739590027, 0590928001, 0882759003, 035148403...</td>\n    </tr>\n    <tr>\n      <th>2</th>\n      <td>000058a12d5b43e67d225668fa1f8d618c13dc232df0ca...</td>\n      <td>[0599580038, 0685813001, 0768931002, 073959002...</td>\n      <td>[0924243001, 0918522001, 0924243002, 091552900...</td>\n      <td>[0599580038, 0685813001, 0768931002, 073959002...</td>\n    </tr>\n    <tr>\n      <th>3</th>\n      <td>00005ca1c9ed5f5146b52ac8639a40ca9d57aeff4d1bd2...</td>\n      <td>NaN</td>\n      <td>[0924243001, 0928206001, 0930380001, 092424300...</td>\n      <td>[0924243001, 0928206001, 0930380001, 092424300...</td>\n    </tr>\n    <tr>\n      <th>4</th>\n      <td>00006413d8573cd20ed7128e53b7b13819fe5cfc2d801f...</td>\n      <td>[0896152002, 0730683050, 0791587015, 089615200...</td>\n      <td>[0924243001, 0928206001, 0930380001, 092424300...</td>\n      <td>[0896152002, 0730683050, 0791587015, 089615200...</td>\n    </tr>\n  </tbody>\n</table>\n</div>"
     },
     "execution_count": 9,
     "metadata": {},
     "output_type": "execute_result"
    }
   ],
   "source": [
    "submission.head()"
   ],
   "metadata": {
    "collapsed": false,
    "pycharm": {
     "name": "#%%\n"
    }
   }
  },
  {
   "cell_type": "code",
   "execution_count": 10,
   "outputs": [
    {
     "data": {
      "text/plain": "1371980"
     },
     "execution_count": 10,
     "metadata": {},
     "output_type": "execute_result"
    }
   ],
   "source": [
    "submission.shape[0]"
   ],
   "metadata": {
    "collapsed": false,
    "pycharm": {
     "name": "#%%\n"
    }
   }
  },
  {
   "cell_type": "code",
   "execution_count": 11,
   "outputs": [],
   "source": [
    "submission['prediction'] = submission['prediction'].apply(lambda _: ' '.join(_))"
   ],
   "metadata": {
    "collapsed": false,
    "pycharm": {
     "name": "#%%\n"
    }
   }
  },
  {
   "cell_type": "code",
   "execution_count": 12,
   "outputs": [
    {
     "data": {
      "text/plain": "                                         customer_id  \\\n0  00000dbacae5abe5e23885899a1fa44253a17956c6d1c3...   \n1  0000423b00ade91418cceaf3b26c6af3dd342b51fd051e...   \n2  000058a12d5b43e67d225668fa1f8d618c13dc232df0ca...   \n3  00005ca1c9ed5f5146b52ac8639a40ca9d57aeff4d1bd2...   \n4  00006413d8573cd20ed7128e53b7b13819fe5cfc2d801f...   \n\n                                          candidates  \\\n0  [0568601043, 0779781015, 0568601006, 085885600...   \n1  [0739590027, 0590928001, 0882759003, 035148403...   \n2  [0599580038, 0685813001, 0768931002, 073959002...   \n3                                                NaN   \n4  [0896152002, 0730683050, 0791587015, 089615200...   \n\n                                          naive_pred  \\\n0  [0751471001, 0923758001, 0924243001, 092424300...   \n1  [0924243001, 0918522001, 0924243002, 091552900...   \n2  [0924243001, 0918522001, 0924243002, 091552900...   \n3  [0924243001, 0928206001, 0930380001, 092424300...   \n4  [0924243001, 0928206001, 0930380001, 092424300...   \n\n                                          prediction  \n0  0568601043 0779781015 0568601006 0858856005 05...  \n1  0739590027 0590928001 0882759003 0351484039 07...  \n2  0599580038 0685813001 0768931002 0739590027 08...  \n3  0924243001 0928206001 0930380001 0924243002 09...  \n4  0896152002 0730683050 0791587015 0896152001 07...  ",
      "text/html": "<div>\n<style scoped>\n    .dataframe tbody tr th:only-of-type {\n        vertical-align: middle;\n    }\n\n    .dataframe tbody tr th {\n        vertical-align: top;\n    }\n\n    .dataframe thead th {\n        text-align: right;\n    }\n</style>\n<table border=\"1\" class=\"dataframe\">\n  <thead>\n    <tr style=\"text-align: right;\">\n      <th></th>\n      <th>customer_id</th>\n      <th>candidates</th>\n      <th>naive_pred</th>\n      <th>prediction</th>\n    </tr>\n  </thead>\n  <tbody>\n    <tr>\n      <th>0</th>\n      <td>00000dbacae5abe5e23885899a1fa44253a17956c6d1c3...</td>\n      <td>[0568601043, 0779781015, 0568601006, 085885600...</td>\n      <td>[0751471001, 0923758001, 0924243001, 092424300...</td>\n      <td>0568601043 0779781015 0568601006 0858856005 05...</td>\n    </tr>\n    <tr>\n      <th>1</th>\n      <td>0000423b00ade91418cceaf3b26c6af3dd342b51fd051e...</td>\n      <td>[0739590027, 0590928001, 0882759003, 035148403...</td>\n      <td>[0924243001, 0918522001, 0924243002, 091552900...</td>\n      <td>0739590027 0590928001 0882759003 0351484039 07...</td>\n    </tr>\n    <tr>\n      <th>2</th>\n      <td>000058a12d5b43e67d225668fa1f8d618c13dc232df0ca...</td>\n      <td>[0599580038, 0685813001, 0768931002, 073959002...</td>\n      <td>[0924243001, 0918522001, 0924243002, 091552900...</td>\n      <td>0599580038 0685813001 0768931002 0739590027 08...</td>\n    </tr>\n    <tr>\n      <th>3</th>\n      <td>00005ca1c9ed5f5146b52ac8639a40ca9d57aeff4d1bd2...</td>\n      <td>NaN</td>\n      <td>[0924243001, 0928206001, 0930380001, 092424300...</td>\n      <td>0924243001 0928206001 0930380001 0924243002 09...</td>\n    </tr>\n    <tr>\n      <th>4</th>\n      <td>00006413d8573cd20ed7128e53b7b13819fe5cfc2d801f...</td>\n      <td>[0896152002, 0730683050, 0791587015, 089615200...</td>\n      <td>[0924243001, 0928206001, 0930380001, 092424300...</td>\n      <td>0896152002 0730683050 0791587015 0896152001 07...</td>\n    </tr>\n  </tbody>\n</table>\n</div>"
     },
     "execution_count": 12,
     "metadata": {},
     "output_type": "execute_result"
    }
   ],
   "source": [
    "submission.head()"
   ],
   "metadata": {
    "collapsed": false,
    "pycharm": {
     "name": "#%%\n"
    }
   }
  },
  {
   "cell_type": "code",
   "execution_count": 13,
   "outputs": [],
   "source": [
    "submission[['customer_id', 'prediction']].to_csv('/data/sstamenov/kaggle-data/2020-09-22/submission.csv', index=False)"
   ],
   "metadata": {
    "collapsed": false,
    "pycharm": {
     "name": "#%%\n"
    }
   }
  }
 ],
 "metadata": {
  "kernelspec": {
   "display_name": "Python 3",
   "language": "python",
   "name": "python3"
  },
  "language_info": {
   "codemirror_mode": {
    "name": "ipython",
    "version": 2
   },
   "file_extension": ".py",
   "mimetype": "text/x-python",
   "name": "python",
   "nbconvert_exporter": "python",
   "pygments_lexer": "ipython2",
   "version": "2.7.6"
  }
 },
 "nbformat": 4,
 "nbformat_minor": 0
}