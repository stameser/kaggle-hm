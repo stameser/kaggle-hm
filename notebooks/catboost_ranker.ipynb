{
 "cells": [
  {
   "cell_type": "code",
   "execution_count": 7,
   "metadata": {
    "collapsed": true,
    "pycharm": {
     "name": "#%%\n"
    }
   },
   "outputs": [],
   "source": [
    "import matplotlib.pyplot as plt\n",
    "from catboost import CatBoostRanker, Pool\n",
    "from kaggle_hm.chart_model import filter_data\n",
    "from copy import deepcopy\n",
    "import numpy as np\n",
    "import os\n",
    "import seaborn as sns\n",
    "import pandas as pd\n",
    "from kaggle_hm.config import data_root, train_dates, test_dates\n",
    "from kaggle_hm.evaluation import compute_precision\n",
    "import kaggle_hm.als_model\n",
    "from kaggle_hm.chart_model import age_chart\n",
    "from kaggle_hm.evaluation import plot_precision_at_k, enrich_data, precision_by_age, precision_by_usage\n",
    "from sklearn.model_selection import train_test_split"
   ]
  },
  {
   "cell_type": "code",
   "execution_count": 2,
   "outputs": [],
   "source": [
    "def calc_features(als_candidates, train: pd.DataFrame, customers: pd.DataFrame, items: pd.DataFrame) -> pd.DataFrame:\n",
    "    train_nodup = train.drop_duplicates(subset=['customer_id', 'article_id'])\n",
    "    candidates = als_candidates.merge(train_nodup[['customer_id', 'article_id', 't_dat']], on=['customer_id', 'article_id'], how='left')\n",
    "    candidates['bought'] = candidates['t_dat'].notna().astype('int')\n",
    "    candidates = candidates.drop(columns=['t_dat'])\n",
    "\n",
    "    train_nodup = train.drop_duplicates(subset=['customer_id', 'product_code'])\n",
    "    candidates = candidates.merge(train_nodup[['customer_id', 'product_code', 't_dat']], on=['customer_id', 'product_code'], how='left')\n",
    "    candidates['bought_same_prod'] = candidates['t_dat'].notna().astype('int8')\n",
    "    candidates = candidates.drop(columns=['t_dat'])\n",
    "    # shopping frequency\n",
    "\n",
    "    candidates = candidates.merge(customers[['customer_id', 'age']], on='customer_id', how='left')\n",
    "    candidates = candidates.merge(items[['article_id', 'product_type_name', 'colour_group_name', 'department_name', 'section_name', 'garment_group_name']], on='article_id', how='left')\n",
    "\n",
    "    return candidates\n",
    "\n",
    "def rank_predictions(pred_df: pd.DataFrame, model: CatBoostRanker) -> pd.DataFrame:\n",
    "    pred_df['prediction'] = model.predict(pred_df[model.feature_names_])\n",
    "    pred_df['rank'] = pred_df.groupby('customer_id')['prediction'].rank(ascending=False, method='first')\n",
    "\n",
    "    relevant_items = pred_df.query('rank <= 12').sort_values(['customer_id', 'rank'], ascending=True)\n",
    "    return relevant_items.groupby('customer_id', observed=True).agg(candidates=('article_id', list))\n",
    "\n",
    "\n",
    "def get_item_stats(transactions, prediction_date):\n",
    "    item_stats = (\n",
    "        transactions\n",
    "        .groupby('article_id', observed=True)\n",
    "        .agg(\n",
    "            total_cust=('customer_id', 'count'),\n",
    "            uniq_customers=('customer_id', 'nunique'),\n",
    "            min_dt=('t_dat', 'min'),\n",
    "            max_dt=('t_dat', 'max'),\n",
    "            days=('t_dat', 'nunique'),\n",
    "            avg_price=('price', 'mean'),\n",
    "            avg_age=('age', 'mean'),\n",
    "            median_price=('price', 'median'),\n",
    "            max_price=('price', 'max'),\n",
    "            min_price=('price', 'min'),\n",
    "        )\n",
    "    ).reset_index()\n",
    "    item_stats['item_age'] = 1 / (1 + (pd.to_datetime(prediction_date) - item_stats['min_dt']).dt.days)\n",
    "    item_stats['daily_sales'] = item_stats['total_cust'] / item_stats['days']\n",
    "    item_stats['monday_item'] = (item_stats['min_dt'].dt.dayofweek == 0).astype('int')\n",
    "    item_stats['avg_per_customer'] = item_stats['total_cust'] / item_stats['uniq_customers']\n",
    "\n",
    "    return item_stats"
   ],
   "metadata": {
    "collapsed": false,
    "pycharm": {
     "name": "#%%\n"
    }
   }
  },
  {
   "cell_type": "code",
   "execution_count": 3,
   "outputs": [],
   "source": [
    "c = pd.read_parquet(data_root / 'clean' / 'customers.parquet')\n",
    "c['age'] = c['age'].fillna(c['age'].mean())\n",
    "c['age_group'] = pd.cut(c['age'], bins=[15, 21, 25, 30, 40, 50, 60, 100])\n",
    "items = pd.read_parquet(data_root / 'clean' / 'articles.parquet')\n",
    "\n",
    "df = pd.read_parquet(data_root / 'clean' / 'transactions.parquet')\n",
    "df = df.merge(c[['customer_id', 'age', 'age_group']], on='customer_id')\n",
    "df['product_code'] = df['article_id'].str[1:7].astype('int')\n",
    "\n",
    "cols = [f'rel_{i + 1}' for i in range(12)]"
   ],
   "metadata": {
    "collapsed": false,
    "pycharm": {
     "name": "#%%\n"
    }
   }
  },
  {
   "cell_type": "code",
   "execution_count": 4,
   "outputs": [],
   "source": [
    "features = [\n",
    "    'score',\n",
    "    'bought',\n",
    "    'age',\n",
    "    'product_type_name',\n",
    "    'colour_group_name',\n",
    "    'department_name',\n",
    "    'section_name',\n",
    "    'garment_group_name',\n",
    "    'total_cust',\n",
    "    'item_age',\n",
    "    'monday_item',\n",
    "    'avg_per_customer',\n",
    "    'daily_sales',\n",
    "    'avg_price',\n",
    "    'avg_age',\n",
    "    'median_price',\n",
    "    'max_price',\n",
    "    'min_price',\n",
    "    'bought_same_prod',\n",
    "    'segment',\n",
    "    'method'\n",
    "]"
   ],
   "metadata": {
    "collapsed": false,
    "pycharm": {
     "name": "#%%\n"
    }
   }
  },
  {
   "cell_type": "code",
   "execution_count": 5,
   "outputs": [],
   "source": [
    "delta = (pd.to_datetime('2020-09-08') - df['t_dat']).dt.days\n",
    "df['delta_weeks'] = 1 / (1 + np.power(delta // 7, 1))\n",
    "\n",
    "train = filter_data(df, from_date='2020-09-01', to_date=train_dates['end'])\n",
    "\n",
    "test = filter_data(df, from_date=test_dates['start'], to_date=test_dates['end'])\n",
    "results = test.groupby('customer_id', observed=True).agg(bought=('article_id', set)).reset_index()\n",
    "full_ds = filter_data(df, to_date=train_dates['end'])\n",
    "\n",
    "t_cust = set(train['customer_id'].unique())\n",
    "old_cust = set(full_ds['customer_id'].unique()) - t_cust\n",
    "cold_cust = set(test['customer_id'].unique()) - old_cust - t_cust"
   ],
   "metadata": {
    "collapsed": false,
    "pycharm": {
     "name": "#%%\n"
    }
   }
  },
  {
   "cell_type": "code",
   "execution_count": 8,
   "outputs": [],
   "source": [
    "t_idx, test_idx = train_test_split(test['customer_id'].unique(), test_size=0.2, random_state=42)"
   ],
   "metadata": {
    "collapsed": false,
    "pycharm": {
     "name": "#%%\n"
    }
   }
  },
  {
   "cell_type": "code",
   "execution_count": 10,
   "outputs": [],
   "source": [
    "candidates = pd.read_parquet(data_root / 'clean' / 'candidates.parquet').drop(columns=['price', 'item_id'])\n",
    "candidates['method'] = 'als'"
   ],
   "metadata": {
    "collapsed": false,
    "pycharm": {
     "name": "#%%\n"
    }
   }
  },
  {
   "cell_type": "code",
   "execution_count": 11,
   "outputs": [],
   "source": [
    "knn_candidates = pd.read_parquet(data_root / 'clean' / 'semantic_candidates.parquet')\n",
    "knn_candidates = knn_candidates[knn_candidates['customer_id'].isin(test['customer_id'].unique())].copy()\n",
    "knn_candidates['method'] = 'tfidf'"
   ],
   "metadata": {
    "collapsed": false,
    "pycharm": {
     "name": "#%%\n"
    }
   }
  },
  {
   "cell_type": "code",
   "execution_count": 12,
   "outputs": [],
   "source": [
    "combined_candidates = pd.concat([candidates, knn_candidates[['score', 'customer_id', 'article_id', 'is_relevant', 'method']]])"
   ],
   "metadata": {
    "collapsed": false,
    "pycharm": {
     "name": "#%%\n"
    }
   }
  },
  {
   "cell_type": "code",
   "execution_count": 13,
   "outputs": [
    {
     "name": "stdout",
     "output_type": "stream",
     "text": [
      "(6535300, 5) (3853536, 5) (10388836, 5)\n"
     ]
    }
   ],
   "source": [
    "print(candidates.shape, knn_candidates.shape, combined_candidates.shape)"
   ],
   "metadata": {
    "collapsed": false,
    "pycharm": {
     "name": "#%%\n"
    }
   }
  },
  {
   "cell_type": "code",
   "execution_count": 14,
   "outputs": [],
   "source": [
    "combined_candidates = combined_candidates.drop_duplicates(subset=['customer_id', 'article_id'], keep='first') # try last"
   ],
   "metadata": {
    "collapsed": false,
    "pycharm": {
     "name": "#%%\n"
    }
   }
  },
  {
   "cell_type": "code",
   "execution_count": 15,
   "outputs": [
    {
     "data": {
      "text/plain": "(28360, 20879)"
     },
     "execution_count": 15,
     "metadata": {},
     "output_type": "execute_result"
    }
   ],
   "source": [
    "combined_candidates['is_relevant'].sum(), combined_candidates['article_id'].nunique()"
   ],
   "metadata": {
    "collapsed": false,
    "pycharm": {
     "name": "#%%\n"
    }
   }
  },
  {
   "cell_type": "code",
   "execution_count": 16,
   "outputs": [
    {
     "data": {
      "text/plain": "       score                                        customer_id  article_id  \\\n0   0.046631  000058a12d5b43e67d225668fa1f8d618c13dc232df0ca...  0685813001   \n72  0.011759  000058a12d5b43e67d225668fa1f8d618c13dc232df0ca...  0917606004   \n71  0.011767  000058a12d5b43e67d225668fa1f8d618c13dc232df0ca...  0919741001   \n70  0.011869  000058a12d5b43e67d225668fa1f8d618c13dc232df0ca...  0685816001   \n69  0.011914  000058a12d5b43e67d225668fa1f8d618c13dc232df0ca...  0791837002   \n\n    is_relevant method  \n0             0    als  \n72            0    als  \n71            0    als  \n70            0    als  \n69            0    als  ",
      "text/html": "<div>\n<style scoped>\n    .dataframe tbody tr th:only-of-type {\n        vertical-align: middle;\n    }\n\n    .dataframe tbody tr th {\n        vertical-align: top;\n    }\n\n    .dataframe thead th {\n        text-align: right;\n    }\n</style>\n<table border=\"1\" class=\"dataframe\">\n  <thead>\n    <tr style=\"text-align: right;\">\n      <th></th>\n      <th>score</th>\n      <th>customer_id</th>\n      <th>article_id</th>\n      <th>is_relevant</th>\n      <th>method</th>\n    </tr>\n  </thead>\n  <tbody>\n    <tr>\n      <th>0</th>\n      <td>0.046631</td>\n      <td>000058a12d5b43e67d225668fa1f8d618c13dc232df0ca...</td>\n      <td>0685813001</td>\n      <td>0</td>\n      <td>als</td>\n    </tr>\n    <tr>\n      <th>72</th>\n      <td>0.011759</td>\n      <td>000058a12d5b43e67d225668fa1f8d618c13dc232df0ca...</td>\n      <td>0917606004</td>\n      <td>0</td>\n      <td>als</td>\n    </tr>\n    <tr>\n      <th>71</th>\n      <td>0.011767</td>\n      <td>000058a12d5b43e67d225668fa1f8d618c13dc232df0ca...</td>\n      <td>0919741001</td>\n      <td>0</td>\n      <td>als</td>\n    </tr>\n    <tr>\n      <th>70</th>\n      <td>0.011869</td>\n      <td>000058a12d5b43e67d225668fa1f8d618c13dc232df0ca...</td>\n      <td>0685816001</td>\n      <td>0</td>\n      <td>als</td>\n    </tr>\n    <tr>\n      <th>69</th>\n      <td>0.011914</td>\n      <td>000058a12d5b43e67d225668fa1f8d618c13dc232df0ca...</td>\n      <td>0791837002</td>\n      <td>0</td>\n      <td>als</td>\n    </tr>\n  </tbody>\n</table>\n</div>"
     },
     "execution_count": 16,
     "metadata": {},
     "output_type": "execute_result"
    }
   ],
   "source": [
    "combined_candidates.head()"
   ],
   "metadata": {
    "collapsed": false,
    "pycharm": {
     "name": "#%%\n"
    }
   }
  },
  {
   "cell_type": "code",
   "execution_count": 17,
   "outputs": [],
   "source": [
    "candidates = combined_candidates.sort_values('customer_id').copy()"
   ],
   "metadata": {
    "collapsed": false,
    "pycharm": {
     "name": "#%%\n"
    }
   }
  },
  {
   "cell_type": "code",
   "execution_count": 18,
   "outputs": [
    {
     "data": {
      "text/plain": "65353"
     },
     "execution_count": 18,
     "metadata": {},
     "output_type": "execute_result"
    }
   ],
   "source": [
    "candidates['customer_id'].nunique()"
   ],
   "metadata": {
    "collapsed": false,
    "pycharm": {
     "name": "#%%\n"
    }
   }
  },
  {
   "cell_type": "code",
   "execution_count": 27,
   "outputs": [
    {
     "data": {
      "text/plain": "0.9070901674911047"
     },
     "execution_count": 27,
     "metadata": {},
     "output_type": "execute_result"
    }
   ],
   "source": [
    "candidates[candidates['customer_id'].isin(t_idx)]['customer_id'].nunique() / len(t_idx)"
   ],
   "metadata": {
    "collapsed": false,
    "pycharm": {
     "name": "#%%\n"
    }
   }
  },
  {
   "cell_type": "code",
   "execution_count": 28,
   "outputs": [
    {
     "data": {
      "text/plain": "0.9088447653429603"
     },
     "execution_count": 28,
     "metadata": {},
     "output_type": "execute_result"
    }
   ],
   "source": [
    "candidates[candidates['customer_id'].isin(test_idx)]['customer_id'].nunique() / len(test_idx)"
   ],
   "metadata": {
    "collapsed": false,
    "pycharm": {
     "name": "#%%\n"
    }
   }
  },
  {
   "cell_type": "code",
   "execution_count": 21,
   "outputs": [
    {
     "data": {
      "text/plain": "      score                                        customer_id  article_id  \\\n0  0.046631  000058a12d5b43e67d225668fa1f8d618c13dc232df0ca...  0685813001   \n1  0.043729  000058a12d5b43e67d225668fa1f8d618c13dc232df0ca...  0685813039   \n2  0.043092  000058a12d5b43e67d225668fa1f8d618c13dc232df0ca...  0685813018   \n3  0.040875  000058a12d5b43e67d225668fa1f8d618c13dc232df0ca...  0685813037   \n4  0.037867  000058a12d5b43e67d225668fa1f8d618c13dc232df0ca...  0685813043   \n\n   is_relevant method  product_code  score_rank  bought  bought_same_prod  \\\n0            0    als        685813         1.0       0                 0   \n1            0    als        685813         2.0       0                 0   \n2            0    als        685813         3.0       0                 0   \n3            0    als        685813         4.0       0                 0   \n4            0    als        685813         5.0       0                 0   \n\n    age  ... avg_price    avg_age median_price max_price min_price  item_age  \\\n0  24.0  ...  0.016580  33.388246     0.016932  0.016932  0.006763  0.025641   \n1  24.0  ...  0.016469  35.843373     0.016932  0.016932  0.010153  0.034483   \n2  24.0  ...  0.016509  38.832817     0.016932  0.016932  0.010153  0.025641   \n3  24.0  ...  0.016564  31.707004     0.016932  0.016932  0.010153  0.025641   \n4  24.0  ...  0.016564  34.032870     0.016932  0.016932  0.007610  0.043478   \n\n   daily_sales monday_item avg_per_customer  segment  \n0    22.307692         0.0         1.296572      old  \n1     8.892857         0.0         1.073276      old  \n2     8.500000         0.0         1.137324      old  \n3    14.230769         0.0         1.190987      old  \n4    13.739130         1.0         1.132616      old  \n\n[5 rows x 30 columns]",
      "text/html": "<div>\n<style scoped>\n    .dataframe tbody tr th:only-of-type {\n        vertical-align: middle;\n    }\n\n    .dataframe tbody tr th {\n        vertical-align: top;\n    }\n\n    .dataframe thead th {\n        text-align: right;\n    }\n</style>\n<table border=\"1\" class=\"dataframe\">\n  <thead>\n    <tr style=\"text-align: right;\">\n      <th></th>\n      <th>score</th>\n      <th>customer_id</th>\n      <th>article_id</th>\n      <th>is_relevant</th>\n      <th>method</th>\n      <th>product_code</th>\n      <th>score_rank</th>\n      <th>bought</th>\n      <th>bought_same_prod</th>\n      <th>age</th>\n      <th>...</th>\n      <th>avg_price</th>\n      <th>avg_age</th>\n      <th>median_price</th>\n      <th>max_price</th>\n      <th>min_price</th>\n      <th>item_age</th>\n      <th>daily_sales</th>\n      <th>monday_item</th>\n      <th>avg_per_customer</th>\n      <th>segment</th>\n    </tr>\n  </thead>\n  <tbody>\n    <tr>\n      <th>0</th>\n      <td>0.046631</td>\n      <td>000058a12d5b43e67d225668fa1f8d618c13dc232df0ca...</td>\n      <td>0685813001</td>\n      <td>0</td>\n      <td>als</td>\n      <td>685813</td>\n      <td>1.0</td>\n      <td>0</td>\n      <td>0</td>\n      <td>24.0</td>\n      <td>...</td>\n      <td>0.016580</td>\n      <td>33.388246</td>\n      <td>0.016932</td>\n      <td>0.016932</td>\n      <td>0.006763</td>\n      <td>0.025641</td>\n      <td>22.307692</td>\n      <td>0.0</td>\n      <td>1.296572</td>\n      <td>old</td>\n    </tr>\n    <tr>\n      <th>1</th>\n      <td>0.043729</td>\n      <td>000058a12d5b43e67d225668fa1f8d618c13dc232df0ca...</td>\n      <td>0685813039</td>\n      <td>0</td>\n      <td>als</td>\n      <td>685813</td>\n      <td>2.0</td>\n      <td>0</td>\n      <td>0</td>\n      <td>24.0</td>\n      <td>...</td>\n      <td>0.016469</td>\n      <td>35.843373</td>\n      <td>0.016932</td>\n      <td>0.016932</td>\n      <td>0.010153</td>\n      <td>0.034483</td>\n      <td>8.892857</td>\n      <td>0.0</td>\n      <td>1.073276</td>\n      <td>old</td>\n    </tr>\n    <tr>\n      <th>2</th>\n      <td>0.043092</td>\n      <td>000058a12d5b43e67d225668fa1f8d618c13dc232df0ca...</td>\n      <td>0685813018</td>\n      <td>0</td>\n      <td>als</td>\n      <td>685813</td>\n      <td>3.0</td>\n      <td>0</td>\n      <td>0</td>\n      <td>24.0</td>\n      <td>...</td>\n      <td>0.016509</td>\n      <td>38.832817</td>\n      <td>0.016932</td>\n      <td>0.016932</td>\n      <td>0.010153</td>\n      <td>0.025641</td>\n      <td>8.500000</td>\n      <td>0.0</td>\n      <td>1.137324</td>\n      <td>old</td>\n    </tr>\n    <tr>\n      <th>3</th>\n      <td>0.040875</td>\n      <td>000058a12d5b43e67d225668fa1f8d618c13dc232df0ca...</td>\n      <td>0685813037</td>\n      <td>0</td>\n      <td>als</td>\n      <td>685813</td>\n      <td>4.0</td>\n      <td>0</td>\n      <td>0</td>\n      <td>24.0</td>\n      <td>...</td>\n      <td>0.016564</td>\n      <td>31.707004</td>\n      <td>0.016932</td>\n      <td>0.016932</td>\n      <td>0.010153</td>\n      <td>0.025641</td>\n      <td>14.230769</td>\n      <td>0.0</td>\n      <td>1.190987</td>\n      <td>old</td>\n    </tr>\n    <tr>\n      <th>4</th>\n      <td>0.037867</td>\n      <td>000058a12d5b43e67d225668fa1f8d618c13dc232df0ca...</td>\n      <td>0685813043</td>\n      <td>0</td>\n      <td>als</td>\n      <td>685813</td>\n      <td>5.0</td>\n      <td>0</td>\n      <td>0</td>\n      <td>24.0</td>\n      <td>...</td>\n      <td>0.016564</td>\n      <td>34.032870</td>\n      <td>0.016932</td>\n      <td>0.016932</td>\n      <td>0.007610</td>\n      <td>0.043478</td>\n      <td>13.739130</td>\n      <td>1.0</td>\n      <td>1.132616</td>\n      <td>old</td>\n    </tr>\n  </tbody>\n</table>\n<p>5 rows × 30 columns</p>\n</div>"
     },
     "execution_count": 21,
     "metadata": {},
     "output_type": "execute_result"
    }
   ],
   "source": [
    "candidates['product_code'] = candidates['article_id'].str[1:7].astype('int')\n",
    "candidates['score_rank'] = candidates.groupby('customer_id')['score'].rank(ascending=False, method='first')\n",
    "\n",
    "last_transactions = filter_data(df, from_date='2020-08-01', to_date='2020-09-08')\n",
    "candidates = calc_features(candidates, last_transactions, c, items)\n",
    "\n",
    "old_transactions = filter_data(df, from_date='2020-08-01', to_date='2020-09-08')\n",
    "item_stats = get_item_stats(old_transactions, '2020-09-08')\n",
    "candidates = candidates.merge(item_stats, on='article_id', how='left')\n",
    "\n",
    "candidates['segment'] = 'old'\n",
    "candidates.loc[candidates['customer_id'].isin(t_cust), 'segment'] = 'train'\n",
    "candidates.head()"
   ],
   "metadata": {
    "collapsed": false,
    "pycharm": {
     "name": "#%%\n"
    }
   }
  },
  {
   "cell_type": "code",
   "execution_count": 22,
   "outputs": [],
   "source": [
    "train_customers, test_customers = train_test_split(test['customer_id'].unique(), test_size=0.2, random_state=42)\n",
    "\n",
    "train_df = candidates[candidates['customer_id'].isin(train_customers)].copy()\n",
    "test_df = candidates[candidates['customer_id'].isin(test_customers)].copy()\n",
    "\n",
    "X_train = train_df[features]\n",
    "y_train = train_df['is_relevant']\n",
    "queries_train = train_df['customer_id']\n",
    "\n",
    "X_test = test_df[features]\n",
    "y_test = test_df['is_relevant']\n",
    "queries_test = test_df['customer_id']\n",
    "\n",
    "train_pool = Pool(\n",
    "    data=X_train,\n",
    "    label=y_train,\n",
    "    group_id=queries_train,\n",
    "    cat_features=['product_type_name', 'colour_group_name', 'department_name', 'section_name', 'garment_group_name', 'segment', 'method']\n",
    ")\n",
    "\n",
    "test_pool = Pool(\n",
    "    data=X_test,\n",
    "    label=y_test,\n",
    "    group_id=queries_test,\n",
    "    cat_features=['product_type_name', 'colour_group_name', 'department_name', 'section_name', 'garment_group_name', 'segment', 'method']\n",
    ")"
   ],
   "metadata": {
    "collapsed": false,
    "pycharm": {
     "name": "#%%\n"
    }
   }
  },
  {
   "cell_type": "code",
   "execution_count": 23,
   "outputs": [],
   "source": [
    "default_parameters = {\n",
    "    'iterations': 2000,\n",
    "    'custom_metric': ['MAP:top=10', 'NDCG'],\n",
    "    'verbose': True,\n",
    "    'metric_period': 200,\n",
    "    'task_type': 'GPU',\n",
    "    'devices': '0',\n",
    "    'random_seed': 0,\n",
    "    'learning_rate': 0.01,\n",
    "    'one_hot_max_size': 10\n",
    "}\n",
    "\n",
    "parameters = {}\n",
    "\n",
    "def fit_model(loss_function, additional_params=None, train_pool=train_pool, test_pool=test_pool):\n",
    "    parameters = deepcopy(default_parameters)\n",
    "    parameters['loss_function'] = loss_function\n",
    "    parameters['train_dir'] = loss_function\n",
    "\n",
    "    if additional_params is not None:\n",
    "        parameters.update(additional_params)\n",
    "\n",
    "    model = CatBoostRanker(**parameters)\n",
    "    model.fit(train_pool, eval_set=test_pool, plot=False)\n",
    "\n",
    "    return model"
   ],
   "metadata": {
    "collapsed": false,
    "pycharm": {
     "name": "#%%\n"
    }
   }
  },
  {
   "cell_type": "code",
   "execution_count": 39,
   "outputs": [
    {
     "data": {
      "text/plain": "            score                                        customer_id  \\\n35303    0.589905  00eebac2c2e37626461e74e8395711964c4e01a7afa643...   \n74533    0.657828  01e464bf74b13a55df22de1528eff2b33749c0cd92953b...   \n74561    1.000000  01e464bf74b13a55df22de1528eff2b33749c0cd92953b...   \n100332   1.000000  02a55659b6fc401b76a972ea1291b23c31df59a0ad0078...   \n144451   0.445931  03efe2e2e81ddbf9df1b23658a6de7f850747d49d5d50e...   \n...           ...                                                ...   \n9420151  0.806664  fcebefd782268cb541fbfe5d7bb2645463575e54d37c7f...   \n9447067  1.000000  fdaff3545b033245c4ee0e6af63d3e4f9cebd31e31fae3...   \n9491533  0.570675  fef587d621daf970b5c6dc013c89548b31758e77bbae05...   \n9505495  0.582111  ff59d734e8450d2c24e679565a72598e287430f3d29387...   \n9521876  1.000000  ffd167acd12b3c5ae8c317216333ea0a81e1fc6fe3ccde...   \n\n         article_id  is_relevant method  product_code  score_rank  bought  \\\n35303    0916828001            1  tfidf        916828       218.0       0   \n74533    0902528005            1  tfidf        902528       173.0       0   \n74561    0885543006            1  tfidf        885543        42.0       0   \n100332   0905945002            1  tfidf        905945         1.0       0   \n144451   0893432002            1  tfidf        893432        55.0       0   \n...             ...          ...    ...           ...         ...     ...   \n9420151  0874819003            1  tfidf        874819        28.0       0   \n9447067  0785034009            1  tfidf        785034         2.0       0   \n9491533  0904730002            1  tfidf        904730        71.0       0   \n9505495  0912095005            1  tfidf        912095       168.0       0   \n9521876  0871527004            1  tfidf        871527         4.0       0   \n\n         bought_same_prod   age  ... avg_price avg_age median_price max_price  \\\n35303                   0  30.0  ...       NaN     NaN          NaN       NaN   \n74533                   0  23.0  ...       NaN     NaN          NaN       NaN   \n74561                   1  23.0  ...       NaN     NaN          NaN       NaN   \n100332                  1  50.0  ...       NaN     NaN          NaN       NaN   \n144451                  0  25.0  ...       NaN     NaN          NaN       NaN   \n...                   ...   ...  ...       ...     ...          ...       ...   \n9420151                 1  46.0  ...       NaN     NaN          NaN       NaN   \n9447067                 1  70.0  ...       NaN     NaN          NaN       NaN   \n9491533                 0  29.0  ...       NaN     NaN          NaN       NaN   \n9505495                 1  22.0  ...       NaN     NaN          NaN       NaN   \n9521876                 1  56.0  ...       NaN     NaN          NaN       NaN   \n\n        min_price  item_age  daily_sales monday_item avg_per_customer  segment  \n35303         NaN       NaN          NaN         NaN              NaN    train  \n74533         NaN       NaN          NaN         NaN              NaN    train  \n74561         NaN       NaN          NaN         NaN              NaN    train  \n100332        NaN       NaN          NaN         NaN              NaN    train  \n144451        NaN       NaN          NaN         NaN              NaN      old  \n...           ...       ...          ...         ...              ...      ...  \n9420151       NaN       NaN          NaN         NaN              NaN    train  \n9447067       NaN       NaN          NaN         NaN              NaN      old  \n9491533       NaN       NaN          NaN         NaN              NaN      old  \n9505495       NaN       NaN          NaN         NaN              NaN    train  \n9521876       NaN       NaN          NaN         NaN              NaN      old  \n\n[321 rows x 30 columns]",
      "text/html": "<div>\n<style scoped>\n    .dataframe tbody tr th:only-of-type {\n        vertical-align: middle;\n    }\n\n    .dataframe tbody tr th {\n        vertical-align: top;\n    }\n\n    .dataframe thead th {\n        text-align: right;\n    }\n</style>\n<table border=\"1\" class=\"dataframe\">\n  <thead>\n    <tr style=\"text-align: right;\">\n      <th></th>\n      <th>score</th>\n      <th>customer_id</th>\n      <th>article_id</th>\n      <th>is_relevant</th>\n      <th>method</th>\n      <th>product_code</th>\n      <th>score_rank</th>\n      <th>bought</th>\n      <th>bought_same_prod</th>\n      <th>age</th>\n      <th>...</th>\n      <th>avg_price</th>\n      <th>avg_age</th>\n      <th>median_price</th>\n      <th>max_price</th>\n      <th>min_price</th>\n      <th>item_age</th>\n      <th>daily_sales</th>\n      <th>monday_item</th>\n      <th>avg_per_customer</th>\n      <th>segment</th>\n    </tr>\n  </thead>\n  <tbody>\n    <tr>\n      <th>35303</th>\n      <td>0.589905</td>\n      <td>00eebac2c2e37626461e74e8395711964c4e01a7afa643...</td>\n      <td>0916828001</td>\n      <td>1</td>\n      <td>tfidf</td>\n      <td>916828</td>\n      <td>218.0</td>\n      <td>0</td>\n      <td>0</td>\n      <td>30.0</td>\n      <td>...</td>\n      <td>NaN</td>\n      <td>NaN</td>\n      <td>NaN</td>\n      <td>NaN</td>\n      <td>NaN</td>\n      <td>NaN</td>\n      <td>NaN</td>\n      <td>NaN</td>\n      <td>NaN</td>\n      <td>train</td>\n    </tr>\n    <tr>\n      <th>74533</th>\n      <td>0.657828</td>\n      <td>01e464bf74b13a55df22de1528eff2b33749c0cd92953b...</td>\n      <td>0902528005</td>\n      <td>1</td>\n      <td>tfidf</td>\n      <td>902528</td>\n      <td>173.0</td>\n      <td>0</td>\n      <td>0</td>\n      <td>23.0</td>\n      <td>...</td>\n      <td>NaN</td>\n      <td>NaN</td>\n      <td>NaN</td>\n      <td>NaN</td>\n      <td>NaN</td>\n      <td>NaN</td>\n      <td>NaN</td>\n      <td>NaN</td>\n      <td>NaN</td>\n      <td>train</td>\n    </tr>\n    <tr>\n      <th>74561</th>\n      <td>1.000000</td>\n      <td>01e464bf74b13a55df22de1528eff2b33749c0cd92953b...</td>\n      <td>0885543006</td>\n      <td>1</td>\n      <td>tfidf</td>\n      <td>885543</td>\n      <td>42.0</td>\n      <td>0</td>\n      <td>1</td>\n      <td>23.0</td>\n      <td>...</td>\n      <td>NaN</td>\n      <td>NaN</td>\n      <td>NaN</td>\n      <td>NaN</td>\n      <td>NaN</td>\n      <td>NaN</td>\n      <td>NaN</td>\n      <td>NaN</td>\n      <td>NaN</td>\n      <td>train</td>\n    </tr>\n    <tr>\n      <th>100332</th>\n      <td>1.000000</td>\n      <td>02a55659b6fc401b76a972ea1291b23c31df59a0ad0078...</td>\n      <td>0905945002</td>\n      <td>1</td>\n      <td>tfidf</td>\n      <td>905945</td>\n      <td>1.0</td>\n      <td>0</td>\n      <td>1</td>\n      <td>50.0</td>\n      <td>...</td>\n      <td>NaN</td>\n      <td>NaN</td>\n      <td>NaN</td>\n      <td>NaN</td>\n      <td>NaN</td>\n      <td>NaN</td>\n      <td>NaN</td>\n      <td>NaN</td>\n      <td>NaN</td>\n      <td>train</td>\n    </tr>\n    <tr>\n      <th>144451</th>\n      <td>0.445931</td>\n      <td>03efe2e2e81ddbf9df1b23658a6de7f850747d49d5d50e...</td>\n      <td>0893432002</td>\n      <td>1</td>\n      <td>tfidf</td>\n      <td>893432</td>\n      <td>55.0</td>\n      <td>0</td>\n      <td>0</td>\n      <td>25.0</td>\n      <td>...</td>\n      <td>NaN</td>\n      <td>NaN</td>\n      <td>NaN</td>\n      <td>NaN</td>\n      <td>NaN</td>\n      <td>NaN</td>\n      <td>NaN</td>\n      <td>NaN</td>\n      <td>NaN</td>\n      <td>old</td>\n    </tr>\n    <tr>\n      <th>...</th>\n      <td>...</td>\n      <td>...</td>\n      <td>...</td>\n      <td>...</td>\n      <td>...</td>\n      <td>...</td>\n      <td>...</td>\n      <td>...</td>\n      <td>...</td>\n      <td>...</td>\n      <td>...</td>\n      <td>...</td>\n      <td>...</td>\n      <td>...</td>\n      <td>...</td>\n      <td>...</td>\n      <td>...</td>\n      <td>...</td>\n      <td>...</td>\n      <td>...</td>\n      <td>...</td>\n    </tr>\n    <tr>\n      <th>9420151</th>\n      <td>0.806664</td>\n      <td>fcebefd782268cb541fbfe5d7bb2645463575e54d37c7f...</td>\n      <td>0874819003</td>\n      <td>1</td>\n      <td>tfidf</td>\n      <td>874819</td>\n      <td>28.0</td>\n      <td>0</td>\n      <td>1</td>\n      <td>46.0</td>\n      <td>...</td>\n      <td>NaN</td>\n      <td>NaN</td>\n      <td>NaN</td>\n      <td>NaN</td>\n      <td>NaN</td>\n      <td>NaN</td>\n      <td>NaN</td>\n      <td>NaN</td>\n      <td>NaN</td>\n      <td>train</td>\n    </tr>\n    <tr>\n      <th>9447067</th>\n      <td>1.000000</td>\n      <td>fdaff3545b033245c4ee0e6af63d3e4f9cebd31e31fae3...</td>\n      <td>0785034009</td>\n      <td>1</td>\n      <td>tfidf</td>\n      <td>785034</td>\n      <td>2.0</td>\n      <td>0</td>\n      <td>1</td>\n      <td>70.0</td>\n      <td>...</td>\n      <td>NaN</td>\n      <td>NaN</td>\n      <td>NaN</td>\n      <td>NaN</td>\n      <td>NaN</td>\n      <td>NaN</td>\n      <td>NaN</td>\n      <td>NaN</td>\n      <td>NaN</td>\n      <td>old</td>\n    </tr>\n    <tr>\n      <th>9491533</th>\n      <td>0.570675</td>\n      <td>fef587d621daf970b5c6dc013c89548b31758e77bbae05...</td>\n      <td>0904730002</td>\n      <td>1</td>\n      <td>tfidf</td>\n      <td>904730</td>\n      <td>71.0</td>\n      <td>0</td>\n      <td>0</td>\n      <td>29.0</td>\n      <td>...</td>\n      <td>NaN</td>\n      <td>NaN</td>\n      <td>NaN</td>\n      <td>NaN</td>\n      <td>NaN</td>\n      <td>NaN</td>\n      <td>NaN</td>\n      <td>NaN</td>\n      <td>NaN</td>\n      <td>old</td>\n    </tr>\n    <tr>\n      <th>9505495</th>\n      <td>0.582111</td>\n      <td>ff59d734e8450d2c24e679565a72598e287430f3d29387...</td>\n      <td>0912095005</td>\n      <td>1</td>\n      <td>tfidf</td>\n      <td>912095</td>\n      <td>168.0</td>\n      <td>0</td>\n      <td>1</td>\n      <td>22.0</td>\n      <td>...</td>\n      <td>NaN</td>\n      <td>NaN</td>\n      <td>NaN</td>\n      <td>NaN</td>\n      <td>NaN</td>\n      <td>NaN</td>\n      <td>NaN</td>\n      <td>NaN</td>\n      <td>NaN</td>\n      <td>train</td>\n    </tr>\n    <tr>\n      <th>9521876</th>\n      <td>1.000000</td>\n      <td>ffd167acd12b3c5ae8c317216333ea0a81e1fc6fe3ccde...</td>\n      <td>0871527004</td>\n      <td>1</td>\n      <td>tfidf</td>\n      <td>871527</td>\n      <td>4.0</td>\n      <td>0</td>\n      <td>1</td>\n      <td>56.0</td>\n      <td>...</td>\n      <td>NaN</td>\n      <td>NaN</td>\n      <td>NaN</td>\n      <td>NaN</td>\n      <td>NaN</td>\n      <td>NaN</td>\n      <td>NaN</td>\n      <td>NaN</td>\n      <td>NaN</td>\n      <td>old</td>\n    </tr>\n  </tbody>\n</table>\n<p>321 rows × 30 columns</p>\n</div>"
     },
     "execution_count": 39,
     "metadata": {},
     "output_type": "execute_result"
    }
   ],
   "source": [
    "cond = (\n",
    "    train_df['item_age'].isna() & train_df['is_relevant']\n",
    ")\n",
    "\n",
    "train_df[cond]"
   ],
   "metadata": {
    "collapsed": false,
    "pycharm": {
     "name": "#%%\n"
    }
   }
  },
  {
   "cell_type": "code",
   "execution_count": 30,
   "outputs": [
    {
     "data": {
      "text/plain": "score                 7614853\nbought                7614853\nage                   7614853\nproduct_type_name     7614853\ncolour_group_name     7614853\ndepartment_name       7614853\nsection_name          7614853\ngarment_group_name    7614853\ntotal_cust            7505421\nitem_age              7505421\nmonday_item           7505421\navg_per_customer      7505421\ndaily_sales           7505421\navg_price             7505421\navg_age               7505421\nmedian_price          7505421\nmax_price             7505421\nmin_price             7505421\nbought_same_prod      7614853\nsegment               7614853\nmethod                7614853\ndtype: int64"
     },
     "execution_count": 30,
     "metadata": {},
     "output_type": "execute_result"
    }
   ],
   "source": [
    "X_train.count()"
   ],
   "metadata": {
    "collapsed": false,
    "pycharm": {
     "name": "#%%\n"
    }
   }
  },
  {
   "cell_type": "code",
   "execution_count": 24,
   "outputs": [
    {
     "data": {
      "text/plain": "['score',\n 'bought',\n 'age',\n 'product_type_name',\n 'colour_group_name',\n 'department_name',\n 'section_name',\n 'garment_group_name',\n 'total_cust',\n 'item_age',\n 'monday_item',\n 'avg_per_customer',\n 'daily_sales',\n 'avg_price',\n 'avg_age',\n 'median_price',\n 'max_price',\n 'min_price',\n 'bought_same_prod',\n 'segment',\n 'method']"
     },
     "execution_count": 24,
     "metadata": {},
     "output_type": "execute_result"
    }
   ],
   "source": [
    "train_pool.get_feature_names()"
   ],
   "metadata": {
    "collapsed": false,
    "pycharm": {
     "name": "#%%\n"
    }
   }
  },
  {
   "cell_type": "code",
   "execution_count": 25,
   "outputs": [
    {
     "data": {
      "text/plain": "is_relevant        0      1\nmethod                     \nals          5206353  19847\ntfidf        2385870   2783",
      "text/html": "<div>\n<style scoped>\n    .dataframe tbody tr th:only-of-type {\n        vertical-align: middle;\n    }\n\n    .dataframe tbody tr th {\n        vertical-align: top;\n    }\n\n    .dataframe thead th {\n        text-align: right;\n    }\n</style>\n<table border=\"1\" class=\"dataframe\">\n  <thead>\n    <tr style=\"text-align: right;\">\n      <th>is_relevant</th>\n      <th>0</th>\n      <th>1</th>\n    </tr>\n    <tr>\n      <th>method</th>\n      <th></th>\n      <th></th>\n    </tr>\n  </thead>\n  <tbody>\n    <tr>\n      <th>als</th>\n      <td>5206353</td>\n      <td>19847</td>\n    </tr>\n    <tr>\n      <th>tfidf</th>\n      <td>2385870</td>\n      <td>2783</td>\n    </tr>\n  </tbody>\n</table>\n</div>"
     },
     "execution_count": 25,
     "metadata": {},
     "output_type": "execute_result"
    }
   ],
   "source": [
    "train_df.pivot_table(index='method', columns='is_relevant', values='article_id', aggfunc='count')"
   ],
   "metadata": {
    "collapsed": false,
    "pycharm": {
     "name": "#%%\n"
    }
   }
  },
  {
   "cell_type": "code",
   "execution_count": 26,
   "outputs": [
    {
     "data": {
      "text/plain": "is_relevant        0     1\nmethod                    \nals          1304086  5014\ntfidf         603633   716",
      "text/html": "<div>\n<style scoped>\n    .dataframe tbody tr th:only-of-type {\n        vertical-align: middle;\n    }\n\n    .dataframe tbody tr th {\n        vertical-align: top;\n    }\n\n    .dataframe thead th {\n        text-align: right;\n    }\n</style>\n<table border=\"1\" class=\"dataframe\">\n  <thead>\n    <tr style=\"text-align: right;\">\n      <th>is_relevant</th>\n      <th>0</th>\n      <th>1</th>\n    </tr>\n    <tr>\n      <th>method</th>\n      <th></th>\n      <th></th>\n    </tr>\n  </thead>\n  <tbody>\n    <tr>\n      <th>als</th>\n      <td>1304086</td>\n      <td>5014</td>\n    </tr>\n    <tr>\n      <th>tfidf</th>\n      <td>603633</td>\n      <td>716</td>\n    </tr>\n  </tbody>\n</table>\n</div>"
     },
     "execution_count": 26,
     "metadata": {},
     "output_type": "execute_result"
    }
   ],
   "source": [
    "test_df.pivot_table(index='method', columns='is_relevant', values='article_id', aggfunc='count')"
   ],
   "metadata": {
    "collapsed": false,
    "pycharm": {
     "name": "#%%\n"
    }
   }
  },
  {
   "cell_type": "code",
   "execution_count": 29,
   "outputs": [
    {
     "name": "stderr",
     "output_type": "stream",
     "text": [
      "Metric MAP:top=10 is not implemented on GPU. Will use CPU for metric computation, this could significantly affect learning time\n",
      "Metric NDCG:type=Base is not implemented on GPU. Will use CPU for metric computation, this could significantly affect learning time\n"
     ]
    },
    {
     "name": "stdout",
     "output_type": "stream",
     "text": [
      "0:\tlearn: 0.6870789\ttest: 0.6873893\tbest: 0.6873893 (0)\ttotal: 609ms\tremaining: 20m 17s\n",
      "200:\tlearn: 0.4344589\ttest: 0.4478399\tbest: 0.4478399 (200)\ttotal: 46.4s\tremaining: 6m 55s\n",
      "400:\tlearn: 0.4122618\ttest: 0.4284541\tbest: 0.4284541 (400)\ttotal: 1m 32s\tremaining: 6m 7s\n",
      "600:\tlearn: 0.4012842\ttest: 0.4206407\tbest: 0.4206407 (600)\ttotal: 2m 18s\tremaining: 5m 21s\n",
      "800:\tlearn: 0.3936581\ttest: 0.4159520\tbest: 0.4159520 (800)\ttotal: 3m 4s\tremaining: 4m 35s\n",
      "1000:\tlearn: 0.3876421\ttest: 0.4128153\tbest: 0.4128153 (1000)\ttotal: 3m 50s\tremaining: 3m 49s\n",
      "1200:\tlearn: 0.3827582\ttest: 0.4106945\tbest: 0.4106945 (1200)\ttotal: 4m 36s\tremaining: 3m 3s\n",
      "1400:\tlearn: 0.3783556\ttest: 0.4091813\tbest: 0.4091813 (1400)\ttotal: 5m 22s\tremaining: 2m 17s\n",
      "1600:\tlearn: 0.3744957\ttest: 0.4079284\tbest: 0.4079284 (1600)\ttotal: 6m 8s\tremaining: 1m 31s\n",
      "1800:\tlearn: 0.3708289\ttest: 0.4066694\tbest: 0.4066694 (1800)\ttotal: 6m 54s\tremaining: 45.8s\n",
      "1999:\tlearn: 0.3675460\ttest: 0.4055947\tbest: 0.4055947 (1999)\ttotal: 7m 40s\tremaining: 0us\n",
      "bestTest = 0.4055947167\n",
      "bestIteration = 1999\n"
     ]
    }
   ],
   "source": [
    "model = fit_model('PairLogit')"
   ],
   "metadata": {
    "collapsed": false,
    "pycharm": {
     "name": "#%%\n"
    }
   }
  },
  {
   "cell_type": "code",
   "execution_count": 31,
   "outputs": [],
   "source": [
    "model.save_model(data_root / 'models' / 'pair_logit.model')"
   ],
   "metadata": {
    "collapsed": false,
    "pycharm": {
     "name": "#%%\n"
    }
   }
  },
  {
   "cell_type": "code",
   "execution_count": 32,
   "outputs": [
    {
     "data": {
      "text/plain": "{'learn': {'MAP:top=10': 0.05336797552773985, 'PairLogit': 0.367546041656154},\n 'validation': {'NDCG:type=Base': 0.8139739552285973,\n  'MAP:top=10': 0.052005265643547696,\n  'PairLogit': 0.40559471665365815}}"
     },
     "execution_count": 32,
     "metadata": {},
     "output_type": "execute_result"
    }
   ],
   "source": [
    "model.get_best_score()"
   ],
   "metadata": {
    "collapsed": false,
    "pycharm": {
     "name": "#%%\n"
    }
   }
  },
  {
   "cell_type": "code",
   "execution_count": 22,
   "outputs": [],
   "source": [
    "fe = model.get_feature_importance(test_pool, type='LossFunctionChange')"
   ],
   "metadata": {
    "collapsed": false,
    "pycharm": {
     "name": "#%%\n"
    }
   }
  },
  {
   "cell_type": "code",
   "execution_count": 23,
   "outputs": [
    {
     "data": {
      "text/plain": "       score                name\n20  0.068649              method\n0   0.036155               score\n18  0.031981    bought_same_prod\n12  0.029384         daily_sales\n1   0.009230              bought\n9   0.006575            item_age\n13  0.002794           avg_price\n19  0.001710             segment\n14  0.001286             avg_age\n8   0.001095          total_cust\n11  0.000897    avg_per_customer\n6   0.000893        section_name\n2   0.000809                 age\n16  0.000565           max_price\n5   0.000346     department_name\n17  0.000337           min_price\n3   0.000323   product_type_name\n15  0.000307        median_price\n4   0.000285   colour_group_name\n7   0.000197  garment_group_name\n10  0.000038         monday_item",
      "text/html": "<div>\n<style scoped>\n    .dataframe tbody tr th:only-of-type {\n        vertical-align: middle;\n    }\n\n    .dataframe tbody tr th {\n        vertical-align: top;\n    }\n\n    .dataframe thead th {\n        text-align: right;\n    }\n</style>\n<table border=\"1\" class=\"dataframe\">\n  <thead>\n    <tr style=\"text-align: right;\">\n      <th></th>\n      <th>score</th>\n      <th>name</th>\n    </tr>\n  </thead>\n  <tbody>\n    <tr>\n      <th>20</th>\n      <td>0.068649</td>\n      <td>method</td>\n    </tr>\n    <tr>\n      <th>0</th>\n      <td>0.036155</td>\n      <td>score</td>\n    </tr>\n    <tr>\n      <th>18</th>\n      <td>0.031981</td>\n      <td>bought_same_prod</td>\n    </tr>\n    <tr>\n      <th>12</th>\n      <td>0.029384</td>\n      <td>daily_sales</td>\n    </tr>\n    <tr>\n      <th>1</th>\n      <td>0.009230</td>\n      <td>bought</td>\n    </tr>\n    <tr>\n      <th>9</th>\n      <td>0.006575</td>\n      <td>item_age</td>\n    </tr>\n    <tr>\n      <th>13</th>\n      <td>0.002794</td>\n      <td>avg_price</td>\n    </tr>\n    <tr>\n      <th>19</th>\n      <td>0.001710</td>\n      <td>segment</td>\n    </tr>\n    <tr>\n      <th>14</th>\n      <td>0.001286</td>\n      <td>avg_age</td>\n    </tr>\n    <tr>\n      <th>8</th>\n      <td>0.001095</td>\n      <td>total_cust</td>\n    </tr>\n    <tr>\n      <th>11</th>\n      <td>0.000897</td>\n      <td>avg_per_customer</td>\n    </tr>\n    <tr>\n      <th>6</th>\n      <td>0.000893</td>\n      <td>section_name</td>\n    </tr>\n    <tr>\n      <th>2</th>\n      <td>0.000809</td>\n      <td>age</td>\n    </tr>\n    <tr>\n      <th>16</th>\n      <td>0.000565</td>\n      <td>max_price</td>\n    </tr>\n    <tr>\n      <th>5</th>\n      <td>0.000346</td>\n      <td>department_name</td>\n    </tr>\n    <tr>\n      <th>17</th>\n      <td>0.000337</td>\n      <td>min_price</td>\n    </tr>\n    <tr>\n      <th>3</th>\n      <td>0.000323</td>\n      <td>product_type_name</td>\n    </tr>\n    <tr>\n      <th>15</th>\n      <td>0.000307</td>\n      <td>median_price</td>\n    </tr>\n    <tr>\n      <th>4</th>\n      <td>0.000285</td>\n      <td>colour_group_name</td>\n    </tr>\n    <tr>\n      <th>7</th>\n      <td>0.000197</td>\n      <td>garment_group_name</td>\n    </tr>\n    <tr>\n      <th>10</th>\n      <td>0.000038</td>\n      <td>monday_item</td>\n    </tr>\n  </tbody>\n</table>\n</div>"
     },
     "execution_count": 23,
     "metadata": {},
     "output_type": "execute_result"
    }
   ],
   "source": [
    "pd.DataFrame({\n",
    "    'score': fe,\n",
    "    'name': model.feature_names_\n",
    "}).sort_values('score', ascending=False)"
   ],
   "metadata": {
    "collapsed": false,
    "pycharm": {
     "name": "#%%\n"
    }
   }
  },
  {
   "cell_type": "code",
   "execution_count": 33,
   "outputs": [
    {
     "data": {
      "text/plain": "0.034112414552800466"
     },
     "execution_count": 33,
     "metadata": {},
     "output_type": "execute_result"
    }
   ],
   "source": [
    "rec_df = rank_predictions(test_df, model)\n",
    "comb = results.merge(rec_df, on='customer_id')\n",
    "comb = comb[comb['candidates'].str.len() > 1]\n",
    "comb['prediction'] = comb['candidates']\n",
    "comb = compute_precision(comb)\n",
    "comb['precision'].mean()"
   ],
   "metadata": {
    "collapsed": false,
    "pycharm": {
     "name": "#%%\n"
    }
   }
  },
  {
   "cell_type": "code",
   "execution_count": 34,
   "outputs": [],
   "source": [
    "comb_enriched = enrich_data(filter_data(df, to_date='2020-09-08'), comb.set_index('customer_id'), c.set_index('customer_id'))"
   ],
   "metadata": {
    "collapsed": false,
    "pycharm": {
     "name": "#%%\n"
    }
   }
  },
  {
   "cell_type": "code",
   "execution_count": 35,
   "outputs": [],
   "source": [
    "comb['segment'] = 'old'\n",
    "comb.loc[comb['customer_id'].isin(t_cust), 'segment'] = 'train'"
   ],
   "metadata": {
    "collapsed": false,
    "pycharm": {
     "name": "#%%\n"
    }
   }
  },
  {
   "cell_type": "code",
   "execution_count": 36,
   "outputs": [
    {
     "data": {
      "text/plain": "         customers  avg_precision\nsegment                          \nold           9992       0.018513\ntrain         3099       0.084410",
      "text/html": "<div>\n<style scoped>\n    .dataframe tbody tr th:only-of-type {\n        vertical-align: middle;\n    }\n\n    .dataframe tbody tr th {\n        vertical-align: top;\n    }\n\n    .dataframe thead th {\n        text-align: right;\n    }\n</style>\n<table border=\"1\" class=\"dataframe\">\n  <thead>\n    <tr style=\"text-align: right;\">\n      <th></th>\n      <th>customers</th>\n      <th>avg_precision</th>\n    </tr>\n    <tr>\n      <th>segment</th>\n      <th></th>\n      <th></th>\n    </tr>\n  </thead>\n  <tbody>\n    <tr>\n      <th>old</th>\n      <td>9992</td>\n      <td>0.018513</td>\n    </tr>\n    <tr>\n      <th>train</th>\n      <td>3099</td>\n      <td>0.084410</td>\n    </tr>\n  </tbody>\n</table>\n</div>"
     },
     "execution_count": 36,
     "metadata": {},
     "output_type": "execute_result"
    }
   ],
   "source": [
    "comb.groupby('segment').agg(\n",
    "    customers=('customer_id', 'count'),\n",
    "    avg_precision=('precision', 'mean'),\n",
    ")"
   ],
   "metadata": {
    "collapsed": false,
    "pycharm": {
     "name": "#%%\n"
    }
   }
  },
  {
   "cell_type": "code",
   "execution_count": 45,
   "outputs": [
    {
     "data": {
      "text/plain": "0.0312882532629825"
     },
     "execution_count": 45,
     "metadata": {},
     "output_type": "execute_result"
    }
   ],
   "source": [
    "N = len(test_customers)\n",
    "\n",
    "(9992 / N * .018 + 3099 / N * 0.084 + 1313/ N * 0.008)"
   ],
   "metadata": {
    "collapsed": false,
    "pycharm": {
     "name": "#%%\n"
    }
   }
  },
  {
   "cell_type": "code",
   "execution_count": 30,
   "outputs": [],
   "source": [
    "test_df['prediction_rank'] = test_df.groupby('customer_id')['prediction'].rank(ascending=False, method='first')"
   ],
   "metadata": {
    "collapsed": false,
    "pycharm": {
     "name": "#%%\n"
    }
   }
  },
  {
   "cell_type": "code",
   "execution_count": 31,
   "outputs": [
    {
     "data": {
      "text/plain": "<AxesSubplot:xlabel='prediction_rank'>"
     },
     "execution_count": 31,
     "metadata": {},
     "output_type": "execute_result"
    },
    {
     "data": {
      "text/plain": "<Figure size 432x288 with 1 Axes>",
      "image/png": "[encoded data removed]"
     },
     "metadata": {},
     "output_type": "display_data"
    }
   ],
   "source": [
    "test_df.groupby('score_rank')['is_relevant'].agg(['mean', 'sum']).reset_index().set_index('score_rank')['sum'].plot()\n",
    "test_df.groupby('prediction_rank')['is_relevant'].agg(['mean', 'sum']).reset_index().set_index('prediction_rank')['sum'].plot()"
   ],
   "metadata": {
    "collapsed": false,
    "pycharm": {
     "name": "#%%\n"
    }
   }
  },
  {
   "cell_type": "code",
   "execution_count": 32,
   "outputs": [
    {
     "data": {
      "text/plain": "[0.05327016719909386]"
     },
     "execution_count": 32,
     "metadata": {},
     "output_type": "execute_result"
    }
   ],
   "source": [
    "from catboost.utils import eval_metric\n",
    "\n",
    "eval_metric(y_test.values, test_df['prediction'].values, 'MAP:top=12', group_id=queries_test.values)"
   ],
   "metadata": {
    "collapsed": false,
    "pycharm": {
     "name": "#%%\n"
    }
   }
  },
  {
   "cell_type": "code",
   "execution_count": 33,
   "outputs": [
    {
     "data": {
      "text/plain": "<Figure size 864x432 with 2 Axes>",
      "image/png": "[encoded data removed]"
     },
     "metadata": {},
     "output_type": "display_data"
    }
   ],
   "source": [
    "fig, ax = plt.subplots(1, 2, figsize=(12, 6))\n",
    "\n",
    "sns.boxplot(data=test_df, x='is_relevant', y='score', ax=ax[0])\n",
    "ax[0].set_title('score distribution')\n",
    "\n",
    "sns.boxplot(data=test_df, x='is_relevant', y='prediction', ax=ax[1])\n",
    "plt.title('Rank distribution');"
   ],
   "metadata": {
    "collapsed": false,
    "pycharm": {
     "name": "#%%\n"
    }
   }
  },
  {
   "cell_type": "code",
   "execution_count": 34,
   "outputs": [
    {
     "data": {
      "text/plain": "<seaborn.axisgrid.FacetGrid at 0x7fd73db0cd00>"
     },
     "execution_count": 34,
     "metadata": {},
     "output_type": "execute_result"
    },
    {
     "data": {
      "text/plain": "<Figure size 422.375x360 with 1 Axes>",
      "image/png": "[encoded data removed]"
     },
     "metadata": {},
     "output_type": "display_data"
    }
   ],
   "source": [
    "sns.displot(data=test_df, x='prediction', hue='is_relevant', stat='probability', common_norm=False, bins=100)"
   ],
   "metadata": {
    "collapsed": false,
    "pycharm": {
     "name": "#%%\n"
    }
   }
  },
  {
   "cell_type": "code",
   "execution_count": 35,
   "outputs": [
    {
     "data": {
      "text/plain": "<Figure size 782.375x360 with 2 Axes>",
      "image/png": "[encoded data removed]"
     },
     "metadata": {},
     "output_type": "display_data"
    }
   ],
   "source": [
    "sns.displot(data=test_df, x='prediction', hue='is_relevant', col='segment', stat='probability', common_norm=False, bins=100);"
   ],
   "metadata": {
    "collapsed": false,
    "pycharm": {
     "name": "#%%\n"
    }
   }
  },
  {
   "cell_type": "code",
   "execution_count": 36,
   "outputs": [
    {
     "data": {
      "text/plain": "<Figure size 419.375x360 with 1 Axes>",
      "image/png": "[encoded data removed]"
     },
     "metadata": {},
     "output_type": "display_data"
    }
   ],
   "source": [
    "sns.displot(data=test_df, x='prediction', hue='segment', stat='probability', common_norm=False, bins=100);"
   ],
   "metadata": {
    "collapsed": false,
    "pycharm": {
     "name": "#%%\n"
    }
   }
  },
  {
   "cell_type": "code",
   "execution_count": 37,
   "outputs": [
    {
     "data": {
      "text/plain": "<Figure size 1440x360 with 3 Axes>",
      "image/png": "[encoded data removed]"
     },
     "metadata": {},
     "output_type": "display_data"
    }
   ],
   "source": [
    "plot_precision_at_k(comb);"
   ],
   "metadata": {
    "collapsed": false,
    "pycharm": {
     "name": "#%%\n"
    }
   }
  },
  {
   "cell_type": "code",
   "execution_count": 38,
   "outputs": [
    {
     "data": {
      "text/plain": "<Figure size 1152x360 with 2 Axes>",
      "image/png": "[encoded data removed]"
     },
     "metadata": {},
     "output_type": "display_data"
    }
   ],
   "source": [
    "precision_by_age(comb_enriched);"
   ],
   "metadata": {
    "collapsed": false,
    "pycharm": {
     "name": "#%%\n"
    }
   }
  },
  {
   "cell_type": "code",
   "execution_count": 39,
   "outputs": [
    {
     "data": {
      "text/plain": "<Figure size 1152x360 with 2 Axes>",
      "image/png": "[encoded data removed]"
     },
     "metadata": {},
     "output_type": "display_data"
    }
   ],
   "source": [
    "precision_by_usage(comb_enriched);"
   ],
   "metadata": {
    "collapsed": false,
    "pycharm": {
     "name": "#%%\n"
    }
   }
  },
  {
   "cell_type": "code",
   "execution_count": 40,
   "outputs": [
    {
     "data": {
      "text/plain": "{'total_relevance': 0.2936271134572718,\n 'train_relevance': 0.1054242215591768,\n 'old_relevance': 0.18820289189809503}"
     },
     "execution_count": 40,
     "metadata": {},
     "output_type": "execute_result"
    }
   ],
   "source": [
    "stats = (\n",
    "    test_df\n",
    "    .groupby('customer_id')\n",
    "    .agg(\n",
    "        total=('article_id', 'count'),\n",
    "        hits=('is_relevant', 'sum'),\n",
    "        has_hit=('is_relevant', 'max')\n",
    "    ).reset_index()\n",
    ")\n",
    "\n",
    "{\n",
    "    'total_relevance': stats['has_hit'].sum() / stats.shape[0],\n",
    "    'train_relevance': stats[stats['customer_id'].isin(t_cust)]['has_hit'].sum() / stats.shape[0],\n",
    "    'old_relevance': stats[stats['customer_id'].isin(old_cust)]['has_hit'].sum() / stats.shape[0],\n",
    "}"
   ],
   "metadata": {
    "collapsed": false,
    "pycharm": {
     "name": "#%%\n"
    }
   }
  },
  {
   "cell_type": "code",
   "execution_count": 41,
   "outputs": [
    {
     "data": {
      "text/plain": "{'total_relevance': 0.05829699334404407,\n 'train_relevance': 0.01690765817458496,\n 'old_relevance': 0.041389335169459106}"
     },
     "execution_count": 41,
     "metadata": {},
     "output_type": "execute_result"
    }
   ],
   "source": [
    "stats = (\n",
    "    test_df\n",
    "    .query('score_rank <= 12')\n",
    "    .groupby('customer_id')\n",
    "    .agg(\n",
    "        total=('article_id', 'count'),\n",
    "        hits=('is_relevant', 'sum'),\n",
    "        has_hit=('is_relevant', 'max')\n",
    "    ).reset_index()\n",
    ")\n",
    "\n",
    "{\n",
    "    'total_relevance': stats['has_hit'].sum() / stats.shape[0],\n",
    "    'train_relevance': stats[stats['customer_id'].isin(t_cust)]['has_hit'].sum() / stats.shape[0],\n",
    "    'old_relevance': stats[stats['customer_id'].isin(old_cust)]['has_hit'].sum() / stats.shape[0],\n",
    "}"
   ],
   "metadata": {
    "collapsed": false,
    "pycharm": {
     "name": "#%%\n"
    }
   }
  },
  {
   "cell_type": "code",
   "execution_count": 42,
   "outputs": [
    {
     "data": {
      "text/plain": "{'total_relevance': 0.146431030525591,\n 'train_relevance': 0.06250478157753807,\n 'old_relevance': 0.08392624894805294}"
     },
     "execution_count": 42,
     "metadata": {},
     "output_type": "execute_result"
    }
   ],
   "source": [
    "stats = (\n",
    "    test_df\n",
    "    .query('prediction_rank <= 12')\n",
    "    .groupby('customer_id')\n",
    "    .agg(\n",
    "        total=('article_id', 'count'),\n",
    "        hits=('is_relevant', 'sum'),\n",
    "        has_hit=('is_relevant', 'max')\n",
    "    ).reset_index()\n",
    ")\n",
    "\n",
    "{\n",
    "    'total_relevance': stats['has_hit'].sum() / stats.shape[0],\n",
    "    'train_relevance': stats[stats['customer_id'].isin(t_cust)]['has_hit'].sum() / stats.shape[0],\n",
    "    'old_relevance': stats[stats['customer_id'].isin(old_cust)]['has_hit'].sum() / stats.shape[0],\n",
    "}"
   ],
   "metadata": {
    "collapsed": false,
    "pycharm": {
     "name": "#%%\n"
    }
   }
  },
  {
   "cell_type": "code",
   "execution_count": 43,
   "outputs": [
    {
     "name": "stdout",
     "output_type": "stream",
     "text": [
      "count    1000.000000\n",
      "mean        0.035378\n",
      "std         0.004180\n",
      "min         0.022842\n",
      "25%         0.032381\n",
      "50%         0.035229\n",
      "75%         0.038123\n",
      "max         0.047600\n",
      "dtype: float64\n"
     ]
    },
    {
     "data": {
      "text/plain": "<Figure size 432x288 with 1 Axes>",
      "image/png": "[encoded data removed]"
     },
     "metadata": {},
     "output_type": "display_data"
    }
   ],
   "source": [
    "N = 1000\n",
    "precisions = np.zeros(N)\n",
    "for i in range(N):\n",
    "    precisions[i] = comb.sample(n=1000)['precision'].mean()\n",
    "\n",
    "print(pd.Series(precisions).describe())\n",
    "sns.histplot(precisions)\n",
    "plt.title('Precision distribution');"
   ],
   "metadata": {
    "collapsed": false,
    "pycharm": {
     "name": "#%%\n"
    }
   }
  },
  {
   "cell_type": "markdown",
   "source": [
    "# submission"
   ],
   "metadata": {
    "collapsed": false,
    "pycharm": {
     "name": "#%% md\n"
    }
   }
  },
  {
   "cell_type": "code",
   "execution_count": 6,
   "outputs": [],
   "source": [
    "model = CatBoostRanker().load_model(fname=str(data_root / 'models' / 'pair_logit.model'))"
   ],
   "metadata": {
    "collapsed": false,
    "pycharm": {
     "name": "#%%\n"
    }
   }
  },
  {
   "cell_type": "code",
   "execution_count": 7,
   "outputs": [],
   "source": [
    "submission = pd.read_csv('/data/sstamenov/kaggle-data/sample_submission.csv').drop(columns=['prediction'])\n",
    "delta = (pd.to_datetime('2020-09-22') - df['t_dat']).dt.days\n",
    "df['delta_weeks'] = 1 / (1 + np.power(delta // 7, 1))"
   ],
   "metadata": {
    "collapsed": false,
    "pycharm": {
     "name": "#%%\n"
    }
   }
  },
  {
   "cell_type": "code",
   "execution_count": 8,
   "outputs": [
    {
     "data": {
      "text/plain": "                                         customer_id\n0  00000dbacae5abe5e23885899a1fa44253a17956c6d1c3...\n1  0000423b00ade91418cceaf3b26c6af3dd342b51fd051e...\n2  000058a12d5b43e67d225668fa1f8d618c13dc232df0ca...\n3  00005ca1c9ed5f5146b52ac8639a40ca9d57aeff4d1bd2...\n4  00006413d8573cd20ed7128e53b7b13819fe5cfc2d801f...",
      "text/html": "<div>\n<style scoped>\n    .dataframe tbody tr th:only-of-type {\n        vertical-align: middle;\n    }\n\n    .dataframe tbody tr th {\n        vertical-align: top;\n    }\n\n    .dataframe thead th {\n        text-align: right;\n    }\n</style>\n<table border=\"1\" class=\"dataframe\">\n  <thead>\n    <tr style=\"text-align: right;\">\n      <th></th>\n      <th>customer_id</th>\n    </tr>\n  </thead>\n  <tbody>\n    <tr>\n      <th>0</th>\n      <td>00000dbacae5abe5e23885899a1fa44253a17956c6d1c3...</td>\n    </tr>\n    <tr>\n      <th>1</th>\n      <td>0000423b00ade91418cceaf3b26c6af3dd342b51fd051e...</td>\n    </tr>\n    <tr>\n      <th>2</th>\n      <td>000058a12d5b43e67d225668fa1f8d618c13dc232df0ca...</td>\n    </tr>\n    <tr>\n      <th>3</th>\n      <td>00005ca1c9ed5f5146b52ac8639a40ca9d57aeff4d1bd2...</td>\n    </tr>\n    <tr>\n      <th>4</th>\n      <td>00006413d8573cd20ed7128e53b7b13819fe5cfc2d801f...</td>\n    </tr>\n  </tbody>\n</table>\n</div>"
     },
     "execution_count": 8,
     "metadata": {},
     "output_type": "execute_result"
    }
   ],
   "source": [
    "submission.head()"
   ],
   "metadata": {
    "collapsed": false,
    "pycharm": {
     "name": "#%%\n"
    }
   }
  },
  {
   "cell_type": "code",
   "execution_count": null,
   "outputs": [],
   "source": [
    "df.head()"
   ],
   "metadata": {
    "collapsed": false,
    "pycharm": {
     "name": "#%%\n"
    }
   }
  },
  {
   "cell_type": "code",
   "execution_count": 16,
   "outputs": [],
   "source": [
    "# full_ds = filter_data(df, to_date='2020-09-22')\n",
    "train = filter_data(df, '2020-09-15', '2020-09-22')"
   ],
   "metadata": {
    "collapsed": false,
    "pycharm": {
     "name": "#%%\n"
    }
   }
  },
  {
   "cell_type": "code",
   "execution_count": 8,
   "outputs": [
    {
     "name": "stdout",
     "output_type": "stream",
     "text": [
      "#items 18684\n",
      "#customers 75481\n"
     ]
    },
    {
     "data": {
      "text/plain": "  0%|          | 0/50 [00:00<?, ?it/s]",
      "application/vnd.jupyter.widget-view+json": {
       "version_major": 2,
       "version_minor": 0,
       "model_id": "5f4b27f63f8b4c2385dcf2a08cc394dd"
      }
     },
     "metadata": {},
     "output_type": "display_data"
    }
   ],
   "source": [
    "\n",
    "pipeline = kaggle_hm.als_model.MatrixFactorizationPipeline(min_items=1, min_customers=1, cell_value='time', factors=256, iterations=50, regularization=0.01)\n",
    "pipeline.fit(train)\n",
    "rec_df = pipeline.predict(full_ds, N=100)"
   ],
   "metadata": {
    "collapsed": false,
    "pycharm": {
     "name": "#%%\n"
    }
   }
  },
  {
   "cell_type": "code",
   "execution_count": 9,
   "outputs": [],
   "source": [
    "rec_df['product_code'] = rec_df['article_id'].str[1:7].astype('int')"
   ],
   "metadata": {
    "collapsed": false,
    "pycharm": {
     "name": "#%%\n"
    }
   }
  },
  {
   "cell_type": "code",
   "execution_count": 10,
   "outputs": [],
   "source": [
    "rec_df = calc_features(rec_df, train, c, items)"
   ],
   "metadata": {
    "collapsed": false,
    "pycharm": {
     "name": "#%%\n"
    }
   }
  },
  {
   "cell_type": "code",
   "execution_count": 11,
   "outputs": [],
   "source": [
    "old_transactions = filter_data(df, from_date='2020-08-24', to_date='2020-09-22')\n",
    "item_stats = get_item_stats(old_transactions, '2020-09-22')\n",
    "rec_df = rec_df.merge(item_stats, on='article_id', how='left')"
   ],
   "metadata": {
    "collapsed": false,
    "pycharm": {
     "name": "#%%\n"
    }
   }
  },
  {
   "cell_type": "code",
   "execution_count": 13,
   "outputs": [],
   "source": [
    "rec_df.to_parquet(data_root / 'clean' / 'X_pred.parquet')"
   ],
   "metadata": {
    "collapsed": false,
    "pycharm": {
     "name": "#%%\n"
    }
   }
  },
  {
   "cell_type": "code",
   "execution_count": 9,
   "outputs": [],
   "source": [
    "rec_df = pd.read_parquet(data_root / 'clean' / 'X_pred.parquet')"
   ],
   "metadata": {
    "collapsed": false,
    "pycharm": {
     "name": "#%%\n"
    }
   }
  },
  {
   "cell_type": "code",
   "execution_count": 10,
   "outputs": [],
   "source": [
    "X_pred = rec_df[features]"
   ],
   "metadata": {
    "collapsed": false,
    "pycharm": {
     "name": "#%%\n"
    }
   }
  },
  {
   "cell_type": "code",
   "execution_count": 11,
   "outputs": [
    {
     "data": {
      "text/plain": "      score  bought   age product_type_name colour_group_name  \\\n0  0.378568       1  24.0            Jacket     Greyish Beige   \n1  0.280123       0  24.0            Hoodie             Black   \n2  0.195061       0  24.0            Hoodie        Light Pink   \n3  0.184482       0  24.0            Hoodie             Green   \n4  0.168636       0  24.0            Jacket              Pink   \n\n      department_name      section_name garment_group_name  total_cust  \\\n0  Ladies Sport Woven  Ladies H&M Sport            Unknown         382   \n1   Ladies Sport Bras  Ladies H&M Sport       Jersey Fancy         781   \n2   Ladies Sport Bras  Ladies H&M Sport       Jersey Fancy         432   \n3   Ladies Sport Bras  Ladies H&M Sport       Jersey Fancy         232   \n4  Ladies Sport Woven  Ladies H&M Sport            Unknown          77   \n\n   item_age  monday_item  avg_per_customer  daily_sales  avg_price    avg_age  \\\n0  0.033333            1          1.197492    13.172414   0.066298  40.954314   \n1  0.033333            1          1.199693    26.033333   0.050016  38.413283   \n2  0.033333            1          1.119171    14.400000   0.049658  40.621639   \n3  0.066667            0          1.094340    15.466667   0.049865  41.327586   \n4  0.045455            0          1.054795     3.666667   0.065408  45.103896   \n\n   median_price  max_price  min_price  bought_same_prod  \n0      0.067780   0.067780   0.027102                 1  \n1      0.050831   0.050831   0.031339                 0  \n2      0.050831   0.050831   0.037136                 0  \n3      0.050831   0.050831   0.038119                 0  \n4      0.067780   0.067780   0.027119                 1  ",
      "text/html": "<div>\n<style scoped>\n    .dataframe tbody tr th:only-of-type {\n        vertical-align: middle;\n    }\n\n    .dataframe tbody tr th {\n        vertical-align: top;\n    }\n\n    .dataframe thead th {\n        text-align: right;\n    }\n</style>\n<table border=\"1\" class=\"dataframe\">\n  <thead>\n    <tr style=\"text-align: right;\">\n      <th></th>\n      <th>score</th>\n      <th>bought</th>\n      <th>age</th>\n      <th>product_type_name</th>\n      <th>colour_group_name</th>\n      <th>department_name</th>\n      <th>section_name</th>\n      <th>garment_group_name</th>\n      <th>total_cust</th>\n      <th>item_age</th>\n      <th>monday_item</th>\n      <th>avg_per_customer</th>\n      <th>daily_sales</th>\n      <th>avg_price</th>\n      <th>avg_age</th>\n      <th>median_price</th>\n      <th>max_price</th>\n      <th>min_price</th>\n      <th>bought_same_prod</th>\n    </tr>\n  </thead>\n  <tbody>\n    <tr>\n      <th>0</th>\n      <td>0.378568</td>\n      <td>1</td>\n      <td>24.0</td>\n      <td>Jacket</td>\n      <td>Greyish Beige</td>\n      <td>Ladies Sport Woven</td>\n      <td>Ladies H&amp;M Sport</td>\n      <td>Unknown</td>\n      <td>382</td>\n      <td>0.033333</td>\n      <td>1</td>\n      <td>1.197492</td>\n      <td>13.172414</td>\n      <td>0.066298</td>\n      <td>40.954314</td>\n      <td>0.067780</td>\n      <td>0.067780</td>\n      <td>0.027102</td>\n      <td>1</td>\n    </tr>\n    <tr>\n      <th>1</th>\n      <td>0.280123</td>\n      <td>0</td>\n      <td>24.0</td>\n      <td>Hoodie</td>\n      <td>Black</td>\n      <td>Ladies Sport Bras</td>\n      <td>Ladies H&amp;M Sport</td>\n      <td>Jersey Fancy</td>\n      <td>781</td>\n      <td>0.033333</td>\n      <td>1</td>\n      <td>1.199693</td>\n      <td>26.033333</td>\n      <td>0.050016</td>\n      <td>38.413283</td>\n      <td>0.050831</td>\n      <td>0.050831</td>\n      <td>0.031339</td>\n      <td>0</td>\n    </tr>\n    <tr>\n      <th>2</th>\n      <td>0.195061</td>\n      <td>0</td>\n      <td>24.0</td>\n      <td>Hoodie</td>\n      <td>Light Pink</td>\n      <td>Ladies Sport Bras</td>\n      <td>Ladies H&amp;M Sport</td>\n      <td>Jersey Fancy</td>\n      <td>432</td>\n      <td>0.033333</td>\n      <td>1</td>\n      <td>1.119171</td>\n      <td>14.400000</td>\n      <td>0.049658</td>\n      <td>40.621639</td>\n      <td>0.050831</td>\n      <td>0.050831</td>\n      <td>0.037136</td>\n      <td>0</td>\n    </tr>\n    <tr>\n      <th>3</th>\n      <td>0.184482</td>\n      <td>0</td>\n      <td>24.0</td>\n      <td>Hoodie</td>\n      <td>Green</td>\n      <td>Ladies Sport Bras</td>\n      <td>Ladies H&amp;M Sport</td>\n      <td>Jersey Fancy</td>\n      <td>232</td>\n      <td>0.066667</td>\n      <td>0</td>\n      <td>1.094340</td>\n      <td>15.466667</td>\n      <td>0.049865</td>\n      <td>41.327586</td>\n      <td>0.050831</td>\n      <td>0.050831</td>\n      <td>0.038119</td>\n      <td>0</td>\n    </tr>\n    <tr>\n      <th>4</th>\n      <td>0.168636</td>\n      <td>0</td>\n      <td>24.0</td>\n      <td>Jacket</td>\n      <td>Pink</td>\n      <td>Ladies Sport Woven</td>\n      <td>Ladies H&amp;M Sport</td>\n      <td>Unknown</td>\n      <td>77</td>\n      <td>0.045455</td>\n      <td>0</td>\n      <td>1.054795</td>\n      <td>3.666667</td>\n      <td>0.065408</td>\n      <td>45.103896</td>\n      <td>0.067780</td>\n      <td>0.067780</td>\n      <td>0.027119</td>\n      <td>1</td>\n    </tr>\n  </tbody>\n</table>\n</div>"
     },
     "execution_count": 11,
     "metadata": {},
     "output_type": "execute_result"
    }
   ],
   "source": [
    "X_pred.head()"
   ],
   "metadata": {
    "collapsed": false,
    "pycharm": {
     "name": "#%%\n"
    }
   }
  },
  {
   "cell_type": "code",
   "execution_count": 12,
   "outputs": [],
   "source": [
    "predictions = model.predict(X_pred)\n",
    "rec_df['prediction'] = predictions\n",
    "rec_df['rank'] = rec_df.groupby('customer_id')['prediction'].rank(ascending=False, method='first')\n",
    "\n",
    "relevant_items = rec_df.query('rank <= 12').sort_values(['customer_id', 'rank'], ascending=True)\n",
    "pred_df = (\n",
    "    relevant_items.groupby('customer_id', observed=True).agg(candidates=('article_id', list))\n",
    ")"
   ],
   "metadata": {
    "collapsed": false,
    "pycharm": {
     "name": "#%%\n"
    }
   }
  },
  {
   "cell_type": "code",
   "execution_count": 13,
   "outputs": [
    {
     "data": {
      "text/plain": "1105000"
     },
     "execution_count": 13,
     "metadata": {},
     "output_type": "execute_result"
    }
   ],
   "source": [
    "pred_df.shape[0]"
   ],
   "metadata": {
    "collapsed": false,
    "pycharm": {
     "name": "#%%\n"
    }
   }
  },
  {
   "cell_type": "code",
   "execution_count": 14,
   "outputs": [],
   "source": [
    "submission = submission.merge(c[['customer_id', 'age_group']], on='customer_id', how='left')"
   ],
   "metadata": {
    "collapsed": false,
    "pycharm": {
     "name": "#%%\n"
    }
   }
  },
  {
   "cell_type": "code",
   "execution_count": 17,
   "outputs": [],
   "source": [
    "top12_age_pred = age_chart(train)\n",
    "submission = submission.merge(pred_df, on='customer_id', how='left')\n",
    "submission = submission.merge(top12_age_pred, on='age_group', how='left').drop(columns=['age_group'])\n",
    "submission['prediction'] = submission['candidates'].combine_first(submission['naive_pred'])"
   ],
   "metadata": {
    "collapsed": false,
    "pycharm": {
     "name": "#%%\n"
    }
   }
  },
  {
   "cell_type": "code",
   "execution_count": 18,
   "outputs": [
    {
     "data": {
      "text/plain": "                                         customer_id  \\\n0  00000dbacae5abe5e23885899a1fa44253a17956c6d1c3...   \n1  0000423b00ade91418cceaf3b26c6af3dd342b51fd051e...   \n2  000058a12d5b43e67d225668fa1f8d618c13dc232df0ca...   \n3  00005ca1c9ed5f5146b52ac8639a40ca9d57aeff4d1bd2...   \n4  00006413d8573cd20ed7128e53b7b13819fe5cfc2d801f...   \n\n                                          candidates  \\\n0  [0568601043, 0779781015, 0568601006, 056859700...   \n1  [0673677002, 0351484039, 0739590027, 077623702...   \n2  [0794321007, 0805000001, 0794321008, 080500000...   \n3                                                NaN   \n4  [0896152002, 0896152001, 0730683050, 079158700...   \n\n                                          naive_pred  \\\n0  [0751471001, 0923758001, 0924243001, 092424300...   \n1  [0924243001, 0918522001, 0924243002, 091552900...   \n2  [0924243001, 0918522001, 0924243002, 091552900...   \n3  [0924243001, 0928206001, 0930380001, 092424300...   \n4  [0924243001, 0928206001, 0930380001, 092424300...   \n\n                                          prediction  \n0  [0568601043, 0779781015, 0568601006, 056859700...  \n1  [0673677002, 0351484039, 0739590027, 077623702...  \n2  [0794321007, 0805000001, 0794321008, 080500000...  \n3  [0924243001, 0928206001, 0930380001, 092424300...  \n4  [0896152002, 0896152001, 0730683050, 079158700...  ",
      "text/html": "<div>\n<style scoped>\n    .dataframe tbody tr th:only-of-type {\n        vertical-align: middle;\n    }\n\n    .dataframe tbody tr th {\n        vertical-align: top;\n    }\n\n    .dataframe thead th {\n        text-align: right;\n    }\n</style>\n<table border=\"1\" class=\"dataframe\">\n  <thead>\n    <tr style=\"text-align: right;\">\n      <th></th>\n      <th>customer_id</th>\n      <th>candidates</th>\n      <th>naive_pred</th>\n      <th>prediction</th>\n    </tr>\n  </thead>\n  <tbody>\n    <tr>\n      <th>0</th>\n      <td>00000dbacae5abe5e23885899a1fa44253a17956c6d1c3...</td>\n      <td>[0568601043, 0779781015, 0568601006, 056859700...</td>\n      <td>[0751471001, 0923758001, 0924243001, 092424300...</td>\n      <td>[0568601043, 0779781015, 0568601006, 056859700...</td>\n    </tr>\n    <tr>\n      <th>1</th>\n      <td>0000423b00ade91418cceaf3b26c6af3dd342b51fd051e...</td>\n      <td>[0673677002, 0351484039, 0739590027, 077623702...</td>\n      <td>[0924243001, 0918522001, 0924243002, 091552900...</td>\n      <td>[0673677002, 0351484039, 0739590027, 077623702...</td>\n    </tr>\n    <tr>\n      <th>2</th>\n      <td>000058a12d5b43e67d225668fa1f8d618c13dc232df0ca...</td>\n      <td>[0794321007, 0805000001, 0794321008, 080500000...</td>\n      <td>[0924243001, 0918522001, 0924243002, 091552900...</td>\n      <td>[0794321007, 0805000001, 0794321008, 080500000...</td>\n    </tr>\n    <tr>\n      <th>3</th>\n      <td>00005ca1c9ed5f5146b52ac8639a40ca9d57aeff4d1bd2...</td>\n      <td>NaN</td>\n      <td>[0924243001, 0928206001, 0930380001, 092424300...</td>\n      <td>[0924243001, 0928206001, 0930380001, 092424300...</td>\n    </tr>\n    <tr>\n      <th>4</th>\n      <td>00006413d8573cd20ed7128e53b7b13819fe5cfc2d801f...</td>\n      <td>[0896152002, 0896152001, 0730683050, 079158700...</td>\n      <td>[0924243001, 0928206001, 0930380001, 092424300...</td>\n      <td>[0896152002, 0896152001, 0730683050, 079158700...</td>\n    </tr>\n  </tbody>\n</table>\n</div>"
     },
     "execution_count": 18,
     "metadata": {},
     "output_type": "execute_result"
    }
   ],
   "source": [
    "submission.head()"
   ],
   "metadata": {
    "collapsed": false,
    "pycharm": {
     "name": "#%%\n"
    }
   }
  },
  {
   "cell_type": "code",
   "execution_count": 19,
   "outputs": [
    {
     "data": {
      "text/plain": "1371980"
     },
     "execution_count": 19,
     "metadata": {},
     "output_type": "execute_result"
    }
   ],
   "source": [
    "submission.shape[0]"
   ],
   "metadata": {
    "collapsed": false,
    "pycharm": {
     "name": "#%%\n"
    }
   }
  },
  {
   "cell_type": "code",
   "execution_count": 21,
   "outputs": [],
   "source": [
    "submission['prediction'] = submission['prediction'].apply(lambda _: ' '.join(_))"
   ],
   "metadata": {
    "collapsed": false,
    "pycharm": {
     "name": "#%%\n"
    }
   }
  },
  {
   "cell_type": "code",
   "execution_count": 22,
   "outputs": [
    {
     "data": {
      "text/plain": "                                         customer_id  \\\n0  00000dbacae5abe5e23885899a1fa44253a17956c6d1c3...   \n1  0000423b00ade91418cceaf3b26c6af3dd342b51fd051e...   \n2  000058a12d5b43e67d225668fa1f8d618c13dc232df0ca...   \n3  00005ca1c9ed5f5146b52ac8639a40ca9d57aeff4d1bd2...   \n4  00006413d8573cd20ed7128e53b7b13819fe5cfc2d801f...   \n\n                                          candidates  \\\n0  [0568601043, 0779781015, 0568601006, 056859700...   \n1  [0673677002, 0351484039, 0739590027, 077623702...   \n2  [0794321007, 0805000001, 0794321008, 080500000...   \n3                                                NaN   \n4  [0896152002, 0896152001, 0730683050, 079158700...   \n\n                                          naive_pred  \\\n0  [0751471001, 0923758001, 0924243001, 092424300...   \n1  [0924243001, 0918522001, 0924243002, 091552900...   \n2  [0924243001, 0918522001, 0924243002, 091552900...   \n3  [0924243001, 0928206001, 0930380001, 092424300...   \n4  [0924243001, 0928206001, 0930380001, 092424300...   \n\n                                          prediction  \n0  0568601043 0779781015 0568601006 0568597006 08...  \n1  0673677002 0351484039 0739590027 0776237020 05...  \n2  0794321007 0805000001 0794321008 0805000007 08...  \n3  0924243001 0928206001 0930380001 0924243002 09...  \n4  0896152002 0896152001 0730683050 0791587001 07...  ",
      "text/html": "<div>\n<style scoped>\n    .dataframe tbody tr th:only-of-type {\n        vertical-align: middle;\n    }\n\n    .dataframe tbody tr th {\n        vertical-align: top;\n    }\n\n    .dataframe thead th {\n        text-align: right;\n    }\n</style>\n<table border=\"1\" class=\"dataframe\">\n  <thead>\n    <tr style=\"text-align: right;\">\n      <th></th>\n      <th>customer_id</th>\n      <th>candidates</th>\n      <th>naive_pred</th>\n      <th>prediction</th>\n    </tr>\n  </thead>\n  <tbody>\n    <tr>\n      <th>0</th>\n      <td>00000dbacae5abe5e23885899a1fa44253a17956c6d1c3...</td>\n      <td>[0568601043, 0779781015, 0568601006, 056859700...</td>\n      <td>[0751471001, 0923758001, 0924243001, 092424300...</td>\n      <td>0568601043 0779781015 0568601006 0568597006 08...</td>\n    </tr>\n    <tr>\n      <th>1</th>\n      <td>0000423b00ade91418cceaf3b26c6af3dd342b51fd051e...</td>\n      <td>[0673677002, 0351484039, 0739590027, 077623702...</td>\n      <td>[0924243001, 0918522001, 0924243002, 091552900...</td>\n      <td>0673677002 0351484039 0739590027 0776237020 05...</td>\n    </tr>\n    <tr>\n      <th>2</th>\n      <td>000058a12d5b43e67d225668fa1f8d618c13dc232df0ca...</td>\n      <td>[0794321007, 0805000001, 0794321008, 080500000...</td>\n      <td>[0924243001, 0918522001, 0924243002, 091552900...</td>\n      <td>0794321007 0805000001 0794321008 0805000007 08...</td>\n    </tr>\n    <tr>\n      <th>3</th>\n      <td>00005ca1c9ed5f5146b52ac8639a40ca9d57aeff4d1bd2...</td>\n      <td>NaN</td>\n      <td>[0924243001, 0928206001, 0930380001, 092424300...</td>\n      <td>0924243001 0928206001 0930380001 0924243002 09...</td>\n    </tr>\n    <tr>\n      <th>4</th>\n      <td>00006413d8573cd20ed7128e53b7b13819fe5cfc2d801f...</td>\n      <td>[0896152002, 0896152001, 0730683050, 079158700...</td>\n      <td>[0924243001, 0928206001, 0930380001, 092424300...</td>\n      <td>0896152002 0896152001 0730683050 0791587001 07...</td>\n    </tr>\n  </tbody>\n</table>\n</div>"
     },
     "execution_count": 22,
     "metadata": {},
     "output_type": "execute_result"
    }
   ],
   "source": [
    "submission.head()"
   ],
   "metadata": {
    "collapsed": false,
    "pycharm": {
     "name": "#%%\n"
    }
   }
  },
  {
   "cell_type": "code",
   "execution_count": 23,
   "outputs": [],
   "source": [
    "submission[['customer_id', 'prediction']].to_csv('/data/sstamenov/kaggle-data/output/implicit_time_rank_ftrs_submission.csv', index=False)"
   ],
   "metadata": {
    "collapsed": false,
    "pycharm": {
     "name": "#%%\n"
    }
   }
  },
  {
   "cell_type": "code",
   "execution_count": 48,
   "outputs": [],
   "source": [
    "sept = filter_data(df, from_date='2019-09-23', to_date='2019-09-29')"
   ],
   "metadata": {
    "collapsed": false,
    "pycharm": {
     "name": "#%%\n"
    }
   }
  },
  {
   "cell_type": "code",
   "execution_count": 49,
   "outputs": [
    {
     "data": {
      "text/plain": "2019-09-23     34076\n2019-09-24     36702\n2019-09-25     41256\n2019-09-26     37128\n2019-09-27     35597\n2019-09-28    198622\n2019-09-29     40043\nName: t_dat, dtype: int64"
     },
     "execution_count": 49,
     "metadata": {},
     "output_type": "execute_result"
    }
   ],
   "source": [
    "sept['t_dat'].value_counts().sort_index()"
   ],
   "metadata": {
    "collapsed": false,
    "pycharm": {
     "name": "#%%\n"
    }
   }
  },
  {
   "cell_type": "code",
   "execution_count": 50,
   "outputs": [
    {
     "data": {
      "text/plain": "t_dat\n2019-09-23     9766\n2019-09-24    10975\n2019-09-25    12497\n2019-09-26    11757\n2019-09-27    12208\n2019-09-28    42062\n2019-09-29    11192\nName: customer_id, dtype: int64"
     },
     "execution_count": 50,
     "metadata": {},
     "output_type": "execute_result"
    }
   ],
   "source": [
    "sept.groupby('t_dat')['customer_id'].nunique().sort_index()"
   ],
   "metadata": {
    "collapsed": false,
    "pycharm": {
     "name": "#%%\n"
    }
   }
  },
  {
   "cell_type": "code",
   "execution_count": null,
   "outputs": [],
   "source": [
    "from kaggle_hm.utils import visualize_items\n",
    "\n",
    "visualize_items(sept['article_id'].value_counts()[:20].index, rows=4, columns=5)"
   ],
   "metadata": {
    "collapsed": false,
    "pycharm": {
     "name": "#%%\n"
    }
   }
  }
 ],
 "metadata": {
  "kernelspec": {
   "display_name": "Python 3",
   "language": "python",
   "name": "python3"
  },
  "language_info": {
   "codemirror_mode": {
    "name": "ipython",
    "version": 2
   },
   "file_extension": ".py",
   "mimetype": "text/x-python",
   "name": "python",
   "nbconvert_exporter": "python",
   "pygments_lexer": "ipython2",
   "version": "2.7.6"
  }
 },
 "nbformat": 4,
 "nbformat_minor": 0
}