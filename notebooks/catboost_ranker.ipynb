{
 "cells": [
  {
   "cell_type": "code",
   "execution_count": 1,
   "metadata": {
    "collapsed": true,
    "pycharm": {
     "name": "#%%\n"
    }
   },
   "outputs": [],
   "source": [
    "import matplotlib.pyplot as plt\n",
    "from catboost import CatBoostRanker, Pool\n",
    "from kaggle_hm.chart_model import filter_data\n",
    "from copy import deepcopy\n",
    "import numpy as np\n",
    "import os\n",
    "import seaborn as sns\n",
    "import pandas as pd\n",
    "from kaggle_hm.config import data_root, train_dates, test_dates\n",
    "from kaggle_hm.evaluation import compute_precision\n",
    "import kaggle_hm.als_model\n",
    "from kaggle_hm.chart_model import age_chart"
   ]
  },
  {
   "cell_type": "code",
   "execution_count": 2,
   "outputs": [],
   "source": [
    "def calc_features(als_candidates, train: pd.DataFrame, customers: pd.DataFrame, items: pd.DataFrame) -> pd.DataFrame:\n",
    "    train_nodup = train.drop_duplicates(subset=['customer_id', 'article_id'])\n",
    "\n",
    "    candidates = als_candidates.merge(train_nodup[['customer_id', 'article_id', 't_dat']], on=['customer_id', 'article_id'], how='left')\n",
    "    candidates['bought'] = candidates['t_dat'].notna().astype('int') # days since bought?\n",
    "    # bought same product\n",
    "    # shopping frequency\n",
    "\n",
    "    candidates = candidates.merge(customers[['customer_id', 'age']], on='customer_id', how='left')\n",
    "    candidates = candidates.merge(items[['article_id', 'product_code', 'product_type_name', 'colour_group_name', 'department_name', 'section_name', 'garment_group_name']], on='article_id', how='left')\n",
    "\n",
    "    return candidates\n",
    "\n",
    "def rank_predictions(pred_df: pd.DataFrame, model: CatBoostRanker) -> pd.DataFrame:\n",
    "    pred_df['prediction'] = model.predict(pred_df[model.feature_names_])\n",
    "    pred_df['rank'] = pred_df.groupby('customer_id')['prediction'].rank(ascending=False, method='first')\n",
    "\n",
    "    relevant_items = pred_df.query('rank <= 12').sort_values(['customer_id', 'rank'], ascending=True)\n",
    "    return relevant_items.groupby('customer_id', observed=True).agg(candidates=('article_id', list))\n",
    "\n",
    "\n",
    "def get_item_stats(transactions, prediction_date):\n",
    "    item_stats = (\n",
    "        transactions\n",
    "        .groupby('article_id', observed=True)\n",
    "        .agg(\n",
    "            total_cust=('customer_id', 'count'),\n",
    "            uniq_customers=('customer_id', 'nunique'),\n",
    "            min_dt=('t_dat', 'min'),\n",
    "            max_dt=('t_dat', 'max'),\n",
    "            days=('t_dat', 'nunique'),\n",
    "            avg_price=('price', 'mean'),\n",
    "            avg_age=('age', 'mean'),\n",
    "            median_price=('price', 'median'),\n",
    "            max_price=('price', 'max'),\n",
    "            min_price=('price', 'min'),\n",
    "        )\n",
    "    ).reset_index()\n",
    "    item_stats['item_age'] = 1 / (1 + (pd.to_datetime(prediction_date) - item_stats['min_dt']).dt.days)\n",
    "    item_stats['daily_sales'] = item_stats['total_cust'] / item_stats['days']\n",
    "    item_stats['monday_item'] = (item_stats['min_dt'].dt.dayofweek == 0).astype('int')\n",
    "    item_stats['avg_per_customer'] = item_stats['total_cust'] / item_stats['uniq_customers']\n",
    "\n",
    "    return item_stats"
   ],
   "metadata": {
    "collapsed": false,
    "pycharm": {
     "name": "#%%\n"
    }
   }
  },
  {
   "cell_type": "code",
   "execution_count": 3,
   "outputs": [],
   "source": [
    "c = pd.read_parquet(data_root / 'clean' / 'customers.parquet')\n",
    "c['age'] = c['age'].fillna(c['age'].mean())\n",
    "c['age_group'] = pd.cut(c['age'], bins=[15, 21, 25, 30, 40, 50, 60, 100])\n",
    "items = pd.read_parquet(data_root / 'clean' / 'articles.parquet')\n",
    "\n",
    "df = pd.read_parquet(data_root / 'clean' / 'transactions.parquet')\n",
    "df = df.merge(c[['customer_id', 'age', 'age_group']], on='customer_id')\n",
    "\n",
    "cols = [f'rel_{i + 1}' for i in range(12)]"
   ],
   "metadata": {
    "collapsed": false,
    "pycharm": {
     "name": "#%%\n"
    }
   }
  },
  {
   "cell_type": "code",
   "execution_count": 4,
   "outputs": [],
   "source": [
    "features = ['score', 'bought', 'age', 'product_type_name', 'colour_group_name',\n",
    "            'department_name', 'section_name', 'garment_group_name', 'total_cust',\n",
    "            'item_age', 'monday_item', 'avg_per_customer', 'daily_sales']"
   ],
   "metadata": {
    "collapsed": false,
    "pycharm": {
     "name": "#%%\n"
    }
   }
  },
  {
   "cell_type": "code",
   "execution_count": 7,
   "outputs": [],
   "source": [
    "delta = (pd.to_datetime('2020-09-08') - df['t_dat']).dt.days\n",
    "df['delta_weeks'] = 1 / (1 + np.power(delta // 7, 1))\n",
    "\n",
    "train = filter_data(df, from_date='2020-09-01', to_date=train_dates['end'])\n",
    "\n",
    "test = filter_data(df, from_date=test_dates['start'], to_date=test_dates['end'])\n",
    "results = test.groupby('customer_id', observed=True).agg(bought=('article_id', set)).reset_index()\n",
    "full_ds = filter_data(df, to_date=train_dates['end'])\n",
    "\n",
    "t_cust = set(train['customer_id'].unique())\n",
    "old_cust = set(full_ds['customer_id'].unique()) - t_cust\n",
    "cold_cust = set(test['customer_id'].unique()) - old_cust - t_cust"
   ],
   "metadata": {
    "collapsed": false,
    "pycharm": {
     "name": "#%%\n"
    }
   }
  },
  {
   "cell_type": "code",
   "execution_count": null,
   "outputs": [],
   "source": [
    "full_ds_pred = full_ds[full_ds['customer_id'].isin(test['customer_id'].unique())]"
   ],
   "metadata": {
    "collapsed": false,
    "pycharm": {
     "name": "#%%\n"
    }
   }
  },
  {
   "cell_type": "code",
   "execution_count": null,
   "outputs": [],
   "source": [
    "pipeline = kaggle_hm.als_model.MatrixFactorizationPipeline(min_items=1, min_customers=1, cell_value='time', factors=256, iterations=50, regularization=0.01)\n",
    "pipeline.fit(train)\n",
    "candidates = pipeline.predict(full_ds_pred, N=100)\n",
    "candidates = calc_features(candidates, train, c, items)\n",
    "candidates.head()"
   ],
   "metadata": {
    "collapsed": false,
    "pycharm": {
     "name": "#%%\n"
    }
   }
  },
  {
   "cell_type": "code",
   "execution_count": 8,
   "outputs": [],
   "source": [
    "candidates = pd.read_parquet(data_root / 'clean' / 'candidates.parquet')\n",
    "candidates = calc_features(candidates, train, c, items)"
   ],
   "metadata": {
    "collapsed": false,
    "pycharm": {
     "name": "#%%\n"
    }
   }
  },
  {
   "cell_type": "code",
   "execution_count": 11,
   "outputs": [
    {
     "data": {
      "text/plain": "   item_id     score                                        customer_id  \\\n0      980  0.046631  000058a12d5b43e67d225668fa1f8d618c13dc232df0ca...   \n1     2673  0.011759  000058a12d5b43e67d225668fa1f8d618c13dc232df0ca...   \n2      508  0.011767  000058a12d5b43e67d225668fa1f8d618c13dc232df0ca...   \n3     3590  0.011869  000058a12d5b43e67d225668fa1f8d618c13dc232df0ca...   \n4     9304  0.011914  000058a12d5b43e67d225668fa1f8d618c13dc232df0ca...   \n\n   article_id  price  is_relevant t_dat  bought   age  product_code  \\\n0  0685813001    NaN            0   NaT       0  24.0        685813   \n1  0917606004    NaN            0   NaT       0  24.0        917606   \n2  0919741001    NaN            0   NaT       0  24.0        919741   \n3  0685816001    NaN            0   NaT       0  24.0        685816   \n4  0791837002    NaN            0   NaT       0  24.0        791837   \n\n  product_type_name colour_group_name     department_name  \\\n0           Sweater             Black  Heavy Basic Jersey   \n1          Trousers         Dark Blue      Denim Trousers   \n2            Blouse             Black              Blouse   \n3           T-shirt             White  Light Basic Jersey   \n4           T-shirt             Black  Light Basic Jersey   \n\n                 section_name garment_group_name  \n0               Men Underwear       Jersey Basic  \n1                Ladies Denim     Trousers Denim  \n2  Womens Everyday Collection            Blouses  \n3               Men Underwear       Jersey Basic  \n4               Men Underwear       Jersey Basic  ",
      "text/html": "<div>\n<style scoped>\n    .dataframe tbody tr th:only-of-type {\n        vertical-align: middle;\n    }\n\n    .dataframe tbody tr th {\n        vertical-align: top;\n    }\n\n    .dataframe thead th {\n        text-align: right;\n    }\n</style>\n<table border=\"1\" class=\"dataframe\">\n  <thead>\n    <tr style=\"text-align: right;\">\n      <th></th>\n      <th>item_id</th>\n      <th>score</th>\n      <th>customer_id</th>\n      <th>article_id</th>\n      <th>price</th>\n      <th>is_relevant</th>\n      <th>t_dat</th>\n      <th>bought</th>\n      <th>age</th>\n      <th>product_code</th>\n      <th>product_type_name</th>\n      <th>colour_group_name</th>\n      <th>department_name</th>\n      <th>section_name</th>\n      <th>garment_group_name</th>\n    </tr>\n  </thead>\n  <tbody>\n    <tr>\n      <th>0</th>\n      <td>980</td>\n      <td>0.046631</td>\n      <td>000058a12d5b43e67d225668fa1f8d618c13dc232df0ca...</td>\n      <td>0685813001</td>\n      <td>NaN</td>\n      <td>0</td>\n      <td>NaT</td>\n      <td>0</td>\n      <td>24.0</td>\n      <td>685813</td>\n      <td>Sweater</td>\n      <td>Black</td>\n      <td>Heavy Basic Jersey</td>\n      <td>Men Underwear</td>\n      <td>Jersey Basic</td>\n    </tr>\n    <tr>\n      <th>1</th>\n      <td>2673</td>\n      <td>0.011759</td>\n      <td>000058a12d5b43e67d225668fa1f8d618c13dc232df0ca...</td>\n      <td>0917606004</td>\n      <td>NaN</td>\n      <td>0</td>\n      <td>NaT</td>\n      <td>0</td>\n      <td>24.0</td>\n      <td>917606</td>\n      <td>Trousers</td>\n      <td>Dark Blue</td>\n      <td>Denim Trousers</td>\n      <td>Ladies Denim</td>\n      <td>Trousers Denim</td>\n    </tr>\n    <tr>\n      <th>2</th>\n      <td>508</td>\n      <td>0.011767</td>\n      <td>000058a12d5b43e67d225668fa1f8d618c13dc232df0ca...</td>\n      <td>0919741001</td>\n      <td>NaN</td>\n      <td>0</td>\n      <td>NaT</td>\n      <td>0</td>\n      <td>24.0</td>\n      <td>919741</td>\n      <td>Blouse</td>\n      <td>Black</td>\n      <td>Blouse</td>\n      <td>Womens Everyday Collection</td>\n      <td>Blouses</td>\n    </tr>\n    <tr>\n      <th>3</th>\n      <td>3590</td>\n      <td>0.011869</td>\n      <td>000058a12d5b43e67d225668fa1f8d618c13dc232df0ca...</td>\n      <td>0685816001</td>\n      <td>NaN</td>\n      <td>0</td>\n      <td>NaT</td>\n      <td>0</td>\n      <td>24.0</td>\n      <td>685816</td>\n      <td>T-shirt</td>\n      <td>White</td>\n      <td>Light Basic Jersey</td>\n      <td>Men Underwear</td>\n      <td>Jersey Basic</td>\n    </tr>\n    <tr>\n      <th>4</th>\n      <td>9304</td>\n      <td>0.011914</td>\n      <td>000058a12d5b43e67d225668fa1f8d618c13dc232df0ca...</td>\n      <td>0791837002</td>\n      <td>NaN</td>\n      <td>0</td>\n      <td>NaT</td>\n      <td>0</td>\n      <td>24.0</td>\n      <td>791837</td>\n      <td>T-shirt</td>\n      <td>Black</td>\n      <td>Light Basic Jersey</td>\n      <td>Men Underwear</td>\n      <td>Jersey Basic</td>\n    </tr>\n  </tbody>\n</table>\n</div>"
     },
     "execution_count": 11,
     "metadata": {},
     "output_type": "execute_result"
    }
   ],
   "source": [
    "candidates.head()"
   ],
   "metadata": {
    "collapsed": false,
    "pycharm": {
     "name": "#%%\n"
    }
   }
  },
  {
   "cell_type": "code",
   "execution_count": 12,
   "outputs": [
    {
     "data": {
      "text/plain": "       t_dat                                        customer_id  article_id  \\\n0 2018-09-20  000058a12d5b43e67d225668fa1f8d618c13dc232df0ca...  0663713001   \n1 2018-09-20  000058a12d5b43e67d225668fa1f8d618c13dc232df0ca...  0541518023   \n2 2018-09-24  000058a12d5b43e67d225668fa1f8d618c13dc232df0ca...  0663713001   \n3 2019-03-01  000058a12d5b43e67d225668fa1f8d618c13dc232df0ca...  0578020002   \n4 2020-02-03  000058a12d5b43e67d225668fa1f8d618c13dc232df0ca...  0723529001   \n\n      price  sales_channel_id   age age_group  delta_weeks  \n0  0.050831                 2  24.0  (21, 25]     0.009709  \n1  0.030492                 2  24.0  (21, 25]     0.009709  \n2  0.050831                 2  24.0  (21, 25]     0.009709  \n3  0.013542                 2  24.0  (21, 25]     0.012500  \n4  0.025407                 2  24.0  (21, 25]     0.031250  ",
      "text/html": "<div>\n<style scoped>\n    .dataframe tbody tr th:only-of-type {\n        vertical-align: middle;\n    }\n\n    .dataframe tbody tr th {\n        vertical-align: top;\n    }\n\n    .dataframe thead th {\n        text-align: right;\n    }\n</style>\n<table border=\"1\" class=\"dataframe\">\n  <thead>\n    <tr style=\"text-align: right;\">\n      <th></th>\n      <th>t_dat</th>\n      <th>customer_id</th>\n      <th>article_id</th>\n      <th>price</th>\n      <th>sales_channel_id</th>\n      <th>age</th>\n      <th>age_group</th>\n      <th>delta_weeks</th>\n    </tr>\n  </thead>\n  <tbody>\n    <tr>\n      <th>0</th>\n      <td>2018-09-20</td>\n      <td>000058a12d5b43e67d225668fa1f8d618c13dc232df0ca...</td>\n      <td>0663713001</td>\n      <td>0.050831</td>\n      <td>2</td>\n      <td>24.0</td>\n      <td>(21, 25]</td>\n      <td>0.009709</td>\n    </tr>\n    <tr>\n      <th>1</th>\n      <td>2018-09-20</td>\n      <td>000058a12d5b43e67d225668fa1f8d618c13dc232df0ca...</td>\n      <td>0541518023</td>\n      <td>0.030492</td>\n      <td>2</td>\n      <td>24.0</td>\n      <td>(21, 25]</td>\n      <td>0.009709</td>\n    </tr>\n    <tr>\n      <th>2</th>\n      <td>2018-09-24</td>\n      <td>000058a12d5b43e67d225668fa1f8d618c13dc232df0ca...</td>\n      <td>0663713001</td>\n      <td>0.050831</td>\n      <td>2</td>\n      <td>24.0</td>\n      <td>(21, 25]</td>\n      <td>0.009709</td>\n    </tr>\n    <tr>\n      <th>3</th>\n      <td>2019-03-01</td>\n      <td>000058a12d5b43e67d225668fa1f8d618c13dc232df0ca...</td>\n      <td>0578020002</td>\n      <td>0.013542</td>\n      <td>2</td>\n      <td>24.0</td>\n      <td>(21, 25]</td>\n      <td>0.012500</td>\n    </tr>\n    <tr>\n      <th>4</th>\n      <td>2020-02-03</td>\n      <td>000058a12d5b43e67d225668fa1f8d618c13dc232df0ca...</td>\n      <td>0723529001</td>\n      <td>0.025407</td>\n      <td>2</td>\n      <td>24.0</td>\n      <td>(21, 25]</td>\n      <td>0.031250</td>\n    </tr>\n  </tbody>\n</table>\n</div>"
     },
     "execution_count": 12,
     "metadata": {},
     "output_type": "execute_result"
    }
   ],
   "source": [
    "df.head()"
   ],
   "metadata": {
    "collapsed": false,
    "pycharm": {
     "name": "#%%\n"
    }
   }
  },
  {
   "cell_type": "code",
   "execution_count": 15,
   "outputs": [],
   "source": [
    "old_transactions = filter_data(df, from_date='2020-08-01', to_date='2020-08-31')\n",
    "item_stats = get_item_stats(old_transactions, '2020-09-08')\n",
    "candidates = candidates.merge(item_stats, on='article_id', how='left')"
   ],
   "metadata": {
    "collapsed": false,
    "pycharm": {
     "name": "#%%\n"
    }
   }
  },
  {
   "cell_type": "code",
   "execution_count": 16,
   "outputs": [
    {
     "data": {
      "text/plain": "   item_id     score                                        customer_id  \\\n0      980  0.046631  000058a12d5b43e67d225668fa1f8d618c13dc232df0ca...   \n1     2673  0.011759  000058a12d5b43e67d225668fa1f8d618c13dc232df0ca...   \n2      508  0.011767  000058a12d5b43e67d225668fa1f8d618c13dc232df0ca...   \n3     3590  0.011869  000058a12d5b43e67d225668fa1f8d618c13dc232df0ca...   \n4     9304  0.011914  000058a12d5b43e67d225668fa1f8d618c13dc232df0ca...   \n\n   article_id  price  is_relevant t_dat  bought   age  product_code  ...  \\\n0  0685813001    NaN            0   NaT       0  24.0        685813  ...   \n1  0917606004    NaN            0   NaT       0  24.0        917606  ...   \n2  0919741001    NaN            0   NaT       0  24.0        919741  ...   \n3  0685816001    NaN            0   NaT       0  24.0        685816  ...   \n4  0791837002    NaN            0   NaT       0  24.0        791837  ...   \n\n   days avg_price    avg_age median_price max_price  min_price  item_age  \\\n0  31.0  0.016563  33.719529     0.016932  0.016932   0.006763  0.025641   \n1  25.0  0.049143  32.424995     0.050831  0.050831   0.038119  0.030303   \n2  29.0  0.032995  35.324801     0.033881  0.033881   0.016932  0.027027   \n3  31.0  0.008116  36.364017     0.008458  0.008458   0.001678  0.025641   \n4  17.0  0.016529  40.666667     0.016932  0.016932   0.013169  0.025641   \n\n  daily_sales monday_item  avg_per_customer  \n0   17.322581         0.0          1.251748  \n1    8.920000         0.0          1.013636  \n2   22.034483         1.0          1.212524  \n3   15.419355         0.0          1.288410  \n4    2.294118         0.0          1.114286  \n\n[5 rows x 29 columns]",
      "text/html": "<div>\n<style scoped>\n    .dataframe tbody tr th:only-of-type {\n        vertical-align: middle;\n    }\n\n    .dataframe tbody tr th {\n        vertical-align: top;\n    }\n\n    .dataframe thead th {\n        text-align: right;\n    }\n</style>\n<table border=\"1\" class=\"dataframe\">\n  <thead>\n    <tr style=\"text-align: right;\">\n      <th></th>\n      <th>item_id</th>\n      <th>score</th>\n      <th>customer_id</th>\n      <th>article_id</th>\n      <th>price</th>\n      <th>is_relevant</th>\n      <th>t_dat</th>\n      <th>bought</th>\n      <th>age</th>\n      <th>product_code</th>\n      <th>...</th>\n      <th>days</th>\n      <th>avg_price</th>\n      <th>avg_age</th>\n      <th>median_price</th>\n      <th>max_price</th>\n      <th>min_price</th>\n      <th>item_age</th>\n      <th>daily_sales</th>\n      <th>monday_item</th>\n      <th>avg_per_customer</th>\n    </tr>\n  </thead>\n  <tbody>\n    <tr>\n      <th>0</th>\n      <td>980</td>\n      <td>0.046631</td>\n      <td>000058a12d5b43e67d225668fa1f8d618c13dc232df0ca...</td>\n      <td>0685813001</td>\n      <td>NaN</td>\n      <td>0</td>\n      <td>NaT</td>\n      <td>0</td>\n      <td>24.0</td>\n      <td>685813</td>\n      <td>...</td>\n      <td>31.0</td>\n      <td>0.016563</td>\n      <td>33.719529</td>\n      <td>0.016932</td>\n      <td>0.016932</td>\n      <td>0.006763</td>\n      <td>0.025641</td>\n      <td>17.322581</td>\n      <td>0.0</td>\n      <td>1.251748</td>\n    </tr>\n    <tr>\n      <th>1</th>\n      <td>2673</td>\n      <td>0.011759</td>\n      <td>000058a12d5b43e67d225668fa1f8d618c13dc232df0ca...</td>\n      <td>0917606004</td>\n      <td>NaN</td>\n      <td>0</td>\n      <td>NaT</td>\n      <td>0</td>\n      <td>24.0</td>\n      <td>917606</td>\n      <td>...</td>\n      <td>25.0</td>\n      <td>0.049143</td>\n      <td>32.424995</td>\n      <td>0.050831</td>\n      <td>0.050831</td>\n      <td>0.038119</td>\n      <td>0.030303</td>\n      <td>8.920000</td>\n      <td>0.0</td>\n      <td>1.013636</td>\n    </tr>\n    <tr>\n      <th>2</th>\n      <td>508</td>\n      <td>0.011767</td>\n      <td>000058a12d5b43e67d225668fa1f8d618c13dc232df0ca...</td>\n      <td>0919741001</td>\n      <td>NaN</td>\n      <td>0</td>\n      <td>NaT</td>\n      <td>0</td>\n      <td>24.0</td>\n      <td>919741</td>\n      <td>...</td>\n      <td>29.0</td>\n      <td>0.032995</td>\n      <td>35.324801</td>\n      <td>0.033881</td>\n      <td>0.033881</td>\n      <td>0.016932</td>\n      <td>0.027027</td>\n      <td>22.034483</td>\n      <td>1.0</td>\n      <td>1.212524</td>\n    </tr>\n    <tr>\n      <th>3</th>\n      <td>3590</td>\n      <td>0.011869</td>\n      <td>000058a12d5b43e67d225668fa1f8d618c13dc232df0ca...</td>\n      <td>0685816001</td>\n      <td>NaN</td>\n      <td>0</td>\n      <td>NaT</td>\n      <td>0</td>\n      <td>24.0</td>\n      <td>685816</td>\n      <td>...</td>\n      <td>31.0</td>\n      <td>0.008116</td>\n      <td>36.364017</td>\n      <td>0.008458</td>\n      <td>0.008458</td>\n      <td>0.001678</td>\n      <td>0.025641</td>\n      <td>15.419355</td>\n      <td>0.0</td>\n      <td>1.288410</td>\n    </tr>\n    <tr>\n      <th>4</th>\n      <td>9304</td>\n      <td>0.011914</td>\n      <td>000058a12d5b43e67d225668fa1f8d618c13dc232df0ca...</td>\n      <td>0791837002</td>\n      <td>NaN</td>\n      <td>0</td>\n      <td>NaT</td>\n      <td>0</td>\n      <td>24.0</td>\n      <td>791837</td>\n      <td>...</td>\n      <td>17.0</td>\n      <td>0.016529</td>\n      <td>40.666667</td>\n      <td>0.016932</td>\n      <td>0.016932</td>\n      <td>0.013169</td>\n      <td>0.025641</td>\n      <td>2.294118</td>\n      <td>0.0</td>\n      <td>1.114286</td>\n    </tr>\n  </tbody>\n</table>\n<p>5 rows × 29 columns</p>\n</div>"
     },
     "execution_count": 16,
     "metadata": {},
     "output_type": "execute_result"
    }
   ],
   "source": [
    "candidates.head()"
   ],
   "metadata": {
    "collapsed": false,
    "pycharm": {
     "name": "#%%\n"
    }
   }
  },
  {
   "cell_type": "code",
   "execution_count": 17,
   "outputs": [],
   "source": [
    "from sklearn.model_selection import train_test_split\n",
    "\n",
    "customers = candidates['customer_id'].unique()\n",
    "\n",
    "train_customers, test_customers = train_test_split(customers, test_size=0.2, random_state=42)"
   ],
   "metadata": {
    "collapsed": false,
    "pycharm": {
     "name": "#%%\n"
    }
   }
  },
  {
   "cell_type": "code",
   "execution_count": 18,
   "outputs": [],
   "source": [
    "train_df = candidates[candidates['customer_id'].isin(train_customers)].copy()\n",
    "test_df = candidates[candidates['customer_id'].isin(test_customers)].copy()\n",
    "\n",
    "X_train = train_df[features]\n",
    "y_train = train_df['is_relevant']\n",
    "queries_train = train_df['customer_id']\n",
    "\n",
    "X_test = test_df[features]\n",
    "y_test = test_df['is_relevant']\n",
    "queries_test = test_df['customer_id']"
   ],
   "metadata": {
    "collapsed": false,
    "pycharm": {
     "name": "#%%\n"
    }
   }
  },
  {
   "cell_type": "code",
   "execution_count": 19,
   "outputs": [],
   "source": [
    "train_pool = Pool(\n",
    "    data=X_train,\n",
    "    label=y_train,\n",
    "    group_id=queries_train,\n",
    "    cat_features=['product_type_name', 'colour_group_name', 'department_name', 'section_name', 'garment_group_name']\n",
    ")\n",
    "\n",
    "test_pool = Pool(\n",
    "    data=X_test,\n",
    "    label=y_test,\n",
    "    group_id=queries_test,\n",
    "    cat_features=['product_type_name', 'colour_group_name', 'department_name', 'section_name', 'garment_group_name']\n",
    ")\n",
    "\n",
    "default_parameters = {\n",
    "    'iterations': 2000,\n",
    "    'custom_metric': ['MAP:top=10', 'NDCG'],\n",
    "    'verbose': True,\n",
    "    'metric_period': 200,\n",
    "    'task_type': 'GPU',\n",
    "    'devices': '0-1',\n",
    "    'random_seed': 0,\n",
    "    'learning_rate': 0.01,\n",
    "    'one_hot_max_size': 10\n",
    "}\n",
    "\n",
    "parameters = {}"
   ],
   "metadata": {
    "collapsed": false,
    "pycharm": {
     "name": "#%%\n"
    }
   }
  },
  {
   "cell_type": "code",
   "execution_count": 20,
   "outputs": [],
   "source": [
    "def fit_model(loss_function, additional_params=None, train_pool=train_pool, test_pool=test_pool):\n",
    "    parameters = deepcopy(default_parameters)\n",
    "    parameters['loss_function'] = loss_function\n",
    "    parameters['train_dir'] = loss_function\n",
    "\n",
    "    if additional_params is not None:\n",
    "        parameters.update(additional_params)\n",
    "\n",
    "    model = CatBoostRanker(**parameters)\n",
    "    model.fit(train_pool, eval_set=test_pool, plot=False)\n",
    "\n",
    "    return model"
   ],
   "metadata": {
    "collapsed": false,
    "pycharm": {
     "name": "#%%\n"
    }
   }
  },
  {
   "cell_type": "code",
   "execution_count": 21,
   "outputs": [
    {
     "name": "stderr",
     "output_type": "stream",
     "text": [
      "Metric MAP:top=10 is not implemented on GPU. Will use CPU for metric computation, this could significantly affect learning time\n",
      "Metric NDCG:type=Base is not implemented on GPU. Will use CPU for metric computation, this could significantly affect learning time\n"
     ]
    },
    {
     "name": "stdout",
     "output_type": "stream",
     "text": [
      "0:\tlearn: 0.6896266\ttest: 0.6898039\tbest: 0.6898039 (0)\ttotal: 351ms\tremaining: 11m 40s\n",
      "200:\tlearn: 0.5243497\ttest: 0.5343525\tbest: 0.5343525 (200)\ttotal: 21.6s\tremaining: 3m 13s\n",
      "400:\tlearn: 0.5055182\ttest: 0.5196357\tbest: 0.5196357 (400)\ttotal: 43.3s\tremaining: 2m 52s\n",
      "600:\tlearn: 0.4964719\ttest: 0.5141048\tbest: 0.5141048 (600)\ttotal: 1m 5s\tremaining: 2m 31s\n",
      "800:\tlearn: 0.4900835\ttest: 0.5111167\tbest: 0.5111167 (800)\ttotal: 1m 26s\tremaining: 2m 9s\n",
      "1000:\tlearn: 0.4850494\ttest: 0.5091472\tbest: 0.5091472 (1000)\ttotal: 1m 48s\tremaining: 1m 47s\n",
      "1200:\tlearn: 0.4806600\ttest: 0.5076860\tbest: 0.5076860 (1200)\ttotal: 2m 9s\tremaining: 1m 26s\n",
      "1400:\tlearn: 0.4765779\ttest: 0.5063810\tbest: 0.5063810 (1400)\ttotal: 2m 31s\tremaining: 1m 4s\n",
      "1600:\tlearn: 0.4729513\ttest: 0.5055375\tbest: 0.5055375 (1600)\ttotal: 2m 52s\tremaining: 43.1s\n",
      "1800:\tlearn: 0.4696529\ttest: 0.5048327\tbest: 0.5048327 (1800)\ttotal: 3m 14s\tremaining: 21.5s\n",
      "1999:\tlearn: 0.4666419\ttest: 0.5043006\tbest: 0.5043006 (1999)\ttotal: 3m 35s\tremaining: 0us\n",
      "bestTest = 0.504300643\n",
      "bestIteration = 1999\n"
     ]
    }
   ],
   "source": [
    "model = fit_model('PairLogit')"
   ],
   "metadata": {
    "collapsed": false,
    "pycharm": {
     "name": "#%%\n"
    }
   }
  },
  {
   "cell_type": "code",
   "execution_count": 38,
   "outputs": [],
   "source": [
    "model.save_model(data_root / 'models' / 'pair_logit.model')"
   ],
   "metadata": {
    "collapsed": false,
    "pycharm": {
     "name": "#%%\n"
    }
   }
  },
  {
   "cell_type": "code",
   "execution_count": 22,
   "outputs": [
    {
     "data": {
      "text/plain": "{'learn': {'MAP:top=10': 0.05498834458238567,\n  'PairLogit': 0.46664186304452165},\n 'validation': {'NDCG:type=Base': 0.834335792031184,\n  'MAP:top=10': 0.053899798403197446,\n  'PairLogit': 0.5043006429838139}}"
     },
     "execution_count": 22,
     "metadata": {},
     "output_type": "execute_result"
    }
   ],
   "source": [
    "model.get_best_score()"
   ],
   "metadata": {
    "collapsed": false,
    "pycharm": {
     "name": "#%%\n"
    }
   }
  },
  {
   "cell_type": "code",
   "execution_count": 23,
   "outputs": [
    {
     "data": {
      "text/plain": "0.03458516338351983"
     },
     "execution_count": 23,
     "metadata": {},
     "output_type": "execute_result"
    }
   ],
   "source": [
    "rec_df = rank_predictions(test_df, model)\n",
    "comb = results.merge(rec_df, on='customer_id')\n",
    "comb['prediction'] = comb['candidates']\n",
    "comb = compute_precision(comb)\n",
    "comb['precision'].mean()"
   ],
   "metadata": {
    "collapsed": false,
    "pycharm": {
     "name": "#%%\n"
    }
   }
  },
  {
   "cell_type": "code",
   "execution_count": 24,
   "outputs": [
    {
     "data": {
      "text/plain": "[0.054780047498961815]"
     },
     "execution_count": 24,
     "metadata": {},
     "output_type": "execute_result"
    }
   ],
   "source": [
    "from catboost.utils import eval_metric\n",
    "\n",
    "eval_metric(y_test.values, test_df['prediction'].values, 'MAP:top=12', group_id=queries_test.values)"
   ],
   "metadata": {
    "collapsed": false,
    "pycharm": {
     "name": "#%%\n"
    }
   }
  },
  {
   "cell_type": "code",
   "execution_count": 25,
   "outputs": [
    {
     "data": {
      "text/plain": "<Figure size 432x288 with 1 Axes>",
      "image/png": "[encoded data removed]"
     },
     "metadata": {},
     "output_type": "display_data"
    }
   ],
   "source": [
    "sns.boxplot(data=test_df, x='is_relevant', y='prediction')\n",
    "plt.title('Rank distribution');"
   ],
   "metadata": {
    "collapsed": false,
    "pycharm": {
     "name": "#%%\n"
    }
   }
  },
  {
   "cell_type": "code",
   "execution_count": 26,
   "outputs": [
    {
     "data": {
      "text/plain": "0.08487819314256573"
     },
     "execution_count": 26,
     "metadata": {},
     "output_type": "execute_result"
    }
   ],
   "source": [
    "comb[comb['customer_id'].isin(t_cust)]['precision'].mean()"
   ],
   "metadata": {
    "collapsed": false,
    "pycharm": {
     "name": "#%%\n"
    }
   }
  },
  {
   "cell_type": "code",
   "execution_count": 27,
   "outputs": [
    {
     "data": {
      "text/plain": "0.019506256788101833"
     },
     "execution_count": 27,
     "metadata": {},
     "output_type": "execute_result"
    }
   ],
   "source": [
    "comb[comb['customer_id'].isin(old_cust)]['precision'].mean()"
   ],
   "metadata": {
    "collapsed": false,
    "pycharm": {
     "name": "#%%\n"
    }
   }
  },
  {
   "cell_type": "code",
   "execution_count": 28,
   "outputs": [
    {
     "data": {
      "text/plain": "Empty DataFrame\nColumns: [customer_id, bought, candidates, prediction, len_bought, rel_1, rel_2, rel_3, rel_4, rel_5, rel_6, rel_7, rel_8, rel_9, rel_10, rel_11, rel_12, rel_total, precision]\nIndex: []",
      "text/html": "<div>\n<style scoped>\n    .dataframe tbody tr th:only-of-type {\n        vertical-align: middle;\n    }\n\n    .dataframe tbody tr th {\n        vertical-align: top;\n    }\n\n    .dataframe thead th {\n        text-align: right;\n    }\n</style>\n<table border=\"1\" class=\"dataframe\">\n  <thead>\n    <tr style=\"text-align: right;\">\n      <th></th>\n      <th>customer_id</th>\n      <th>bought</th>\n      <th>candidates</th>\n      <th>prediction</th>\n      <th>len_bought</th>\n      <th>rel_1</th>\n      <th>rel_2</th>\n      <th>rel_3</th>\n      <th>rel_4</th>\n      <th>rel_5</th>\n      <th>rel_6</th>\n      <th>rel_7</th>\n      <th>rel_8</th>\n      <th>rel_9</th>\n      <th>rel_10</th>\n      <th>rel_11</th>\n      <th>rel_12</th>\n      <th>rel_total</th>\n      <th>precision</th>\n    </tr>\n  </thead>\n  <tbody>\n  </tbody>\n</table>\n</div>"
     },
     "execution_count": 28,
     "metadata": {},
     "output_type": "execute_result"
    }
   ],
   "source": [
    "comb[comb['customer_id'].isin(cold_cust)]"
   ],
   "metadata": {
    "collapsed": false,
    "pycharm": {
     "name": "#%%\n"
    }
   }
  },
  {
   "cell_type": "code",
   "execution_count": 29,
   "outputs": [
    {
     "data": {
      "text/plain": "rel_1     487\nrel_2     334\nrel_3     254\nrel_4     209\nrel_5     169\nrel_6     156\nrel_7     126\nrel_8     127\nrel_9     110\nrel_10     96\nrel_11     76\nrel_12     81\ndtype: int64"
     },
     "execution_count": 29,
     "metadata": {},
     "output_type": "execute_result"
    }
   ],
   "source": [
    "comb[cols].sum()"
   ],
   "metadata": {
    "collapsed": false,
    "pycharm": {
     "name": "#%%\n"
    }
   }
  },
  {
   "cell_type": "code",
   "execution_count": 30,
   "outputs": [
    {
     "data": {
      "text/plain": "rel_1     0.037258\nrel_2     0.025553\nrel_3     0.019432\nrel_4     0.015990\nrel_5     0.012929\nrel_6     0.011935\nrel_7     0.009640\nrel_8     0.009716\nrel_9     0.008416\nrel_10    0.007345\nrel_11    0.005814\nrel_12    0.006197\ndtype: float64"
     },
     "execution_count": 30,
     "metadata": {},
     "output_type": "execute_result"
    }
   ],
   "source": [
    "comb[cols].mean()"
   ],
   "metadata": {
    "collapsed": false,
    "pycharm": {
     "name": "#%%\n"
    }
   }
  },
  {
   "cell_type": "code",
   "execution_count": 31,
   "outputs": [
    {
     "name": "stdout",
     "output_type": "stream",
     "text": [
      "count    1000.000000\n",
      "mean        0.034587\n",
      "std         0.004217\n",
      "min         0.021877\n",
      "25%         0.031743\n",
      "50%         0.034492\n",
      "75%         0.037266\n",
      "max         0.048222\n",
      "dtype: float64\n"
     ]
    },
    {
     "data": {
      "text/plain": "<Figure size 432x288 with 1 Axes>",
      "image/png": "[encoded data removed]"
     },
     "metadata": {},
     "output_type": "display_data"
    }
   ],
   "source": [
    "N = 1000\n",
    "precisions = np.zeros(N)\n",
    "for i in range(N):\n",
    "    precisions[i] = comb.sample(n=1000)['precision'].mean()\n",
    "\n",
    "print(pd.Series(precisions).describe())\n",
    "sns.histplot(precisions)\n",
    "plt.title('Precision distribution');"
   ],
   "metadata": {
    "collapsed": false,
    "pycharm": {
     "name": "#%%\n"
    }
   }
  },
  {
   "cell_type": "markdown",
   "source": [
    "# submission"
   ],
   "metadata": {
    "collapsed": false,
    "pycharm": {
     "name": "#%% md\n"
    }
   }
  },
  {
   "cell_type": "code",
   "execution_count": 5,
   "outputs": [],
   "source": [
    "model = CatBoostRanker().load_model(fname=str(data_root / 'models' / 'pair_logit.model'))"
   ],
   "metadata": {
    "collapsed": false,
    "pycharm": {
     "name": "#%%\n"
    }
   }
  },
  {
   "cell_type": "code",
   "execution_count": 6,
   "outputs": [],
   "source": [
    "submission = pd.read_csv('/data/sstamenov/kaggle-data/sample_submission.csv').drop(columns=['prediction'])\n",
    "delta = (pd.to_datetime('2020-09-22') - df['t_dat']).dt.days\n",
    "df['delta_weeks'] = 1 / (1 + np.power(delta // 7, 1))"
   ],
   "metadata": {
    "collapsed": false,
    "pycharm": {
     "name": "#%%\n"
    }
   }
  },
  {
   "cell_type": "code",
   "execution_count": 7,
   "outputs": [
    {
     "data": {
      "text/plain": "                                         customer_id\n0  00000dbacae5abe5e23885899a1fa44253a17956c6d1c3...\n1  0000423b00ade91418cceaf3b26c6af3dd342b51fd051e...\n2  000058a12d5b43e67d225668fa1f8d618c13dc232df0ca...\n3  00005ca1c9ed5f5146b52ac8639a40ca9d57aeff4d1bd2...\n4  00006413d8573cd20ed7128e53b7b13819fe5cfc2d801f...",
      "text/html": "<div>\n<style scoped>\n    .dataframe tbody tr th:only-of-type {\n        vertical-align: middle;\n    }\n\n    .dataframe tbody tr th {\n        vertical-align: top;\n    }\n\n    .dataframe thead th {\n        text-align: right;\n    }\n</style>\n<table border=\"1\" class=\"dataframe\">\n  <thead>\n    <tr style=\"text-align: right;\">\n      <th></th>\n      <th>customer_id</th>\n    </tr>\n  </thead>\n  <tbody>\n    <tr>\n      <th>0</th>\n      <td>00000dbacae5abe5e23885899a1fa44253a17956c6d1c3...</td>\n    </tr>\n    <tr>\n      <th>1</th>\n      <td>0000423b00ade91418cceaf3b26c6af3dd342b51fd051e...</td>\n    </tr>\n    <tr>\n      <th>2</th>\n      <td>000058a12d5b43e67d225668fa1f8d618c13dc232df0ca...</td>\n    </tr>\n    <tr>\n      <th>3</th>\n      <td>00005ca1c9ed5f5146b52ac8639a40ca9d57aeff4d1bd2...</td>\n    </tr>\n    <tr>\n      <th>4</th>\n      <td>00006413d8573cd20ed7128e53b7b13819fe5cfc2d801f...</td>\n    </tr>\n  </tbody>\n</table>\n</div>"
     },
     "execution_count": 7,
     "metadata": {},
     "output_type": "execute_result"
    }
   ],
   "source": [
    "submission.head()"
   ],
   "metadata": {
    "collapsed": false,
    "pycharm": {
     "name": "#%%\n"
    }
   }
  },
  {
   "cell_type": "code",
   "execution_count": 16,
   "outputs": [],
   "source": [
    "full_ds = filter_data(df, to_date='2020-09-22')\n",
    "train = filter_data(df, '2020-09-15', '2020-09-22')"
   ],
   "metadata": {
    "collapsed": false,
    "pycharm": {
     "name": "#%%\n"
    }
   }
  },
  {
   "cell_type": "code",
   "execution_count": 8,
   "outputs": [
    {
     "name": "stdout",
     "output_type": "stream",
     "text": [
      "#items 18684\n",
      "#customers 75481\n"
     ]
    },
    {
     "data": {
      "text/plain": "  0%|          | 0/50 [00:00<?, ?it/s]",
      "application/vnd.jupyter.widget-view+json": {
       "version_major": 2,
       "version_minor": 0,
       "model_id": "ce84678ea4a149968a22ee939878c01f"
      }
     },
     "metadata": {},
     "output_type": "display_data"
    }
   ],
   "source": [
    "full_ds = filter_data(df, to_date='2020-09-22')\n",
    "train = filter_data(df, '2020-09-15', '2020-09-22')\n",
    "\n",
    "pipeline = kaggle_hm.als_model.MatrixFactorizationPipeline(min_items=1, min_customers=1, cell_value='time', factors=256, iterations=50, regularization=0.01)\n",
    "pipeline.fit(train)\n",
    "rec_df = pipeline.predict(full_ds, N=100)"
   ],
   "metadata": {
    "collapsed": false,
    "pycharm": {
     "name": "#%%\n"
    }
   }
  },
  {
   "cell_type": "code",
   "execution_count": 9,
   "outputs": [],
   "source": [
    "rec_df = calc_features(rec_df, train, c, items)"
   ],
   "metadata": {
    "collapsed": false,
    "pycharm": {
     "name": "#%%\n"
    }
   }
  },
  {
   "cell_type": "code",
   "execution_count": 10,
   "outputs": [],
   "source": [
    "old_transactions = filter_data(df, from_date='2020-08-24', to_date='2020-09-22')\n",
    "item_stats = get_item_stats(old_transactions, '2020-09-22')\n",
    "rec_df = rec_df.merge(item_stats, on='article_id', how='left')"
   ],
   "metadata": {
    "collapsed": false,
    "pycharm": {
     "name": "#%%\n"
    }
   }
  },
  {
   "cell_type": "code",
   "execution_count": 11,
   "outputs": [],
   "source": [
    "rec_df.to_parquet(data_root / 'clean' / 'X_pred.parquet')"
   ],
   "metadata": {
    "collapsed": false,
    "pycharm": {
     "name": "#%%\n"
    }
   }
  },
  {
   "cell_type": "code",
   "execution_count": 8,
   "outputs": [],
   "source": [
    "rec_df = pd.read_parquet(data_root / 'clean' / 'X_pred.parquet')"
   ],
   "metadata": {
    "collapsed": false,
    "pycharm": {
     "name": "#%%\n"
    }
   }
  },
  {
   "cell_type": "code",
   "execution_count": 9,
   "outputs": [],
   "source": [
    "X_pred = rec_df[features]"
   ],
   "metadata": {
    "collapsed": false,
    "pycharm": {
     "name": "#%%\n"
    }
   }
  },
  {
   "cell_type": "code",
   "execution_count": 10,
   "outputs": [
    {
     "data": {
      "text/plain": "      score  bought   age product_type_name colour_group_name  \\\n0  0.381181       1  24.0            Jacket     Greyish Beige   \n1  0.276099       0  24.0            Hoodie             Black   \n2  0.194820       0  24.0            Hoodie             Green   \n3  0.193336       0  24.0            Hoodie        Light Pink   \n4  0.169497       0  24.0            Jacket              Pink   \n\n      department_name      section_name garment_group_name  total_cust  \\\n0  Ladies Sport Woven  Ladies H&M Sport            Unknown         382   \n1   Ladies Sport Bras  Ladies H&M Sport       Jersey Fancy         781   \n2   Ladies Sport Bras  Ladies H&M Sport       Jersey Fancy         232   \n3   Ladies Sport Bras  Ladies H&M Sport       Jersey Fancy         432   \n4  Ladies Sport Woven  Ladies H&M Sport            Unknown          77   \n\n   item_age  monday_item  avg_per_customer  daily_sales  \n0  0.033333            1          1.197492    13.172414  \n1  0.033333            1          1.199693    26.033333  \n2  0.066667            0          1.094340    15.466667  \n3  0.033333            1          1.119171    14.400000  \n4  0.045455            0          1.054795     3.666667  ",
      "text/html": "<div>\n<style scoped>\n    .dataframe tbody tr th:only-of-type {\n        vertical-align: middle;\n    }\n\n    .dataframe tbody tr th {\n        vertical-align: top;\n    }\n\n    .dataframe thead th {\n        text-align: right;\n    }\n</style>\n<table border=\"1\" class=\"dataframe\">\n  <thead>\n    <tr style=\"text-align: right;\">\n      <th></th>\n      <th>score</th>\n      <th>bought</th>\n      <th>age</th>\n      <th>product_type_name</th>\n      <th>colour_group_name</th>\n      <th>department_name</th>\n      <th>section_name</th>\n      <th>garment_group_name</th>\n      <th>total_cust</th>\n      <th>item_age</th>\n      <th>monday_item</th>\n      <th>avg_per_customer</th>\n      <th>daily_sales</th>\n    </tr>\n  </thead>\n  <tbody>\n    <tr>\n      <th>0</th>\n      <td>0.381181</td>\n      <td>1</td>\n      <td>24.0</td>\n      <td>Jacket</td>\n      <td>Greyish Beige</td>\n      <td>Ladies Sport Woven</td>\n      <td>Ladies H&amp;M Sport</td>\n      <td>Unknown</td>\n      <td>382</td>\n      <td>0.033333</td>\n      <td>1</td>\n      <td>1.197492</td>\n      <td>13.172414</td>\n    </tr>\n    <tr>\n      <th>1</th>\n      <td>0.276099</td>\n      <td>0</td>\n      <td>24.0</td>\n      <td>Hoodie</td>\n      <td>Black</td>\n      <td>Ladies Sport Bras</td>\n      <td>Ladies H&amp;M Sport</td>\n      <td>Jersey Fancy</td>\n      <td>781</td>\n      <td>0.033333</td>\n      <td>1</td>\n      <td>1.199693</td>\n      <td>26.033333</td>\n    </tr>\n    <tr>\n      <th>2</th>\n      <td>0.194820</td>\n      <td>0</td>\n      <td>24.0</td>\n      <td>Hoodie</td>\n      <td>Green</td>\n      <td>Ladies Sport Bras</td>\n      <td>Ladies H&amp;M Sport</td>\n      <td>Jersey Fancy</td>\n      <td>232</td>\n      <td>0.066667</td>\n      <td>0</td>\n      <td>1.094340</td>\n      <td>15.466667</td>\n    </tr>\n    <tr>\n      <th>3</th>\n      <td>0.193336</td>\n      <td>0</td>\n      <td>24.0</td>\n      <td>Hoodie</td>\n      <td>Light Pink</td>\n      <td>Ladies Sport Bras</td>\n      <td>Ladies H&amp;M Sport</td>\n      <td>Jersey Fancy</td>\n      <td>432</td>\n      <td>0.033333</td>\n      <td>1</td>\n      <td>1.119171</td>\n      <td>14.400000</td>\n    </tr>\n    <tr>\n      <th>4</th>\n      <td>0.169497</td>\n      <td>0</td>\n      <td>24.0</td>\n      <td>Jacket</td>\n      <td>Pink</td>\n      <td>Ladies Sport Woven</td>\n      <td>Ladies H&amp;M Sport</td>\n      <td>Unknown</td>\n      <td>77</td>\n      <td>0.045455</td>\n      <td>0</td>\n      <td>1.054795</td>\n      <td>3.666667</td>\n    </tr>\n  </tbody>\n</table>\n</div>"
     },
     "execution_count": 10,
     "metadata": {},
     "output_type": "execute_result"
    }
   ],
   "source": [
    "X_pred.head()"
   ],
   "metadata": {
    "collapsed": false,
    "pycharm": {
     "name": "#%%\n"
    }
   }
  },
  {
   "cell_type": "code",
   "execution_count": 11,
   "outputs": [],
   "source": [
    "predictions = model.predict(X_pred)\n",
    "rec_df['prediction'] = predictions\n",
    "rec_df['rank'] = rec_df.groupby('customer_id')['prediction'].rank(ascending=False, method='first')\n",
    "\n",
    "relevant_items = rec_df.query('rank <= 12').sort_values(['customer_id', 'rank'], ascending=True)\n",
    "pred_df = (\n",
    "    relevant_items.groupby('customer_id', observed=True).agg(candidates=('article_id', list))\n",
    ")"
   ],
   "metadata": {
    "collapsed": false,
    "pycharm": {
     "name": "#%%\n"
    }
   }
  },
  {
   "cell_type": "code",
   "execution_count": 12,
   "outputs": [
    {
     "data": {
      "text/plain": "1105000"
     },
     "execution_count": 12,
     "metadata": {},
     "output_type": "execute_result"
    }
   ],
   "source": [
    "pred_df.shape[0]"
   ],
   "metadata": {
    "collapsed": false,
    "pycharm": {
     "name": "#%%\n"
    }
   }
  },
  {
   "cell_type": "code",
   "execution_count": 14,
   "outputs": [],
   "source": [
    "submission = submission.merge(c[['customer_id', 'age_group']], on='customer_id', how='left')"
   ],
   "metadata": {
    "collapsed": false,
    "pycharm": {
     "name": "#%%\n"
    }
   }
  },
  {
   "cell_type": "code",
   "execution_count": 17,
   "outputs": [],
   "source": [
    "top12_age_pred = age_chart(train)\n",
    "submission = submission.merge(pred_df, on='customer_id', how='left')\n",
    "submission = submission.merge(top12_age_pred, on='age_group', how='left').drop(columns=['age_group'])\n",
    "submission['prediction'] = submission['candidates'].combine_first(submission['naive_pred'])"
   ],
   "metadata": {
    "collapsed": false,
    "pycharm": {
     "name": "#%%\n"
    }
   }
  },
  {
   "cell_type": "code",
   "execution_count": 18,
   "outputs": [
    {
     "data": {
      "text/plain": "                                         customer_id  \\\n0  00000dbacae5abe5e23885899a1fa44253a17956c6d1c3...   \n1  0000423b00ade91418cceaf3b26c6af3dd342b51fd051e...   \n2  000058a12d5b43e67d225668fa1f8d618c13dc232df0ca...   \n3  00005ca1c9ed5f5146b52ac8639a40ca9d57aeff4d1bd2...   \n4  00006413d8573cd20ed7128e53b7b13819fe5cfc2d801f...   \n\n                                          candidates  \\\n0  [0779781015, 0568601043, 0568601006, 056859700...   \n1  [0673677002, 0739590027, 0351484039, 059092800...   \n2  [0794321007, 0805000001, 0805000007, 080500000...   \n3                                                NaN   \n4  [0896152002, 0730683050, 0791587001, 089615200...   \n\n                                          naive_pred  \\\n0  [0751471001, 0923758001, 0924243001, 092424300...   \n1  [0924243001, 0918522001, 0924243002, 091552900...   \n2  [0924243001, 0918522001, 0924243002, 091552900...   \n3  [0924243001, 0928206001, 0930380001, 092424300...   \n4  [0924243001, 0928206001, 0930380001, 092424300...   \n\n                                          prediction  \n0  [0779781015, 0568601043, 0568601006, 056859700...  \n1  [0673677002, 0739590027, 0351484039, 059092800...  \n2  [0794321007, 0805000001, 0805000007, 080500000...  \n3  [0924243001, 0928206001, 0930380001, 092424300...  \n4  [0896152002, 0730683050, 0791587001, 089615200...  ",
      "text/html": "<div>\n<style scoped>\n    .dataframe tbody tr th:only-of-type {\n        vertical-align: middle;\n    }\n\n    .dataframe tbody tr th {\n        vertical-align: top;\n    }\n\n    .dataframe thead th {\n        text-align: right;\n    }\n</style>\n<table border=\"1\" class=\"dataframe\">\n  <thead>\n    <tr style=\"text-align: right;\">\n      <th></th>\n      <th>customer_id</th>\n      <th>candidates</th>\n      <th>naive_pred</th>\n      <th>prediction</th>\n    </tr>\n  </thead>\n  <tbody>\n    <tr>\n      <th>0</th>\n      <td>00000dbacae5abe5e23885899a1fa44253a17956c6d1c3...</td>\n      <td>[0779781015, 0568601043, 0568601006, 056859700...</td>\n      <td>[0751471001, 0923758001, 0924243001, 092424300...</td>\n      <td>[0779781015, 0568601043, 0568601006, 056859700...</td>\n    </tr>\n    <tr>\n      <th>1</th>\n      <td>0000423b00ade91418cceaf3b26c6af3dd342b51fd051e...</td>\n      <td>[0673677002, 0739590027, 0351484039, 059092800...</td>\n      <td>[0924243001, 0918522001, 0924243002, 091552900...</td>\n      <td>[0673677002, 0739590027, 0351484039, 059092800...</td>\n    </tr>\n    <tr>\n      <th>2</th>\n      <td>000058a12d5b43e67d225668fa1f8d618c13dc232df0ca...</td>\n      <td>[0794321007, 0805000001, 0805000007, 080500000...</td>\n      <td>[0924243001, 0918522001, 0924243002, 091552900...</td>\n      <td>[0794321007, 0805000001, 0805000007, 080500000...</td>\n    </tr>\n    <tr>\n      <th>3</th>\n      <td>00005ca1c9ed5f5146b52ac8639a40ca9d57aeff4d1bd2...</td>\n      <td>NaN</td>\n      <td>[0924243001, 0928206001, 0930380001, 092424300...</td>\n      <td>[0924243001, 0928206001, 0930380001, 092424300...</td>\n    </tr>\n    <tr>\n      <th>4</th>\n      <td>00006413d8573cd20ed7128e53b7b13819fe5cfc2d801f...</td>\n      <td>[0896152002, 0730683050, 0791587001, 089615200...</td>\n      <td>[0924243001, 0928206001, 0930380001, 092424300...</td>\n      <td>[0896152002, 0730683050, 0791587001, 089615200...</td>\n    </tr>\n  </tbody>\n</table>\n</div>"
     },
     "execution_count": 18,
     "metadata": {},
     "output_type": "execute_result"
    }
   ],
   "source": [
    "submission.head()"
   ],
   "metadata": {
    "collapsed": false,
    "pycharm": {
     "name": "#%%\n"
    }
   }
  },
  {
   "cell_type": "code",
   "execution_count": 19,
   "outputs": [
    {
     "data": {
      "text/plain": "1371980"
     },
     "execution_count": 19,
     "metadata": {},
     "output_type": "execute_result"
    }
   ],
   "source": [
    "submission.shape[0]"
   ],
   "metadata": {
    "collapsed": false,
    "pycharm": {
     "name": "#%%\n"
    }
   }
  },
  {
   "cell_type": "code",
   "execution_count": 20,
   "outputs": [],
   "source": [
    "submission['prediction'] = submission['prediction'].apply(lambda _: ' '.join(_))"
   ],
   "metadata": {
    "collapsed": false,
    "pycharm": {
     "name": "#%%\n"
    }
   }
  },
  {
   "cell_type": "code",
   "execution_count": 21,
   "outputs": [
    {
     "data": {
      "text/plain": "                                         customer_id  \\\n0  00000dbacae5abe5e23885899a1fa44253a17956c6d1c3...   \n1  0000423b00ade91418cceaf3b26c6af3dd342b51fd051e...   \n2  000058a12d5b43e67d225668fa1f8d618c13dc232df0ca...   \n3  00005ca1c9ed5f5146b52ac8639a40ca9d57aeff4d1bd2...   \n4  00006413d8573cd20ed7128e53b7b13819fe5cfc2d801f...   \n\n                                          candidates  \\\n0  [0779781015, 0568601043, 0568601006, 056859700...   \n1  [0673677002, 0739590027, 0351484039, 059092800...   \n2  [0794321007, 0805000001, 0805000007, 080500000...   \n3                                                NaN   \n4  [0896152002, 0730683050, 0791587001, 089615200...   \n\n                                          naive_pred  \\\n0  [0751471001, 0923758001, 0924243001, 092424300...   \n1  [0924243001, 0918522001, 0924243002, 091552900...   \n2  [0924243001, 0918522001, 0924243002, 091552900...   \n3  [0924243001, 0928206001, 0930380001, 092424300...   \n4  [0924243001, 0928206001, 0930380001, 092424300...   \n\n                                          prediction  \n0  0779781015 0568601043 0568601006 0568597006 07...  \n1  0673677002 0739590027 0351484039 0590928001 08...  \n2  0794321007 0805000001 0805000007 0805000008 07...  \n3  0924243001 0928206001 0930380001 0924243002 09...  \n4  0896152002 0730683050 0791587001 0896152001 07...  ",
      "text/html": "<div>\n<style scoped>\n    .dataframe tbody tr th:only-of-type {\n        vertical-align: middle;\n    }\n\n    .dataframe tbody tr th {\n        vertical-align: top;\n    }\n\n    .dataframe thead th {\n        text-align: right;\n    }\n</style>\n<table border=\"1\" class=\"dataframe\">\n  <thead>\n    <tr style=\"text-align: right;\">\n      <th></th>\n      <th>customer_id</th>\n      <th>candidates</th>\n      <th>naive_pred</th>\n      <th>prediction</th>\n    </tr>\n  </thead>\n  <tbody>\n    <tr>\n      <th>0</th>\n      <td>00000dbacae5abe5e23885899a1fa44253a17956c6d1c3...</td>\n      <td>[0779781015, 0568601043, 0568601006, 056859700...</td>\n      <td>[0751471001, 0923758001, 0924243001, 092424300...</td>\n      <td>0779781015 0568601043 0568601006 0568597006 07...</td>\n    </tr>\n    <tr>\n      <th>1</th>\n      <td>0000423b00ade91418cceaf3b26c6af3dd342b51fd051e...</td>\n      <td>[0673677002, 0739590027, 0351484039, 059092800...</td>\n      <td>[0924243001, 0918522001, 0924243002, 091552900...</td>\n      <td>0673677002 0739590027 0351484039 0590928001 08...</td>\n    </tr>\n    <tr>\n      <th>2</th>\n      <td>000058a12d5b43e67d225668fa1f8d618c13dc232df0ca...</td>\n      <td>[0794321007, 0805000001, 0805000007, 080500000...</td>\n      <td>[0924243001, 0918522001, 0924243002, 091552900...</td>\n      <td>0794321007 0805000001 0805000007 0805000008 07...</td>\n    </tr>\n    <tr>\n      <th>3</th>\n      <td>00005ca1c9ed5f5146b52ac8639a40ca9d57aeff4d1bd2...</td>\n      <td>NaN</td>\n      <td>[0924243001, 0928206001, 0930380001, 092424300...</td>\n      <td>0924243001 0928206001 0930380001 0924243002 09...</td>\n    </tr>\n    <tr>\n      <th>4</th>\n      <td>00006413d8573cd20ed7128e53b7b13819fe5cfc2d801f...</td>\n      <td>[0896152002, 0730683050, 0791587001, 089615200...</td>\n      <td>[0924243001, 0928206001, 0930380001, 092424300...</td>\n      <td>0896152002 0730683050 0791587001 0896152001 07...</td>\n    </tr>\n  </tbody>\n</table>\n</div>"
     },
     "execution_count": 21,
     "metadata": {},
     "output_type": "execute_result"
    }
   ],
   "source": [
    "submission.head()"
   ],
   "metadata": {
    "collapsed": false,
    "pycharm": {
     "name": "#%%\n"
    }
   }
  },
  {
   "cell_type": "code",
   "execution_count": 22,
   "outputs": [],
   "source": [
    "submission[['customer_id', 'prediction']].to_csv('/data/sstamenov/kaggle-data/output/implicit_time_rank_ftrs_submission.csv', index=False)"
   ],
   "metadata": {
    "collapsed": false,
    "pycharm": {
     "name": "#%%\n"
    }
   }
  }
 ],
 "metadata": {
  "kernelspec": {
   "display_name": "Python 3",
   "language": "python",
   "name": "python3"
  },
  "language_info": {
   "codemirror_mode": {
    "name": "ipython",
    "version": 2
   },
   "file_extension": ".py",
   "mimetype": "text/x-python",
   "name": "python",
   "nbconvert_exporter": "python",
   "pygments_lexer": "ipython2",
   "version": "2.7.6"
  }
 },
 "nbformat": 4,
 "nbformat_minor": 0
}