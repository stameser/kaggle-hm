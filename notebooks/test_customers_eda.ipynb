{
 "cells": [
  {
   "cell_type": "code",
   "execution_count": 1,
   "metadata": {
    "collapsed": true,
    "pycharm": {
     "name": "#%%\n"
    }
   },
   "outputs": [],
   "source": [
    "import pandas as pd\n",
    "import numpy as np\n",
    "import matplotlib.pyplot as plt\n",
    "import seaborn as sns\n",
    "\n",
    "from kaggle_hm.chart_model import filter_data\n",
    "from kaggle_hm.utils import init_nb, plot_item, visualize_items\n",
    "from kaggle_hm.config import data_root, test_dates\n",
    "\n",
    "init_nb()"
   ]
  },
  {
   "cell_type": "code",
   "execution_count": 2,
   "outputs": [],
   "source": [
    "df = pd.read_parquet(data_root / 'clean' / 'transactions.parquet')"
   ],
   "metadata": {
    "collapsed": false,
    "pycharm": {
     "name": "#%%\n"
    }
   }
  },
  {
   "cell_type": "code",
   "execution_count": 3,
   "outputs": [],
   "source": [
    "customers = pd.read_parquet(data_root / 'clean' / 'customers.parquet')"
   ],
   "metadata": {
    "collapsed": false,
    "pycharm": {
     "name": "#%%\n"
    }
   }
  },
  {
   "cell_type": "code",
   "execution_count": 4,
   "outputs": [],
   "source": [
    "df['delta_days'] = (pd.to_datetime('2020-09-08') - df['t_dat']).dt.days"
   ],
   "metadata": {
    "collapsed": false,
    "pycharm": {
     "name": "#%%\n"
    }
   }
  },
  {
   "cell_type": "code",
   "execution_count": 5,
   "outputs": [],
   "source": [
    "df['is_last_30d'] = ((df['delta_days'] > 0) & (df['delta_days'] < 30)).astype('int')\n",
    "df['is_last_60d'] = ((df['delta_days'] > 0) & (df['delta_days'] < 60)).astype('int')\n",
    "df['is_last_90d'] = ((df['delta_days'] > 0) & (df['delta_days'] < 90)).astype('int')\n",
    "df['is_last_120d'] = ((df['delta_days'] > 0) & (df['delta_days'] < 120)).astype('int')\n",
    "df['is_last_180d'] = ((df['delta_days'] > 0) & (df['delta_days'] < 180)).astype('int')\n",
    "df['is_last_360d'] = ((df['delta_days'] > 0) & (df['delta_days'] < 360)).astype('int')"
   ],
   "metadata": {
    "collapsed": false,
    "pycharm": {
     "name": "#%%\n"
    }
   }
  },
  {
   "cell_type": "code",
   "execution_count": 6,
   "outputs": [],
   "source": [
    "train = filter_data(df, '2020-08-01', '2020-09-08')\n",
    "test = filter_data(df, test_dates['start'], test_dates['end'])"
   ],
   "metadata": {
    "collapsed": false,
    "pycharm": {
     "name": "#%%\n"
    }
   }
  },
  {
   "cell_type": "code",
   "execution_count": 23,
   "outputs": [],
   "source": [
    "last_90 = filter_data(df, '2018-09-01', '2020-08-01')"
   ],
   "metadata": {
    "collapsed": false,
    "pycharm": {
     "name": "#%%\n"
    }
   }
  },
  {
   "cell_type": "code",
   "execution_count": 24,
   "outputs": [],
   "source": [
    "s = last_90['article_id'].value_counts()\n",
    "\n",
    "old_items = s[s >= 50]"
   ],
   "metadata": {
    "collapsed": false,
    "pycharm": {
     "name": "#%%\n"
    }
   }
  },
  {
   "cell_type": "code",
   "execution_count": 25,
   "outputs": [
    {
     "data": {
      "text/plain": "(53883,)"
     },
     "execution_count": 25,
     "metadata": {},
     "output_type": "execute_result"
    }
   ],
   "source": [
    "old_items.shape"
   ],
   "metadata": {
    "collapsed": false,
    "pycharm": {
     "name": "#%%\n"
    }
   }
  },
  {
   "cell_type": "code",
   "execution_count": 20,
   "outputs": [],
   "source": [
    "s = train['article_id'].value_counts()\n",
    "\n",
    "new_items = s[s >= 50]"
   ],
   "metadata": {
    "collapsed": false,
    "pycharm": {
     "name": "#%%\n"
    }
   }
  },
  {
   "cell_type": "code",
   "execution_count": 22,
   "outputs": [
    {
     "data": {
      "text/plain": "(6624,)"
     },
     "execution_count": 22,
     "metadata": {},
     "output_type": "execute_result"
    }
   ],
   "source": [
    "new_items.shape"
   ],
   "metadata": {
    "collapsed": false,
    "pycharm": {
     "name": "#%%\n"
    }
   }
  },
  {
   "cell_type": "code",
   "execution_count": 26,
   "outputs": [
    {
     "data": {
      "text/plain": "4890"
     },
     "execution_count": 26,
     "metadata": {},
     "output_type": "execute_result"
    }
   ],
   "source": [
    "len(\n",
    "    set(new_items.index) & set(old_items.index)\n",
    ")"
   ],
   "metadata": {
    "collapsed": false,
    "pycharm": {
     "name": "#%%\n"
    }
   }
  },
  {
   "cell_type": "code",
   "execution_count": 31,
   "outputs": [
    {
     "data": {
      "text/plain": "(186841, 12)"
     },
     "execution_count": 31,
     "metadata": {},
     "output_type": "execute_result"
    }
   ],
   "source": [
    "test[test['article_id'].isin(set(new_items.index))].shape"
   ],
   "metadata": {
    "collapsed": false,
    "pycharm": {
     "name": "#%%\n"
    }
   }
  },
  {
   "cell_type": "code",
   "execution_count": 44,
   "outputs": [
    {
     "data": {
      "text/plain": "              t_dat                                        customer_id  \\\n31292772 2020-09-09  000493dd9fc463df1acc2081450c9e75ef8e87d5dd17ed...   \n31292773 2020-09-09  000493dd9fc463df1acc2081450c9e75ef8e87d5dd17ed...   \n31292774 2020-09-09  000493dd9fc463df1acc2081450c9e75ef8e87d5dd17ed...   \n31292775 2020-09-09  000493dd9fc463df1acc2081450c9e75ef8e87d5dd17ed...   \n31292776 2020-09-09  000493dd9fc463df1acc2081450c9e75ef8e87d5dd17ed...   \n\n          article_id  price  sales_channel_id  is_last_30d  is_last_60d  \\\n31292772  0399136061 0.0834                 2            0            0   \n31292773  0732842014 0.0667                 2            0            0   \n31292774  0556255001 0.0100                 2            0            0   \n31292775  0852219003 0.0083                 2            0            0   \n31292776  0732842021 0.0667                 2            0            0   \n\n          is_last_90d  is_last_120d  is_last_180d  is_last_360d  delta_days  \n31292772            0             0             0             0          -1  \n31292773            0             0             0             0          -1  \n31292774            0             0             0             0          -1  \n31292775            0             0             0             0          -1  \n31292776            0             0             0             0          -1  ",
      "text/html": "<div>\n<style scoped>\n    .dataframe tbody tr th:only-of-type {\n        vertical-align: middle;\n    }\n\n    .dataframe tbody tr th {\n        vertical-align: top;\n    }\n\n    .dataframe thead th {\n        text-align: right;\n    }\n</style>\n<table border=\"1\" class=\"dataframe\">\n  <thead>\n    <tr style=\"text-align: right;\">\n      <th></th>\n      <th>t_dat</th>\n      <th>customer_id</th>\n      <th>article_id</th>\n      <th>price</th>\n      <th>sales_channel_id</th>\n      <th>is_last_30d</th>\n      <th>is_last_60d</th>\n      <th>is_last_90d</th>\n      <th>is_last_120d</th>\n      <th>is_last_180d</th>\n      <th>is_last_360d</th>\n      <th>delta_days</th>\n    </tr>\n  </thead>\n  <tbody>\n    <tr>\n      <th>31292772</th>\n      <td>2020-09-09</td>\n      <td>000493dd9fc463df1acc2081450c9e75ef8e87d5dd17ed...</td>\n      <td>0399136061</td>\n      <td>0.0834</td>\n      <td>2</td>\n      <td>0</td>\n      <td>0</td>\n      <td>0</td>\n      <td>0</td>\n      <td>0</td>\n      <td>0</td>\n      <td>-1</td>\n    </tr>\n    <tr>\n      <th>31292773</th>\n      <td>2020-09-09</td>\n      <td>000493dd9fc463df1acc2081450c9e75ef8e87d5dd17ed...</td>\n      <td>0732842014</td>\n      <td>0.0667</td>\n      <td>2</td>\n      <td>0</td>\n      <td>0</td>\n      <td>0</td>\n      <td>0</td>\n      <td>0</td>\n      <td>0</td>\n      <td>-1</td>\n    </tr>\n    <tr>\n      <th>31292774</th>\n      <td>2020-09-09</td>\n      <td>000493dd9fc463df1acc2081450c9e75ef8e87d5dd17ed...</td>\n      <td>0556255001</td>\n      <td>0.0100</td>\n      <td>2</td>\n      <td>0</td>\n      <td>0</td>\n      <td>0</td>\n      <td>0</td>\n      <td>0</td>\n      <td>0</td>\n      <td>-1</td>\n    </tr>\n    <tr>\n      <th>31292775</th>\n      <td>2020-09-09</td>\n      <td>000493dd9fc463df1acc2081450c9e75ef8e87d5dd17ed...</td>\n      <td>0852219003</td>\n      <td>0.0083</td>\n      <td>2</td>\n      <td>0</td>\n      <td>0</td>\n      <td>0</td>\n      <td>0</td>\n      <td>0</td>\n      <td>0</td>\n      <td>-1</td>\n    </tr>\n    <tr>\n      <th>31292776</th>\n      <td>2020-09-09</td>\n      <td>000493dd9fc463df1acc2081450c9e75ef8e87d5dd17ed...</td>\n      <td>0732842021</td>\n      <td>0.0667</td>\n      <td>2</td>\n      <td>0</td>\n      <td>0</td>\n      <td>0</td>\n      <td>0</td>\n      <td>0</td>\n      <td>0</td>\n      <td>-1</td>\n    </tr>\n  </tbody>\n</table>\n</div>"
     },
     "execution_count": 44,
     "metadata": {},
     "output_type": "execute_result"
    }
   ],
   "source": [
    "test.head()"
   ],
   "metadata": {
    "collapsed": false,
    "pycharm": {
     "name": "#%%\n"
    }
   }
  },
  {
   "cell_type": "code",
   "execution_count": 32,
   "outputs": [],
   "source": [
    "full_ds = set(filter_data(df, to_date='2020-09-08')['customer_id'])\n",
    "train_customers = set(train['customer_id'])\n",
    "test_customers = set(test['customer_id'])\n",
    "\n",
    "cold_customers = set(test_customers - full_ds)"
   ],
   "metadata": {
    "collapsed": false,
    "pycharm": {
     "name": "#%%\n"
    }
   }
  },
  {
   "cell_type": "code",
   "execution_count": 42,
   "outputs": [
    {
     "data": {
      "text/plain": "(77127, 12)"
     },
     "execution_count": 42,
     "metadata": {},
     "output_type": "execute_result"
    }
   ],
   "source": [
    "cond = (\n",
    "    (test['customer_id'].isin(test_customers - cold_customers - train_customers)) &\n",
    "    (test['article_id'].isin(set(new_items.index)))\n",
    ")\n",
    "\n",
    "test[cond].shape"
   ],
   "metadata": {
    "collapsed": false,
    "pycharm": {
     "name": "#%%\n"
    }
   }
  },
  {
   "cell_type": "code",
   "execution_count": 101,
   "outputs": [],
   "source": [
    "customer_stats = (\n",
    "    filter_data(df, to_date='2020-09-08')\n",
    "    .groupby('customer_id', observed=True)\n",
    "    .agg(\n",
    "        transactions=('article_id', 'count'),\n",
    "        t_30=('is_last_30d', 'sum'),\n",
    "        t_60=('is_last_60d', 'sum'),\n",
    "        t_90=('is_last_90d', 'sum'),\n",
    "        t_120=('is_last_120d', 'sum'),\n",
    "        t_180=('is_last_180d', 'sum'),\n",
    "        t_360=('is_last_360d', 'sum'),\n",
    "        first_t=('t_dat', 'min'),\n",
    "        last_t=('t_dat', 'max')\n",
    "    )\n",
    ").reset_index()"
   ],
   "metadata": {
    "collapsed": false,
    "pycharm": {
     "name": "#%%\n"
    }
   }
  },
  {
   "cell_type": "code",
   "execution_count": 102,
   "outputs": [],
   "source": [
    "customer_stats['delta_first'] = (pd.to_datetime('2020-09-08') - customer_stats['first_t']).dt.days\n",
    "customer_stats['delta_last'] = (pd.to_datetime('2020-09-08') - customer_stats['last_t']).dt.days"
   ],
   "metadata": {
    "collapsed": false,
    "pycharm": {
     "name": "#%%\n"
    }
   }
  },
  {
   "cell_type": "code",
   "execution_count": 46,
   "outputs": [
    {
     "data": {
      "text/plain": "       transactions         t_30         t_60         t_90        t_120  \\\ncount  1362281.0000 1362281.0000 1362281.0000 1362281.0000 1362281.0000   \nmean        23.3346       0.8169       1.7477       3.0670       4.1257   \nstd         39.2423       2.7331       4.6340       7.0471       8.8087   \nmin          1.0000       0.0000       0.0000       0.0000       0.0000   \n25%          3.0000       0.0000       0.0000       0.0000       0.0000   \n50%          9.0000       0.0000       0.0000       0.0000       0.0000   \n75%         27.0000       0.0000       1.0000       3.0000       5.0000   \nmax       1895.0000     132.0000     294.0000     339.0000     442.0000   \n\n             t_180        t_360  \ncount 1362281.0000 1362281.0000  \nmean        5.7926      10.7392  \nstd        11.6507      19.5747  \nmin         0.0000       0.0000  \n25%         0.0000       0.0000  \n50%         1.0000       4.0000  \n75%         7.0000      13.0000  \nmax       548.0000    1014.0000  ",
      "text/html": "<div>\n<style scoped>\n    .dataframe tbody tr th:only-of-type {\n        vertical-align: middle;\n    }\n\n    .dataframe tbody tr th {\n        vertical-align: top;\n    }\n\n    .dataframe thead th {\n        text-align: right;\n    }\n</style>\n<table border=\"1\" class=\"dataframe\">\n  <thead>\n    <tr style=\"text-align: right;\">\n      <th></th>\n      <th>transactions</th>\n      <th>t_30</th>\n      <th>t_60</th>\n      <th>t_90</th>\n      <th>t_120</th>\n      <th>t_180</th>\n      <th>t_360</th>\n    </tr>\n  </thead>\n  <tbody>\n    <tr>\n      <th>count</th>\n      <td>1362281.0000</td>\n      <td>1362281.0000</td>\n      <td>1362281.0000</td>\n      <td>1362281.0000</td>\n      <td>1362281.0000</td>\n      <td>1362281.0000</td>\n      <td>1362281.0000</td>\n    </tr>\n    <tr>\n      <th>mean</th>\n      <td>23.3346</td>\n      <td>0.8169</td>\n      <td>1.7477</td>\n      <td>3.0670</td>\n      <td>4.1257</td>\n      <td>5.7926</td>\n      <td>10.7392</td>\n    </tr>\n    <tr>\n      <th>std</th>\n      <td>39.2423</td>\n      <td>2.7331</td>\n      <td>4.6340</td>\n      <td>7.0471</td>\n      <td>8.8087</td>\n      <td>11.6507</td>\n      <td>19.5747</td>\n    </tr>\n    <tr>\n      <th>min</th>\n      <td>1.0000</td>\n      <td>0.0000</td>\n      <td>0.0000</td>\n      <td>0.0000</td>\n      <td>0.0000</td>\n      <td>0.0000</td>\n      <td>0.0000</td>\n    </tr>\n    <tr>\n      <th>25%</th>\n      <td>3.0000</td>\n      <td>0.0000</td>\n      <td>0.0000</td>\n      <td>0.0000</td>\n      <td>0.0000</td>\n      <td>0.0000</td>\n      <td>0.0000</td>\n    </tr>\n    <tr>\n      <th>50%</th>\n      <td>9.0000</td>\n      <td>0.0000</td>\n      <td>0.0000</td>\n      <td>0.0000</td>\n      <td>0.0000</td>\n      <td>1.0000</td>\n      <td>4.0000</td>\n    </tr>\n    <tr>\n      <th>75%</th>\n      <td>27.0000</td>\n      <td>0.0000</td>\n      <td>1.0000</td>\n      <td>3.0000</td>\n      <td>5.0000</td>\n      <td>7.0000</td>\n      <td>13.0000</td>\n    </tr>\n    <tr>\n      <th>max</th>\n      <td>1895.0000</td>\n      <td>132.0000</td>\n      <td>294.0000</td>\n      <td>339.0000</td>\n      <td>442.0000</td>\n      <td>548.0000</td>\n      <td>1014.0000</td>\n    </tr>\n  </tbody>\n</table>\n</div>"
     },
     "execution_count": 46,
     "metadata": {},
     "output_type": "execute_result"
    }
   ],
   "source": [
    "customer_stats.describe()"
   ],
   "metadata": {
    "collapsed": false,
    "pycharm": {
     "name": "#%%\n"
    }
   }
  },
  {
   "cell_type": "code",
   "execution_count": 98,
   "outputs": [
    {
     "data": {
      "text/plain": "       transactions       t_30       t_60       t_90      t_120      t_180  \\\ncount    72019.0000 72019.0000 72019.0000 72019.0000 72019.0000 72019.0000   \nmean        64.1581     2.7836     5.6727     9.5385    12.5956    17.1513   \nstd         79.0748     5.5698     9.6896    14.7666    18.3742    24.2426   \nmin          1.0000     0.0000     0.0000     0.0000     0.0000     0.0000   \n25%         16.0000     0.0000     0.0000     0.0000     1.0000     3.0000   \n50%         40.0000     0.0000     2.0000     5.0000     7.0000    10.0000   \n75%         82.0000     4.0000     7.0000    12.0000    17.0000    22.0000   \nmax       1895.0000   132.0000   294.0000   339.0000   442.0000   548.0000   \n\n           t_360  delta_first  delta_last         FN     Active        age  \ncount 72019.0000   72019.0000  72019.0000 32949.0000 32489.0000 71698.0000  \nmean     30.6665     529.7363     -5.0647     1.0000     1.0000    35.6860  \nstd      40.4193     238.6228      3.3453     0.0000     0.0000    14.0428  \nmin       0.0000      -7.0000    -14.0000     1.0000     1.0000    16.0000  \n25%       6.0000     432.0000     -7.0000     1.0000     1.0000    24.0000  \n50%      18.0000     655.0000     -4.0000     1.0000     1.0000    30.0000  \n75%      40.0000     703.0000     -2.0000     1.0000     1.0000    48.0000  \nmax    1014.0000     719.0000     -1.0000     1.0000     1.0000    96.0000  ",
      "text/html": "<div>\n<style scoped>\n    .dataframe tbody tr th:only-of-type {\n        vertical-align: middle;\n    }\n\n    .dataframe tbody tr th {\n        vertical-align: top;\n    }\n\n    .dataframe thead th {\n        text-align: right;\n    }\n</style>\n<table border=\"1\" class=\"dataframe\">\n  <thead>\n    <tr style=\"text-align: right;\">\n      <th></th>\n      <th>transactions</th>\n      <th>t_30</th>\n      <th>t_60</th>\n      <th>t_90</th>\n      <th>t_120</th>\n      <th>t_180</th>\n      <th>t_360</th>\n      <th>delta_first</th>\n      <th>delta_last</th>\n      <th>FN</th>\n      <th>Active</th>\n      <th>age</th>\n    </tr>\n  </thead>\n  <tbody>\n    <tr>\n      <th>count</th>\n      <td>72019.0000</td>\n      <td>72019.0000</td>\n      <td>72019.0000</td>\n      <td>72019.0000</td>\n      <td>72019.0000</td>\n      <td>72019.0000</td>\n      <td>72019.0000</td>\n      <td>72019.0000</td>\n      <td>72019.0000</td>\n      <td>32949.0000</td>\n      <td>32489.0000</td>\n      <td>71698.0000</td>\n    </tr>\n    <tr>\n      <th>mean</th>\n      <td>64.1581</td>\n      <td>2.7836</td>\n      <td>5.6727</td>\n      <td>9.5385</td>\n      <td>12.5956</td>\n      <td>17.1513</td>\n      <td>30.6665</td>\n      <td>529.7363</td>\n      <td>-5.0647</td>\n      <td>1.0000</td>\n      <td>1.0000</td>\n      <td>35.6860</td>\n    </tr>\n    <tr>\n      <th>std</th>\n      <td>79.0748</td>\n      <td>5.5698</td>\n      <td>9.6896</td>\n      <td>14.7666</td>\n      <td>18.3742</td>\n      <td>24.2426</td>\n      <td>40.4193</td>\n      <td>238.6228</td>\n      <td>3.3453</td>\n      <td>0.0000</td>\n      <td>0.0000</td>\n      <td>14.0428</td>\n    </tr>\n    <tr>\n      <th>min</th>\n      <td>1.0000</td>\n      <td>0.0000</td>\n      <td>0.0000</td>\n      <td>0.0000</td>\n      <td>0.0000</td>\n      <td>0.0000</td>\n      <td>0.0000</td>\n      <td>-7.0000</td>\n      <td>-14.0000</td>\n      <td>1.0000</td>\n      <td>1.0000</td>\n      <td>16.0000</td>\n    </tr>\n    <tr>\n      <th>25%</th>\n      <td>16.0000</td>\n      <td>0.0000</td>\n      <td>0.0000</td>\n      <td>0.0000</td>\n      <td>1.0000</td>\n      <td>3.0000</td>\n      <td>6.0000</td>\n      <td>432.0000</td>\n      <td>-7.0000</td>\n      <td>1.0000</td>\n      <td>1.0000</td>\n      <td>24.0000</td>\n    </tr>\n    <tr>\n      <th>50%</th>\n      <td>40.0000</td>\n      <td>0.0000</td>\n      <td>2.0000</td>\n      <td>5.0000</td>\n      <td>7.0000</td>\n      <td>10.0000</td>\n      <td>18.0000</td>\n      <td>655.0000</td>\n      <td>-4.0000</td>\n      <td>1.0000</td>\n      <td>1.0000</td>\n      <td>30.0000</td>\n    </tr>\n    <tr>\n      <th>75%</th>\n      <td>82.0000</td>\n      <td>4.0000</td>\n      <td>7.0000</td>\n      <td>12.0000</td>\n      <td>17.0000</td>\n      <td>22.0000</td>\n      <td>40.0000</td>\n      <td>703.0000</td>\n      <td>-2.0000</td>\n      <td>1.0000</td>\n      <td>1.0000</td>\n      <td>48.0000</td>\n    </tr>\n    <tr>\n      <th>max</th>\n      <td>1895.0000</td>\n      <td>132.0000</td>\n      <td>294.0000</td>\n      <td>339.0000</td>\n      <td>442.0000</td>\n      <td>548.0000</td>\n      <td>1014.0000</td>\n      <td>719.0000</td>\n      <td>-1.0000</td>\n      <td>1.0000</td>\n      <td>1.0000</td>\n      <td>96.0000</td>\n    </tr>\n  </tbody>\n</table>\n</div>"
     },
     "execution_count": 98,
     "metadata": {},
     "output_type": "execute_result"
    }
   ],
   "source": [
    "customer_stats[customer_stats['customer_id'].isin(test_customers)].describe()"
   ],
   "metadata": {
    "collapsed": false,
    "pycharm": {
     "name": "#%%\n"
    }
   }
  },
  {
   "cell_type": "code",
   "execution_count": 99,
   "outputs": [
    {
     "data": {
      "text/plain": "       transactions       t_30       t_60       t_90      t_120      t_180  \\\ncount    38168.0000 38168.0000 38168.0000 38168.0000 38168.0000 38168.0000   \nmean        89.2758     5.2524     9.8147    15.2918    19.5834    25.9584   \nstd         93.4291     6.7505    11.5671    17.6499    21.8635    28.8399   \nmin          2.0000     0.0000     0.0000     0.0000     0.0000     0.0000   \n25%         31.0000     1.0000     3.0000     5.0000     7.0000     9.0000   \n50%         62.0000     3.0000     6.0000    10.0000    13.0000    18.0000   \n75%        114.0000     7.0000    12.0000    19.0000    25.0000    33.0000   \nmax       1895.0000   132.0000   294.0000   339.0000   442.0000   548.0000   \n\n           t_360  delta_first  delta_last         FN     Active        age  \ncount 38168.0000   38168.0000  38168.0000 18927.0000 18693.0000 38035.0000  \nmean     44.7561     587.4293     -5.4980     1.0000     1.0000    36.0095  \nstd      47.8571     192.1685      3.6369     0.0000     0.0000    13.9315  \nmin       0.0000       0.0000    -14.0000     1.0000     1.0000    16.0000  \n25%      16.0000     560.0000     -7.0000     1.0000     1.0000    24.0000  \n50%      31.0000     681.0000     -5.0000     1.0000     1.0000    31.0000  \n75%      57.0000     709.0000     -3.0000     1.0000     1.0000    48.0000  \nmax    1014.0000     719.0000     -1.0000     1.0000     1.0000    96.0000  ",
      "text/html": "<div>\n<style scoped>\n    .dataframe tbody tr th:only-of-type {\n        vertical-align: middle;\n    }\n\n    .dataframe tbody tr th {\n        vertical-align: top;\n    }\n\n    .dataframe thead th {\n        text-align: right;\n    }\n</style>\n<table border=\"1\" class=\"dataframe\">\n  <thead>\n    <tr style=\"text-align: right;\">\n      <th></th>\n      <th>transactions</th>\n      <th>t_30</th>\n      <th>t_60</th>\n      <th>t_90</th>\n      <th>t_120</th>\n      <th>t_180</th>\n      <th>t_360</th>\n      <th>delta_first</th>\n      <th>delta_last</th>\n      <th>FN</th>\n      <th>Active</th>\n      <th>age</th>\n    </tr>\n  </thead>\n  <tbody>\n    <tr>\n      <th>count</th>\n      <td>38168.0000</td>\n      <td>38168.0000</td>\n      <td>38168.0000</td>\n      <td>38168.0000</td>\n      <td>38168.0000</td>\n      <td>38168.0000</td>\n      <td>38168.0000</td>\n      <td>38168.0000</td>\n      <td>38168.0000</td>\n      <td>18927.0000</td>\n      <td>18693.0000</td>\n      <td>38035.0000</td>\n    </tr>\n    <tr>\n      <th>mean</th>\n      <td>89.2758</td>\n      <td>5.2524</td>\n      <td>9.8147</td>\n      <td>15.2918</td>\n      <td>19.5834</td>\n      <td>25.9584</td>\n      <td>44.7561</td>\n      <td>587.4293</td>\n      <td>-5.4980</td>\n      <td>1.0000</td>\n      <td>1.0000</td>\n      <td>36.0095</td>\n    </tr>\n    <tr>\n      <th>std</th>\n      <td>93.4291</td>\n      <td>6.7505</td>\n      <td>11.5671</td>\n      <td>17.6499</td>\n      <td>21.8635</td>\n      <td>28.8399</td>\n      <td>47.8571</td>\n      <td>192.1685</td>\n      <td>3.6369</td>\n      <td>0.0000</td>\n      <td>0.0000</td>\n      <td>13.9315</td>\n    </tr>\n    <tr>\n      <th>min</th>\n      <td>2.0000</td>\n      <td>0.0000</td>\n      <td>0.0000</td>\n      <td>0.0000</td>\n      <td>0.0000</td>\n      <td>0.0000</td>\n      <td>0.0000</td>\n      <td>0.0000</td>\n      <td>-14.0000</td>\n      <td>1.0000</td>\n      <td>1.0000</td>\n      <td>16.0000</td>\n    </tr>\n    <tr>\n      <th>25%</th>\n      <td>31.0000</td>\n      <td>1.0000</td>\n      <td>3.0000</td>\n      <td>5.0000</td>\n      <td>7.0000</td>\n      <td>9.0000</td>\n      <td>16.0000</td>\n      <td>560.0000</td>\n      <td>-7.0000</td>\n      <td>1.0000</td>\n      <td>1.0000</td>\n      <td>24.0000</td>\n    </tr>\n    <tr>\n      <th>50%</th>\n      <td>62.0000</td>\n      <td>3.0000</td>\n      <td>6.0000</td>\n      <td>10.0000</td>\n      <td>13.0000</td>\n      <td>18.0000</td>\n      <td>31.0000</td>\n      <td>681.0000</td>\n      <td>-5.0000</td>\n      <td>1.0000</td>\n      <td>1.0000</td>\n      <td>31.0000</td>\n    </tr>\n    <tr>\n      <th>75%</th>\n      <td>114.0000</td>\n      <td>7.0000</td>\n      <td>12.0000</td>\n      <td>19.0000</td>\n      <td>25.0000</td>\n      <td>33.0000</td>\n      <td>57.0000</td>\n      <td>709.0000</td>\n      <td>-3.0000</td>\n      <td>1.0000</td>\n      <td>1.0000</td>\n      <td>48.0000</td>\n    </tr>\n    <tr>\n      <th>max</th>\n      <td>1895.0000</td>\n      <td>132.0000</td>\n      <td>294.0000</td>\n      <td>339.0000</td>\n      <td>442.0000</td>\n      <td>548.0000</td>\n      <td>1014.0000</td>\n      <td>719.0000</td>\n      <td>-1.0000</td>\n      <td>1.0000</td>\n      <td>1.0000</td>\n      <td>96.0000</td>\n    </tr>\n  </tbody>\n</table>\n</div>"
     },
     "execution_count": 99,
     "metadata": {},
     "output_type": "execute_result"
    }
   ],
   "source": [
    "customer_stats[customer_stats['customer_id'].isin(test_customers & train_customers)].describe()"
   ],
   "metadata": {
    "collapsed": false,
    "pycharm": {
     "name": "#%%\n"
    }
   }
  },
  {
   "cell_type": "code",
   "execution_count": 103,
   "outputs": [
    {
     "data": {
      "text/plain": "       transactions       t_30       t_60       t_90      t_120      t_180  \\\ncount    28456.0000 28456.0000 28456.0000 28456.0000 28456.0000 28456.0000   \nmean        37.9693     0.0000     1.1926     3.6298     5.6110     8.5899   \nstd         44.2599     0.0000     2.9963     6.1209     8.3035    11.7775   \nmin          1.0000     0.0000     0.0000     0.0000     0.0000     0.0000   \n25%         10.0000     0.0000     0.0000     0.0000     0.0000     1.0000   \n50%         24.0000     0.0000     0.0000     1.0000     3.0000     5.0000   \n75%         49.0000     0.0000     1.0000     5.0000     8.0000    12.0000   \nmax       1196.0000     0.0000    55.0000   129.0000   172.0000   297.0000   \n\n           t_360  delta_first  delta_last  \ncount 28456.0000   28456.0000  28456.0000  \nmean     17.5822     553.5073    138.2101  \nstd      21.1439     188.6230    126.9646  \nmin       0.0000      39.0000     39.0000  \n25%       4.0000     461.0000     57.0000  \n50%      11.0000     644.0000     83.0000  \n75%      23.0000     697.0000    170.0000  \nmax     678.0000     719.0000    719.0000  ",
      "text/html": "<div>\n<style scoped>\n    .dataframe tbody tr th:only-of-type {\n        vertical-align: middle;\n    }\n\n    .dataframe tbody tr th {\n        vertical-align: top;\n    }\n\n    .dataframe thead th {\n        text-align: right;\n    }\n</style>\n<table border=\"1\" class=\"dataframe\">\n  <thead>\n    <tr style=\"text-align: right;\">\n      <th></th>\n      <th>transactions</th>\n      <th>t_30</th>\n      <th>t_60</th>\n      <th>t_90</th>\n      <th>t_120</th>\n      <th>t_180</th>\n      <th>t_360</th>\n      <th>delta_first</th>\n      <th>delta_last</th>\n    </tr>\n  </thead>\n  <tbody>\n    <tr>\n      <th>count</th>\n      <td>28456.0000</td>\n      <td>28456.0000</td>\n      <td>28456.0000</td>\n      <td>28456.0000</td>\n      <td>28456.0000</td>\n      <td>28456.0000</td>\n      <td>28456.0000</td>\n      <td>28456.0000</td>\n      <td>28456.0000</td>\n    </tr>\n    <tr>\n      <th>mean</th>\n      <td>37.9693</td>\n      <td>0.0000</td>\n      <td>1.1926</td>\n      <td>3.6298</td>\n      <td>5.6110</td>\n      <td>8.5899</td>\n      <td>17.5822</td>\n      <td>553.5073</td>\n      <td>138.2101</td>\n    </tr>\n    <tr>\n      <th>std</th>\n      <td>44.2599</td>\n      <td>0.0000</td>\n      <td>2.9963</td>\n      <td>6.1209</td>\n      <td>8.3035</td>\n      <td>11.7775</td>\n      <td>21.1439</td>\n      <td>188.6230</td>\n      <td>126.9646</td>\n    </tr>\n    <tr>\n      <th>min</th>\n      <td>1.0000</td>\n      <td>0.0000</td>\n      <td>0.0000</td>\n      <td>0.0000</td>\n      <td>0.0000</td>\n      <td>0.0000</td>\n      <td>0.0000</td>\n      <td>39.0000</td>\n      <td>39.0000</td>\n    </tr>\n    <tr>\n      <th>25%</th>\n      <td>10.0000</td>\n      <td>0.0000</td>\n      <td>0.0000</td>\n      <td>0.0000</td>\n      <td>0.0000</td>\n      <td>1.0000</td>\n      <td>4.0000</td>\n      <td>461.0000</td>\n      <td>57.0000</td>\n    </tr>\n    <tr>\n      <th>50%</th>\n      <td>24.0000</td>\n      <td>0.0000</td>\n      <td>0.0000</td>\n      <td>1.0000</td>\n      <td>3.0000</td>\n      <td>5.0000</td>\n      <td>11.0000</td>\n      <td>644.0000</td>\n      <td>83.0000</td>\n    </tr>\n    <tr>\n      <th>75%</th>\n      <td>49.0000</td>\n      <td>0.0000</td>\n      <td>1.0000</td>\n      <td>5.0000</td>\n      <td>8.0000</td>\n      <td>12.0000</td>\n      <td>23.0000</td>\n      <td>697.0000</td>\n      <td>170.0000</td>\n    </tr>\n    <tr>\n      <th>max</th>\n      <td>1196.0000</td>\n      <td>0.0000</td>\n      <td>55.0000</td>\n      <td>129.0000</td>\n      <td>172.0000</td>\n      <td>297.0000</td>\n      <td>678.0000</td>\n      <td>719.0000</td>\n      <td>719.0000</td>\n    </tr>\n  </tbody>\n</table>\n</div>"
     },
     "execution_count": 103,
     "metadata": {},
     "output_type": "execute_result"
    }
   ],
   "source": [
    "customer_stats[customer_stats['customer_id'].isin(test_customers - train_customers - cold_customers)].describe()"
   ],
   "metadata": {
    "collapsed": false,
    "pycharm": {
     "name": "#%%\n"
    }
   }
  },
  {
   "cell_type": "code",
   "execution_count": 91,
   "outputs": [
    {
     "data": {
      "text/plain": "0909370001    1283\n0865799006     768\n0918522001     729\n0924243001     704\n0448509014     609\n0751471001     607\n0809238001     563\n0918292001     546\n0762846027     539\n0809238005     503\n0673677002     463\n0923758001     457\n0706016001     453\n0915529003     450\n0863646001     446\n0805947001     445\n0915526001     443\n0751471043     435\n0850917001     434\n0929165002     433\nName: article_id, dtype: int64"
     },
     "execution_count": 91,
     "metadata": {},
     "output_type": "execute_result"
    }
   ],
   "source": [
    "test['article_id'].value_counts().sort_values(ascending=False).head(20)"
   ],
   "metadata": {
    "collapsed": false,
    "pycharm": {
     "name": "#%%\n"
    }
   }
  },
  {
   "cell_type": "code",
   "execution_count": 95,
   "outputs": [
    {
     "data": {
      "text/plain": "0909370001    356\n0918522001    315\n0865799006    300\n0751471001    278\n0448509014    271\n0918292001    254\n0924243001    242\n0762846027    213\n0706016001    205\n0809238001    196\n0715624001    193\n0809238005    192\nName: article_id, dtype: int64"
     },
     "execution_count": 95,
     "metadata": {},
     "output_type": "execute_result"
    }
   ],
   "source": [
    "test[test['customer_id'].isin(test_customers - train_customers - cold_customers)]['article_id'].value_counts().sort_values(ascending=False).head(12)"
   ],
   "metadata": {
    "collapsed": false,
    "pycharm": {
     "name": "#%%\n"
    }
   }
  },
  {
   "cell_type": "code",
   "execution_count": 86,
   "outputs": [],
   "source": [
    "customer_stats = customer_stats.merge(customers, on='customer_id')"
   ],
   "metadata": {
    "collapsed": false,
    "pycharm": {
     "name": "#%%\n"
    }
   }
  },
  {
   "cell_type": "code",
   "execution_count": 73,
   "outputs": [],
   "source": [
    "from kaggle_hm.chart_model import compute_chart\n",
    "from kaggle_hm.evaluation import compute_precision"
   ],
   "metadata": {
    "collapsed": false,
    "pycharm": {
     "name": "#%%\n"
    }
   }
  },
  {
   "cell_type": "code",
   "execution_count": 75,
   "outputs": [],
   "source": [
    "top_12 = compute_chart(train)\n",
    "results = test[test['customer_id'].isin(cold_customers)].groupby('customer_id', observed=True).agg(bought=('article_id', set))\n",
    "results['prediction'] = [top_12 for _ in range(results.shape[0])]"
   ],
   "metadata": {
    "collapsed": false,
    "pycharm": {
     "name": "#%%\n"
    }
   }
  },
  {
   "cell_type": "code",
   "execution_count": 76,
   "outputs": [],
   "source": [
    "results = compute_precision(results)"
   ],
   "metadata": {
    "collapsed": false,
    "pycharm": {
     "name": "#%%\n"
    }
   }
  },
  {
   "cell_type": "code",
   "execution_count": 77,
   "outputs": [
    {
     "data": {
      "text/plain": "0.006861369315569231"
     },
     "execution_count": 77,
     "metadata": {},
     "output_type": "execute_result"
    }
   ],
   "source": [
    "results['precision'].mean()"
   ],
   "metadata": {
    "collapsed": false,
    "pycharm": {
     "name": "#%%\n"
    }
   }
  }
 ],
 "metadata": {
  "kernelspec": {
   "display_name": "Python 3",
   "language": "python",
   "name": "python3"
  },
  "language_info": {
   "codemirror_mode": {
    "name": "ipython",
    "version": 2
   },
   "file_extension": ".py",
   "mimetype": "text/x-python",
   "name": "python",
   "nbconvert_exporter": "python",
   "pygments_lexer": "ipython2",
   "version": "2.7.6"
  }
 },
 "nbformat": 4,
 "nbformat_minor": 0
}